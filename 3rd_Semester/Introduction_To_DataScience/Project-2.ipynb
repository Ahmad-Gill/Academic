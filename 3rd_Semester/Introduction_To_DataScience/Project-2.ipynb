{
  "nbformat": 4,
  "nbformat_minor": 0,
  "metadata": {
    "colab": {
      "provenance": []
    },
    "kernelspec": {
      "name": "python3",
      "display_name": "Python 3"
    },
    "language_info": {
      "name": "python"
    }
  },
  "cells": [
    {
      "cell_type": "markdown",
      "source": [
        "**Iport Libraries**"
      ],
      "metadata": {
        "id": "EyD28pzviSpB"
      }
    },
    {
      "cell_type": "code",
      "execution_count": 1,
      "metadata": {
        "id": "xGAWE2CfiPw-"
      },
      "outputs": [],
      "source": [
        "import pandas as pd\n",
        "import matplotlib.pyplot as plt\n",
        "import numpy as np\n",
        "import matplotlib.pyplot as plt\n",
        "import seaborn as sns\n"
      ]
    },
    {
      "cell_type": "markdown",
      "source": [
        "Xcel to csv"
      ],
      "metadata": {
        "id": "fLrguvHYoLI3"
      }
    },
    {
      "cell_type": "code",
      "source": [
        "CollectedData_Xcel= pd.read_excel('/content/CollectedData.xlsx')\n",
        " \n",
        "#print(CollectedData_Xcel.head())\n",
        "CollectedData_Xcel.to_csv (\"CollectedDAta.csv\", index = None, header=True)\n",
        "CollectedData_csv = pd.read_csv(\"CollectedDAta.csv\")\n",
        "#print(CollectedData_csv.head())\n",
        "CollectedData_csv=CollectedData_csv.rename(columns={CollectedData_csv.columns[3]:'Age',CollectedData_csv.columns[8]:'AMV',CollectedData_csv.columns[22]:'Clo',CollectedData_csv.columns[19]:'Met',CollectedData_csv.columns[26]:'Dewpt',CollectedData_csv.columns[27]:'PlaneRadTemp',CollectedData_csv.columns[37]:'Ta',CollectedData_csv.columns[38]:'Tmrt',CollectedData_csv.columns[40]:'Vel',CollectedData_csv.columns[42]:'AirTurb',CollectedData_csv.columns[43]:'Pa',CollectedData_csv.columns[44]:'Rh',CollectedData_csv.columns[74]:'TaOutdoor',CollectedData_csv.columns[77]:'RhOutdoor',CollectedData_csv.columns[49]:'PMV',})\n",
        "CollectedData_csv.info()\n"
      ],
      "metadata": {
        "colab": {
          "base_uri": "https://localhost:8080/"
        },
        "id": "PpN_WWmhoPiM",
        "outputId": "634cd6e0-5e36-4e08-e536-e12cd86decce"
      },
      "execution_count": 34,
      "outputs": [
        {
          "output_type": "stream",
          "name": "stdout",
          "text": [
            "<class 'pandas.core.frame.DataFrame'>\n",
            "RangeIndex: 12565 entries, 0 to 12564\n",
            "Data columns (total 80 columns):\n",
            " #   Column        Non-Null Count  Dtype  \n",
            "---  ------        --------------  -----  \n",
            " 0   8             12561 non-null  float64\n",
            " 1   1             12562 non-null  float64\n",
            " 2   Unnamed: 2    9650 non-null   float64\n",
            " 3   Age           12340 non-null  float64\n",
            " 4   1993          11213 non-null  float64\n",
            " 5   146           12549 non-null  float64\n",
            " 6   Unnamed: 6    9746 non-null   float64\n",
            " 7   2             12510 non-null  float64\n",
            " 8   AMV           12514 non-null  float64\n",
            " 9   Unnamed: 9    3354 non-null   float64\n",
            " 10  Unnamed: 10   11778 non-null  float64\n",
            " 11  Unnamed: 11   4638 non-null   float64\n",
            " 12  Unnamed: 12   3371 non-null   float64\n",
            " 13  Unnamed: 13   5623 non-null   float64\n",
            " 14  Unnamed: 14   4909 non-null   float64\n",
            " 15  Unnamed: 15   4866 non-null   float64\n",
            " 16  Unnamed: 16   6213 non-null   float64\n",
            " 17  Unnamed: 17   6207 non-null   float64\n",
            " 18  2.1           10678 non-null  float64\n",
            " 19  Met           12508 non-null  float64\n",
            " 20  0.15          12530 non-null  float64\n",
            " 21  0.65.1        11159 non-null  float64\n",
            " 22  Clo           5676 non-null   float64\n",
            " 23  Unnamed: 23   11079 non-null  float64\n",
            " 24  18.03         5656 non-null   float64\n",
            " 25  Unnamed: 25   9014 non-null   float64\n",
            " 26  Dewpt         5544 non-null   float64\n",
            " 27  PlaneRadTemp  5676 non-null   float64\n",
            " 28  Unnamed: 28   9264 non-null   float64\n",
            " 29  Unnamed: 29   5559 non-null   float64\n",
            " 30  0.06          5662 non-null   float64\n",
            " 31  Unnamed: 31   8748 non-null   float64\n",
            " 32  Unnamed: 32   5545 non-null   float64\n",
            " 33  Unnamed: 33   3961 non-null   float64\n",
            " 34  Unnamed: 34   4412 non-null   float64\n",
            " 35  Unnamed: 35   3961 non-null   float64\n",
            " 36  19.1.1        12545 non-null  float64\n",
            " 37  Ta            8864 non-null   float64\n",
            " 38  Tmrt          9337 non-null   float64\n",
            " 39  0.06.1        8865 non-null   float64\n",
            " 40  Vel           5561 non-null   float64\n",
            " 41  Unnamed: 41   6965 non-null   float64\n",
            " 42  AirTurb       7910 non-null   float64\n",
            " 43  Pa            12530 non-null  float64\n",
            " 44  Rh            12520 non-null  float64\n",
            " 45  23.3          12064 non-null  float64\n",
            " 46  -0.04         10847 non-null  float64\n",
            " 47  -0.04.1       12064 non-null  float64\n",
            " 48  0.34          11869 non-null  float64\n",
            " 49  PMV           11176 non-null  float64\n",
            " 50  0.16          2874 non-null   float64\n",
            " 51  Unnamed: 51   9399 non-null   float64\n",
            " 52  Unnamed: 52   2757 non-null   float64\n",
            " 53  0.16.1        10719 non-null  float64\n",
            " 54  Unnamed: 54   3078 non-null   float64\n",
            " 55  Unnamed: 55   5382 non-null   float64\n",
            " 56  Unnamed: 56   3058 non-null   float64\n",
            " 57  Unnamed: 57   6339 non-null   float64\n",
            " 58  Unnamed: 58   3132 non-null   float64\n",
            " 59  Unnamed: 59   3131 non-null   float64\n",
            " 60  Unnamed: 60   4749 non-null   float64\n",
            " 61  Unnamed: 61   6330 non-null   float64\n",
            " 62  Unnamed: 62   5248 non-null   float64\n",
            " 63  Unnamed: 63   6802 non-null   float64\n",
            " 64  Unnamed: 64   3052 non-null   float64\n",
            " 65  Unnamed: 65   3051 non-null   float64\n",
            " 66  Unnamed: 66   3055 non-null   float64\n",
            " 67  Unnamed: 67   3051 non-null   float64\n",
            " 68  Unnamed: 68   3056 non-null   float64\n",
            " 69  Unnamed: 69   3054 non-null   float64\n",
            " 70  Unnamed: 70   3060 non-null   float64\n",
            " 71  15.3          12546 non-null  float64\n",
            " 72  7.8           11197 non-null  float64\n",
            " 73  11.55         11197 non-null  float64\n",
            " 74  TaOutdoor     12546 non-null  float64\n",
            " 75  100           12546 non-null  float64\n",
            " 76  79            12546 non-null  float64\n",
            " 77  RhOutdoor     12545 non-null  float64\n",
            " 78  8.1           12545 non-null  float64\n",
            " 79  11.7          12545 non-null  float64\n",
            "dtypes: float64(80)\n",
            "memory usage: 7.7 MB\n"
          ]
        }
      ]
    },
    {
      "cell_type": "markdown",
      "source": [
        "***Part A. Preprocessing***"
      ],
      "metadata": {
        "id": "u1BZoyyD2_Fb"
      }
    },
    {
      "cell_type": "code",
      "source": [
        "Selecting_the_data = pd.DataFrame(CollectedData_csv, columns=['Age', 'AMV', 'Met', 'Clo','Dewpt','PlaneRadTemp','Ta','Tmrt','Vel','AirTurb','Pa','Rh','PMV','TaOutdoor','RhOutdoor'])\n",
        "#print(Selecting_the_data)\n",
        "DataType = Selecting_the_data.dtypes\n",
        "print('-------Data type of each column of Dataframe :------')\n",
        "print(DataType)\n",
        "print('---------NUMBER OF NULLS IN EACH COlumn---------')\n",
        "\n",
        "count_nan_Age = Selecting_the_data['Age'].isna().sum()\n",
        "count_nan_AMV = Selecting_the_data['AMV'].isna().sum()\n",
        "count_nan_Met = Selecting_the_data['Met'].isna().sum()\n",
        "count_nan_Clo = Selecting_the_data['Clo'].isna().sum()\n",
        "count_nan_Dewpt = Selecting_the_data['Dewpt'].isna().sum()\n",
        "count_nan_PlaneRedTemp = Selecting_the_data['PlaneRadTemp'].isna().sum()\n",
        "count_nan_Ta = Selecting_the_data['Ta'].isna().sum()\n",
        "count_nan_Tmrt = Selecting_the_data['Tmrt'].isna().sum()\n",
        "count_nan_Vel = Selecting_the_data['Vel'].isna().sum()\n",
        "count_nan_AirTurb = Selecting_the_data['AirTurb'].isna().sum()\n",
        "count_nan_Pa = Selecting_the_data['Pa'].isna().sum()\n",
        "count_nan_Rh = Selecting_the_data['Rh'].isna().sum()\n",
        "count_nan_PMV = Selecting_the_data['PMV'].isna().sum()\n",
        "count_nan_TaOutdoor = Selecting_the_data['TaOutdoor'].isna().sum()\n",
        "count_nan_RhOutdoor = Selecting_the_data['RhOutdoor'].isna().sum()\n",
        "print ('Count of NaN in RhOutdoor =  ' + str(count_nan_RhOutdoor))\n",
        "print ('Count of NaN in TaOutdoor =  ' + str(count_nan_TaOutdoor))\n",
        "print ('Count of NaN in PMV =  ' + str(count_nan_PMV))\n",
        "print ('Count of NaN in Rh =  ' + str(count_nan_Rh))\n",
        "print ('Count of NaN in Pa =  ' + str(count_nan_Pa))\n",
        "print ('Count of NaN in AirTub =  ' + str(count_nan_AirTurb))\n",
        "print ('Count of NaN in Vel =  ' + str(count_nan_Vel))\n",
        "print ('Count of NaN in Tmrt =  ' + str(count_nan_Tmrt))\n",
        "print ('Count of NaN in Ta =  ' + str(count_nan_Ta))\n",
        "print ('Count of NaN in PlaneRedTemp =  ' + str(count_nan_PlaneRedTemp))\n",
        "print ('Count of NaN in Dewpt =  ' + str(count_nan_Dewpt))\n",
        "print ('Count of NaN in Clo =  ' + str(count_nan_Clo))\n",
        "print ('Count of NaN in AMV =  ' + str(count_nan_AMV))\n",
        "print ('Count of NaN in Age =  ' + str(count_nan_Age))\n",
        "print ('Count of NaN in Met =  ' + str(count_nan_Met))\n",
        "\n",
        "print('---------Find min---------')\n",
        "\n",
        "print(CollectedData_csv[['Age', 'AMV', 'Met', 'Clo','Dewpt','PlaneRadTemp','Ta','Tmrt','Vel','AirTurb','Pa','Rh','PMV','TaOutdoor','RhOutdoor']].min())\n",
        "print('---------Find max---------')\n",
        "print(Selecting_the_data[['Age', 'AMV', 'Met', 'Clo','Dewpt','PlaneRadTemp','Ta','Tmrt','Vel','AirTurb','Pa','Rh','PMV','TaOutdoor','RhOutdoor']].max())\n",
        "print('---------Find varience---------')\n",
        "print(Selecting_the_data[['Age', 'AMV', 'Met', 'Clo','Dewpt','PlaneRadTemp','Ta','Tmrt','Vel','AirTurb','Pa','Rh','PMV','TaOutdoor','RhOutdoor']].var())\n",
        "\n",
        "print('---------Find STD---------')\n",
        "\n",
        "print(CollectedData_csv[['Age', 'AMV', 'Met', 'Clo','Dewpt','PlaneRadTemp','Ta','Tmrt','Vel','AirTurb','Pa','Rh','PMV','TaOutdoor','RhOutdoor']].std())\n",
        "\n",
        "\n",
        "\n",
        "print(\"\\n----------- Calculate Mean -----------\\n\")\n",
        "print(Selecting_the_data.mean())\n",
        " \n",
        "print(\"\\n----------- Calculate Median -----------\\n\")\n",
        "print(Selecting_the_data.median())\n",
        " \n",
        "print(\"\\n----------- Calculate Mode -----------\\n\")\n",
        "print(Selecting_the_data.mode())\n",
        "\n",
        "print(\"\\n----------- Calculate Outliers -----------\\n\")\n",
        "def find_Outliers_IQR(Selecting_the_data):\n",
        "  q1=Selecting_the_data.quantile(0.25)\n",
        "  q3=Selecting_the_data.quantile(0.75)\n",
        "  IQR=q3-q1\n",
        "  Outliers=Selecting_the_data[((Selecting_the_data<(q1-1.5*IQR))|(Selecting_the_data>(q3+1.5*IQR)))]\n",
        "  return Outliers\n",
        "Outliers_inAirTurb=find_Outliers_IQR(Selecting_the_data['AirTurb'])\n",
        "Outliers_inPa=find_Outliers_IQR(Selecting_the_data['Pa'])\n",
        "Outliers_inRh=find_Outliers_IQR(Selecting_the_data['Rh'])\n",
        "Outliers_inPMV=find_Outliers_IQR(Selecting_the_data['PMV'])\n",
        "Outliers_inTaOutdoor=find_Outliers_IQR(Selecting_the_data['TaOutdoor'])\n",
        "Outliers_inRhOutdoor=find_Outliers_IQR(Selecting_the_data['RhOutdoor'])\n",
        "Outliers_inVel=find_Outliers_IQR(Selecting_the_data['Vel'])\n",
        "Outliers_inAge=find_Outliers_IQR(Selecting_the_data['Age'])\n",
        "Outliers_inAMV=find_Outliers_IQR(Selecting_the_data['AMV'])\n",
        "Outliers_inMet=find_Outliers_IQR(Selecting_the_data['Met'])\n",
        "Outliers_inClo=find_Outliers_IQR(Selecting_the_data['Clo'])\n",
        "Outliers_inDewpt=find_Outliers_IQR(Selecting_the_data['Dewpt'])\n",
        "Outliers_inPlanedRedTemp=find_Outliers_IQR(Selecting_the_data['PlaneRadTemp'])\n",
        "Outliers_inTa=find_Outliers_IQR(Selecting_the_data['Ta'])\n",
        "Outliers_inTmrt=find_Outliers_IQR(Selecting_the_data['Tmrt'])\n",
        "print(\"number of Outliers in Tmrt\",str(len(Outliers_inTmrt)))\n",
        "print(\"number of Outliers in Ta\",str(len(Outliers_inTa)))\n",
        "print(\"number of Outliers in PlanedRedTemp\",str(len(Outliers_inPlanedRedTemp)))\n",
        "print(\"number of Outliers in Dewpt\",str(len(Outliers_inDewpt)))\n",
        "print(\"number of Outliers in Clo\",str(len(Outliers_inClo)))\n",
        "print(\"number of Outliers in Met\",str(len(Outliers_inMet)))\n",
        "print(\"number of Outliers in AMV\",str(len(Outliers_inAMV)))\n",
        "print(\"number of Outliers in Vel\",str(len(Outliers_inVel)))\n",
        "print(\"number of Outliers in RhOutdoor\",str(len(Outliers_inRhOutdoor)))\n",
        "print(\"number of Outliers in TAOutdoor\",str(len(Outliers_inTaOutdoor)))\n",
        "print(\"number of Outliers in PMV\",str(len(Outliers_inPMV)))\n",
        "print(\"number of Outliers in Pa\",str(len(Outliers_inPa)))\n",
        "print(\"number of Outliers in AirTurb\",str(len(Outliers_inAirTurb)))\n",
        "print(\"number of Outliers in Age\",str(len(Outliers_inAge)))"
      ],
      "metadata": {
        "colab": {
          "base_uri": "https://localhost:8080/"
        },
        "id": "2Bn6PMer3CyK",
        "outputId": "5a327b39-2dd3-4e39-fa61-e15e1f6af895"
      },
      "execution_count": 42,
      "outputs": [
        {
          "output_type": "stream",
          "name": "stdout",
          "text": [
            "-------Data type of each column of Dataframe :------\n",
            "Age             float64\n",
            "AMV             float64\n",
            "Met             float64\n",
            "Clo             float64\n",
            "Dewpt           float64\n",
            "PlaneRadTemp    float64\n",
            "Ta              float64\n",
            "Tmrt            float64\n",
            "Vel             float64\n",
            "AirTurb         float64\n",
            "Pa              float64\n",
            "Rh              float64\n",
            "PMV             float64\n",
            "TaOutdoor       float64\n",
            "RhOutdoor       float64\n",
            "dtype: object\n",
            "---------NUMBER OF NULLS IN EACH COlumn---------\n",
            "Count of NaN in RhOutdoor =  20\n",
            "Count of NaN in TaOutdoor =  19\n",
            "Count of NaN in PMV =  1389\n",
            "Count of NaN in Rh =  45\n",
            "Count of NaN in Pa =  35\n",
            "Count of NaN in AirTub =  4655\n",
            "Count of NaN in Vel =  7004\n",
            "Count of NaN in Tmrt =  3228\n",
            "Count of NaN in Ta =  3701\n",
            "Count of NaN in PlaneRedTemp =  6889\n",
            "Count of NaN in Dewpt =  7021\n",
            "Count of NaN in Clo =  6889\n",
            "Count of NaN in AMV =  51\n",
            "Count of NaN in Age =  225\n",
            "Count of NaN in Met =  57\n",
            "---------Find min---------\n",
            "Age             -1.000000\n",
            "AMV              1.000000\n",
            "Met              0.000000\n",
            "Clo             15.960000\n",
            "Dewpt           -7.420000\n",
            "PlaneRadTemp    16.410000\n",
            "Ta              16.610000\n",
            "Tmrt            16.639117\n",
            "Vel              0.000000\n",
            "AirTurb          0.000000\n",
            "Pa               7.400000\n",
            "Rh              -0.620000\n",
            "PMV              0.000000\n",
            "TaOutdoor        6.100000\n",
            "RhOutdoor      -22.700000\n",
            "dtype: float64\n",
            "---------Find max---------\n",
            "Age             292.000\n",
            "AMV               3.000\n",
            "Met               1.940\n",
            "Clo              29.810\n",
            "Dewpt            11.700\n",
            "PlaneRadTemp     30.850\n",
            "Ta               37.445\n",
            "Tmrt             31.800\n",
            "Vel               1.814\n",
            "AirTurb          27.700\n",
            "Pa               79.300\n",
            "Rh               32.900\n",
            "PMV               1.000\n",
            "TaOutdoor       100.000\n",
            "RhOutdoor        37.800\n",
            "dtype: float64\n",
            "---------Find varience---------\n",
            "Age             4167.797110\n",
            "AMV                0.172160\n",
            "Met                0.044367\n",
            "Clo                1.537458\n",
            "Dewpt              1.084022\n",
            "PlaneRadTemp       1.488041\n",
            "Ta                 2.257475\n",
            "Tmrt               2.448076\n",
            "Vel                0.010153\n",
            "AirTurb           66.522562\n",
            "Pa               226.848017\n",
            "Rh                54.853786\n",
            "PMV                0.010903\n",
            "TaOutdoor        328.388430\n",
            "RhOutdoor        163.867324\n",
            "dtype: float64\n",
            "---------Find STD---------\n",
            "Age             64.558478\n",
            "AMV              0.414922\n",
            "Met              0.210636\n",
            "Clo              1.239943\n",
            "Dewpt            1.041164\n",
            "PlaneRadTemp     1.219853\n",
            "Ta               1.502489\n",
            "Tmrt             1.564633\n",
            "Vel              0.100764\n",
            "AirTurb          8.156136\n",
            "Pa              15.061475\n",
            "Rh               7.406334\n",
            "PMV              0.104416\n",
            "TaOutdoor       18.121491\n",
            "RhOutdoor       12.801067\n",
            "dtype: float64\n",
            "\n",
            "----------- Calculate Mean -----------\n",
            "\n",
            "Age             17.738250\n",
            "AMV              1.857599\n",
            "Met              0.620227\n",
            "Clo             23.189087\n",
            "Dewpt            0.217785\n",
            "PlaneRadTemp    23.246785\n",
            "Ta              23.450693\n",
            "Tmrt            23.457478\n",
            "Vel              0.142601\n",
            "AirTurb          5.123996\n",
            "Pa              42.528507\n",
            "Rh              20.746623\n",
            "PMV              0.112912\n",
            "TaOutdoor       56.622620\n",
            "RhOutdoor       18.743268\n",
            "dtype: float64\n",
            "\n",
            "----------- Calculate Median -----------\n",
            "\n",
            "Age              1.000000\n",
            "AMV              2.000000\n",
            "Met              0.590760\n",
            "Clo             23.200000\n",
            "Dewpt            0.200000\n",
            "PlaneRadTemp    23.240000\n",
            "Ta              23.359219\n",
            "Tmrt            23.305000\n",
            "Vel              0.120000\n",
            "AirTurb          1.550667\n",
            "Pa              43.276815\n",
            "Rh              22.900000\n",
            "PMV              0.071050\n",
            "TaOutdoor       59.000000\n",
            "RhOutdoor       21.200000\n",
            "dtype: float64\n",
            "\n",
            "----------- Calculate Mode -----------\n",
            "\n",
            "   Age  AMV   Met   Clo  Dewpt  PlaneRadTemp    Ta  Tmrt   Vel  AirTurb    Pa  \\\n",
            "0  1.0  2.0  0.62  23.0    0.3          23.3  22.5  22.5  0.11      2.1  64.0   \n",
            "\n",
            "     Rh   PMV  TaOutdoor  RhOutdoor  \n",
            "0  22.8  0.05       55.0        0.0  \n",
            "\n",
            "----------- Calculate Outliers -----------\n",
            "\n",
            "number of Outliers in Tmrt 436\n",
            "number of Outliers in Ta 343\n",
            "number of Outliers in PlanedRedTemp 236\n",
            "number of Outliers in Dewpt 452\n",
            "number of Outliers in Clo 221\n",
            "number of Outliers in Met 384\n",
            "number of Outliers in AMV 2408\n",
            "number of Outliers in Vel 211\n",
            "number of Outliers in RhOutdoor 27\n",
            "number of Outliers in TAOutdoor 313\n",
            "number of Outliers in PMV 1058\n",
            "number of Outliers in Pa 0\n",
            "number of Outliers in AirTurb 1352\n",
            "number of Outliers in Age 1349\n"
          ]
        }
      ]
    },
    {
      "cell_type": "markdown",
      "source": [
        "# **Histogram & Box PLOT** "
      ],
      "metadata": {
        "id": "Iydf4RtFgCET"
      }
    },
    {
      "cell_type": "code",
      "source": [
        "print(\"\\n-----HISTOGRAM--------\\n\")\n",
        "for i in range(0,15):\n",
        "  print(\"\\n\")\n",
        "  plt.hist(x=Selecting_the_data[Selecting_the_data.columns[i]])\n",
        "  plt.show()\n",
        "print(\"\\n-----BoxPlot--------\\n\")\n",
        "for i in range(0,15):\n",
        "  print(\"\\n\")\n",
        "  sns.boxplot(x=Selecting_the_data[Selecting_the_data.columns[i]])\n",
        "  plt.show()\n"
      ],
      "metadata": {
        "colab": {
          "base_uri": "https://localhost:8080/",
          "height": 1000
        },
        "id": "J4ZZJC3zgLxl",
        "outputId": "984b44d1-583c-4384-c38f-e6f01033f76c"
      },
      "execution_count": 74,
      "outputs": [
        {
          "output_type": "stream",
          "name": "stdout",
          "text": [
            "\n",
            "-----HISTOGRAM--------\n",
            "\n",
            "\n",
            "\n"
          ]
        },
        {
          "output_type": "display_data",
          "data": {
            "text/plain": [
              "<Figure size 432x288 with 1 Axes>"
            ],
            "image/png": "[encoded data removed]"
          },
          "metadata": {
            "needs_background": "light"
          }
        },
        {
          "output_type": "stream",
          "name": "stdout",
          "text": [
            "\n",
            "\n"
          ]
        },
        {
          "output_type": "display_data",
          "data": {
            "text/plain": [
              "<Figure size 432x288 with 1 Axes>"
            ],
            "image/png": "[encoded data removed]"
          },
          "metadata": {
            "needs_background": "light"
          }
        },
        {
          "output_type": "stream",
          "name": "stdout",
          "text": [
            "\n",
            "\n"
          ]
        },
        {
          "output_type": "display_data",
          "data": {
            "text/plain": [
              "<Figure size 432x288 with 1 Axes>"
            ],
            "image/png": "[encoded data removed]"
          },
          "metadata": {
            "needs_background": "light"
          }
        },
        {
          "output_type": "stream",
          "name": "stdout",
          "text": [
            "\n",
            "\n"
          ]
        },
        {
          "output_type": "display_data",
          "data": {
            "text/plain": [
              "<Figure size 432x288 with 1 Axes>"
            ],
            "image/png": "[encoded data removed]"
          },
          "metadata": {
            "needs_background": "light"
          }
        },
        {
          "output_type": "stream",
          "name": "stdout",
          "text": [
            "\n",
            "\n"
          ]
        },
        {
          "output_type": "display_data",
          "data": {
            "text/plain": [
              "<Figure size 432x288 with 1 Axes>"
            ],
            "image/png": "[encoded data removed]"
          },
          "metadata": {
            "needs_background": "light"
          }
        },
        {
          "output_type": "stream",
          "name": "stdout",
          "text": [
            "\n",
            "\n"
          ]
        },
        {
          "output_type": "display_data",
          "data": {
            "text/plain": [
              "<Figure size 432x288 with 1 Axes>"
            ],
            "image/png": "[encoded data removed]"
          },
          "metadata": {
            "needs_background": "light"
          }
        },
        {
          "output_type": "stream",
          "name": "stdout",
          "text": [
            "\n",
            "\n"
          ]
        },
        {
          "output_type": "display_data",
          "data": {
            "text/plain": [
              "<Figure size 432x288 with 1 Axes>"
            ],
            "image/png": "[encoded data removed]"
          },
          "metadata": {
            "needs_background": "light"
          }
        },
        {
          "output_type": "stream",
          "name": "stdout",
          "text": [
            "\n",
            "\n"
          ]
        },
        {
          "output_type": "display_data",
          "data": {
            "text/plain": [
              "<Figure size 432x288 with 1 Axes>"
            ],
            "image/png": "[encoded data removed]"
          },
          "metadata": {
            "needs_background": "light"
          }
        },
        {
          "output_type": "stream",
          "name": "stdout",
          "text": [
            "\n",
            "\n"
          ]
        },
        {
          "output_type": "display_data",
          "data": {
            "text/plain": [
              "<Figure size 432x288 with 1 Axes>"
            ],
            "image/png": "[encoded data removed]"
          },
          "metadata": {
            "needs_background": "light"
          }
        },
        {
          "output_type": "stream",
          "name": "stdout",
          "text": [
            "\n",
            "\n"
          ]
        },
        {
          "output_type": "display_data",
          "data": {
            "text/plain": [
              "<Figure size 432x288 with 1 Axes>"
            ],
            "image/png": "[encoded data removed]"
          },
          "metadata": {
            "needs_background": "light"
          }
        },
        {
          "output_type": "stream",
          "name": "stdout",
          "text": [
            "\n",
            "\n"
          ]
        },
        {
          "output_type": "display_data",
          "data": {
            "text/plain": [
              "<Figure size 432x288 with 1 Axes>"
            ],
            "image/png": "[encoded data removed]"
          },
          "metadata": {
            "needs_background": "light"
          }
        },
        {
          "output_type": "stream",
          "name": "stdout",
          "text": [
            "\n",
            "\n"
          ]
        },
        {
          "output_type": "display_data",
          "data": {
            "text/plain": [
              "<Figure size 432x288 with 1 Axes>"
            ],
            "image/png": "[encoded data removed]"
          },
          "metadata": {
            "needs_background": "light"
          }
        },
        {
          "output_type": "stream",
          "name": "stdout",
          "text": [
            "\n",
            "\n"
          ]
        },
        {
          "output_type": "display_data",
          "data": {
            "text/plain": [
              "<Figure size 432x288 with 1 Axes>"
            ],
            "image/png": "[encoded data removed]"
          },
          "metadata": {
            "needs_background": "light"
          }
        },
        {
          "output_type": "stream",
          "name": "stdout",
          "text": [
            "\n",
            "\n"
          ]
        },
        {
          "output_type": "display_data",
          "data": {
            "text/plain": [
              "<Figure size 432x288 with 1 Axes>"
            ],
            "image/png": "[encoded data removed]"
          },
          "metadata": {
            "needs_background": "light"
          }
        },
        {
          "output_type": "stream",
          "name": "stdout",
          "text": [
            "\n",
            "\n"
          ]
        },
        {
          "output_type": "display_data",
          "data": {
            "text/plain": [
              "<Figure size 432x288 with 1 Axes>"
            ],
            "image/png": "[encoded data removed]"
          },
          "metadata": {
            "needs_background": "light"
          }
        },
        {
          "output_type": "stream",
          "name": "stdout",
          "text": [
            "\n",
            "-----BoxPlot--------\n",
            "\n",
            "\n",
            "-----Age--------\n",
            "\n",
            "\n",
            "\n"
          ]
        },
        {
          "output_type": "display_data",
          "data": {
            "text/plain": [
              "<Figure size 432x288 with 1 Axes>"
            ],
            "image/png": "[encoded data removed]"
          },
          "metadata": {
            "needs_background": "light"
          }
        },
        {
          "output_type": "stream",
          "name": "stdout",
          "text": [
            "\n",
            "\n"
          ]
        },
        {
          "output_type": "display_data",
          "data": {
            "text/plain": [
              "<Figure size 432x288 with 1 Axes>"
            ],
            "image/png": "[encoded data removed]"
          },
          "metadata": {
            "needs_background": "light"
          }
        },
        {
          "output_type": "stream",
          "name": "stdout",
          "text": [
            "\n",
            "\n"
          ]
        },
        {
          "output_type": "display_data",
          "data": {
            "text/plain": [
              "<Figure size 432x288 with 1 Axes>"
            ],
            "image/png": "[encoded data removed]"
          },
          "metadata": {
            "needs_background": "light"
          }
        },
        {
          "output_type": "stream",
          "name": "stdout",
          "text": [
            "\n",
            "\n"
          ]
        },
        {
          "output_type": "display_data",
          "data": {
            "text/plain": [
              "<Figure size 432x288 with 1 Axes>"
            ],
            "image/png": "[encoded data removed]"
          },
          "metadata": {
            "needs_background": "light"
          }
        },
        {
          "output_type": "stream",
          "name": "stdout",
          "text": [
            "\n",
            "\n"
          ]
        },
        {
          "output_type": "display_data",
          "data": {
            "text/plain": [
              "<Figure size 432x288 with 1 Axes>"
            ],
            "image/png": "[encoded data removed]"
          },
          "metadata": {
            "needs_background": "light"
          }
        },
        {
          "output_type": "stream",
          "name": "stdout",
          "text": [
            "\n",
            "\n"
          ]
        },
        {
          "output_type": "display_data",
          "data": {
            "text/plain": [
              "<Figure size 432x288 with 1 Axes>"
            ],
            "image/png": "[encoded data removed]"
          },
          "metadata": {
            "needs_background": "light"
          }
        },
        {
          "output_type": "stream",
          "name": "stdout",
          "text": [
            "\n",
            "\n"
          ]
        },
        {
          "output_type": "display_data",
          "data": {
            "text/plain": [
              "<Figure size 432x288 with 1 Axes>"
            ],
            "image/png": "[encoded data removed]"
          },
          "metadata": {
            "needs_background": "light"
          }
        },
        {
          "output_type": "stream",
          "name": "stdout",
          "text": [
            "\n",
            "\n"
          ]
        },
        {
          "output_type": "display_data",
          "data": {
            "text/plain": [
              "<Figure size 432x288 with 1 Axes>"
            ],
            "image/png": "[encoded data removed]"
          },
          "metadata": {
            "needs_background": "light"
          }
        },
        {
          "output_type": "stream",
          "name": "stdout",
          "text": [
            "\n",
            "\n"
          ]
        },
        {
          "output_type": "display_data",
          "data": {
            "text/plain": [
              "<Figure size 432x288 with 1 Axes>"
            ],
            "image/png": "[encoded data removed]"
          },
          "metadata": {
            "needs_background": "light"
          }
        },
        {
          "output_type": "stream",
          "name": "stdout",
          "text": [
            "\n",
            "\n"
          ]
        },
        {
          "output_type": "display_data",
          "data": {
            "text/plain": [
              "<Figure size 432x288 with 1 Axes>"
            ],
            "image/png": "[encoded data removed]"
          },
          "metadata": {
            "needs_background": "light"
          }
        },
        {
          "output_type": "stream",
          "name": "stdout",
          "text": [
            "\n",
            "\n"
          ]
        },
        {
          "output_type": "display_data",
          "data": {
            "text/plain": [
              "<Figure size 432x288 with 1 Axes>"
            ],
            "image/png": "[encoded data removed]"
          },
          "metadata": {
            "needs_background": "light"
          }
        },
        {
          "output_type": "stream",
          "name": "stdout",
          "text": [
            "\n",
            "\n"
          ]
        },
        {
          "output_type": "display_data",
          "data": {
            "text/plain": [
              "<Figure size 432x288 with 1 Axes>"
            ],
            "image/png": "[encoded data removed]"
          },
          "metadata": {
            "needs_background": "light"
          }
        },
        {
          "output_type": "stream",
          "name": "stdout",
          "text": [
            "\n",
            "\n"
          ]
        },
        {
          "output_type": "display_data",
          "data": {
            "text/plain": [
              "<Figure size 432x288 with 1 Axes>"
            ],
            "image/png": "[encoded data removed]"
          },
          "metadata": {
            "needs_background": "light"
          }
        },
        {
          "output_type": "stream",
          "name": "stdout",
          "text": [
            "\n",
            "\n"
          ]
        },
        {
          "output_type": "display_data",
          "data": {
            "text/plain": [
              "<Figure size 432x288 with 1 Axes>"
            ],
            "image/png": "[encoded data removed]"
          },
          "metadata": {
            "needs_background": "light"
          }
        },
        {
          "output_type": "stream",
          "name": "stdout",
          "text": [
            "\n",
            "\n"
          ]
        },
        {
          "output_type": "display_data",
          "data": {
            "text/plain": [
              "<Figure size 432x288 with 1 Axes>"
            ],
            "image/png": "[encoded data removed]"
          },
          "metadata": {
            "needs_background": "light"
          }
        }
      ]
    }
  ]
}