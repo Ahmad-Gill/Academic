{
  "cells": [
    {
      "cell_type": "markdown",
      "metadata": {
        "id": "EyD28pzviSpB"
      },
      "source": [
        "\n",
        "**Iport Libraries**"
      ]
    },
    {
      "cell_type": "code",
      "execution_count": 481,
      "metadata": {
        "colab": {
          "base_uri": "https://localhost:8080/"
        },
        "id": "xGAWE2CfiPw-",
        "outputId": "e189a1b9-c04b-4174-fb95-963317fee48d"
      },
      "outputs": [
        {
          "output_type": "stream",
          "name": "stdout",
          "text": [
            "Looking in indexes: https://pypi.org/simple, https://us-python.pkg.dev/colab-wheels/public/simple/\n",
            "Requirement already satisfied: joblib in /usr/local/lib/python3.8/dist-packages (1.2.0)\n",
            "Looking in indexes: https://pypi.org/simple, https://us-python.pkg.dev/colab-wheels/public/simple/\n",
            "Requirement already satisfied: mlxtend in /usr/local/lib/python3.8/dist-packages (0.14.0)\n",
            "Requirement already satisfied: setuptools in /usr/local/lib/python3.8/dist-packages (from mlxtend) (57.4.0)\n",
            "Requirement already satisfied: numpy>=1.10.4 in /usr/local/lib/python3.8/dist-packages (from mlxtend) (1.21.6)\n",
            "Requirement already satisfied: scikit-learn>=0.18 in /usr/local/lib/python3.8/dist-packages (from mlxtend) (1.0.2)\n",
            "Requirement already satisfied: scipy>=0.17 in /usr/local/lib/python3.8/dist-packages (from mlxtend) (1.7.3)\n",
            "Requirement already satisfied: matplotlib>=1.5.1 in /usr/local/lib/python3.8/dist-packages (from mlxtend) (3.2.2)\n",
            "Requirement already satisfied: pandas>=0.17.1 in /usr/local/lib/python3.8/dist-packages (from mlxtend) (1.3.5)\n",
            "Requirement already satisfied: cycler>=0.10 in /usr/local/lib/python3.8/dist-packages (from matplotlib>=1.5.1->mlxtend) (0.11.0)\n",
            "Requirement already satisfied: pyparsing!=2.0.4,!=2.1.2,!=2.1.6,>=2.0.1 in /usr/local/lib/python3.8/dist-packages (from matplotlib>=1.5.1->mlxtend) (3.0.9)\n",
            "Requirement already satisfied: kiwisolver>=1.0.1 in /usr/local/lib/python3.8/dist-packages (from matplotlib>=1.5.1->mlxtend) (1.4.4)\n",
            "Requirement already satisfied: python-dateutil>=2.1 in /usr/local/lib/python3.8/dist-packages (from matplotlib>=1.5.1->mlxtend) (2.8.2)\n",
            "Requirement already satisfied: pytz>=2017.3 in /usr/local/lib/python3.8/dist-packages (from pandas>=0.17.1->mlxtend) (2022.6)\n",
            "Requirement already satisfied: six>=1.5 in /usr/local/lib/python3.8/dist-packages (from python-dateutil>=2.1->matplotlib>=1.5.1->mlxtend) (1.15.0)\n",
            "Requirement already satisfied: joblib>=0.11 in /usr/local/lib/python3.8/dist-packages (from scikit-learn>=0.18->mlxtend) (1.2.0)\n",
            "Requirement already satisfied: threadpoolctl>=2.0.0 in /usr/local/lib/python3.8/dist-packages (from scikit-learn>=0.18->mlxtend) (3.1.0)\n"
          ]
        }
      ],
      "source": [
        "\n",
        "import pandas as pd\n",
        "import matplotlib.pyplot as plt\n",
        "import numpy as np\n",
        "from sklearn.preprocessing import StandardScaler\n",
        "from matplotlib.cbook import boxplot_stats\n",
        "import seaborn as sns\n",
        "import math\n",
        "from sklearn.linear_model import LogisticRegression\n",
        "from sklearn.linear_model import LogisticRegression\n",
        "from sklearn.linear_model import LogisticRegression\n",
        "from scipy.stats import entropy as en\n",
        "from sklearn.datasets import fetch_20newsgroups\n",
        "from sklearn.feature_selection import mutual_info_classif\n",
        "from sklearn.feature_extraction.text import CountVectorizer\n",
        "from sklearn.preprocessing import MinMaxScaler\n",
        "from math import log2\n",
        "from sklearn.model_selection import train_test_split\n",
        "!pip install joblib\n",
        "import json\n",
        "import subprocess\n",
        "import sqlalchemy\n",
        "!pip install mlxtend\n",
        "import joblib\n",
        "import sys\n",
        "from sklearn import preprocessing\n",
        "sys.modules['sklearn.externals.joblib'] = joblib\n",
        "from mlxtend.feature_selection import SequentialFeatureSelector as sfs\n",
        "\n",
        "\n",
        "\n",
        "from sklearn.preprocessing import normalize\n",
        "from sklearn import linear_model\n",
        "from sklearn.metrics import r2_score\n",
        "from sklearn.preprocessing import StandardScaler\n",
        "from sklearn.metrics import accuracy_score\n",
        "from sklearn.linear_model import LogisticRegression\n",
        "from sklearn.model_selection import train_test_split\n",
        "from sklearn.preprocessing import MinMaxScaler\n",
        "from mlxtend.feature_selection import SequentialFeatureSelector as sfs\n",
        "from sklearn.linear_model import LinearRegression\n",
        "from sklearn.model_selection import train_test_split\n",
        "from sklearn import preprocessing\n",
        "\n",
        "\n",
        "import numpy as np\n",
        "import pandas as pd\n",
        "from sklearn.model_selection import train_test_split\n",
        "from sklearn.linear_model import LinearRegression\n",
        "from sklearn.metrics import r2_score\n",
        "import matplotlib.pyplot as plt\n",
        "import seaborn as sns\n",
        "import warnings\n",
        "warnings.filterwarnings(\"ignore\")\n",
        "\n",
        "from sklearn.linear_model import LinearRegression\n",
        "\n",
        "import numpy as np # linear algebra\n",
        "import pandas as pd # data processing, CSV file I/O (e.g. pd.read_csv)\n",
        "import math\n",
        "from collections import Counter\n",
        "\n",
        "# Input data files are available in the \"../input/\" directory.\n",
        "# For example, running this (by clicking run or pressing Shift+Enter) will list the files in the input directory\n",
        "\n",
        "import os\n",
        "\n",
        "\n",
        "\n",
        "\n",
        "\n",
        "\n",
        "#nimra\n",
        "\n",
        "#Importing Libraries\n",
        "import pandas as pd\n",
        "import matplotlib.pyplot as plt\n",
        "from matplotlib.cbook import boxplot_stats\n",
        "import numpy as np\n",
        "%matplotlib inline\n",
        "import seaborn as sns\n",
        "import math\n",
        "from scipy.stats import entropy as en\n",
        "from sklearn.preprocessing import MinMaxScaler\n",
        "from sklearn.linear_model import LinearRegression\n",
        "from sklearn.datasets import load_boston\n",
        "from mlxtend.plotting import plot_sequential_feature_selection as plot_sfs\n",
        "from mlxtend.feature_selection import SequentialFeatureSelector as sfs\n",
        "from sklearn import metrics\n",
        "from sklearn.model_selection import train_test_split\n",
        "from sklearn.linear_model import LogisticRegression\n",
        "from sklearn import preprocessing\n",
        "from sklearn.model_selection import cross_val_score\n",
        "from numpy import absolute\n",
        "from numpy import sqrt\n",
        "from sklearn.model_selection import KFold\n",
        "from numpy import mean\n",
        "from sklearn.metrics import confusion_matrix\n",
        "from sklearn.metrics import accuracy_score\n",
        "from sklearn.metrics import precision_score\n",
        "from sklearn.preprocessing import normalize\n",
        "from sklearn import linear_model\n",
        "from sklearn.metrics import r2_score\n",
        "from sklearn.preprocessing import StandardScaler\n",
        "from sklearn.metrics import accuracy_score\n",
        "from sklearn.linear_model import LogisticRegression\n",
        "from sklearn.model_selection import train_test_split\n",
        "from sklearn.preprocessing import MinMaxScaler\n",
        "from mlxtend.feature_selection import SequentialFeatureSelector as sfs\n",
        "from sklearn.linear_model import LinearRegression\n",
        "from sklearn.model_selection import train_test_split\n",
        "from sklearn import preprocessing\n"
      ]
    },
    {
      "cell_type": "markdown",
      "metadata": {
        "id": "fLrguvHYoLI3"
      },
      "source": [
        "# Xcel to csv\n"
      ]
    },
    {
      "cell_type": "code",
      "execution_count": 459,
      "metadata": {
        "id": "PpN_WWmhoPiM"
      },
      "outputs": [],
      "source": [
        "CollectedData_Xcel= pd.read_excel('CollectedData.xlsx')\n",
        " \n",
        "#print(CollectedData_Xcel.head())\n",
        "CollectedData_Xcel.to_csv (\"CollectedData.csv\", index = None, header=True)\n",
        "CollectedData_csv = pd.read_csv(\"CollectedData.csv\")\n",
        "#print(CollectedData_csv.head())\n",
        "CollectedData_csv=CollectedData_csv.rename(columns={CollectedData_csv.columns[2]:'Age',CollectedData_csv.columns[7]:'AMV',CollectedData_csv.columns[21]:'Clo',CollectedData_csv.columns[18]:'Met',CollectedData_csv.columns[25]:'Dewpt',CollectedData_csv.columns[26]:'PlaneRadTemp',CollectedData_csv.columns[36]:'Ta',CollectedData_csv.columns[37]:'Tmrt',CollectedData_csv.columns[39]:'Vel',CollectedData_csv.columns[41]:'AirTurb',CollectedData_csv.columns[42]:'Pa',CollectedData_csv.columns[43]:'Rh',CollectedData_csv.columns[73]:'TaOutdoor',CollectedData_csv.columns[76]:'RhOutdoor',CollectedData_csv.columns[48]:'PMV'})\n",
        "#CollectedData_csv.info()\n"
      ]
    },
    {
      "cell_type": "markdown",
      "metadata": {
        "id": "u1BZoyyD2_Fb"
      },
      "source": [
        "***Part A. Preprocessing***"
      ]
    },
    {
      "cell_type": "code",
      "execution_count": 460,
      "metadata": {
        "colab": {
          "base_uri": "https://localhost:8080/"
        },
        "id": "2Bn6PMer3CyK",
        "outputId": "330fcafd-05c8-4b90-a17c-b866ab96f0b4"
      },
      "outputs": [
        {
          "output_type": "stream",
          "name": "stdout",
          "text": [
            "          Age   Clo  Met   Dewpt  PlaneRadTemp         Ta       Tmrt   Vel  \\\n",
            "0         NaN  0.78  2.1     NaN           NaN  19.100000  19.629472  0.06   \n",
            "1         NaN  1.05  2.1     NaN           NaN  20.000000  19.046655  0.06   \n",
            "2         NaN  0.40  2.6     NaN           NaN  21.000000  20.153116  0.06   \n",
            "3         NaN  0.37  3.0     NaN           NaN  23.000000  21.942458  0.06   \n",
            "4         NaN  1.29  2.1     NaN           NaN  19.800000  19.429333  0.06   \n",
            "...       ...   ...  ...     ...           ...        ...        ...   ...   \n",
            "12560  1996.0   NaN  0.1  22.122           NaN  22.142437        NaN   NaN   \n",
            "12561  1996.0   NaN  0.1  22.122           NaN  22.142437        NaN   NaN   \n",
            "12562  1996.0   NaN  0.1  22.122           NaN  22.142437        NaN   NaN   \n",
            "12563  1996.0   NaN  0.1  22.122           NaN  22.142437        NaN   NaN   \n",
            "12564  1996.0   NaN  0.1  22.122           NaN  22.142437        NaN   NaN   \n",
            "\n",
            "        AirTurb    Pa    Rh  TaOutdoor  RhOutdoor  AMV   PMV  \n",
            "0           NaN   NaN  51.3      11.55       79.0  2.0  0.51  \n",
            "1           NaN   NaN  51.9      11.55       79.0  1.0  0.80  \n",
            "2           NaN   NaN  49.9      11.55       79.0  3.0  0.76  \n",
            "3           NaN   NaN  45.6      11.55       79.0  3.0  1.47  \n",
            "4           NaN   NaN  51.4      11.55       79.0  1.0  0.97  \n",
            "...         ...   ...   ...        ...        ...  ...   ...  \n",
            "12560  67.42325  22.3  22.9        NaN        0.0  1.0   NaN  \n",
            "12561  67.42325  22.3  21.4        NaN        0.0  1.0   NaN  \n",
            "12562  67.42325  22.3  23.1        NaN        0.0  1.0   NaN  \n",
            "12563  67.42325  22.3  22.0        NaN        0.0  1.0   NaN  \n",
            "12564  67.42325  22.3  20.3        NaN        0.0  1.0   NaN  \n",
            "\n",
            "[12565 rows x 15 columns]\n",
            "-------Data type of each column of Dataframe :------\n",
            "Age             float64\n",
            "Clo             float64\n",
            "Met             float64\n",
            "Dewpt           float64\n",
            "PlaneRadTemp    float64\n",
            "Ta              float64\n",
            "Tmrt            float64\n",
            "Vel             float64\n",
            "AirTurb         float64\n",
            "Pa              float64\n",
            "Rh              float64\n",
            "TaOutdoor       float64\n",
            "RhOutdoor       float64\n",
            "AMV             float64\n",
            "PMV             float64\n",
            "dtype: object\n",
            "---------NUMBER OF NULLS IN EACH COlumn---------\n",
            "Age             2915\n",
            "Clo             1406\n",
            "Met             1887\n",
            "Dewpt           3551\n",
            "PlaneRadTemp    7021\n",
            "Ta                20\n",
            "Tmrt            3701\n",
            "Vel             3700\n",
            "AirTurb         5600\n",
            "Pa              4655\n",
            "Rh                35\n",
            "TaOutdoor       1368\n",
            "RhOutdoor         19\n",
            "AMV               55\n",
            "PMV              696\n",
            "dtype: int64\n",
            "---------Find min---------\n",
            "Age              0.000\n",
            "Clo              0.150\n",
            "Met              0.100\n",
            "Dewpt           -1.953\n",
            "PlaneRadTemp    -7.420\n",
            "Ta              15.960\n",
            "Tmrt            16.610\n",
            "Vel              0.000\n",
            "AirTurb          0.000\n",
            "Pa               0.000\n",
            "Rh               7.400\n",
            "TaOutdoor      -24.900\n",
            "RhOutdoor        0.000\n",
            "AMV             -3.000\n",
            "PMV             -4.170\n",
            "dtype: float64\n",
            "---------Find max---------\n",
            "Age             1996.00000\n",
            "Clo                2.13000\n",
            "Met                4.50000\n",
            "Dewpt             26.89675\n",
            "PlaneRadTemp      11.70000\n",
            "Ta                31.00000\n",
            "Tmrt              37.44500\n",
            "Vel                1.88000\n",
            "AirTurb          102.45000\n",
            "Pa                27.70000\n",
            "Rh                79.30000\n",
            "TaOutdoor         32.35000\n",
            "RhOutdoor        100.35000\n",
            "AMV                3.00000\n",
            "PMV                2.50000\n",
            "dtype: float64\n",
            "---------Find varience---------\n",
            "Age             462556.556104\n",
            "Clo                  0.049284\n",
            "Met                  0.183939\n",
            "Dewpt               34.845928\n",
            "PlaneRadTemp         1.084022\n",
            "Ta                   2.053443\n",
            "Tmrt                 2.257475\n",
            "Vel                  0.006248\n",
            "AirTurb            627.057129\n",
            "Pa                  66.522562\n",
            "Rh                 226.848017\n",
            "TaOutdoor          113.751067\n",
            "RhOutdoor          610.305583\n",
            "AMV                  1.214430\n",
            "PMV                  0.289471\n",
            "dtype: float64\n",
            "---------Find STD---------\n",
            "Age             680.115105\n",
            "Clo               0.221999\n",
            "Met               0.428882\n",
            "Dewpt             5.903044\n",
            "PlaneRadTemp      1.041164\n",
            "Ta                1.432984\n",
            "Tmrt              1.502489\n",
            "Vel               0.079044\n",
            "AirTurb          25.041109\n",
            "Pa                8.156136\n",
            "Rh               15.061475\n",
            "TaOutdoor        10.665415\n",
            "RhOutdoor        24.704364\n",
            "AMV               1.102012\n",
            "PMV               0.538025\n",
            "dtype: float64\n",
            "\n",
            "----------- Calculate Mean -----------\n",
            "\n",
            "Age             308.637202\n",
            "Clo               0.778503\n",
            "Met               1.065907\n",
            "Dewpt            13.621447\n",
            "PlaneRadTemp      0.217785\n",
            "Ta               23.179187\n",
            "Tmrt             23.450693\n",
            "Vel               0.112445\n",
            "AirTurb          18.265870\n",
            "Pa                5.123996\n",
            "Rh               42.528507\n",
            "TaOutdoor        17.175087\n",
            "RhOutdoor        61.098939\n",
            "AMV               0.100584\n",
            "PMV              -0.073711\n",
            "dtype: float64\n",
            "\n",
            "----------- Calculate Median -----------\n",
            "\n",
            "Age             35.000000\n",
            "Clo              0.751700\n",
            "Met              1.100000\n",
            "Dewpt           14.100000\n",
            "PlaneRadTemp     0.200000\n",
            "Ta              23.136667\n",
            "Tmrt            23.359219\n",
            "Vel              0.100000\n",
            "AirTurb          0.500000\n",
            "Pa               1.550667\n",
            "Rh              43.276815\n",
            "TaOutdoor       18.200000\n",
            "RhOutdoor       68.795799\n",
            "AMV              0.000000\n",
            "PMV             -0.030000\n",
            "dtype: float64\n",
            "\n",
            "----------- Calculate Mode -----------\n",
            "\n",
            "    Age   Clo  Met  Dewpt  PlaneRadTemp    Ta  Tmrt  Vel  AirTurb   Pa    Rh  \\\n",
            "0  24.0  0.77  1.0   17.4           0.3  23.2  22.5  0.1      0.5  2.1  64.0   \n",
            "\n",
            "   TaOutdoor  RhOutdoor  AMV  PMV  \n",
            "0  27.555556        0.0  0.0  0.1  \n",
            "\n",
            "----------- Calculate Outliers -----------\n",
            "\n",
            "4\n",
            "71\n",
            "55\n",
            "0\n",
            "245\n",
            "138\n",
            "277\n",
            "161\n",
            "2\n",
            "39\n",
            "0\n",
            "10\n",
            "1\n",
            "0\n",
            "114\n"
          ]
        }
      ],
      "source": [
        "Selecting_the_data = pd.DataFrame(CollectedData_csv, columns=['Age','Clo','Met','Dewpt','PlaneRadTemp','Ta','Tmrt','Vel','AirTurb','Pa','Rh','TaOutdoor','RhOutdoor','AMV','PMV'])\n",
        "print(Selecting_the_data)\n",
        "DataType = Selecting_the_data.dtypes\n",
        "print('-------Data type of each column of Dataframe :------')\n",
        "print(DataType)\n",
        "print('---------NUMBER OF NULLS IN EACH COlumn---------')\n",
        "print(CollectedData_csv[['Age','Clo','Met','Dewpt','PlaneRadTemp','Ta','Tmrt','Vel','AirTurb','Pa','Rh','TaOutdoor','RhOutdoor','AMV','PMV']].isna().sum())\n",
        "\n",
        "\n",
        "print('---------Find min---------')\n",
        "\n",
        "print(CollectedData_csv[['Age','Clo','Met','Dewpt','PlaneRadTemp','Ta','Tmrt','Vel','AirTurb','Pa','Rh','TaOutdoor','RhOutdoor','AMV','PMV']].min())\n",
        "print('---------Find max---------')\n",
        "print(CollectedData_csv[['Age','Clo','Met','Dewpt','PlaneRadTemp','Ta','Tmrt','Vel','AirTurb','Pa','Rh','TaOutdoor','RhOutdoor','AMV','PMV']].max())\n",
        "print('---------Find varience---------')\n",
        "print(CollectedData_csv[['Age','Clo','Met','Dewpt','PlaneRadTemp','Ta','Tmrt','Vel','AirTurb','Pa','Rh','TaOutdoor','RhOutdoor','AMV','PMV']].var())\n",
        "\n",
        "print('---------Find STD---------')\n",
        "\n",
        "print(CollectedData_csv[['Age','Clo','Met','Dewpt','PlaneRadTemp','Ta','Tmrt','Vel','AirTurb','Pa','Rh','TaOutdoor','RhOutdoor','AMV','PMV']].std())\n",
        "print(\"\\n----------- Calculate Mean -----------\\n\")\n",
        "print(Selecting_the_data.mean())\n",
        " \n",
        "print(\"\\n----------- Calculate Median -----------\\n\")\n",
        "print(Selecting_the_data.median())\n",
        " \n",
        "print(\"\\n----------- Calculate Mode -----------\\n\")\n",
        "print(Selecting_the_data.mode())\n",
        "\n",
        "print(\"\\n----------- Calculate Outliers -----------\\n\")\n",
        "for i in range(0,15):\n",
        "  Outliers=Selecting_the_data[Selecting_the_data.columns[i]].dropna()\n",
        "  stats=boxplot_stats(Outliers)\n",
        "  print(len(set(stats[0]['fliers'])))"
      ]
    },
    {
      "cell_type": "markdown",
      "metadata": {
        "id": "Iydf4RtFgCET"
      },
      "source": [
        "# **Histogram & Box PLOT** "
      ]
    },
    {
      "cell_type": "code",
      "execution_count": 461,
      "metadata": {
        "colab": {
          "base_uri": "https://localhost:8080/",
          "height": 1000
        },
        "id": "J4ZZJC3zgLxl",
        "outputId": "bc045f47-f97f-4233-8ae8-e18d83cadcac"
      },
      "outputs": [
        {
          "output_type": "stream",
          "name": "stdout",
          "text": [
            "\n",
            "-----HISTOGRAM--------\n",
            "\n"
          ]
        },
        {
          "output_type": "display_data",
          "data": {
            "text/plain": [
              "<Figure size 1440x1080 with 16 Axes>"
            ],
            "image/png": "[encoded data removed]"
          },
          "metadata": {
            "needs_background": "light"
          }
        },
        {
          "output_type": "stream",
          "name": "stdout",
          "text": [
            "\n",
            "-----BoxPlot--------\n",
            "\n",
            "\n",
            "\n"
          ]
        },
        {
          "output_type": "display_data",
          "data": {
            "text/plain": [
              "<Figure size 432x288 with 1 Axes>"
            ],
            "image/png": "[encoded data removed]"
          },
          "metadata": {
            "needs_background": "light"
          }
        },
        {
          "output_type": "stream",
          "name": "stdout",
          "text": [
            "\n",
            "\n"
          ]
        },
        {
          "output_type": "display_data",
          "data": {
            "text/plain": [
              "<Figure size 432x288 with 1 Axes>"
            ],
            "image/png": "[encoded data removed]"
          },
          "metadata": {
            "needs_background": "light"
          }
        },
        {
          "output_type": "stream",
          "name": "stdout",
          "text": [
            "\n",
            "\n"
          ]
        },
        {
          "output_type": "display_data",
          "data": {
            "text/plain": [
              "<Figure size 432x288 with 1 Axes>"
            ],
            "image/png": "[encoded data removed]"
          },
          "metadata": {
            "needs_background": "light"
          }
        },
        {
          "output_type": "stream",
          "name": "stdout",
          "text": [
            "\n",
            "\n"
          ]
        },
        {
          "output_type": "display_data",
          "data": {
            "text/plain": [
              "<Figure size 432x288 with 1 Axes>"
            ],
            "image/png": "[encoded data removed]"
          },
          "metadata": {
            "needs_background": "light"
          }
        },
        {
          "output_type": "stream",
          "name": "stdout",
          "text": [
            "\n",
            "\n"
          ]
        },
        {
          "output_type": "display_data",
          "data": {
            "text/plain": [
              "<Figure size 432x288 with 1 Axes>"
            ],
            "image/png": "[encoded data removed]"
          },
          "metadata": {
            "needs_background": "light"
          }
        },
        {
          "output_type": "stream",
          "name": "stdout",
          "text": [
            "\n",
            "\n"
          ]
        },
        {
          "output_type": "display_data",
          "data": {
            "text/plain": [
              "<Figure size 432x288 with 1 Axes>"
            ],
            "image/png": "[encoded data removed]"
          },
          "metadata": {
            "needs_background": "light"
          }
        },
        {
          "output_type": "stream",
          "name": "stdout",
          "text": [
            "\n",
            "\n"
          ]
        },
        {
          "output_type": "display_data",
          "data": {
            "text/plain": [
              "<Figure size 432x288 with 1 Axes>"
            ],
            "image/png": "[encoded data removed]"
          },
          "metadata": {
            "needs_background": "light"
          }
        },
        {
          "output_type": "stream",
          "name": "stdout",
          "text": [
            "\n",
            "\n"
          ]
        },
        {
          "output_type": "display_data",
          "data": {
            "text/plain": [
              "<Figure size 432x288 with 1 Axes>"
            ],
            "image/png": "[encoded data removed]"
          },
          "metadata": {
            "needs_background": "light"
          }
        },
        {
          "output_type": "stream",
          "name": "stdout",
          "text": [
            "\n",
            "\n"
          ]
        },
        {
          "output_type": "display_data",
          "data": {
            "text/plain": [
              "<Figure size 432x288 with 1 Axes>"
            ],
            "image/png": "[encoded data removed]"
          },
          "metadata": {
            "needs_background": "light"
          }
        },
        {
          "output_type": "stream",
          "name": "stdout",
          "text": [
            "\n",
            "\n"
          ]
        },
        {
          "output_type": "display_data",
          "data": {
            "text/plain": [
              "<Figure size 432x288 with 1 Axes>"
            ],
            "image/png": "[encoded data removed]"
          },
          "metadata": {
            "needs_background": "light"
          }
        },
        {
          "output_type": "stream",
          "name": "stdout",
          "text": [
            "\n",
            "\n"
          ]
        },
        {
          "output_type": "display_data",
          "data": {
            "text/plain": [
              "<Figure size 432x288 with 1 Axes>"
            ],
            "image/png": "[encoded data removed]"
          },
          "metadata": {
            "needs_background": "light"
          }
        },
        {
          "output_type": "stream",
          "name": "stdout",
          "text": [
            "\n",
            "\n"
          ]
        },
        {
          "output_type": "display_data",
          "data": {
            "text/plain": [
              "<Figure size 432x288 with 1 Axes>"
            ],
            "image/png": "[encoded data removed]"
          },
          "metadata": {
            "needs_background": "light"
          }
        },
        {
          "output_type": "stream",
          "name": "stdout",
          "text": [
            "\n",
            "\n"
          ]
        },
        {
          "output_type": "display_data",
          "data": {
            "text/plain": [
              "<Figure size 432x288 with 1 Axes>"
            ],
            "image/png": "[encoded data removed]"
          },
          "metadata": {
            "needs_background": "light"
          }
        },
        {
          "output_type": "stream",
          "name": "stdout",
          "text": [
            "\n",
            "\n"
          ]
        },
        {
          "output_type": "display_data",
          "data": {
            "text/plain": [
              "<Figure size 432x288 with 1 Axes>"
            ],
            "image/png": "[encoded data removed]"
          },
          "metadata": {
            "needs_background": "light"
          }
        },
        {
          "output_type": "stream",
          "name": "stdout",
          "text": [
            "\n",
            "\n"
          ]
        },
        {
          "output_type": "display_data",
          "data": {
            "text/plain": [
              "<Figure size 432x288 with 1 Axes>"
            ],
            "image/png": "[encoded data removed]"
          },
          "metadata": {
            "needs_background": "light"
          }
        }
      ],
      "source": [
        "print(\"\\n-----HISTOGRAM--------\\n\")\n",
        "\n",
        "Selecting_the_data.hist(bins=10,figsize = [20 , 15])\n",
        "plt.show()\n",
        "print(\"\\n-----BoxPlot--------\\n\")\n",
        "for i in range(0,15):\n",
        "  print(\"\\n\")\n",
        "  sns.boxplot(x=Selecting_the_data[Selecting_the_data.columns[i]])\n",
        "  plt.show()\n"
      ]
    },
    {
      "cell_type": "markdown",
      "metadata": {
        "id": "kl7Z9nXqgMfV"
      },
      "source": [
        "# **FILL THE MISSING VALUES**"
      ]
    },
    {
      "cell_type": "code",
      "execution_count": 462,
      "metadata": {
        "colab": {
          "base_uri": "https://localhost:8080/"
        },
        "id": "K12gEkGhgSao",
        "outputId": "d0f2413f-2bd9-4b11-b92b-7b6e406db25c"
      },
      "outputs": [
        {
          "output_type": "stream",
          "name": "stdout",
          "text": [
            "0        35.0\n",
            "1        35.0\n",
            "2        35.0\n",
            "3        35.0\n",
            "4        35.0\n",
            "         ... \n",
            "12560    35.0\n",
            "12561    35.0\n",
            "12562    35.0\n",
            "12563    35.0\n",
            "12564    35.0\n",
            "Name: Age, Length: 12565, dtype: float64\n",
            "0        0.780000\n",
            "1        1.050000\n",
            "2        0.400000\n",
            "3        0.370000\n",
            "4        1.290000\n",
            "           ...   \n",
            "12560    0.778503\n",
            "12561    0.778503\n",
            "12562    0.778503\n",
            "12563    0.778503\n",
            "12564    0.778503\n",
            "Name: Clo, Length: 12565, dtype: float64\n",
            "0        2.1\n",
            "1        2.1\n",
            "2        2.6\n",
            "3        3.0\n",
            "4        2.1\n",
            "        ... \n",
            "12560    0.1\n",
            "12561    0.1\n",
            "12562    0.1\n",
            "12563    0.1\n",
            "12564    0.1\n",
            "Name: Met, Length: 12565, dtype: float64\n",
            "0        14.100\n",
            "1        14.100\n",
            "2        14.100\n",
            "3        14.100\n",
            "4        14.100\n",
            "          ...  \n",
            "12560    22.122\n",
            "12561    22.122\n",
            "12562    22.122\n",
            "12563    22.122\n",
            "12564    22.122\n",
            "Name: Dewpt, Length: 12565, dtype: float64\n",
            "0        0.217785\n",
            "1        0.217785\n",
            "2        0.217785\n",
            "3        0.217785\n",
            "4        0.217785\n",
            "           ...   \n",
            "12560    0.217785\n",
            "12561    0.217785\n",
            "12562    0.217785\n",
            "12563    0.217785\n",
            "12564    0.217785\n",
            "Name: PlaneRadTemp, Length: 12565, dtype: float64\n",
            "0        19.100000\n",
            "1        20.000000\n",
            "2        21.000000\n",
            "3        23.000000\n",
            "4        19.800000\n",
            "           ...    \n",
            "12560    22.142437\n",
            "12561    22.142437\n",
            "12562    22.142437\n",
            "12563    22.142437\n",
            "12564    22.142437\n",
            "Name: Ta, Length: 12565, dtype: float64\n",
            "0        19.629472\n",
            "1        19.046655\n",
            "2        20.153116\n",
            "3        21.942458\n",
            "4        19.429333\n",
            "           ...    \n",
            "12560    23.450693\n",
            "12561    23.450693\n",
            "12562    23.450693\n",
            "12563    23.450693\n",
            "12564    23.450693\n",
            "Name: Tmrt, Length: 12565, dtype: float64\n",
            "0        0.06\n",
            "1        0.06\n",
            "2        0.06\n",
            "3        0.06\n",
            "4        0.06\n",
            "         ... \n",
            "12560    0.10\n",
            "12561    0.10\n",
            "12562    0.10\n",
            "12563    0.10\n",
            "12564    0.10\n",
            "Name: Vel, Length: 12565, dtype: float64\n",
            "0         0.50000\n",
            "1         0.50000\n",
            "2         0.50000\n",
            "3         0.50000\n",
            "4         0.50000\n",
            "           ...   \n",
            "12560    67.42325\n",
            "12561    67.42325\n",
            "12562    67.42325\n",
            "12563    67.42325\n",
            "12564    67.42325\n",
            "Name: AirTurb, Length: 12565, dtype: float64\n",
            "0         1.550667\n",
            "1         1.550667\n",
            "2         1.550667\n",
            "3         1.550667\n",
            "4         1.550667\n",
            "           ...    \n",
            "12560    22.300000\n",
            "12561    22.300000\n",
            "12562    22.300000\n",
            "12563    22.300000\n",
            "12564    22.300000\n",
            "Name: Pa, Length: 12565, dtype: float64\n",
            "0        51.3\n",
            "1        51.9\n",
            "2        49.9\n",
            "3        45.6\n",
            "4        51.4\n",
            "         ... \n",
            "12560    22.9\n",
            "12561    21.4\n",
            "12562    23.1\n",
            "12563    22.0\n",
            "12564    20.3\n",
            "Name: Rh, Length: 12565, dtype: float64\n",
            "0        11.55\n",
            "1        11.55\n",
            "2        11.55\n",
            "3        11.55\n",
            "4        11.55\n",
            "         ...  \n",
            "12560    18.20\n",
            "12561    18.20\n",
            "12562    18.20\n",
            "12563    18.20\n",
            "12564    18.20\n",
            "Name: TaOutdoor, Length: 12565, dtype: float64\n",
            "0        79.0\n",
            "1        79.0\n",
            "2        79.0\n",
            "3        79.0\n",
            "4        79.0\n",
            "         ... \n",
            "12560     0.0\n",
            "12561     0.0\n",
            "12562     0.0\n",
            "12563     0.0\n",
            "12564     0.0\n",
            "Name: RhOutdoor, Length: 12565, dtype: float64\n",
            "0        2.0\n",
            "1        1.0\n",
            "2        3.0\n",
            "3        3.0\n",
            "4        1.0\n",
            "        ... \n",
            "12560    1.0\n",
            "12561    1.0\n",
            "12562    1.0\n",
            "12563    1.0\n",
            "12564    1.0\n",
            "Name: AMV, Length: 12565, dtype: float64\n",
            "0        0.51\n",
            "1        0.80\n",
            "2        0.76\n",
            "3        1.47\n",
            "4        0.97\n",
            "         ... \n",
            "12560   -0.03\n",
            "12561   -0.03\n",
            "12562   -0.03\n",
            "12563   -0.03\n",
            "12564   -0.03\n",
            "Name: PMV, Length: 12565, dtype: float64\n"
          ]
        }
      ],
      "source": [
        "#Number Of Missing Values In Column : Age\n",
        "#print(\"Number Of Missing Values In The Column Age : \" , Selecting_the_data['Age'].isnull().sum())\n",
        "\n",
        "#Filling Missing Values\n",
        "Selecting_the_data['Age'] = Selecting_the_data['Age'].fillna(Selecting_the_data['Age']).median()\n",
        "print(Selecting_the_data['Age'])\n",
        "\n",
        "#Number Of Missing Values In Column : CLO\n",
        "#print(\"\\nNumber Of Missing Values In The Column CLO\" , Selecting_the_data['Clo'].isnull().sum())\n",
        "\n",
        "#Filling Missing Values\n",
        "Selecting_the_data['Clo'] = Selecting_the_data['Clo'].fillna(Selecting_the_data['Clo'].mean())\n",
        "print(Selecting_the_data['Clo'])\n",
        "\n",
        "\n",
        "#Number Of Missing Values In Column : Met\n",
        "#print(\"\\nNumber Of Missing Values In The Column Met\" , Selecting_the_data['Met'].isnull().sum())\n",
        "\n",
        "#Filling Missing Values\n",
        "Selecting_the_data['Met'] = Selecting_the_data['Met'].fillna(Selecting_the_data['Met'].median())\n",
        "print(Selecting_the_data['Met'])\n",
        "\n",
        "\n",
        "#Number Of Missing Values In Column : Dewpt\n",
        "#print(\"\\nNumber Of Missing Values In Column Dewpt\" , Selecting_the_data['Dewpt'].isnull().sum())\n",
        "\n",
        "#Filling Missing Values\n",
        "Selecting_the_data['Dewpt'] = Selecting_the_data['Dewpt'].fillna(Selecting_the_data['Dewpt'].median())\n",
        "print(Selecting_the_data['Dewpt'])\n",
        "\n",
        "\n",
        "#Number Of Missing Values In Column : PlaneRadTemp\n",
        "#print(\"\\nNumber Of Missing Values In Column PlaneRadTemp\" , Selecting_the_data['PlaneRadTemp'].isnull().sum())\n",
        "\n",
        "#Filling Missing Values\n",
        "Selecting_the_data['PlaneRadTemp'] = Selecting_the_data['PlaneRadTemp'].fillna(Selecting_the_data['PlaneRadTemp'].mean())\n",
        "print(Selecting_the_data['PlaneRadTemp'])\n",
        "\n",
        "\n",
        "#Number Of Missing Values In Column : Ta\n",
        "#print(\"\\nNumber Of Missing Values In Column Ta\" , Selecting_the_data['Ta'].isnull().sum())\n",
        "\n",
        "#Filling Missing Values\n",
        "Selecting_the_data['Ta'] = Selecting_the_data['Ta'].fillna(Selecting_the_data['Ta'].median())\n",
        "print(Selecting_the_data['Ta'])\n",
        "\n",
        "\n",
        "#Number Of Missing Values In Column : Tmrt\n",
        "#print(\"\\nNumber Of Missing Values In Column Tmrt\" , Selecting_the_data['Tmrt'].isnull().sum())\n",
        "\n",
        "#Filling Missing Values\n",
        "Selecting_the_data['Tmrt'] = Selecting_the_data['Tmrt'].fillna(Selecting_the_data['Tmrt'].mean())\n",
        "print(Selecting_the_data['Tmrt'])\n",
        "\n",
        "\n",
        "#Number Of Missing Values In Column : Vel\n",
        "#print(\"\\nNumber Of Missing Values In Column Vel\" , Selecting_the_data['Vel'].isnull().sum())\n",
        "\n",
        "#Filling Missing Values\n",
        "Selecting_the_data['Vel'] = Selecting_the_data['Vel'].fillna(Selecting_the_data['Vel'].median())\n",
        "print(Selecting_the_data['Vel'])\n",
        "\n",
        "\n",
        "#Number Of Missing Values In Column : AirTub\n",
        "#print(\"\\nNumber Of Missing Values In Column AirTurb : \" , Selecting_the_data['AirTurb'].isnull().sum())\n",
        "\n",
        "#Filling Missing Values\n",
        "Selecting_the_data['AirTurb'] = Selecting_the_data['AirTurb'].fillna(Selecting_the_data['AirTurb'].median())\n",
        "print(Selecting_the_data['AirTurb'])\n",
        "\n",
        "\n",
        "#Number Of Missing Values In Column : Pa\n",
        "#print(\"\\nNumber Of Missing Values In Column Pa\" , Selecting_the_data['Pa'].isnull().sum())\n",
        "\n",
        "#Filling Missing Values\n",
        "Selecting_the_data['Pa'] = Selecting_the_data['Pa'].fillna(Selecting_the_data['Pa'].median())\n",
        "print(Selecting_the_data['Pa'])\n",
        "\n",
        "\n",
        "#Number Of Missing Values In Column : Rh\n",
        "#print(\"\\nNumber Of Missing Values In Column Rh\" , Selecting_the_data['Rh'].isnull().sum())\n",
        "\n",
        "#Filling Missing Values\n",
        "Selecting_the_data['Rh'] = Selecting_the_data['Rh'].fillna(Selecting_the_data['Rh'].median())\n",
        "print(Selecting_the_data['Rh'])\n",
        "\n",
        "\n",
        "#Number Of Missing Values In Column : TaOutDoor\n",
        "#print(\"\\nNumber Of Missing Values In Column TaOutDoor\" , Selecting_the_data['TaOutdoor'].isnull().sum())\n",
        "\n",
        "#Filling Missing Values\n",
        "Selecting_the_data['TaOutdoor'] = Selecting_the_data['TaOutdoor'].fillna(Selecting_the_data['TaOutdoor'].median())\n",
        "print(Selecting_the_data['TaOutdoor'])\n",
        "\n",
        "\n",
        "#Number Of Missing Values In Column : RhOutDoor\n",
        "#print(\"\\nNumber Of Missing Values In Column RhOutDoor\" , Selecting_the_data['RhOutdoor'].isnull().sum())\n",
        "\n",
        "#Filling Missing Values\n",
        "Selecting_the_data['RhOutdoor'] = Selecting_the_data['RhOutdoor'].fillna(Selecting_the_data['RhOutdoor'].median())\n",
        "print(Selecting_the_data['RhOutdoor'])\n",
        "\n",
        "\n",
        "#Number Of Missing Values In Column : AMV\n",
        "#print(\"\\nNumber Of Missing Values In Column AMV\" ,Selecting_the_data['AMV'].isnull().sum())\n",
        "\n",
        "#Filling Missing Values\n",
        "Selecting_the_data['AMV'] = Selecting_the_data['AMV'].fillna(Selecting_the_data['AMV'].median())\n",
        "print(Selecting_the_data['AMV'])\n",
        "\n",
        "\n",
        "#Number Of Missing Values In Column : PMV\n",
        "#print(\"\\nNumber Of Missing Values In Column PMV\" , Selecting_the_data['PMV'].isnull().sum())\n",
        "\n",
        "#Filling Missing Values\n",
        "Selecting_the_data['PMV'] = Selecting_the_data['PMV'].fillna(Selecting_the_data['PMV'].median())\n",
        "print(Selecting_the_data['PMV'])\n",
        "\n"
      ]
    },
    {
      "cell_type": "markdown",
      "metadata": {
        "id": "xvEwrw7LLy1j"
      },
      "source": [
        "# Handling the Noisy data"
      ]
    },
    {
      "cell_type": "code",
      "execution_count": 486,
      "metadata": {
        "id": "cpAwxgGGL2a0",
        "colab": {
          "base_uri": "https://localhost:8080/"
        },
        "outputId": "56315ac4-a4ac-48bd-89fb-0bd98c7d798e"
      },
      "outputs": [
        {
          "output_type": "stream",
          "name": "stdout",
          "text": [
            "0\n",
            "(3217, 15)\n"
          ]
        }
      ],
      "source": [
        "#Question_4\n",
        "#Finding Number Of Outliers\n",
        "for x in ['PMV']:\n",
        "    q75,q25 = np.percentile(Selecting_the_data.loc[:,x],[75,25])\n",
        "    intr_qr = q75-q25\n",
        "\n",
        "    max = q75+(1.5*intr_qr)\n",
        "    min = q25-(1.5*intr_qr)\n",
        "\n",
        "    Selecting_the_data.loc[ Selecting_the_data[x] < min,x] = np.nan\n",
        "    Selecting_the_data.loc[ Selecting_the_data[x] > max,x] = np.nan\n",
        "    Selecting_the_data[\"PMV\"].fillna( Selecting_the_data[\"PMV\"].mean(), inplace = True)\n",
        "    print( Selecting_the_data[\"PMV\"].isnull().sum())\n",
        "    print( Selecting_the_data.shape)\n"
      ]
    },
    {
      "cell_type": "markdown",
      "metadata": {
        "id": "9oCWbqutkKm0"
      },
      "source": [
        "# ApPly **Filters**"
      ]
    },
    {
      "cell_type": "code",
      "execution_count": 485,
      "metadata": {
        "id": "B7CZU5NykQKH"
      },
      "outputs": [],
      "source": [
        "#Question_5\n",
        "#Applying Filter\n",
        "variance = Selecting_the_data.var()\n",
        "columns = Selecting_the_data.columns\n",
        "v = []\n",
        "\n",
        "for i in range(0 , len(variance)):\n",
        "    if variance[i] >= 0.2:\n",
        "       v.append(columns[i])  "
      ]
    },
    {
      "cell_type": "markdown",
      "metadata": {
        "id": "yXMIx61rL6ls"
      },
      "source": [
        "# **Heat Map**"
      ]
    },
    {
      "cell_type": "code",
      "execution_count": 465,
      "metadata": {
        "id": "3onMK-LHMDBM",
        "colab": {
          "base_uri": "https://localhost:8080/",
          "height": 332
        },
        "outputId": "b15abb8b-6083-47a6-ba39-403800944f60"
      },
      "outputs": [
        {
          "output_type": "display_data",
          "data": {
            "text/plain": [
              "<Figure size 432x288 with 2 Axes>"
            ],
            "image/png": "[encoded data removed]"
          },
          "metadata": {
            "needs_background": "light"
          }
        }
      ],
      "source": [
        "dataplot = sns.heatmap(Selecting_the_data.corr() , cmap = \"hot_r\" , annot = True , annot_kws = {'size' : 5} )\n",
        "plt.show()"
      ]
    },
    {
      "cell_type": "markdown",
      "metadata": {
        "id": "oGKZJ8ppMHG_"
      },
      "source": [
        "# Entropy and information **gain**"
      ]
    },
    {
      "cell_type": "code",
      "execution_count": 466,
      "metadata": {
        "id": "7MK0XzfmMKoi",
        "colab": {
          "base_uri": "https://localhost:8080/"
        },
        "outputId": "7f0a8ede-a395-419d-cb6e-a74e88d2b50e"
      },
      "outputs": [
        {
          "output_type": "stream",
          "name": "stdout",
          "text": [
            "-0.0\n",
            "4.784225029150438\n"
          ]
        }
      ],
      "source": [
        "#Entropy\n",
        "from math import e\n",
        "\n",
        "\n",
        "def pandas_entropy(column, base=None):\n",
        "    vc = pd.Series(column).value_counts(normalize=True, sort=False)\n",
        "    base = e if base is None else base\n",
        "    print(-(vc * np.log(vc)/np.log(base)).sum())\n",
        "Usage: pandas_entropy(Selecting_the_data['Age'])\n",
        "Usage: pandas_entropy(Selecting_the_data['Clo']) "
      ]
    },
    {
      "cell_type": "markdown",
      "metadata": {
        "id": "RuMK8kcaMUf4"
      },
      "source": [
        "# **Part B Analysis Algorithm**"
      ]
    },
    {
      "cell_type": "code",
      "execution_count": 467,
      "metadata": {
        "id": "JEzUxvZ7MYBY",
        "colab": {
          "base_uri": "https://localhost:8080/"
        },
        "outputId": "22984abb-b141-448a-da0a-1c61df14b157"
      },
      "outputs": [
        {
          "output_type": "stream",
          "name": "stdout",
          "text": [
            "Normalized Dataset In The Form Of Array :- \n",
            "\n",
            "[[0.         0.9359188  0.82348993 ... 0.74991708 0.5        0.82949309]\n",
            " [0.         0.53664516 0.23355705 ... 0.6238806  0.58333333 0.67281106]\n",
            " [0.         0.53664516 0.23355705 ... 0.6238806  0.66666667 0.65898618]\n",
            " ...\n",
            " [0.         0.51106444 0.71435573 ... 0.72338308 0.3        0.57603687]\n",
            " [0.         0.51106444 0.13996517 ... 0.72338308 0.33333333 0.57603687]\n",
            " [0.         0.51106444 0.09773057 ... 0.72338308 0.33333333 0.57603687]]\n",
            "\n",
            "\n",
            "Normalized data in the form of Data Set : \n",
            "      Age       Clo       Met     Dewpt  PlaneRadTemp        Ta      Tmrt  \\\n",
            "0     0.0  0.935919  0.823490  0.016667           0.0  0.377729  0.378708   \n",
            "1     0.0  0.536645  0.233557  0.016667           0.0  0.606987  0.918386   \n",
            "2     0.0  0.536645  0.233557  0.016667           0.0  0.574236  0.831451   \n",
            "3     0.0  0.587347  0.233557  0.016667           0.0  0.688865  0.874706   \n",
            "4     0.0  0.779649  0.233557  0.016667           0.0  0.623362  0.796328   \n",
            "...   ...       ...       ...       ...           ...       ...       ...   \n",
            "3212  0.0  0.511064  0.798825  0.016667           0.0  0.052402  0.522168   \n",
            "3213  0.0  0.511064  0.857953  0.016667           0.0  0.052948  0.522168   \n",
            "3214  0.0  0.511064  0.714356  0.016667           0.0  0.210153  0.522168   \n",
            "3215  0.0  0.511064  0.139965  0.016667           0.0  0.106441  0.522168   \n",
            "3216  0.0  0.511064  0.097731  0.016667           0.0  0.045852  0.522168   \n",
            "\n",
            "           Vel   AirTurb       Pa        Rh  TaOutdoor  RhOutdoor       AMV  \\\n",
            "0     0.200000  0.395062  0.51339  0.312230   0.366337   0.749917  0.500000   \n",
            "1     0.733333  0.395062  0.51339  0.751079   0.988861   0.623881  0.583333   \n",
            "2     0.600000  0.395062  0.51339  0.742446   0.988861   0.623881  0.666667   \n",
            "3     0.600000  0.395062  0.51339  0.730935   0.988861   0.623881  0.333333   \n",
            "4     0.800000  0.395062  0.51339  0.722302   0.988861   0.623881  0.666667   \n",
            "...        ...       ...      ...       ...        ...        ...       ...   \n",
            "3212  0.466667  0.395062  0.51339  0.481681   0.475248   0.723383  0.616667   \n",
            "3213  0.466667  0.395062  0.51339  0.481681   0.475248   0.723383  0.583333   \n",
            "3214  0.466667  0.395062  0.51339  0.481681   0.475248   0.723383  0.300000   \n",
            "3215  0.466667  0.395062  0.51339  0.481681   0.475248   0.723383  0.333333   \n",
            "3216  0.466667  0.395062  0.51339  0.481681   0.475248   0.723383  0.333333   \n",
            "\n",
            "           PMV  \n",
            "0     0.829493  \n",
            "1     0.672811  \n",
            "2     0.658986  \n",
            "3     0.741935  \n",
            "4     0.764977  \n",
            "...        ...  \n",
            "3212  0.576037  \n",
            "3213  0.576037  \n",
            "3214  0.576037  \n",
            "3215  0.576037  \n",
            "3216  0.576037  \n",
            "\n",
            "[3217 rows x 15 columns]\n"
          ]
        }
      ],
      "source": [
        "scaler = MinMaxScaler()\n",
        "normalized_data = scaler.fit_transform(Selecting_the_data)\n",
        "print(\"Normalized Dataset In The Form Of Array :- \\n\")\n",
        "print(normalized_data)\n",
        "print(\"\\n\")\n",
        "print(\"Normalized data in the form of Data Set : \")\n",
        "normalized_data = pd.DataFrame(normalized_data , columns = Selecting_the_data.columns)\n",
        "print(normalized_data)\n",
        "\n",
        "\n"
      ]
    },
    {
      "cell_type": "markdown",
      "metadata": {
        "id": "5MUJpP0OT9tp"
      },
      "source": [
        "# **Forword Selection 2A**"
      ]
    },
    {
      "cell_type": "code",
      "execution_count": 468,
      "metadata": {
        "id": "bt7ELccUM3s6",
        "colab": {
          "base_uri": "https://localhost:8080/"
        },
        "outputId": "5360a472-25ad-4ce9-d8f3-4b19ad4d6781"
      },
      "outputs": [
        {
          "output_type": "stream",
          "name": "stdout",
          "text": [
            "[0, 1, 2, 3, 5, 6, 7, 8, 9, 10, 11, 12, 13]\n"
          ]
        }
      ],
      "source": [
        "\n",
        "X = Selecting_the_data.drop(['PMV'] , axis = 1)\n",
        "Y = Selecting_the_data['PMV']\n",
        "\n",
        "mlr = LinearRegression()\n",
        "\n",
        "X_train, X_test, y_train, y_test = train_test_split(X,Y,test_size = 0.2 , random_state = 100)\n",
        "sfs1 = sfs(mlr,k_features='best',forward=True,floating=False,scoring='neg_mean_squared_error',cv=0)\n",
        "sfs1 = sfs1.fit(X_train, y_train)\n",
        "\n",
        "feat_names = list(sfs1.k_feature_idx_)\n",
        "print(feat_names)\n",
        "\n",
        "\n",
        "\n",
        "\n"
      ]
    },
    {
      "cell_type": "markdown",
      "metadata": {
        "id": "x2n8vzjsisvz"
      },
      "source": [
        "# BACK Word **SELECTION 2A**"
      ]
    },
    {
      "cell_type": "code",
      "execution_count": 469,
      "metadata": {
        "id": "vm69jl8-iwFy",
        "colab": {
          "base_uri": "https://localhost:8080/",
          "height": 324
        },
        "outputId": "2a068b42-c567-4e71-ef36-74a906041b82"
      },
      "outputs": [
        {
          "output_type": "error",
          "ename": "TypeError",
          "evalue": "ignored",
          "traceback": [
            "\u001b[0;31m---------------------------------------------------------------------------\u001b[0m",
            "\u001b[0;31mTypeError\u001b[0m                                 Traceback (most recent call last)",
            "\u001b[0;32m<ipython-input-469-8f2d0e11d11d>\u001b[0m in \u001b[0;36m<module>\u001b[0;34m\u001b[0m\n\u001b[1;32m      7\u001b[0m \u001b[0mX_train\u001b[0m\u001b[0;34m,\u001b[0m \u001b[0mX_test\u001b[0m\u001b[0;34m,\u001b[0m \u001b[0my_train\u001b[0m\u001b[0;34m,\u001b[0m \u001b[0my_test\u001b[0m \u001b[0;34m=\u001b[0m \u001b[0mtrain_test_split\u001b[0m\u001b[0;34m(\u001b[0m\u001b[0mX\u001b[0m\u001b[0;34m,\u001b[0m\u001b[0mY\u001b[0m\u001b[0;34m,\u001b[0m\u001b[0mtest_size\u001b[0m \u001b[0;34m=\u001b[0m \u001b[0;36m0.2\u001b[0m \u001b[0;34m,\u001b[0m \u001b[0mrandom_state\u001b[0m \u001b[0;34m=\u001b[0m \u001b[0;36m100\u001b[0m\u001b[0;34m)\u001b[0m\u001b[0;34m\u001b[0m\u001b[0;34m\u001b[0m\u001b[0m\n\u001b[1;32m      8\u001b[0m \u001b[0msfs1\u001b[0m \u001b[0;34m=\u001b[0m \u001b[0msfs\u001b[0m\u001b[0;34m(\u001b[0m\u001b[0mmlr\u001b[0m\u001b[0;34m,\u001b[0m\u001b[0mk_features\u001b[0m\u001b[0;34m=\u001b[0m\u001b[0;34m'best'\u001b[0m\u001b[0;34m,\u001b[0m\u001b[0mforward\u001b[0m\u001b[0;34m=\u001b[0m\u001b[0;32mFalse\u001b[0m\u001b[0;34m,\u001b[0m\u001b[0mfloating\u001b[0m\u001b[0;34m=\u001b[0m\u001b[0;32mFalse\u001b[0m\u001b[0;34m,\u001b[0m\u001b[0mscoring\u001b[0m\u001b[0;34m=\u001b[0m\u001b[0;34m'neg_mean_squared_error'\u001b[0m\u001b[0;34m,\u001b[0m\u001b[0mcv\u001b[0m\u001b[0;34m=\u001b[0m\u001b[0;36m0\u001b[0m\u001b[0;34m)\u001b[0m\u001b[0;34m\u001b[0m\u001b[0;34m\u001b[0m\u001b[0m\n\u001b[0;32m----> 9\u001b[0;31m \u001b[0msfs1\u001b[0m \u001b[0;34m=\u001b[0m \u001b[0msfs1\u001b[0m\u001b[0;34m.\u001b[0m\u001b[0mfit\u001b[0m\u001b[0;34m(\u001b[0m\u001b[0mX_train\u001b[0m\u001b[0;34m,\u001b[0m \u001b[0my_train\u001b[0m\u001b[0;34m)\u001b[0m\u001b[0;34m\u001b[0m\u001b[0;34m\u001b[0m\u001b[0m\n\u001b[0m\u001b[1;32m     10\u001b[0m \u001b[0;34m\u001b[0m\u001b[0m\n\u001b[1;32m     11\u001b[0m \u001b[0mfeat_names\u001b[0m \u001b[0;34m=\u001b[0m \u001b[0mlist\u001b[0m\u001b[0;34m(\u001b[0m\u001b[0msfs1\u001b[0m\u001b[0;34m.\u001b[0m\u001b[0mk_feature_idx_\u001b[0m\u001b[0;34m)\u001b[0m\u001b[0;34m\u001b[0m\u001b[0;34m\u001b[0m\u001b[0m\n",
            "\u001b[0;32m/usr/local/lib/python3.8/dist-packages/mlxtend/feature_selection/sequential_feature_selector.py\u001b[0m in \u001b[0;36mfit\u001b[0;34m(self, X, y, custom_feature_names, **fit_params)\u001b[0m\n\u001b[1;32m    351\u001b[0m                 \u001b[0;32melse\u001b[0m\u001b[0;34m:\u001b[0m\u001b[0;34m\u001b[0m\u001b[0;34m\u001b[0m\u001b[0m\n\u001b[1;32m    352\u001b[0m \u001b[0;34m\u001b[0m\u001b[0m\n\u001b[0;32m--> 353\u001b[0;31m                     k_idx, k_score, cv_scores = self._exclusion(\n\u001b[0m\u001b[1;32m    354\u001b[0m                         \u001b[0mfeature_set\u001b[0m\u001b[0;34m=\u001b[0m\u001b[0mprev_subset\u001b[0m\u001b[0;34m,\u001b[0m\u001b[0;34m\u001b[0m\u001b[0;34m\u001b[0m\u001b[0m\n\u001b[1;32m    355\u001b[0m                         \u001b[0mX\u001b[0m\u001b[0;34m=\u001b[0m\u001b[0mX\u001b[0m\u001b[0;34m,\u001b[0m\u001b[0;34m\u001b[0m\u001b[0;34m\u001b[0m\u001b[0m\n",
            "\u001b[0;32m/usr/local/lib/python3.8/dist-packages/mlxtend/feature_selection/sequential_feature_selector.py\u001b[0m in \u001b[0;36m_exclusion\u001b[0;34m(self, feature_set, X, y, fixed_feature, **fit_params)\u001b[0m\n\u001b[1;32m    529\u001b[0m             parallel = Parallel(n_jobs=n_jobs, verbose=self.verbose,\n\u001b[1;32m    530\u001b[0m                                 pre_dispatch=self.pre_dispatch)\n\u001b[0;32m--> 531\u001b[0;31m             work = parallel(delayed(_calc_score)(self, X, y, p, **fit_params)\n\u001b[0m\u001b[1;32m    532\u001b[0m                             \u001b[0;32mfor\u001b[0m \u001b[0mp\u001b[0m \u001b[0;32min\u001b[0m \u001b[0mcombinations\u001b[0m\u001b[0;34m(\u001b[0m\u001b[0mfeature_set\u001b[0m\u001b[0;34m,\u001b[0m \u001b[0mr\u001b[0m\u001b[0;34m=\u001b[0m\u001b[0mn\u001b[0m \u001b[0;34m-\u001b[0m \u001b[0;36m1\u001b[0m\u001b[0;34m)\u001b[0m\u001b[0;34m\u001b[0m\u001b[0;34m\u001b[0m\u001b[0m\n\u001b[1;32m    533\u001b[0m                             if not fixed_feature or fixed_feature in set(p))\n",
            "\u001b[0;32m/usr/local/lib/python3.8/dist-packages/joblib/parallel.py\u001b[0m in \u001b[0;36m__call__\u001b[0;34m(self, iterable)\u001b[0m\n\u001b[1;32m   1083\u001b[0m             \u001b[0;31m# remaining jobs.\u001b[0m\u001b[0;34m\u001b[0m\u001b[0;34m\u001b[0m\u001b[0;34m\u001b[0m\u001b[0m\n\u001b[1;32m   1084\u001b[0m             \u001b[0mself\u001b[0m\u001b[0;34m.\u001b[0m\u001b[0m_iterating\u001b[0m \u001b[0;34m=\u001b[0m \u001b[0;32mFalse\u001b[0m\u001b[0;34m\u001b[0m\u001b[0;34m\u001b[0m\u001b[0m\n\u001b[0;32m-> 1085\u001b[0;31m             \u001b[0;32mif\u001b[0m \u001b[0mself\u001b[0m\u001b[0;34m.\u001b[0m\u001b[0mdispatch_one_batch\u001b[0m\u001b[0;34m(\u001b[0m\u001b[0miterator\u001b[0m\u001b[0;34m)\u001b[0m\u001b[0;34m:\u001b[0m\u001b[0;34m\u001b[0m\u001b[0;34m\u001b[0m\u001b[0m\n\u001b[0m\u001b[1;32m   1086\u001b[0m                 \u001b[0mself\u001b[0m\u001b[0;34m.\u001b[0m\u001b[0m_iterating\u001b[0m \u001b[0;34m=\u001b[0m \u001b[0mself\u001b[0m\u001b[0;34m.\u001b[0m\u001b[0m_original_iterator\u001b[0m \u001b[0;32mis\u001b[0m \u001b[0;32mnot\u001b[0m \u001b[0;32mNone\u001b[0m\u001b[0;34m\u001b[0m\u001b[0;34m\u001b[0m\u001b[0m\n\u001b[1;32m   1087\u001b[0m \u001b[0;34m\u001b[0m\u001b[0m\n",
            "\u001b[0;32m/usr/local/lib/python3.8/dist-packages/joblib/parallel.py\u001b[0m in \u001b[0;36mdispatch_one_batch\u001b[0;34m(self, iterator)\u001b[0m\n\u001b[1;32m    899\u001b[0m                 \u001b[0;32mreturn\u001b[0m \u001b[0;32mFalse\u001b[0m\u001b[0;34m\u001b[0m\u001b[0;34m\u001b[0m\u001b[0m\n\u001b[1;32m    900\u001b[0m             \u001b[0;32melse\u001b[0m\u001b[0;34m:\u001b[0m\u001b[0;34m\u001b[0m\u001b[0;34m\u001b[0m\u001b[0m\n\u001b[0;32m--> 901\u001b[0;31m                 \u001b[0mself\u001b[0m\u001b[0;34m.\u001b[0m\u001b[0m_dispatch\u001b[0m\u001b[0;34m(\u001b[0m\u001b[0mtasks\u001b[0m\u001b[0;34m)\u001b[0m\u001b[0;34m\u001b[0m\u001b[0;34m\u001b[0m\u001b[0m\n\u001b[0m\u001b[1;32m    902\u001b[0m                 \u001b[0;32mreturn\u001b[0m \u001b[0;32mTrue\u001b[0m\u001b[0;34m\u001b[0m\u001b[0;34m\u001b[0m\u001b[0m\n\u001b[1;32m    903\u001b[0m \u001b[0;34m\u001b[0m\u001b[0m\n",
            "\u001b[0;32m/usr/local/lib/python3.8/dist-packages/joblib/parallel.py\u001b[0m in \u001b[0;36m_dispatch\u001b[0;34m(self, batch)\u001b[0m\n\u001b[1;32m    817\u001b[0m         \u001b[0;32mwith\u001b[0m \u001b[0mself\u001b[0m\u001b[0;34m.\u001b[0m\u001b[0m_lock\u001b[0m\u001b[0;34m:\u001b[0m\u001b[0;34m\u001b[0m\u001b[0;34m\u001b[0m\u001b[0m\n\u001b[1;32m    818\u001b[0m             \u001b[0mjob_idx\u001b[0m \u001b[0;34m=\u001b[0m \u001b[0mlen\u001b[0m\u001b[0;34m(\u001b[0m\u001b[0mself\u001b[0m\u001b[0;34m.\u001b[0m\u001b[0m_jobs\u001b[0m\u001b[0;34m)\u001b[0m\u001b[0;34m\u001b[0m\u001b[0;34m\u001b[0m\u001b[0m\n\u001b[0;32m--> 819\u001b[0;31m             \u001b[0mjob\u001b[0m \u001b[0;34m=\u001b[0m \u001b[0mself\u001b[0m\u001b[0;34m.\u001b[0m\u001b[0m_backend\u001b[0m\u001b[0;34m.\u001b[0m\u001b[0mapply_async\u001b[0m\u001b[0;34m(\u001b[0m\u001b[0mbatch\u001b[0m\u001b[0;34m,\u001b[0m \u001b[0mcallback\u001b[0m\u001b[0;34m=\u001b[0m\u001b[0mcb\u001b[0m\u001b[0;34m)\u001b[0m\u001b[0;34m\u001b[0m\u001b[0;34m\u001b[0m\u001b[0m\n\u001b[0m\u001b[1;32m    820\u001b[0m             \u001b[0;31m# A job can complete so quickly than its callback is\u001b[0m\u001b[0;34m\u001b[0m\u001b[0;34m\u001b[0m\u001b[0;34m\u001b[0m\u001b[0m\n\u001b[1;32m    821\u001b[0m             \u001b[0;31m# called before we get here, causing self._jobs to\u001b[0m\u001b[0;34m\u001b[0m\u001b[0;34m\u001b[0m\u001b[0;34m\u001b[0m\u001b[0m\n",
            "\u001b[0;32m/usr/local/lib/python3.8/dist-packages/joblib/_parallel_backends.py\u001b[0m in \u001b[0;36mapply_async\u001b[0;34m(self, func, callback)\u001b[0m\n\u001b[1;32m    206\u001b[0m     \u001b[0;32mdef\u001b[0m \u001b[0mapply_async\u001b[0m\u001b[0;34m(\u001b[0m\u001b[0mself\u001b[0m\u001b[0;34m,\u001b[0m \u001b[0mfunc\u001b[0m\u001b[0;34m,\u001b[0m \u001b[0mcallback\u001b[0m\u001b[0;34m=\u001b[0m\u001b[0;32mNone\u001b[0m\u001b[0;34m)\u001b[0m\u001b[0;34m:\u001b[0m\u001b[0;34m\u001b[0m\u001b[0;34m\u001b[0m\u001b[0m\n\u001b[1;32m    207\u001b[0m         \u001b[0;34m\"\"\"Schedule a func to be run\"\"\"\u001b[0m\u001b[0;34m\u001b[0m\u001b[0;34m\u001b[0m\u001b[0m\n\u001b[0;32m--> 208\u001b[0;31m         \u001b[0mresult\u001b[0m \u001b[0;34m=\u001b[0m \u001b[0mImmediateResult\u001b[0m\u001b[0;34m(\u001b[0m\u001b[0mfunc\u001b[0m\u001b[0;34m)\u001b[0m\u001b[0;34m\u001b[0m\u001b[0;34m\u001b[0m\u001b[0m\n\u001b[0m\u001b[1;32m    209\u001b[0m         \u001b[0;32mif\u001b[0m \u001b[0mcallback\u001b[0m\u001b[0;34m:\u001b[0m\u001b[0;34m\u001b[0m\u001b[0;34m\u001b[0m\u001b[0m\n\u001b[1;32m    210\u001b[0m             \u001b[0mcallback\u001b[0m\u001b[0;34m(\u001b[0m\u001b[0mresult\u001b[0m\u001b[0;34m)\u001b[0m\u001b[0;34m\u001b[0m\u001b[0;34m\u001b[0m\u001b[0m\n",
            "\u001b[0;32m/usr/local/lib/python3.8/dist-packages/joblib/_parallel_backends.py\u001b[0m in \u001b[0;36m__init__\u001b[0;34m(self, batch)\u001b[0m\n\u001b[1;32m    595\u001b[0m         \u001b[0;31m# Don't delay the application, to avoid keeping the input\u001b[0m\u001b[0;34m\u001b[0m\u001b[0;34m\u001b[0m\u001b[0;34m\u001b[0m\u001b[0m\n\u001b[1;32m    596\u001b[0m         \u001b[0;31m# arguments in memory\u001b[0m\u001b[0;34m\u001b[0m\u001b[0;34m\u001b[0m\u001b[0;34m\u001b[0m\u001b[0m\n\u001b[0;32m--> 597\u001b[0;31m         \u001b[0mself\u001b[0m\u001b[0;34m.\u001b[0m\u001b[0mresults\u001b[0m \u001b[0;34m=\u001b[0m \u001b[0mbatch\u001b[0m\u001b[0;34m(\u001b[0m\u001b[0;34m)\u001b[0m\u001b[0;34m\u001b[0m\u001b[0;34m\u001b[0m\u001b[0m\n\u001b[0m\u001b[1;32m    598\u001b[0m \u001b[0;34m\u001b[0m\u001b[0m\n\u001b[1;32m    599\u001b[0m     \u001b[0;32mdef\u001b[0m \u001b[0mget\u001b[0m\u001b[0;34m(\u001b[0m\u001b[0mself\u001b[0m\u001b[0;34m)\u001b[0m\u001b[0;34m:\u001b[0m\u001b[0;34m\u001b[0m\u001b[0;34m\u001b[0m\u001b[0m\n",
            "\u001b[0;32m/usr/local/lib/python3.8/dist-packages/joblib/parallel.py\u001b[0m in \u001b[0;36m__call__\u001b[0;34m(self)\u001b[0m\n\u001b[1;32m    286\u001b[0m         \u001b[0;31m# change the default number of processes to -1\u001b[0m\u001b[0;34m\u001b[0m\u001b[0;34m\u001b[0m\u001b[0;34m\u001b[0m\u001b[0m\n\u001b[1;32m    287\u001b[0m         \u001b[0;32mwith\u001b[0m \u001b[0mparallel_backend\u001b[0m\u001b[0;34m(\u001b[0m\u001b[0mself\u001b[0m\u001b[0;34m.\u001b[0m\u001b[0m_backend\u001b[0m\u001b[0;34m,\u001b[0m \u001b[0mn_jobs\u001b[0m\u001b[0;34m=\u001b[0m\u001b[0mself\u001b[0m\u001b[0;34m.\u001b[0m\u001b[0m_n_jobs\u001b[0m\u001b[0;34m)\u001b[0m\u001b[0;34m:\u001b[0m\u001b[0;34m\u001b[0m\u001b[0;34m\u001b[0m\u001b[0m\n\u001b[0;32m--> 288\u001b[0;31m             return [func(*args, **kwargs)\n\u001b[0m\u001b[1;32m    289\u001b[0m                     for func, args, kwargs in self.items]\n\u001b[1;32m    290\u001b[0m \u001b[0;34m\u001b[0m\u001b[0m\n",
            "\u001b[0;32m/usr/local/lib/python3.8/dist-packages/joblib/parallel.py\u001b[0m in \u001b[0;36m<listcomp>\u001b[0;34m(.0)\u001b[0m\n\u001b[1;32m    286\u001b[0m         \u001b[0;31m# change the default number of processes to -1\u001b[0m\u001b[0;34m\u001b[0m\u001b[0;34m\u001b[0m\u001b[0;34m\u001b[0m\u001b[0m\n\u001b[1;32m    287\u001b[0m         \u001b[0;32mwith\u001b[0m \u001b[0mparallel_backend\u001b[0m\u001b[0;34m(\u001b[0m\u001b[0mself\u001b[0m\u001b[0;34m.\u001b[0m\u001b[0m_backend\u001b[0m\u001b[0;34m,\u001b[0m \u001b[0mn_jobs\u001b[0m\u001b[0;34m=\u001b[0m\u001b[0mself\u001b[0m\u001b[0;34m.\u001b[0m\u001b[0m_n_jobs\u001b[0m\u001b[0;34m)\u001b[0m\u001b[0;34m:\u001b[0m\u001b[0;34m\u001b[0m\u001b[0;34m\u001b[0m\u001b[0m\n\u001b[0;32m--> 288\u001b[0;31m             return [func(*args, **kwargs)\n\u001b[0m\u001b[1;32m    289\u001b[0m                     for func, args, kwargs in self.items]\n\u001b[1;32m    290\u001b[0m \u001b[0;34m\u001b[0m\u001b[0m\n",
            "\u001b[0;32m/usr/local/lib/python3.8/dist-packages/mlxtend/feature_selection/sequential_feature_selector.py\u001b[0m in \u001b[0;36m_calc_score\u001b[0;34m(selector, X, y, indices, **fit_params)\u001b[0m\n\u001b[1;32m     34\u001b[0m                                  fit_params=fit_params)\n\u001b[1;32m     35\u001b[0m     \u001b[0;32melse\u001b[0m\u001b[0;34m:\u001b[0m\u001b[0;34m\u001b[0m\u001b[0;34m\u001b[0m\u001b[0m\n\u001b[0;32m---> 36\u001b[0;31m         \u001b[0mselector\u001b[0m\u001b[0;34m.\u001b[0m\u001b[0mest_\u001b[0m\u001b[0;34m.\u001b[0m\u001b[0mfit\u001b[0m\u001b[0;34m(\u001b[0m\u001b[0mX\u001b[0m\u001b[0;34m[\u001b[0m\u001b[0;34m:\u001b[0m\u001b[0;34m,\u001b[0m \u001b[0mindices\u001b[0m\u001b[0;34m]\u001b[0m\u001b[0;34m,\u001b[0m \u001b[0my\u001b[0m\u001b[0;34m,\u001b[0m \u001b[0;34m**\u001b[0m\u001b[0mfit_params\u001b[0m\u001b[0;34m)\u001b[0m\u001b[0;34m\u001b[0m\u001b[0;34m\u001b[0m\u001b[0m\n\u001b[0m\u001b[1;32m     37\u001b[0m         \u001b[0mscores\u001b[0m \u001b[0;34m=\u001b[0m \u001b[0mnp\u001b[0m\u001b[0;34m.\u001b[0m\u001b[0marray\u001b[0m\u001b[0;34m(\u001b[0m\u001b[0;34m[\u001b[0m\u001b[0mselector\u001b[0m\u001b[0;34m.\u001b[0m\u001b[0mscorer\u001b[0m\u001b[0;34m(\u001b[0m\u001b[0mselector\u001b[0m\u001b[0;34m.\u001b[0m\u001b[0mest_\u001b[0m\u001b[0;34m,\u001b[0m \u001b[0mX\u001b[0m\u001b[0;34m[\u001b[0m\u001b[0;34m:\u001b[0m\u001b[0;34m,\u001b[0m \u001b[0mindices\u001b[0m\u001b[0;34m]\u001b[0m\u001b[0;34m,\u001b[0m \u001b[0my\u001b[0m\u001b[0;34m)\u001b[0m\u001b[0;34m]\u001b[0m\u001b[0;34m)\u001b[0m\u001b[0;34m\u001b[0m\u001b[0;34m\u001b[0m\u001b[0m\n\u001b[1;32m     38\u001b[0m     \u001b[0;32mreturn\u001b[0m \u001b[0mindices\u001b[0m\u001b[0;34m,\u001b[0m \u001b[0mscores\u001b[0m\u001b[0;34m\u001b[0m\u001b[0;34m\u001b[0m\u001b[0m\n",
            "\u001b[0;32m/usr/local/lib/python3.8/dist-packages/pandas/core/frame.py\u001b[0m in \u001b[0;36m__getitem__\u001b[0;34m(self, key)\u001b[0m\n\u001b[1;32m   3456\u001b[0m             \u001b[0;32mif\u001b[0m \u001b[0mself\u001b[0m\u001b[0;34m.\u001b[0m\u001b[0mcolumns\u001b[0m\u001b[0;34m.\u001b[0m\u001b[0mnlevels\u001b[0m \u001b[0;34m>\u001b[0m \u001b[0;36m1\u001b[0m\u001b[0;34m:\u001b[0m\u001b[0;34m\u001b[0m\u001b[0;34m\u001b[0m\u001b[0m\n\u001b[1;32m   3457\u001b[0m                 \u001b[0;32mreturn\u001b[0m \u001b[0mself\u001b[0m\u001b[0;34m.\u001b[0m\u001b[0m_getitem_multilevel\u001b[0m\u001b[0;34m(\u001b[0m\u001b[0mkey\u001b[0m\u001b[0;34m)\u001b[0m\u001b[0;34m\u001b[0m\u001b[0;34m\u001b[0m\u001b[0m\n\u001b[0;32m-> 3458\u001b[0;31m             \u001b[0mindexer\u001b[0m \u001b[0;34m=\u001b[0m \u001b[0mself\u001b[0m\u001b[0;34m.\u001b[0m\u001b[0mcolumns\u001b[0m\u001b[0;34m.\u001b[0m\u001b[0mget_loc\u001b[0m\u001b[0;34m(\u001b[0m\u001b[0mkey\u001b[0m\u001b[0;34m)\u001b[0m\u001b[0;34m\u001b[0m\u001b[0;34m\u001b[0m\u001b[0m\n\u001b[0m\u001b[1;32m   3459\u001b[0m             \u001b[0;32mif\u001b[0m \u001b[0mis_integer\u001b[0m\u001b[0;34m(\u001b[0m\u001b[0mindexer\u001b[0m\u001b[0;34m)\u001b[0m\u001b[0;34m:\u001b[0m\u001b[0;34m\u001b[0m\u001b[0;34m\u001b[0m\u001b[0m\n\u001b[1;32m   3460\u001b[0m                 \u001b[0mindexer\u001b[0m \u001b[0;34m=\u001b[0m \u001b[0;34m[\u001b[0m\u001b[0mindexer\u001b[0m\u001b[0;34m]\u001b[0m\u001b[0;34m\u001b[0m\u001b[0;34m\u001b[0m\u001b[0m\n",
            "\u001b[0;32m/usr/local/lib/python3.8/dist-packages/pandas/core/indexes/base.py\u001b[0m in \u001b[0;36mget_loc\u001b[0;34m(self, key, method, tolerance)\u001b[0m\n\u001b[1;32m   3359\u001b[0m             \u001b[0mcasted_key\u001b[0m \u001b[0;34m=\u001b[0m \u001b[0mself\u001b[0m\u001b[0;34m.\u001b[0m\u001b[0m_maybe_cast_indexer\u001b[0m\u001b[0;34m(\u001b[0m\u001b[0mkey\u001b[0m\u001b[0;34m)\u001b[0m\u001b[0;34m\u001b[0m\u001b[0;34m\u001b[0m\u001b[0m\n\u001b[1;32m   3360\u001b[0m             \u001b[0;32mtry\u001b[0m\u001b[0;34m:\u001b[0m\u001b[0;34m\u001b[0m\u001b[0;34m\u001b[0m\u001b[0m\n\u001b[0;32m-> 3361\u001b[0;31m                 \u001b[0;32mreturn\u001b[0m \u001b[0mself\u001b[0m\u001b[0;34m.\u001b[0m\u001b[0m_engine\u001b[0m\u001b[0;34m.\u001b[0m\u001b[0mget_loc\u001b[0m\u001b[0;34m(\u001b[0m\u001b[0mcasted_key\u001b[0m\u001b[0;34m)\u001b[0m\u001b[0;34m\u001b[0m\u001b[0;34m\u001b[0m\u001b[0m\n\u001b[0m\u001b[1;32m   3362\u001b[0m             \u001b[0;32mexcept\u001b[0m \u001b[0mKeyError\u001b[0m \u001b[0;32mas\u001b[0m \u001b[0merr\u001b[0m\u001b[0;34m:\u001b[0m\u001b[0;34m\u001b[0m\u001b[0;34m\u001b[0m\u001b[0m\n\u001b[1;32m   3363\u001b[0m                 \u001b[0;32mraise\u001b[0m \u001b[0mKeyError\u001b[0m\u001b[0;34m(\u001b[0m\u001b[0mkey\u001b[0m\u001b[0;34m)\u001b[0m \u001b[0;32mfrom\u001b[0m \u001b[0merr\u001b[0m\u001b[0;34m\u001b[0m\u001b[0;34m\u001b[0m\u001b[0m\n",
            "\u001b[0;32m/usr/local/lib/python3.8/dist-packages/pandas/_libs/index.pyx\u001b[0m in \u001b[0;36mpandas._libs.index.IndexEngine.get_loc\u001b[0;34m()\u001b[0m\n",
            "\u001b[0;32m/usr/local/lib/python3.8/dist-packages/pandas/_libs/index.pyx\u001b[0m in \u001b[0;36mpandas._libs.index.IndexEngine.get_loc\u001b[0;34m()\u001b[0m\n",
            "\u001b[0;31mTypeError\u001b[0m: '(slice(None, None, None), (0, 1, 2, 3, 4, 5, 6, 7, 8, 9, 10, 11, 12))' is an invalid key"
          ]
        }
      ],
      "source": [
        "X = Selecting_the_data.drop(['PMV'] , axis = 1)\n",
        "\n",
        "Y = Selecting_the_data['PMV']\n",
        "\n",
        "mlr = LinearRegression()\n",
        "\n",
        "X_train, X_test, y_train, y_test = train_test_split(X,Y,test_size = 0.2 , random_state = 100)\n",
        "sfs1 = sfs(mlr,k_features='best',forward=False,floating=False,scoring='neg_mean_squared_error',cv=0)\n",
        "sfs1 = sfs1.fit(X_train, y_train)\n",
        "\n",
        "feat_names = list(sfs1.k_feature_idx_)\n",
        "print(feat_names)\n"
      ]
    },
    {
      "cell_type": "markdown",
      "source": [
        "# Select the data on the bassis of PMV"
      ],
      "metadata": {
        "id": "cTNB4OitQjb0"
      }
    },
    {
      "cell_type": "code",
      "source": [
        "Selecting_the_data_PMV = pd.DataFrame(Selecting_the_data, columns=['Clo','Met','Dewpt','Ta','Tmrt','Vel','AirTurb','Pa','Rh','TaOutdoor','RhOutdoor','PMV'])\n",
        "X = Selecting_the_data_PMV.drop(['PMV'] , axis = 1)\n",
        "Y = Selecting_the_data_PMV['PMV']\n",
        "from sklearn.linear_model import LogisticRegression\n",
        "x_train,x_test,y_train,y_test=train_test_split(X,Y,test_size=0.2,random_state=0)\n",
        "linreg=LinearRegression()\n",
        "linreg.fit(x_train,y_train)\n",
        "y_pred=linreg.predict(x_test)\n",
        "y_pred\n",
        "Accuracy=r2_score(y_test,y_pred)*100\n",
        "print(\" Accuracy of the model is %.2f\" %Accuracy)"
      ],
      "metadata": {
        "colab": {
          "base_uri": "https://localhost:8080/"
        },
        "id": "n_Squ-sjQmGp",
        "outputId": "0db2211c-52af-4371-8b20-32382014c49c"
      },
      "execution_count": 470,
      "outputs": [
        {
          "output_type": "stream",
          "name": "stdout",
          "text": [
            " Accuracy of the model is 94.92\n"
          ]
        }
      ]
    },
    {
      "cell_type": "markdown",
      "metadata": {
        "id": "T0sfUXOz4qQk"
      },
      "source": [
        "# **Forword Selection 3A**"
      ]
    },
    {
      "cell_type": "code",
      "execution_count": 471,
      "metadata": {
        "id": "frdjfKk_4wUV"
      },
      "outputs": [],
      "source": [
        "\n",
        "X = Selecting_the_data.drop(['AMV'] , axis = 1)\n",
        "Y = Selecting_the_data['AMV']\n",
        "\n",
        "lab = preprocessing.LabelEncoder()\n",
        "Y=lab.fit_transform(Y)\n",
        "\n",
        "X_train, X_test, y_train, y_test = train_test_split(X,Y,test_size = 0.2 , random_state = 100)\n",
        "LG=LogisticRegression()\n",
        "sfs1 = sfs(LG,k_features='best',forward=True,floating=False,scoring='accuracy',cv=0)\n",
        "\n",
        "sfs1 = sfs1.fit(X_train, y_train)\n"
      ]
    },
    {
      "cell_type": "code",
      "execution_count": 473,
      "metadata": {
        "id": "tPlDBU1Q6_6g",
        "colab": {
          "base_uri": "https://localhost:8080/"
        },
        "outputId": "e0aaadc8-b6b9-457f-81a3-775e664d8bb6"
      },
      "outputs": [
        {
          "output_type": "stream",
          "name": "stdout",
          "text": [
            "[0, 1, 2, 3, 4, 5, 6, 7, 8, 9, 10, 11, 12, 13]\n"
          ]
        }
      ],
      "source": [
        "feat_names = list(sfs1.k_feature_idx_)\n",
        "print(feat_names)"
      ]
    },
    {
      "cell_type": "markdown",
      "metadata": {
        "id": "V09BgemG7lj0"
      },
      "source": [
        "# ***BackWord Selection 3A***"
      ]
    },
    {
      "cell_type": "code",
      "execution_count": 474,
      "metadata": {
        "id": "KOcjRwew7rYw",
        "colab": {
          "base_uri": "https://localhost:8080/",
          "height": 290
        },
        "outputId": "c38a0332-8997-4483-9783-9b4dc62d28d1"
      },
      "outputs": [
        {
          "output_type": "stream",
          "name": "stderr",
          "text": [
            "[Parallel(n_jobs=1)]: Using backend SequentialBackend with 1 concurrent workers.\n"
          ]
        },
        {
          "output_type": "error",
          "ename": "TypeError",
          "evalue": "ignored",
          "traceback": [
            "\u001b[0;31m---------------------------------------------------------------------------\u001b[0m",
            "\u001b[0;31mTypeError\u001b[0m                                 Traceback (most recent call last)",
            "\u001b[0;32m<ipython-input-474-3270a18ed2b5>\u001b[0m in \u001b[0;36m<module>\u001b[0;34m\u001b[0m\n\u001b[1;32m      8\u001b[0m \u001b[0mLG\u001b[0m\u001b[0;34m=\u001b[0m\u001b[0mLogisticRegression\u001b[0m\u001b[0;34m(\u001b[0m\u001b[0;34m)\u001b[0m\u001b[0;34m\u001b[0m\u001b[0;34m\u001b[0m\u001b[0m\n\u001b[1;32m      9\u001b[0m \u001b[0msfs1\u001b[0m \u001b[0;34m=\u001b[0m \u001b[0msfs\u001b[0m\u001b[0;34m(\u001b[0m\u001b[0mLG\u001b[0m\u001b[0;34m,\u001b[0m\u001b[0mk_features\u001b[0m\u001b[0;34m=\u001b[0m\u001b[0;34m'best'\u001b[0m\u001b[0;34m,\u001b[0m\u001b[0mforward\u001b[0m\u001b[0;34m=\u001b[0m\u001b[0;32mFalse\u001b[0m\u001b[0;34m,\u001b[0m\u001b[0mverbose\u001b[0m\u001b[0;34m=\u001b[0m\u001b[0;36m2\u001b[0m\u001b[0;34m,\u001b[0m\u001b[0mscoring\u001b[0m\u001b[0;34m=\u001b[0m\u001b[0;34m'r2'\u001b[0m\u001b[0;34m)\u001b[0m\u001b[0;34m\u001b[0m\u001b[0;34m\u001b[0m\u001b[0m\n\u001b[0;32m---> 10\u001b[0;31m \u001b[0msfs1\u001b[0m \u001b[0;34m=\u001b[0m \u001b[0msfs1\u001b[0m\u001b[0;34m.\u001b[0m\u001b[0mfit\u001b[0m\u001b[0;34m(\u001b[0m\u001b[0mX_train\u001b[0m\u001b[0;34m,\u001b[0m \u001b[0my_train\u001b[0m\u001b[0;34m)\u001b[0m\u001b[0;34m\u001b[0m\u001b[0;34m\u001b[0m\u001b[0m\n\u001b[0m",
            "\u001b[0;32m/usr/local/lib/python3.8/dist-packages/mlxtend/feature_selection/sequential_feature_selector.py\u001b[0m in \u001b[0;36mfit\u001b[0;34m(self, X, y, custom_feature_names, **fit_params)\u001b[0m\n\u001b[1;32m    351\u001b[0m                 \u001b[0;32melse\u001b[0m\u001b[0;34m:\u001b[0m\u001b[0;34m\u001b[0m\u001b[0;34m\u001b[0m\u001b[0m\n\u001b[1;32m    352\u001b[0m \u001b[0;34m\u001b[0m\u001b[0m\n\u001b[0;32m--> 353\u001b[0;31m                     k_idx, k_score, cv_scores = self._exclusion(\n\u001b[0m\u001b[1;32m    354\u001b[0m                         \u001b[0mfeature_set\u001b[0m\u001b[0;34m=\u001b[0m\u001b[0mprev_subset\u001b[0m\u001b[0;34m,\u001b[0m\u001b[0;34m\u001b[0m\u001b[0;34m\u001b[0m\u001b[0m\n\u001b[1;32m    355\u001b[0m                         \u001b[0mX\u001b[0m\u001b[0;34m=\u001b[0m\u001b[0mX\u001b[0m\u001b[0;34m,\u001b[0m\u001b[0;34m\u001b[0m\u001b[0;34m\u001b[0m\u001b[0m\n",
            "\u001b[0;32m/usr/local/lib/python3.8/dist-packages/mlxtend/feature_selection/sequential_feature_selector.py\u001b[0m in \u001b[0;36m_exclusion\u001b[0;34m(self, feature_set, X, y, fixed_feature, **fit_params)\u001b[0m\n\u001b[1;32m    529\u001b[0m             parallel = Parallel(n_jobs=n_jobs, verbose=self.verbose,\n\u001b[1;32m    530\u001b[0m                                 pre_dispatch=self.pre_dispatch)\n\u001b[0;32m--> 531\u001b[0;31m             work = parallel(delayed(_calc_score)(self, X, y, p, **fit_params)\n\u001b[0m\u001b[1;32m    532\u001b[0m                             \u001b[0;32mfor\u001b[0m \u001b[0mp\u001b[0m \u001b[0;32min\u001b[0m \u001b[0mcombinations\u001b[0m\u001b[0;34m(\u001b[0m\u001b[0mfeature_set\u001b[0m\u001b[0;34m,\u001b[0m \u001b[0mr\u001b[0m\u001b[0;34m=\u001b[0m\u001b[0mn\u001b[0m \u001b[0;34m-\u001b[0m \u001b[0;36m1\u001b[0m\u001b[0;34m)\u001b[0m\u001b[0;34m\u001b[0m\u001b[0;34m\u001b[0m\u001b[0m\n\u001b[1;32m    533\u001b[0m                             if not fixed_feature or fixed_feature in set(p))\n",
            "\u001b[0;32m/usr/local/lib/python3.8/dist-packages/joblib/parallel.py\u001b[0m in \u001b[0;36m__call__\u001b[0;34m(self, iterable)\u001b[0m\n\u001b[1;32m   1083\u001b[0m             \u001b[0;31m# remaining jobs.\u001b[0m\u001b[0;34m\u001b[0m\u001b[0;34m\u001b[0m\u001b[0;34m\u001b[0m\u001b[0m\n\u001b[1;32m   1084\u001b[0m             \u001b[0mself\u001b[0m\u001b[0;34m.\u001b[0m\u001b[0m_iterating\u001b[0m \u001b[0;34m=\u001b[0m \u001b[0;32mFalse\u001b[0m\u001b[0;34m\u001b[0m\u001b[0;34m\u001b[0m\u001b[0m\n\u001b[0;32m-> 1085\u001b[0;31m             \u001b[0;32mif\u001b[0m \u001b[0mself\u001b[0m\u001b[0;34m.\u001b[0m\u001b[0mdispatch_one_batch\u001b[0m\u001b[0;34m(\u001b[0m\u001b[0miterator\u001b[0m\u001b[0;34m)\u001b[0m\u001b[0;34m:\u001b[0m\u001b[0;34m\u001b[0m\u001b[0;34m\u001b[0m\u001b[0m\n\u001b[0m\u001b[1;32m   1086\u001b[0m                 \u001b[0mself\u001b[0m\u001b[0;34m.\u001b[0m\u001b[0m_iterating\u001b[0m \u001b[0;34m=\u001b[0m \u001b[0mself\u001b[0m\u001b[0;34m.\u001b[0m\u001b[0m_original_iterator\u001b[0m \u001b[0;32mis\u001b[0m \u001b[0;32mnot\u001b[0m \u001b[0;32mNone\u001b[0m\u001b[0;34m\u001b[0m\u001b[0;34m\u001b[0m\u001b[0m\n\u001b[1;32m   1087\u001b[0m \u001b[0;34m\u001b[0m\u001b[0m\n",
            "\u001b[0;32m/usr/local/lib/python3.8/dist-packages/joblib/parallel.py\u001b[0m in \u001b[0;36mdispatch_one_batch\u001b[0;34m(self, iterator)\u001b[0m\n\u001b[1;32m    899\u001b[0m                 \u001b[0;32mreturn\u001b[0m \u001b[0;32mFalse\u001b[0m\u001b[0;34m\u001b[0m\u001b[0;34m\u001b[0m\u001b[0m\n\u001b[1;32m    900\u001b[0m             \u001b[0;32melse\u001b[0m\u001b[0;34m:\u001b[0m\u001b[0;34m\u001b[0m\u001b[0;34m\u001b[0m\u001b[0m\n\u001b[0;32m--> 901\u001b[0;31m                 \u001b[0mself\u001b[0m\u001b[0;34m.\u001b[0m\u001b[0m_dispatch\u001b[0m\u001b[0;34m(\u001b[0m\u001b[0mtasks\u001b[0m\u001b[0;34m)\u001b[0m\u001b[0;34m\u001b[0m\u001b[0;34m\u001b[0m\u001b[0m\n\u001b[0m\u001b[1;32m    902\u001b[0m                 \u001b[0;32mreturn\u001b[0m \u001b[0;32mTrue\u001b[0m\u001b[0;34m\u001b[0m\u001b[0;34m\u001b[0m\u001b[0m\n\u001b[1;32m    903\u001b[0m \u001b[0;34m\u001b[0m\u001b[0m\n",
            "\u001b[0;32m/usr/local/lib/python3.8/dist-packages/joblib/parallel.py\u001b[0m in \u001b[0;36m_dispatch\u001b[0;34m(self, batch)\u001b[0m\n\u001b[1;32m    817\u001b[0m         \u001b[0;32mwith\u001b[0m \u001b[0mself\u001b[0m\u001b[0;34m.\u001b[0m\u001b[0m_lock\u001b[0m\u001b[0;34m:\u001b[0m\u001b[0;34m\u001b[0m\u001b[0;34m\u001b[0m\u001b[0m\n\u001b[1;32m    818\u001b[0m             \u001b[0mjob_idx\u001b[0m \u001b[0;34m=\u001b[0m \u001b[0mlen\u001b[0m\u001b[0;34m(\u001b[0m\u001b[0mself\u001b[0m\u001b[0;34m.\u001b[0m\u001b[0m_jobs\u001b[0m\u001b[0;34m)\u001b[0m\u001b[0;34m\u001b[0m\u001b[0;34m\u001b[0m\u001b[0m\n\u001b[0;32m--> 819\u001b[0;31m             \u001b[0mjob\u001b[0m \u001b[0;34m=\u001b[0m \u001b[0mself\u001b[0m\u001b[0;34m.\u001b[0m\u001b[0m_backend\u001b[0m\u001b[0;34m.\u001b[0m\u001b[0mapply_async\u001b[0m\u001b[0;34m(\u001b[0m\u001b[0mbatch\u001b[0m\u001b[0;34m,\u001b[0m \u001b[0mcallback\u001b[0m\u001b[0;34m=\u001b[0m\u001b[0mcb\u001b[0m\u001b[0;34m)\u001b[0m\u001b[0;34m\u001b[0m\u001b[0;34m\u001b[0m\u001b[0m\n\u001b[0m\u001b[1;32m    820\u001b[0m             \u001b[0;31m# A job can complete so quickly than its callback is\u001b[0m\u001b[0;34m\u001b[0m\u001b[0;34m\u001b[0m\u001b[0;34m\u001b[0m\u001b[0m\n\u001b[1;32m    821\u001b[0m             \u001b[0;31m# called before we get here, causing self._jobs to\u001b[0m\u001b[0;34m\u001b[0m\u001b[0;34m\u001b[0m\u001b[0;34m\u001b[0m\u001b[0m\n",
            "\u001b[0;32m/usr/local/lib/python3.8/dist-packages/joblib/_parallel_backends.py\u001b[0m in \u001b[0;36mapply_async\u001b[0;34m(self, func, callback)\u001b[0m\n\u001b[1;32m    206\u001b[0m     \u001b[0;32mdef\u001b[0m \u001b[0mapply_async\u001b[0m\u001b[0;34m(\u001b[0m\u001b[0mself\u001b[0m\u001b[0;34m,\u001b[0m \u001b[0mfunc\u001b[0m\u001b[0;34m,\u001b[0m \u001b[0mcallback\u001b[0m\u001b[0;34m=\u001b[0m\u001b[0;32mNone\u001b[0m\u001b[0;34m)\u001b[0m\u001b[0;34m:\u001b[0m\u001b[0;34m\u001b[0m\u001b[0;34m\u001b[0m\u001b[0m\n\u001b[1;32m    207\u001b[0m         \u001b[0;34m\"\"\"Schedule a func to be run\"\"\"\u001b[0m\u001b[0;34m\u001b[0m\u001b[0;34m\u001b[0m\u001b[0m\n\u001b[0;32m--> 208\u001b[0;31m         \u001b[0mresult\u001b[0m \u001b[0;34m=\u001b[0m \u001b[0mImmediateResult\u001b[0m\u001b[0;34m(\u001b[0m\u001b[0mfunc\u001b[0m\u001b[0;34m)\u001b[0m\u001b[0;34m\u001b[0m\u001b[0;34m\u001b[0m\u001b[0m\n\u001b[0m\u001b[1;32m    209\u001b[0m         \u001b[0;32mif\u001b[0m \u001b[0mcallback\u001b[0m\u001b[0;34m:\u001b[0m\u001b[0;34m\u001b[0m\u001b[0;34m\u001b[0m\u001b[0m\n\u001b[1;32m    210\u001b[0m             \u001b[0mcallback\u001b[0m\u001b[0;34m(\u001b[0m\u001b[0mresult\u001b[0m\u001b[0;34m)\u001b[0m\u001b[0;34m\u001b[0m\u001b[0;34m\u001b[0m\u001b[0m\n",
            "\u001b[0;32m/usr/local/lib/python3.8/dist-packages/joblib/_parallel_backends.py\u001b[0m in \u001b[0;36m__init__\u001b[0;34m(self, batch)\u001b[0m\n\u001b[1;32m    595\u001b[0m         \u001b[0;31m# Don't delay the application, to avoid keeping the input\u001b[0m\u001b[0;34m\u001b[0m\u001b[0;34m\u001b[0m\u001b[0;34m\u001b[0m\u001b[0m\n\u001b[1;32m    596\u001b[0m         \u001b[0;31m# arguments in memory\u001b[0m\u001b[0;34m\u001b[0m\u001b[0;34m\u001b[0m\u001b[0;34m\u001b[0m\u001b[0m\n\u001b[0;32m--> 597\u001b[0;31m         \u001b[0mself\u001b[0m\u001b[0;34m.\u001b[0m\u001b[0mresults\u001b[0m \u001b[0;34m=\u001b[0m \u001b[0mbatch\u001b[0m\u001b[0;34m(\u001b[0m\u001b[0;34m)\u001b[0m\u001b[0;34m\u001b[0m\u001b[0;34m\u001b[0m\u001b[0m\n\u001b[0m\u001b[1;32m    598\u001b[0m \u001b[0;34m\u001b[0m\u001b[0m\n\u001b[1;32m    599\u001b[0m     \u001b[0;32mdef\u001b[0m \u001b[0mget\u001b[0m\u001b[0;34m(\u001b[0m\u001b[0mself\u001b[0m\u001b[0;34m)\u001b[0m\u001b[0;34m:\u001b[0m\u001b[0;34m\u001b[0m\u001b[0;34m\u001b[0m\u001b[0m\n",
            "\u001b[0;32m/usr/local/lib/python3.8/dist-packages/joblib/parallel.py\u001b[0m in \u001b[0;36m__call__\u001b[0;34m(self)\u001b[0m\n\u001b[1;32m    286\u001b[0m         \u001b[0;31m# change the default number of processes to -1\u001b[0m\u001b[0;34m\u001b[0m\u001b[0;34m\u001b[0m\u001b[0;34m\u001b[0m\u001b[0m\n\u001b[1;32m    287\u001b[0m         \u001b[0;32mwith\u001b[0m \u001b[0mparallel_backend\u001b[0m\u001b[0;34m(\u001b[0m\u001b[0mself\u001b[0m\u001b[0;34m.\u001b[0m\u001b[0m_backend\u001b[0m\u001b[0;34m,\u001b[0m \u001b[0mn_jobs\u001b[0m\u001b[0;34m=\u001b[0m\u001b[0mself\u001b[0m\u001b[0;34m.\u001b[0m\u001b[0m_n_jobs\u001b[0m\u001b[0;34m)\u001b[0m\u001b[0;34m:\u001b[0m\u001b[0;34m\u001b[0m\u001b[0;34m\u001b[0m\u001b[0m\n\u001b[0;32m--> 288\u001b[0;31m             return [func(*args, **kwargs)\n\u001b[0m\u001b[1;32m    289\u001b[0m                     for func, args, kwargs in self.items]\n\u001b[1;32m    290\u001b[0m \u001b[0;34m\u001b[0m\u001b[0m\n",
            "\u001b[0;32m/usr/local/lib/python3.8/dist-packages/joblib/parallel.py\u001b[0m in \u001b[0;36m<listcomp>\u001b[0;34m(.0)\u001b[0m\n\u001b[1;32m    286\u001b[0m         \u001b[0;31m# change the default number of processes to -1\u001b[0m\u001b[0;34m\u001b[0m\u001b[0;34m\u001b[0m\u001b[0;34m\u001b[0m\u001b[0m\n\u001b[1;32m    287\u001b[0m         \u001b[0;32mwith\u001b[0m \u001b[0mparallel_backend\u001b[0m\u001b[0;34m(\u001b[0m\u001b[0mself\u001b[0m\u001b[0;34m.\u001b[0m\u001b[0m_backend\u001b[0m\u001b[0;34m,\u001b[0m \u001b[0mn_jobs\u001b[0m\u001b[0;34m=\u001b[0m\u001b[0mself\u001b[0m\u001b[0;34m.\u001b[0m\u001b[0m_n_jobs\u001b[0m\u001b[0;34m)\u001b[0m\u001b[0;34m:\u001b[0m\u001b[0;34m\u001b[0m\u001b[0;34m\u001b[0m\u001b[0m\n\u001b[0;32m--> 288\u001b[0;31m             return [func(*args, **kwargs)\n\u001b[0m\u001b[1;32m    289\u001b[0m                     for func, args, kwargs in self.items]\n\u001b[1;32m    290\u001b[0m \u001b[0;34m\u001b[0m\u001b[0m\n",
            "\u001b[0;32m/usr/local/lib/python3.8/dist-packages/mlxtend/feature_selection/sequential_feature_selector.py\u001b[0m in \u001b[0;36m_calc_score\u001b[0;34m(selector, X, y, indices, **fit_params)\u001b[0m\n\u001b[1;32m     27\u001b[0m     \u001b[0;32mif\u001b[0m \u001b[0mselector\u001b[0m\u001b[0;34m.\u001b[0m\u001b[0mcv\u001b[0m\u001b[0;34m:\u001b[0m\u001b[0;34m\u001b[0m\u001b[0;34m\u001b[0m\u001b[0m\n\u001b[1;32m     28\u001b[0m         scores = cross_val_score(selector.est_,\n\u001b[0;32m---> 29\u001b[0;31m                                  \u001b[0mX\u001b[0m\u001b[0;34m[\u001b[0m\u001b[0;34m:\u001b[0m\u001b[0;34m,\u001b[0m \u001b[0mindices\u001b[0m\u001b[0;34m]\u001b[0m\u001b[0;34m,\u001b[0m \u001b[0my\u001b[0m\u001b[0;34m,\u001b[0m\u001b[0;34m\u001b[0m\u001b[0;34m\u001b[0m\u001b[0m\n\u001b[0m\u001b[1;32m     30\u001b[0m                                  \u001b[0mcv\u001b[0m\u001b[0;34m=\u001b[0m\u001b[0mselector\u001b[0m\u001b[0;34m.\u001b[0m\u001b[0mcv\u001b[0m\u001b[0;34m,\u001b[0m\u001b[0;34m\u001b[0m\u001b[0;34m\u001b[0m\u001b[0m\n\u001b[1;32m     31\u001b[0m                                  \u001b[0mscoring\u001b[0m\u001b[0;34m=\u001b[0m\u001b[0mselector\u001b[0m\u001b[0;34m.\u001b[0m\u001b[0mscorer\u001b[0m\u001b[0;34m,\u001b[0m\u001b[0;34m\u001b[0m\u001b[0;34m\u001b[0m\u001b[0m\n",
            "\u001b[0;32m/usr/local/lib/python3.8/dist-packages/pandas/core/frame.py\u001b[0m in \u001b[0;36m__getitem__\u001b[0;34m(self, key)\u001b[0m\n\u001b[1;32m   3456\u001b[0m             \u001b[0;32mif\u001b[0m \u001b[0mself\u001b[0m\u001b[0;34m.\u001b[0m\u001b[0mcolumns\u001b[0m\u001b[0;34m.\u001b[0m\u001b[0mnlevels\u001b[0m \u001b[0;34m>\u001b[0m \u001b[0;36m1\u001b[0m\u001b[0;34m:\u001b[0m\u001b[0;34m\u001b[0m\u001b[0;34m\u001b[0m\u001b[0m\n\u001b[1;32m   3457\u001b[0m                 \u001b[0;32mreturn\u001b[0m \u001b[0mself\u001b[0m\u001b[0;34m.\u001b[0m\u001b[0m_getitem_multilevel\u001b[0m\u001b[0;34m(\u001b[0m\u001b[0mkey\u001b[0m\u001b[0;34m)\u001b[0m\u001b[0;34m\u001b[0m\u001b[0;34m\u001b[0m\u001b[0m\n\u001b[0;32m-> 3458\u001b[0;31m             \u001b[0mindexer\u001b[0m \u001b[0;34m=\u001b[0m \u001b[0mself\u001b[0m\u001b[0;34m.\u001b[0m\u001b[0mcolumns\u001b[0m\u001b[0;34m.\u001b[0m\u001b[0mget_loc\u001b[0m\u001b[0;34m(\u001b[0m\u001b[0mkey\u001b[0m\u001b[0;34m)\u001b[0m\u001b[0;34m\u001b[0m\u001b[0;34m\u001b[0m\u001b[0m\n\u001b[0m\u001b[1;32m   3459\u001b[0m             \u001b[0;32mif\u001b[0m \u001b[0mis_integer\u001b[0m\u001b[0;34m(\u001b[0m\u001b[0mindexer\u001b[0m\u001b[0;34m)\u001b[0m\u001b[0;34m:\u001b[0m\u001b[0;34m\u001b[0m\u001b[0;34m\u001b[0m\u001b[0m\n\u001b[1;32m   3460\u001b[0m                 \u001b[0mindexer\u001b[0m \u001b[0;34m=\u001b[0m \u001b[0;34m[\u001b[0m\u001b[0mindexer\u001b[0m\u001b[0;34m]\u001b[0m\u001b[0;34m\u001b[0m\u001b[0;34m\u001b[0m\u001b[0m\n",
            "\u001b[0;32m/usr/local/lib/python3.8/dist-packages/pandas/core/indexes/base.py\u001b[0m in \u001b[0;36mget_loc\u001b[0;34m(self, key, method, tolerance)\u001b[0m\n\u001b[1;32m   3359\u001b[0m             \u001b[0mcasted_key\u001b[0m \u001b[0;34m=\u001b[0m \u001b[0mself\u001b[0m\u001b[0;34m.\u001b[0m\u001b[0m_maybe_cast_indexer\u001b[0m\u001b[0;34m(\u001b[0m\u001b[0mkey\u001b[0m\u001b[0;34m)\u001b[0m\u001b[0;34m\u001b[0m\u001b[0;34m\u001b[0m\u001b[0m\n\u001b[1;32m   3360\u001b[0m             \u001b[0;32mtry\u001b[0m\u001b[0;34m:\u001b[0m\u001b[0;34m\u001b[0m\u001b[0;34m\u001b[0m\u001b[0m\n\u001b[0;32m-> 3361\u001b[0;31m                 \u001b[0;32mreturn\u001b[0m \u001b[0mself\u001b[0m\u001b[0;34m.\u001b[0m\u001b[0m_engine\u001b[0m\u001b[0;34m.\u001b[0m\u001b[0mget_loc\u001b[0m\u001b[0;34m(\u001b[0m\u001b[0mcasted_key\u001b[0m\u001b[0;34m)\u001b[0m\u001b[0;34m\u001b[0m\u001b[0;34m\u001b[0m\u001b[0m\n\u001b[0m\u001b[1;32m   3362\u001b[0m             \u001b[0;32mexcept\u001b[0m \u001b[0mKeyError\u001b[0m \u001b[0;32mas\u001b[0m \u001b[0merr\u001b[0m\u001b[0;34m:\u001b[0m\u001b[0;34m\u001b[0m\u001b[0;34m\u001b[0m\u001b[0m\n\u001b[1;32m   3363\u001b[0m                 \u001b[0;32mraise\u001b[0m \u001b[0mKeyError\u001b[0m\u001b[0;34m(\u001b[0m\u001b[0mkey\u001b[0m\u001b[0;34m)\u001b[0m \u001b[0;32mfrom\u001b[0m \u001b[0merr\u001b[0m\u001b[0;34m\u001b[0m\u001b[0;34m\u001b[0m\u001b[0m\n",
            "\u001b[0;32m/usr/local/lib/python3.8/dist-packages/pandas/_libs/index.pyx\u001b[0m in \u001b[0;36mpandas._libs.index.IndexEngine.get_loc\u001b[0;34m()\u001b[0m\n",
            "\u001b[0;32m/usr/local/lib/python3.8/dist-packages/pandas/_libs/index.pyx\u001b[0m in \u001b[0;36mpandas._libs.index.IndexEngine.get_loc\u001b[0;34m()\u001b[0m\n",
            "\u001b[0;31mTypeError\u001b[0m: '(slice(None, None, None), (0, 1, 2, 3, 4, 5, 6, 7, 8, 9, 10, 11, 12))' is an invalid key"
          ]
        }
      ],
      "source": [
        "\n",
        "\n",
        "X = Selecting_the_data.drop(['AMV'] , axis = 1)\n",
        "Y = Selecting_the_data['AMV']\n",
        "\n",
        "lab = preprocessing.LabelEncoder()\n",
        "Y=lab.fit_transform(Y)\n",
        "\n",
        "X_train, X_test, y_train, y_test = train_test_split(X,Y,test_size = 0.2 , random_state = 100)\n",
        "LG=LogisticRegression()\n",
        "sfs1 = sfs(LG,k_features='best',forward=False,verbose=2,scoring='r2')\n",
        "sfs1 = sfs1.fit(X_train, y_train)"
      ]
    },
    {
      "cell_type": "code",
      "execution_count": 475,
      "metadata": {
        "id": "UAOU9-SI71Im",
        "colab": {
          "base_uri": "https://localhost:8080/",
          "height": 181
        },
        "outputId": "4b27e199-7ec8-45c6-fc84-5be3907ce385"
      },
      "outputs": [
        {
          "output_type": "error",
          "ename": "TypeError",
          "evalue": "ignored",
          "traceback": [
            "\u001b[0;31m---------------------------------------------------------------------------\u001b[0m",
            "\u001b[0;31mTypeError\u001b[0m                                 Traceback (most recent call last)",
            "\u001b[0;32m<ipython-input-475-5ad87bc15f0b>\u001b[0m in \u001b[0;36m<module>\u001b[0;34m\u001b[0m\n\u001b[0;32m----> 1\u001b[0;31m \u001b[0mfeat_names\u001b[0m \u001b[0;34m=\u001b[0m \u001b[0mlist\u001b[0m\u001b[0;34m(\u001b[0m\u001b[0msfs1\u001b[0m\u001b[0;34m.\u001b[0m\u001b[0mk_feature_idx_\u001b[0m\u001b[0;34m)\u001b[0m\u001b[0;34m\u001b[0m\u001b[0;34m\u001b[0m\u001b[0m\n\u001b[0m\u001b[1;32m      2\u001b[0m \u001b[0mprint\u001b[0m\u001b[0;34m(\u001b[0m\u001b[0mfeat_names\u001b[0m\u001b[0;34m)\u001b[0m\u001b[0;34m\u001b[0m\u001b[0;34m\u001b[0m\u001b[0m\n",
            "\u001b[0;31mTypeError\u001b[0m: 'NoneType' object is not iterable"
          ]
        }
      ],
      "source": [
        "feat_names = list(sfs1.k_feature_idx_)\n",
        "print(feat_names)"
      ]
    },
    {
      "cell_type": "markdown",
      "source": [
        "# ***LOgictic Regrection AMV SPILLITING***"
      ],
      "metadata": {
        "id": "SstKAMQooeL9"
      }
    },
    {
      "cell_type": "code",
      "source": [
        "information=Selecting_the_data.astype({'AMV':'int'})\n",
        "\n",
        "log_x_columns=Selecting_the_data[['Age','Clo','Met','Tmrt','Vel','AirTurb','Pa','TaOutdoor','AMV']] #fetching the first four columns and not the last one (labels for flowers)\n",
        "log_y_labels=Selecting_the_data[['AMV']] #fetching the last column having labels for flowers\n",
        "X_training, X_testing, y_training, y_testing = train_test_split(log_x_columns,log_y_labels,test_size=0.20) #funtion for spliting data into training and testing\n",
        "\n",
        "scaled=StandardScaler() \n",
        "logistic_x_training=scaled.fit_transform(X_training) \n",
        "logistic_x_testing=scaled.fit_transform(X_testing)\n",
        "\n",
        "from sklearn.linear_model import LogisticRegression\n",
        "LogisticRegression=LogisticRegression() \n",
        "LogisticRegression.fit(logistic_x_training,y_training['AMV'])\n",
        "y_pred2 = LogisticRegression.predict(logistic_x_testing)\n",
        "acc=accuracy_score(y_testing['AMV'], y_pred2)\n",
        "print(acc*100)"
      ],
      "metadata": {
        "id": "UBBxLv-kooFu",
        "colab": {
          "base_uri": "https://localhost:8080/",
          "height": 375
        },
        "outputId": "9df73ee0-fe98-4932-e764-cfdf54a2f0b5"
      },
      "execution_count": 476,
      "outputs": [
        {
          "output_type": "error",
          "ename": "ValueError",
          "evalue": "ignored",
          "traceback": [
            "\u001b[0;31m---------------------------------------------------------------------------\u001b[0m",
            "\u001b[0;31mValueError\u001b[0m                                Traceback (most recent call last)",
            "\u001b[0;32m<ipython-input-476-092e010adb2f>\u001b[0m in \u001b[0;36m<module>\u001b[0;34m\u001b[0m\n\u001b[1;32m     11\u001b[0m \u001b[0;32mfrom\u001b[0m \u001b[0msklearn\u001b[0m\u001b[0;34m.\u001b[0m\u001b[0mlinear_model\u001b[0m \u001b[0;32mimport\u001b[0m \u001b[0mLogisticRegression\u001b[0m\u001b[0;34m\u001b[0m\u001b[0;34m\u001b[0m\u001b[0m\n\u001b[1;32m     12\u001b[0m \u001b[0mLogisticRegression\u001b[0m\u001b[0;34m=\u001b[0m\u001b[0mLogisticRegression\u001b[0m\u001b[0;34m(\u001b[0m\u001b[0;34m)\u001b[0m\u001b[0;34m\u001b[0m\u001b[0;34m\u001b[0m\u001b[0m\n\u001b[0;32m---> 13\u001b[0;31m \u001b[0mLogisticRegression\u001b[0m\u001b[0;34m.\u001b[0m\u001b[0mfit\u001b[0m\u001b[0;34m(\u001b[0m\u001b[0mlogistic_x_training\u001b[0m\u001b[0;34m,\u001b[0m\u001b[0my_training\u001b[0m\u001b[0;34m[\u001b[0m\u001b[0;34m'AMV'\u001b[0m\u001b[0;34m]\u001b[0m\u001b[0;34m)\u001b[0m\u001b[0;34m\u001b[0m\u001b[0;34m\u001b[0m\u001b[0m\n\u001b[0m\u001b[1;32m     14\u001b[0m \u001b[0my_pred2\u001b[0m \u001b[0;34m=\u001b[0m \u001b[0mLogisticRegression\u001b[0m\u001b[0;34m.\u001b[0m\u001b[0mpredict\u001b[0m\u001b[0;34m(\u001b[0m\u001b[0mlogistic_x_testing\u001b[0m\u001b[0;34m)\u001b[0m\u001b[0;34m\u001b[0m\u001b[0;34m\u001b[0m\u001b[0m\n\u001b[1;32m     15\u001b[0m \u001b[0macc\u001b[0m\u001b[0;34m=\u001b[0m\u001b[0maccuracy_score\u001b[0m\u001b[0;34m(\u001b[0m\u001b[0my_testing\u001b[0m\u001b[0;34m[\u001b[0m\u001b[0;34m'AMV'\u001b[0m\u001b[0;34m]\u001b[0m\u001b[0;34m,\u001b[0m \u001b[0my_pred2\u001b[0m\u001b[0;34m)\u001b[0m\u001b[0;34m\u001b[0m\u001b[0;34m\u001b[0m\u001b[0m\n",
            "\u001b[0;32m/usr/local/lib/python3.8/dist-packages/sklearn/linear_model/_logistic.py\u001b[0m in \u001b[0;36mfit\u001b[0;34m(self, X, y, sample_weight)\u001b[0m\n\u001b[1;32m   1514\u001b[0m             \u001b[0maccept_large_sparse\u001b[0m\u001b[0;34m=\u001b[0m\u001b[0msolver\u001b[0m \u001b[0;32mnot\u001b[0m \u001b[0;32min\u001b[0m \u001b[0;34m[\u001b[0m\u001b[0;34m\"liblinear\"\u001b[0m\u001b[0;34m,\u001b[0m \u001b[0;34m\"sag\"\u001b[0m\u001b[0;34m,\u001b[0m \u001b[0;34m\"saga\"\u001b[0m\u001b[0;34m]\u001b[0m\u001b[0;34m,\u001b[0m\u001b[0;34m\u001b[0m\u001b[0;34m\u001b[0m\u001b[0m\n\u001b[1;32m   1515\u001b[0m         )\n\u001b[0;32m-> 1516\u001b[0;31m         \u001b[0mcheck_classification_targets\u001b[0m\u001b[0;34m(\u001b[0m\u001b[0my\u001b[0m\u001b[0;34m)\u001b[0m\u001b[0;34m\u001b[0m\u001b[0;34m\u001b[0m\u001b[0m\n\u001b[0m\u001b[1;32m   1517\u001b[0m         \u001b[0mself\u001b[0m\u001b[0;34m.\u001b[0m\u001b[0mclasses_\u001b[0m \u001b[0;34m=\u001b[0m \u001b[0mnp\u001b[0m\u001b[0;34m.\u001b[0m\u001b[0munique\u001b[0m\u001b[0;34m(\u001b[0m\u001b[0my\u001b[0m\u001b[0;34m)\u001b[0m\u001b[0;34m\u001b[0m\u001b[0;34m\u001b[0m\u001b[0m\n\u001b[1;32m   1518\u001b[0m \u001b[0;34m\u001b[0m\u001b[0m\n",
            "\u001b[0;32m/usr/local/lib/python3.8/dist-packages/sklearn/utils/multiclass.py\u001b[0m in \u001b[0;36mcheck_classification_targets\u001b[0;34m(y)\u001b[0m\n\u001b[1;32m    195\u001b[0m         \u001b[0;34m\"multilabel-sequences\"\u001b[0m\u001b[0;34m,\u001b[0m\u001b[0;34m\u001b[0m\u001b[0;34m\u001b[0m\u001b[0m\n\u001b[1;32m    196\u001b[0m     ]:\n\u001b[0;32m--> 197\u001b[0;31m         \u001b[0;32mraise\u001b[0m \u001b[0mValueError\u001b[0m\u001b[0;34m(\u001b[0m\u001b[0;34m\"Unknown label type: %r\"\u001b[0m \u001b[0;34m%\u001b[0m \u001b[0my_type\u001b[0m\u001b[0;34m)\u001b[0m\u001b[0;34m\u001b[0m\u001b[0;34m\u001b[0m\u001b[0m\n\u001b[0m\u001b[1;32m    198\u001b[0m \u001b[0;34m\u001b[0m\u001b[0m\n\u001b[1;32m    199\u001b[0m \u001b[0;34m\u001b[0m\u001b[0m\n",
            "\u001b[0;31mValueError\u001b[0m: Unknown label type: 'continuous'"
          ]
        }
      ]
    },
    {
      "cell_type": "markdown",
      "source": [
        "# ***Selecting The data AMV***"
      ],
      "metadata": {
        "id": "mdecdetpSXXL"
      }
    },
    {
      "cell_type": "code",
      "source": [
        "Selecting_the_data_AMV = pd.DataFrame(Selecting_the_data, columns=['Age','Clo','Met','Tmrt','Vel','AirTurb','Pa','TaOutdoor','AMV'])\n",
        "print(Selecting_the_data_AMV)\n",
        "print(Selecting_the_data_PMV)"
      ],
      "metadata": {
        "id": "14PyfzQ1SdFS",
        "colab": {
          "base_uri": "https://localhost:8080/"
        },
        "outputId": "abd91b64-091c-4ac6-b8bd-c8527491fbf1"
      },
      "execution_count": 477,
      "outputs": [
        {
          "output_type": "stream",
          "name": "stdout",
          "text": [
            "        Age       Clo       Met       Tmrt   Vel  AirTurb        Pa  \\\n",
            "87     35.0  1.110000  1.400000  22.928497  0.06      0.5  1.550667   \n",
            "117    35.0  0.798463  1.100000  24.892925  0.14      0.5  1.550667   \n",
            "120    35.0  0.798463  1.100000  24.576481  0.12      0.5  1.550667   \n",
            "123    35.0  0.838023  1.100000  24.733931  0.12      0.5  1.550667   \n",
            "124    35.0  0.988069  1.100000  24.448633  0.15      0.5  1.550667   \n",
            "...     ...       ...       ...        ...   ...      ...       ...   \n",
            "10293  35.0  0.778503  1.387457  23.450693  0.10      0.5  1.550667   \n",
            "10294  35.0  0.778503  1.417526  23.450693  0.10      0.5  1.550667   \n",
            "10296  35.0  0.778503  1.344502  23.450693  0.10      0.5  1.550667   \n",
            "10297  35.0  0.778503  1.052405  23.450693  0.10      0.5  1.550667   \n",
            "10299  35.0  0.778503  1.030928  23.450693  0.10      0.5  1.550667   \n",
            "\n",
            "       TaOutdoor  AMV  \n",
            "87          6.75  0.0  \n",
            "117        31.90  0.5  \n",
            "120        31.90  1.0  \n",
            "123        31.90 -1.0  \n",
            "124        31.90  1.0  \n",
            "...          ...  ...  \n",
            "10293      11.15  0.7  \n",
            "10294      11.15  0.5  \n",
            "10296      11.15 -1.2  \n",
            "10297      11.15 -1.0  \n",
            "10299      11.15 -1.0  \n",
            "\n",
            "[3217 rows x 9 columns]\n",
            "            Clo       Met  Dewpt         Ta       Tmrt   Vel  AirTurb  \\\n",
            "87     1.110000  1.400000   14.1  22.400000  22.928497  0.06      0.5   \n",
            "117    0.798463  1.100000   14.1  23.800000  24.892925  0.14      0.5   \n",
            "120    0.798463  1.100000   14.1  23.600000  24.576481  0.12      0.5   \n",
            "123    0.838023  1.100000   14.1  24.300000  24.733931  0.12      0.5   \n",
            "124    0.988069  1.100000   14.1  23.900000  24.448633  0.15      0.5   \n",
            "...         ...       ...    ...        ...        ...   ...      ...   \n",
            "10293  0.778503  1.387457   14.1  20.413333  23.450693  0.10      0.5   \n",
            "10294  0.778503  1.417526   14.1  20.416667  23.450693  0.10      0.5   \n",
            "10296  0.778503  1.344502   14.1  21.376667  23.450693  0.10      0.5   \n",
            "10297  0.778503  1.052405   14.1  20.743333  23.450693  0.10      0.5   \n",
            "10299  0.778503  1.030928   14.1  20.373333  23.450693  0.10      0.5   \n",
            "\n",
            "             Pa         Rh  TaOutdoor  RhOutdoor   PMV  \n",
            "87     1.550667  31.500000       6.75       81.5  0.52  \n",
            "117    1.550667  62.000000      31.90       72.0  0.18  \n",
            "120    1.550667  61.400000      31.90       72.0  0.15  \n",
            "123    1.550667  60.600000      31.90       72.0  0.33  \n",
            "124    1.550667  60.000000      31.90       72.0  0.38  \n",
            "...         ...        ...        ...        ...   ...  \n",
            "10293  1.550667  43.276815      11.15       79.5 -0.03  \n",
            "10294  1.550667  43.276815      11.15       79.5 -0.03  \n",
            "10296  1.550667  43.276815      11.15       79.5 -0.03  \n",
            "10297  1.550667  43.276815      11.15       79.5 -0.03  \n",
            "10299  1.550667  43.276815      11.15       79.5 -0.03  \n",
            "\n",
            "[3217 rows x 12 columns]\n"
          ]
        }
      ]
    },
    {
      "cell_type": "markdown",
      "metadata": {
        "id": "MKtFR0SF_gBj"
      },
      "source": [
        "# ***`Question 4`***"
      ]
    },
    {
      "cell_type": "markdown",
      "source": [
        "# ***K Cross Validation PMV***"
      ],
      "metadata": {
        "id": "QmQc9FhNvMas"
      }
    },
    {
      "cell_type": "code",
      "source": [
        "#Question_4\n",
        "#3-Fold-Cross-Validaton For Regression Problem i.e PMV\n",
        "X = Selecting_the_data_PMV.drop(['PMV'] , axis = 1)\n",
        "Y = Selecting_the_data_PMV['PMV']\n",
        "\n",
        "X_train , X_test , Y_train , Y_test = train_test_split(X , Y , test_size = 0.2 , random_state = 100)\n",
        "cv = KFold(n_splits = 3 , random_state = 1 , shuffle = True)\n",
        "\n",
        "model = LinearRegression()\n",
        "model_ = model.fit(X_train , Y_train)\n",
        "scores = cross_val_score(model , X_train , Y_train , scoring = 'r2' , cv = cv , n_jobs = -1)\n",
        "print(scores*100)\n",
        "print(sqrt(mean(absolute(scores))))"
      ],
      "metadata": {
        "id": "ZXbF29JlvQVI",
        "colab": {
          "base_uri": "https://localhost:8080/"
        },
        "outputId": "d82338c7-f209-4139-fbd9-31ec69ba98f1"
      },
      "execution_count": 478,
      "outputs": [
        {
          "output_type": "stream",
          "name": "stdout",
          "text": [
            "[94.93012999 94.11054873 94.02743803]\n",
            "0.9713703666411915\n"
          ]
        }
      ]
    },
    {
      "cell_type": "markdown",
      "source": [
        "# ***K FOR CROSS VALIDATION AMV***"
      ],
      "metadata": {
        "id": "io1n6wiy5UC6"
      }
    },
    {
      "cell_type": "code",
      "source": [
        "#Question_4\n",
        "#3-Fold-Cross-Validaton For Regression Problem i.e AMV\n",
        "X = Selecting_the_data_AMV.drop(['AMV'] , axis = 1)\n",
        "Y = Selecting_the_data_AMV['AMV']\n",
        "\n",
        "X_train , X_test , Y_train , Y_test = train_test_split(X , Y , test_size = 0.2 , random_state = 100)\n",
        "cv = KFold(n_splits = 3 , random_state = 1 , shuffle = True)\n",
        "\n",
        "model = LinearRegression()\n",
        "model_ = model.fit(X_train , Y_train)\n",
        "scores = cross_val_score(model , X_train , Y_train , scoring = 'r2' , cv = cv , n_jobs = -1)\n",
        "print(scores*100)\n",
        "print(sqrt(mean(absolute(scores))))"
      ],
      "metadata": {
        "id": "9_s3o1n65Z-Q",
        "colab": {
          "base_uri": "https://localhost:8080/"
        },
        "outputId": "aa671c83-d45f-425c-9fa7-d892c5c49546"
      },
      "execution_count": 479,
      "outputs": [
        {
          "output_type": "stream",
          "name": "stdout",
          "text": [
            "[7.09891347 4.56131035 6.55049852]\n",
            "0.24637858635538992\n"
          ]
        }
      ]
    },
    {
      "cell_type": "markdown",
      "source": [
        "# ***Confussion Matrix***"
      ],
      "metadata": {
        "id": "e2HaiyjBxkfN"
      }
    },
    {
      "cell_type": "code",
      "source": [
        "#Confusion_Matrix\n",
        "Selecting_the_data_AMV['AMV'] = Selecting_the_data_AMV.AMV.astype(int)\n",
        "X = Selecting_the_data_AMV.drop(['AMV'] , axis = 1)\n",
        "Y = Selecting_the_data_AMV['AMV']\n",
        "print(np.unique(Y))\n",
        "\n",
        "X_train , X_test , Y_train , Y_test = train_test_split(X , Y , test_size = 0.2 , shuffle = True)\n",
        "logreg = LogisticRegression()\n",
        "logreg.fit(X_train , Y_train)\n",
        "y_pred = logreg.predict(X_test)\n",
        "#predicted data\n",
        "\n",
        "cnf_matrix = metrics.confusion_matrix(Y_test , y_pred)\n",
        "cnf_matrix # making and printing confusion matrix\n",
        "#presenting the confusion matrix in graphics form\n",
        "class_name = [0,1,2]\n",
        "fig , ax = plt.subplots()\n",
        "tick_marks = np.arange(len(class_name))\n",
        "plt.xticks(tick_marks , class_name)\n",
        "plt.yticks(tick_marks , class_name)\n",
        "sns.heatmap(pd.DataFrame(cnf_matrix) , annot = True , cmap = \"YlGnBu\" , fmt = 'g')\n",
        "ax.xaxis.set_label_position(\"top\")\n",
        "plt.tight_layout()\n",
        "plt.title('Confusion Matrix')\n",
        "plt.ylabel('Actual Label')\n",
        "plt.xlabel('Predicted Label')"
      ],
      "metadata": {
        "id": "u3ptgj_3xpBv",
        "colab": {
          "base_uri": "https://localhost:8080/",
          "height": 359
        },
        "outputId": "7cc936c9-197e-4658-d424-60c7c5e3c4b7"
      },
      "execution_count": 482,
      "outputs": [
        {
          "output_type": "stream",
          "name": "stdout",
          "text": [
            "[-3 -2 -1  0  1  2  3]\n"
          ]
        },
        {
          "output_type": "execute_result",
          "data": {
            "text/plain": [
              "Text(0.5, 257.44, 'Predicted Label')"
            ]
          },
          "metadata": {},
          "execution_count": 482
        },
        {
          "output_type": "display_data",
          "data": {
            "text/plain": [
              "<Figure size 432x288 with 2 Axes>"
            ],
            "image/png": "[encoded data removed]"
          },
          "metadata": {
            "needs_background": "light"
          }
        }
      ]
    },
    {
      "cell_type": "markdown",
      "source": [
        "# ***Accuracy***"
      ],
      "metadata": {
        "id": "D_fBuViL0DN_"
      }
    },
    {
      "cell_type": "code",
      "source": [
        "#Accuracy\n",
        "Accuracy = accuracy_score(Y_test , y_pred) #using built-in function\n",
        "print(\"Accuracy : \" , Accuracy*100)\n",
        "\n",
        "Precision = precision_score(Y_test , y_pred , average = 'macro') #using built-in function\n",
        "print(\"Precision : \" , Precision*100)"
      ],
      "metadata": {
        "id": "zUuxXzDy0Kpd",
        "colab": {
          "base_uri": "https://localhost:8080/"
        },
        "outputId": "7840ed2e-0b0c-4b10-d3f1-18bc21d2ee01"
      },
      "execution_count": 484,
      "outputs": [
        {
          "output_type": "stream",
          "name": "stdout",
          "text": [
            "Accuracy :  53.72670807453416\n",
            "Precision :  13.381261595547308\n"
          ]
        }
      ]
    }
  ],
  "metadata": {
    "colab": {
      "provenance": []
    },
    "kernelspec": {
      "display_name": "Python 3",
      "name": "python3"
    },
    "language_info": {
      "name": "python"
    }
  },
  "nbformat": 4,
  "nbformat_minor": 0
}