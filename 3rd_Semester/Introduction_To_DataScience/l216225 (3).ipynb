{
  "cells": [
    {
      "cell_type": "markdown",
      "source": [
        "# Introduction To Data Science – Assignment 2\n",
        "\n",
        "---\n",
        "\n",
        "#### Sections A – B – C – D\n",
        "\n",
        "---\n",
        "\n",
        "##***Instructions: Read These Carefully Before Starting!***\n",
        "\n",
        "1. Due Date: Thursday 20th October 2022 – 11:59PM\n",
        "\n",
        "2. **Name the file in the format Lyyxxxx_A2.ipynb and save it as .ipynb (e.g. L216666_A2.ipynb)**\n",
        "\n",
        "3. Submission will be taken on Google Classroom (**submit SINGLE .ipynb file ONLY**)\n",
        "\n",
        "4. **Assignment will not be evaluated if**:\n",
        "\n",
        "> * You submit python (.py) files\n",
        "> * You submit multiple .ipynb files\n",
        "> * You submit compressed (.rar or .zip) files\n",
        "\n",
        "5. **Work in the spaces provided and do not delete/modify any cells from this template.**\n",
        "\n",
        "6. Upload data files directly to Google Colab - do not use Google Drive or GitHub linking method\n",
        "\n",
        "*Not following these instructions will lead to mark deduction.*\n",
        "\n",
        "---\n",
        "\n",
        "All source files needed to complete this assignment can be found on the following [Google Drive link](https://drive.google.com/drive/folders/1qBib_6ZOhvHb73ZRLWiCMWl9NFyU1IDO?usp=sharing). Download these files and upload them to your Google Colab Notebook. \n",
        "\n",
        "**Do not link Google Drive or GitHub with Colab.**\n",
        "\n",
        "**Do not add these files with your submission on Google Classroom.**\n",
        "\n",
        "---\n",
        "\n",
        "Happy Coding 🌺\n",
        "\n",
        "---\n",
        "\n",
        "TA Emails\n",
        "\n",
        "Section A, C - Muhammad Maarij l192347@lhr.nu.edu.pk\n",
        "\n",
        "Section B, D - Hira Ijaz l192377@lhr.nu.edu.pk\n",
        "\n",
        "---"
      ],
      "metadata": {
        "id": "TWWLTwYZorzC"
      }
    },
    {
      "cell_type": "markdown",
      "source": [
        "---\n",
        "## Question 0\n",
        "\n",
        "Add all library imports here"
      ],
      "metadata": {
        "id": "mwtAOew56gkd"
      }
    },
    {
      "cell_type": "code",
      "source": [
        "import numpy as np\n",
        "import pandas as pd\n",
        "df = pd.read_csv('FactoryRevenue.csv')"
      ],
      "metadata": {
        "id": "swlE8Tvq6g2u"
      },
      "execution_count": null,
      "outputs": []
    },
    {
      "cell_type": "markdown",
      "metadata": {
        "id": "ZR8C9ctqsy3V"
      },
      "source": [
        "---\n",
        "## Question 1\n",
        "\n",
        "####Single Linear Regression with Gradient Descent\n",
        "\n",
        "> Take help from slides 26 and 30\n",
        "---"
      ]
    },
    {
      "cell_type": "markdown",
      "metadata": {
        "id": "DzGOilP7sy3Y"
      },
      "source": [
        "**Part A -**\n",
        "Write a function that calculates and returns value for hypothesis $h_\\theta(x)$"
      ]
    },
    {
      "cell_type": "code",
      "execution_count": null,
      "metadata": {
        "collapsed": true,
        "id": "3bczSIhosy3Z"
      },
      "outputs": [],
      "source": [
        "# complete this function implementation\n",
        "def hypothesis(x, theta):\n",
        "  return theta[0] + theta[1]*x"
      ]
    },
    {
      "cell_type": "markdown",
      "metadata": {
        "id": "dXORHsxSsy3a"
      },
      "source": [
        "**Part B -**\n",
        "Write a function that calculates and returns value for loss/cost $J(\\theta_0, \\theta_1)$"
      ]
    },
    {
      "cell_type": "code",
      "execution_count": null,
      "metadata": {
        "collapsed": true,
        "id": "__DPftoLsy3c"
      },
      "outputs": [],
      "source": [
        "# complete this function implementation\n",
        "def loss(hypothesis_x, y):\n",
        "  return (1/2*m) * np.sum((hypothesis_x - y)**2)"
      ]
    },
    {
      "cell_type": "markdown",
      "metadata": {
        "id": "WjWa6pMGsy3d"
      },
      "source": [
        "**Part C-**\n",
        "Write a function that applies the gradient descent algorithm and updates values of $\\theta_0$ and $\\theta_1$ until they converge.\n",
        "\n",
        "* take default vaue of $α$ to be 0.015\n",
        "* take default number of iterations to be 15000\n",
        "* print loss after every 500 iterations"
      ]
    },
    {
      "cell_type": "code",
      "execution_count": null,
      "metadata": {
        "collapsed": true,
        "id": "U7qtzuCWsy3e"
      },
      "outputs": [],
      "source": [
        "# complete this function implementation\n",
        "m = df.shape[0]\n",
        "def gradientDescent(x, y, theta, numIterations=30, alpha=0.015):\n",
        "  i = 0\n",
        "  while i < numIterations:\n",
        "      y_predicted = hypothesis(x, theta)\n",
        "      theta[0] -= 1/m * alpha * sum(y_predicted-y)\n",
        "      theta[1] -= 1/m * alpha * sum((y_predicted-y) * x)\n",
        "      i+=1\n",
        "      print(theta[0], theta[1])\n",
        "      if i%500==0:\n",
        "        print(loss(y_predicted, y))"
      ]
    },
    {
      "cell_type": "markdown",
      "metadata": {
        "id": "0zwvS5cqsy3g"
      },
      "source": [
        "**Part D -**\n",
        "FactoryRevenue.csv contains information about the number of workers in a factory and the annual profit for that factory. Import the file FactoryRevenue.csv as a Pandas DataSet and print out the information for it."
      ]
    },
    {
      "cell_type": "code",
      "execution_count": null,
      "metadata": {
        "collapsed": true,
        "id": "Uef-aGHisy3h",
        "colab": {
          "base_uri": "https://localhost:8080/"
        },
        "outputId": "694a5db5-d0fd-4e2c-c13f-cb35aefd6154"
      },
      "outputs": [
        {
          "output_type": "stream",
          "name": "stdout",
          "text": [
            "<class 'pandas.core.frame.DataFrame'>\n",
            "RangeIndex: 99 entries, 0 to 98\n",
            "Data columns (total 2 columns):\n",
            " #   Column               Non-Null Count  Dtype  \n",
            "---  ------               --------------  -----  \n",
            " 0   TotalFactoryWorkers  98 non-null     float64\n",
            " 1   AnnualProfit         98 non-null     float64\n",
            "dtypes: float64(2)\n",
            "memory usage: 1.7 KB\n",
            "None\n"
          ]
        }
      ],
      "source": [
        "df = pd.read_csv('FactoryRevenue.csv')\n",
        "print(df.info())"
      ]
    },
    {
      "cell_type": "markdown",
      "metadata": {
        "id": "yv9_dDiw65o8"
      },
      "source": [
        "**Part E -**\n",
        "Remove rows that have any null values"
      ]
    },
    {
      "cell_type": "code",
      "source": [
        "df.dropna(inplace=True)"
      ],
      "metadata": {
        "id": "l50u9HZx7H5t"
      },
      "execution_count": null,
      "outputs": []
    },
    {
      "cell_type": "markdown",
      "metadata": {
        "id": "u0Y68nh87HJX"
      },
      "source": [
        "**Part F -**\n",
        "\n",
        "First identify the independant and dependant variables. \n",
        "\n",
        "Then create two arrays named x and y and add independant variable data to array x, dependant variable data to array y."
      ]
    },
    {
      "cell_type": "code",
      "source": [
        "# independant variable: Total Factory Workers\n",
        "# dependant variable: Annual Profit"
      ],
      "metadata": {
        "id": "m49bbkSy7xxp"
      },
      "execution_count": null,
      "outputs": []
    },
    {
      "cell_type": "markdown",
      "metadata": {
        "id": "8vRXmn9z8H4q"
      },
      "source": [
        "**Part G -** \n",
        "\n",
        "Create an array called 'theta' that will hold $θ_0$ and $θ_1$. Initalize both values to 0.\n",
        "\n",
        "Then call the gradientDescent function using array x, array y, and array theta. Do not provide any other input parameters.\n",
        "\n",
        "Print out the values of y-intercept and slope/gradient"
      ]
    },
    {
      "cell_type": "code",
      "source": [
        "import numpy as np\n",
        "import pandas as pd\n",
        "df = pd.read_csv('FactoryRevenue.csv')\n",
        "theta=[0,0]\n",
        "\n",
        "x= df[\"TotalFactoryWorkers\"]\n",
        "y= df[\"AnnualProfit\"]\n",
        "\n",
        "gradientDescent(x,y,theta)"
      ],
      "metadata": {
        "id": "e7nBeh3b9KXK",
        "colab": {
          "base_uri": "https://localhost:8080/"
        },
        "outputId": "aa6d87f6-fb2d-4c21-e0e6-c50c27756345"
      },
      "execution_count": null,
      "outputs": [
        {
          "output_type": "stream",
          "name": "stdout",
          "text": [
            "nan nan\n",
            "nan nan\n",
            "nan nan\n",
            "nan nan\n",
            "nan nan\n",
            "nan nan\n",
            "nan nan\n",
            "nan nan\n",
            "nan nan\n",
            "nan nan\n",
            "nan nan\n",
            "nan nan\n",
            "nan nan\n",
            "nan nan\n",
            "nan nan\n",
            "nan nan\n",
            "nan nan\n",
            "nan nan\n",
            "nan nan\n",
            "nan nan\n",
            "nan nan\n",
            "nan nan\n",
            "nan nan\n",
            "nan nan\n",
            "nan nan\n",
            "nan nan\n",
            "nan nan\n",
            "nan nan\n",
            "nan nan\n",
            "nan nan\n"
          ]
        }
      ]
    },
    {
      "cell_type": "markdown",
      "metadata": {
        "id": "lksKYteB9NOx"
      },
      "source": [
        "**Part H -** Plot a scatter plot and regression line on the same graph"
      ]
    },
    {
      "cell_type": "code",
      "source": [
        "# import matplotlib.pyplot as plt\n",
        "# plt.scatter(x,y,color='red')\n",
        "# y=a*x+b\n",
        "\n",
        "# plt.plot(x,y)"
      ],
      "metadata": {
        "id": "Jdah8R6L9XSl"
      },
      "execution_count": null,
      "outputs": []
    },
    {
      "cell_type": "markdown",
      "source": [
        "---\n",
        "## Question 2\n",
        "\n",
        "Logistic Regression on Flowers Dataset\n",
        "\n",
        "---\n",
        "\n"
      ],
      "metadata": {
        "id": "upsln2T-38-M"
      }
    },
    {
      "cell_type": "markdown",
      "source": [
        "**Part A** - Load the file FlowersData.csv and describe the dataset"
      ],
      "metadata": {
        "id": "plh_l8AV4MU5"
      }
    },
    {
      "cell_type": "code",
      "source": [
        "import numpy as np\n",
        "import pandas as pd\n",
        "df = pd.read_csv('FlowersData.csv')\n",
        "df.dropna(inplace=True)\n",
        "perc =[.20, .40, .60, .80]\n",
        "inc =['object', 'float', 'int']\n",
        "desc=df.describe(percentiles=perc,include=inc)\n",
        "desc"
      ],
      "metadata": {
        "id": "p7Cgq8di3771",
        "colab": {
          "base_uri": "https://localhost:8080/",
          "height": 457
        },
        "outputId": "4e396709-ec69-42ea-e445-d253c736bae6"
      },
      "execution_count": null,
      "outputs": [
        {
          "output_type": "execute_result",
          "data": {
            "text/plain": [
              "        sepal_length  sepal_width  petal_length  petal_width flower_name\n",
              "count     150.000000   150.000000    150.000000   150.000000         150\n",
              "unique           NaN          NaN           NaN          NaN           3\n",
              "top              NaN          NaN           NaN          NaN    hibiscus\n",
              "freq             NaN          NaN           NaN          NaN          50\n",
              "mean        5.843333     3.054000      3.758667     1.198667         NaN\n",
              "std         0.828066     0.433594      1.764420     0.763161         NaN\n",
              "min         4.300000     2.000000      1.000000     0.100000         NaN\n",
              "20%         5.000000     2.700000      1.500000     0.200000         NaN\n",
              "40%         5.600000     3.000000      3.900000     1.160000         NaN\n",
              "50%         5.800000     3.000000      4.350000     1.300000         NaN\n",
              "60%         6.100000     3.100000      4.640000     1.500000         NaN\n",
              "80%         6.520000     3.400000      5.320000     1.900000         NaN\n",
              "max         7.900000     4.400000      6.900000     2.500000         NaN"
            ],
            "text/html": [
              "\n",
              "  <div id=\"df-97b7d4c5-dfbe-46bc-b364-9011fa11ec6b\">\n",
              "    <div class=\"colab-df-container\">\n",
              "      <div>\n",
              "<style scoped>\n",
              "    .dataframe tbody tr th:only-of-type {\n",
              "        vertical-align: middle;\n",
              "    }\n",
              "\n",
              "    .dataframe tbody tr th {\n",
              "        vertical-align: top;\n",
              "    }\n",
              "\n",
              "    .dataframe thead th {\n",
              "        text-align: right;\n",
              "    }\n",
              "</style>\n",
              "<table border=\"1\" class=\"dataframe\">\n",
              "  <thead>\n",
              "    <tr style=\"text-align: right;\">\n",
              "      <th></th>\n",
              "      <th>sepal_length</th>\n",
              "      <th>sepal_width</th>\n",
              "      <th>petal_length</th>\n",
              "      <th>petal_width</th>\n",
              "      <th>flower_name</th>\n",
              "    </tr>\n",
              "  </thead>\n",
              "  <tbody>\n",
              "    <tr>\n",
              "      <th>count</th>\n",
              "      <td>150.000000</td>\n",
              "      <td>150.000000</td>\n",
              "      <td>150.000000</td>\n",
              "      <td>150.000000</td>\n",
              "      <td>150</td>\n",
              "    </tr>\n",
              "    <tr>\n",
              "      <th>unique</th>\n",
              "      <td>NaN</td>\n",
              "      <td>NaN</td>\n",
              "      <td>NaN</td>\n",
              "      <td>NaN</td>\n",
              "      <td>3</td>\n",
              "    </tr>\n",
              "    <tr>\n",
              "      <th>top</th>\n",
              "      <td>NaN</td>\n",
              "      <td>NaN</td>\n",
              "      <td>NaN</td>\n",
              "      <td>NaN</td>\n",
              "      <td>hibiscus</td>\n",
              "    </tr>\n",
              "    <tr>\n",
              "      <th>freq</th>\n",
              "      <td>NaN</td>\n",
              "      <td>NaN</td>\n",
              "      <td>NaN</td>\n",
              "      <td>NaN</td>\n",
              "      <td>50</td>\n",
              "    </tr>\n",
              "    <tr>\n",
              "      <th>mean</th>\n",
              "      <td>5.843333</td>\n",
              "      <td>3.054000</td>\n",
              "      <td>3.758667</td>\n",
              "      <td>1.198667</td>\n",
              "      <td>NaN</td>\n",
              "    </tr>\n",
              "    <tr>\n",
              "      <th>std</th>\n",
              "      <td>0.828066</td>\n",
              "      <td>0.433594</td>\n",
              "      <td>1.764420</td>\n",
              "      <td>0.763161</td>\n",
              "      <td>NaN</td>\n",
              "    </tr>\n",
              "    <tr>\n",
              "      <th>min</th>\n",
              "      <td>4.300000</td>\n",
              "      <td>2.000000</td>\n",
              "      <td>1.000000</td>\n",
              "      <td>0.100000</td>\n",
              "      <td>NaN</td>\n",
              "    </tr>\n",
              "    <tr>\n",
              "      <th>20%</th>\n",
              "      <td>5.000000</td>\n",
              "      <td>2.700000</td>\n",
              "      <td>1.500000</td>\n",
              "      <td>0.200000</td>\n",
              "      <td>NaN</td>\n",
              "    </tr>\n",
              "    <tr>\n",
              "      <th>40%</th>\n",
              "      <td>5.600000</td>\n",
              "      <td>3.000000</td>\n",
              "      <td>3.900000</td>\n",
              "      <td>1.160000</td>\n",
              "      <td>NaN</td>\n",
              "    </tr>\n",
              "    <tr>\n",
              "      <th>50%</th>\n",
              "      <td>5.800000</td>\n",
              "      <td>3.000000</td>\n",
              "      <td>4.350000</td>\n",
              "      <td>1.300000</td>\n",
              "      <td>NaN</td>\n",
              "    </tr>\n",
              "    <tr>\n",
              "      <th>60%</th>\n",
              "      <td>6.100000</td>\n",
              "      <td>3.100000</td>\n",
              "      <td>4.640000</td>\n",
              "      <td>1.500000</td>\n",
              "      <td>NaN</td>\n",
              "    </tr>\n",
              "    <tr>\n",
              "      <th>80%</th>\n",
              "      <td>6.520000</td>\n",
              "      <td>3.400000</td>\n",
              "      <td>5.320000</td>\n",
              "      <td>1.900000</td>\n",
              "      <td>NaN</td>\n",
              "    </tr>\n",
              "    <tr>\n",
              "      <th>max</th>\n",
              "      <td>7.900000</td>\n",
              "      <td>4.400000</td>\n",
              "      <td>6.900000</td>\n",
              "      <td>2.500000</td>\n",
              "      <td>NaN</td>\n",
              "    </tr>\n",
              "  </tbody>\n",
              "</table>\n",
              "</div>\n",
              "      <button class=\"colab-df-convert\" onclick=\"convertToInteractive('df-97b7d4c5-dfbe-46bc-b364-9011fa11ec6b')\"\n",
              "              title=\"Convert this dataframe to an interactive table.\"\n",
              "              style=\"display:none;\">\n",
              "        \n",
              "  <svg xmlns=\"http://www.w3.org/2000/svg\" height=\"24px\"viewBox=\"0 0 24 24\"\n",
              "       width=\"24px\">\n",
              "    <path d=\"M0 0h24v24H0V0z\" fill=\"none\"/>\n",
              "    <path d=\"M18.56 5.44l.94 2.06.94-2.06 2.06-.94-2.06-.94-.94-2.06-.94 2.06-2.06.94zm-11 1L8.5 8.5l.94-2.06 2.06-.94-2.06-.94L8.5 2.5l-.94 2.06-2.06.94zm10 10l.94 2.06.94-2.06 2.06-.94-2.06-.94-.94-2.06-.94 2.06-2.06.94z\"/><path d=\"M17.41 7.96l-1.37-1.37c-.4-.4-.92-.59-1.43-.59-.52 0-1.04.2-1.43.59L10.3 9.45l-7.72 7.72c-.78.78-.78 2.05 0 2.83L4 21.41c.39.39.9.59 1.41.59.51 0 1.02-.2 1.41-.59l7.78-7.78 2.81-2.81c.8-.78.8-2.07 0-2.86zM5.41 20L4 18.59l7.72-7.72 1.47 1.35L5.41 20z\"/>\n",
              "  </svg>\n",
              "      </button>\n",
              "      \n",
              "  <style>\n",
              "    .colab-df-container {\n",
              "      display:flex;\n",
              "      flex-wrap:wrap;\n",
              "      gap: 12px;\n",
              "    }\n",
              "\n",
              "    .colab-df-convert {\n",
              "      background-color: #E8F0FE;\n",
              "      border: none;\n",
              "      border-radius: 50%;\n",
              "      cursor: pointer;\n",
              "      display: none;\n",
              "      fill: #1967D2;\n",
              "      height: 32px;\n",
              "      padding: 0 0 0 0;\n",
              "      width: 32px;\n",
              "    }\n",
              "\n",
              "    .colab-df-convert:hover {\n",
              "      background-color: #E2EBFA;\n",
              "      box-shadow: 0px 1px 2px rgba(60, 64, 67, 0.3), 0px 1px 3px 1px rgba(60, 64, 67, 0.15);\n",
              "      fill: #174EA6;\n",
              "    }\n",
              "\n",
              "    [theme=dark] .colab-df-convert {\n",
              "      background-color: #3B4455;\n",
              "      fill: #D2E3FC;\n",
              "    }\n",
              "\n",
              "    [theme=dark] .colab-df-convert:hover {\n",
              "      background-color: #434B5C;\n",
              "      box-shadow: 0px 1px 3px 1px rgba(0, 0, 0, 0.15);\n",
              "      filter: drop-shadow(0px 1px 2px rgba(0, 0, 0, 0.3));\n",
              "      fill: #FFFFFF;\n",
              "    }\n",
              "  </style>\n",
              "\n",
              "      <script>\n",
              "        const buttonEl =\n",
              "          document.querySelector('#df-97b7d4c5-dfbe-46bc-b364-9011fa11ec6b button.colab-df-convert');\n",
              "        buttonEl.style.display =\n",
              "          google.colab.kernel.accessAllowed ? 'block' : 'none';\n",
              "\n",
              "        async function convertToInteractive(key) {\n",
              "          const element = document.querySelector('#df-97b7d4c5-dfbe-46bc-b364-9011fa11ec6b');\n",
              "          const dataTable =\n",
              "            await google.colab.kernel.invokeFunction('convertToInteractive',\n",
              "                                                     [key], {});\n",
              "          if (!dataTable) return;\n",
              "\n",
              "          const docLinkHtml = 'Like what you see? Visit the ' +\n",
              "            '<a target=\"_blank\" href=https://colab.research.google.com/notebooks/data_table.ipynb>data table notebook</a>'\n",
              "            + ' to learn more about interactive tables.';\n",
              "          element.innerHTML = '';\n",
              "          dataTable['output_type'] = 'display_data';\n",
              "          await google.colab.output.renderOutput(dataTable, element);\n",
              "          const docLink = document.createElement('div');\n",
              "          docLink.innerHTML = docLinkHtml;\n",
              "          element.appendChild(docLink);\n",
              "        }\n",
              "      </script>\n",
              "    </div>\n",
              "  </div>\n",
              "  "
            ]
          },
          "metadata": {},
          "execution_count": 255
        }
      ]
    },
    {
      "cell_type": "markdown",
      "source": [
        "**Part B** - Split data into training and test data using SKLearn train_test_split. Specify parameter test_size to be 25%\n",
        "\n",
        "Hint: You will be needing 4 arrays: X_train, X_test, y_train, y_test"
      ],
      "metadata": {
        "id": "7LsiIV9n4QMz"
      }
    },
    {
      "cell_type": "code",
      "source": [
        "import pandas as pd\n",
        "import numpy as np\n",
        "from sklearn.model_selection import train_test_split\n",
        "df = pd.read_csv('FlowersData.csv')\n",
        "df.dropna(inplace=True)\n",
        "\n",
        "X=df[df.columns[0:4]]\n",
        "y=df['flower_name']\n",
        "X_train, X_test, y_train, y_test = train_test_split(X,y,test_size=0.25)\n",
        "print(\"X_train shape: {}\".format(X_train.shape))\n",
        "print(\"X_test shape: {}\".format(X_test.shape))\n",
        "print(\"y_train shape: {}\".format(y_train.shape))\n",
        "print(\"y_test shape: {}\".format(y_test.shape))\n",
        "\n",
        "X_train.dropna(inplace=True)\n",
        "X_test.dropna(inplace=True)\n",
        "\n"
      ],
      "metadata": {
        "id": "f49YQ4GT4k5s",
        "colab": {
          "base_uri": "https://localhost:8080/"
        },
        "outputId": "5cc4191a-4fb1-44e6-f575-1ff589b54073"
      },
      "execution_count": null,
      "outputs": [
        {
          "output_type": "stream",
          "name": "stdout",
          "text": [
            "X_train shape: (112, 4)\n",
            "X_test shape: (38, 4)\n",
            "y_train shape: (112,)\n",
            "y_test shape: (38,)\n"
          ]
        }
      ]
    },
    {
      "cell_type": "markdown",
      "source": [
        "**Part C** - Perform scaling on the X_test and X_train values using StandardScacler from SKLearn Library"
      ],
      "metadata": {
        "id": "Ez5Fa2ePDzXu"
      }
    },
    {
      "cell_type": "code",
      "source": [
        "from sklearn.preprocessing import StandardScaler\n",
        "ss=StandardScaler()\n",
        "X_train=ss.fit_transform(X_train)\n",
        "X_test=ss.fit_transform(X_test)\n",
        "X_train\n",
        "X_test"
      ],
      "metadata": {
        "id": "97-2bUgtDzXv",
        "colab": {
          "base_uri": "https://localhost:8080/"
        },
        "outputId": "954d992c-a0df-4212-9e4e-05359bfce94f"
      },
      "execution_count": null,
      "outputs": [
        {
          "output_type": "execute_result",
          "data": {
            "text/plain": [
              "array([[-0.93347961,  0.5713672 , -1.1577969 , -1.17892675],\n",
              "       [ 0.38030651, -0.34282032,  0.74535017,  0.80663409],\n",
              "       [-1.19623683, -0.11427344, -1.1577969 , -1.30302431],\n",
              "       [-1.06485822, -2.62828914, -0.03829863, -0.18614633],\n",
              "       [-0.40796516,  0.79991408, -1.26974673, -1.17892675],\n",
              "       [-0.93347961,  1.48555473, -1.1577969 , -1.0548292 ],\n",
              "       [-0.93347961,  0.79991408, -1.21377182, -1.17892675],\n",
              "       [ 0.11754928,  0.11427344,  0.68937526,  0.80663409],\n",
              "       [ 0.11754928, -0.34282032,  0.8573    ,  0.80663409],\n",
              "       [-1.32761544, -0.34282032, -1.21377182, -1.30302431],\n",
              "       [-1.32761544,  0.5713672 , -1.10182199, -1.17892675],\n",
              "       [-0.01382933,  1.94264849, -1.32572165, -1.17892675],\n",
              "       [-0.01382933, -1.02846097,  0.29755086, -0.18614633],\n",
              "       [ 0.51168512, -0.5713672 ,  0.40950069,  0.18614633],\n",
              "       [ 1.4313354 , -0.11427344,  0.74535017,  0.43434144],\n",
              "       [ 1.56271401,  0.11427344,  0.63340034,  0.31024388],\n",
              "       [ 0.64306373, -0.79991408,  0.8573    ,  0.43434144],\n",
              "       [ 0.77444234,  0.11427344,  0.96924983,  1.42712186],\n",
              "       [ 0.64306373, -1.02846097,  0.74535017,  0.80663409],\n",
              "       [ 0.64306373,  0.34282032,  1.36107422,  1.67531696],\n",
              "       [ 1.03719956, -0.34282032,  0.4654756 ,  0.31024388],\n",
              "       [-1.85312988, -0.34282032, -1.26974673, -1.17892675],\n",
              "       [-0.53934377,  1.71410161, -1.04584708, -0.93073165],\n",
              "       [-0.01382933, -1.02846097,  0.18560103,  0.06204878],\n",
              "       [ 0.64306373, -0.5713672 ,  1.13717457,  0.80663409],\n",
              "       [ 2.48236428, -1.25700785,  1.86484845,  1.42712186],\n",
              "       [-1.45899405,  0.11427344, -1.10182199, -1.17892675],\n",
              "       [-0.14520794,  2.85683602, -1.1577969 , -0.93073165],\n",
              "       [ 1.16857817, -0.34282032,  0.91327491,  1.42712186],\n",
              "       [-0.27658655, -0.79991408,  0.74535017,  1.0548292 ],\n",
              "       [-0.93347961,  1.25700785, -1.1577969 , -0.93073165],\n",
              "       [ 1.4313354 , -0.11427344,  1.02522474,  1.17892675],\n",
              "       [-1.06485822,  0.5713672 , -1.10182199, -0.93073165],\n",
              "       [ 0.90582095, -0.34282032,  1.08119965,  0.80663409],\n",
              "       [-0.01382933, -0.79991408,  0.8573    ,  1.55121941],\n",
              "       [-1.06485822,  1.02846097, -1.21377182, -1.17892675],\n",
              "       [-0.14520794, -0.79991408,  0.29755086,  0.18614633],\n",
              "       [ 1.16857817, -0.34282032,  0.80132508,  0.68253654]])"
            ]
          },
          "metadata": {},
          "execution_count": 257
        }
      ]
    },
    {
      "cell_type": "markdown",
      "source": [
        "**Part D** - Train Model using SKLearn LogisticRegression"
      ],
      "metadata": {
        "id": "E9BlQYh54lLX"
      }
    },
    {
      "cell_type": "code",
      "source": [
        "from sklearn.linear_model import LogisticRegression\n",
        "import pandas as df\n",
        "import numpy as np\n",
        "logreg=LogisticRegression()\n",
        "\n",
        "logreg.fit(X_train,y_train)"
      ],
      "metadata": {
        "id": "hD_MUVu64xkw",
        "colab": {
          "base_uri": "https://localhost:8080/"
        },
        "outputId": "2b7f831e-d91c-47c7-bea1-a4971ca2cefd"
      },
      "execution_count": null,
      "outputs": [
        {
          "output_type": "execute_result",
          "data": {
            "text/plain": [
              "LogisticRegression()"
            ]
          },
          "metadata": {},
          "execution_count": 258
        }
      ]
    },
    {
      "cell_type": "markdown",
      "source": [
        "**Part E** - Predict Labels for test split"
      ],
      "metadata": {
        "id": "-HKhBOzW4xSx"
      }
    },
    {
      "cell_type": "code",
      "source": [
        "y_pred = logreg.predict(X_test)\n",
        "y_pred"
      ],
      "metadata": {
        "id": "IqpPKB1M5G4G",
        "colab": {
          "base_uri": "https://localhost:8080/"
        },
        "outputId": "81f11675-dd26-4248-b4f0-afbb7bfb42b1"
      },
      "execution_count": null,
      "outputs": [
        {
          "output_type": "execute_result",
          "data": {
            "text/plain": [
              "array(['hibiscus', 'lily', 'hibiscus', 'daffodil', 'hibiscus', 'hibiscus',\n",
              "       'hibiscus', 'lily', 'lily', 'hibiscus', 'hibiscus', 'hibiscus',\n",
              "       'daffodil', 'daffodil', 'daffodil', 'daffodil', 'lily', 'lily',\n",
              "       'lily', 'lily', 'daffodil', 'hibiscus', 'hibiscus', 'daffodil',\n",
              "       'lily', 'lily', 'hibiscus', 'hibiscus', 'lily', 'lily', 'hibiscus',\n",
              "       'lily', 'hibiscus', 'lily', 'lily', 'hibiscus', 'daffodil', 'lily'],\n",
              "      dtype=object)"
            ]
          },
          "metadata": {},
          "execution_count": 259
        }
      ]
    },
    {
      "cell_type": "markdown",
      "source": [
        "---\n",
        "## Question 3\n",
        "\n",
        "Confusion Matrix Construction\n",
        "\n",
        "---"
      ],
      "metadata": {
        "id": "34It-TAowlCw"
      }
    },
    {
      "cell_type": "markdown",
      "source": [
        "**Part A** - Using the prediction result of logistic regression (Question 2) construct a confusion matrix using SKLearn confusion_matrix\n",
        "\n",
        "Print out this confusion matrix"
      ],
      "metadata": {
        "id": "vi_ix0XsxF8x"
      }
    },
    {
      "cell_type": "code",
      "source": [
        "from sklearn import metrics\n",
        "\n",
        "cnf_matrix = metrics.confusion_matrix(y_test, y_pred)\n",
        "cnf_matrix\n",
        "\n",
        "import matplotlib.pyplot as plt\n",
        "import seaborn as sns\n",
        "\n",
        "sns.heatmap(pd.DataFrame(cnf_matrix), annot=True, cmap=\"YlGnBu\" ,fmt='g')\n",
        "\n",
        "plt.title('Confusion matrix')\n",
        "plt.ylabel('Actual label')\n",
        "plt.xlabel('Predicted label')"
      ],
      "metadata": {
        "id": "o23T4fDsxD-L",
        "colab": {
          "base_uri": "https://localhost:8080/",
          "height": 312
        },
        "outputId": "7fd360ad-323b-4649-9998-e427cd7f6235"
      },
      "execution_count": null,
      "outputs": [
        {
          "output_type": "execute_result",
          "data": {
            "text/plain": [
              "Text(0.5, 15.0, 'Predicted label')"
            ]
          },
          "metadata": {},
          "execution_count": 260
        },
        {
          "output_type": "display_data",
          "data": {
            "text/plain": [
              "<Figure size 432x288 with 2 Axes>"
            ],
            "image/png": "[encoded data removed]"
          },
          "metadata": {
            "needs_background": "light"
          }
        }
      ]
    },
    {
      "cell_type": "markdown",
      "source": [
        "**Part B** - Calculate and print Accuracy"
      ],
      "metadata": {
        "id": "JlYB9BY4xEh1"
      }
    },
    {
      "cell_type": "code",
      "source": [
        "from sklearn.metrics import balanced_accuracy_score\n",
        "balanced_accuracy_score(y_test, y_pred)"
      ],
      "metadata": {
        "id": "cupearHPxUKj",
        "colab": {
          "base_uri": "https://localhost:8080/"
        },
        "outputId": "d6fcf897-11bb-4d2c-d986-f66f983ab78d"
      },
      "execution_count": null,
      "outputs": [
        {
          "output_type": "execute_result",
          "data": {
            "text/plain": [
              "0.9333333333333332"
            ]
          },
          "metadata": {},
          "execution_count": 261
        }
      ]
    },
    {
      "cell_type": "markdown",
      "source": [
        "**Part C** - Calculate and print Recall"
      ],
      "metadata": {
        "id": "RvEXBB3CxUk-"
      }
    },
    {
      "cell_type": "code",
      "source": [
        "from sklearn.metrics import recall_score\n",
        "recall_score(y_test,y_pred,average=None)"
      ],
      "metadata": {
        "id": "PyBufaj8xbKC",
        "colab": {
          "base_uri": "https://localhost:8080/"
        },
        "outputId": "4b3742cd-55c1-4a51-8893-d6eae541a7fa"
      },
      "execution_count": null,
      "outputs": [
        {
          "output_type": "execute_result",
          "data": {
            "text/plain": [
              "array([0.8, 1. , 1. ])"
            ]
          },
          "metadata": {},
          "execution_count": 262
        }
      ]
    },
    {
      "cell_type": "markdown",
      "source": [
        "**Part D** - Calculate and print Precision"
      ],
      "metadata": {
        "id": "W6BgzGjMxbfu"
      }
    },
    {
      "cell_type": "code",
      "source": [
        "from sklearn.metrics import precision_score\n",
        "precision_score(y_test,y_pred,average=None)\n"
      ],
      "metadata": {
        "id": "gHJg8C-1xg_6",
        "colab": {
          "base_uri": "https://localhost:8080/"
        },
        "outputId": "b09ee961-ceb3-4453-f0a5-fc5bbd8d4b77"
      },
      "execution_count": null,
      "outputs": [
        {
          "output_type": "execute_result",
          "data": {
            "text/plain": [
              "array([1.        , 1.        , 0.86666667])"
            ]
          },
          "metadata": {},
          "execution_count": 263
        }
      ]
    },
    {
      "cell_type": "markdown",
      "source": [
        "**Part E** - Calculate and print $𝐹_1$ Score"
      ],
      "metadata": {
        "id": "6RPHz7hVxhbk"
      }
    },
    {
      "cell_type": "code",
      "source": [
        "from sklearn.metrics import f1_score\n",
        "f1_score(y_test,y_pred,average=None)"
      ],
      "metadata": {
        "id": "NmwjCpMixmeJ",
        "colab": {
          "base_uri": "https://localhost:8080/"
        },
        "outputId": "d5ae1268-f712-4c3f-cf0a-0640eb6ebdeb"
      },
      "execution_count": null,
      "outputs": [
        {
          "output_type": "execute_result",
          "data": {
            "text/plain": [
              "array([0.88888889, 1.        , 0.92857143])"
            ]
          },
          "metadata": {},
          "execution_count": 264
        }
      ]
    }
  ],
  "metadata": {
    "celltoolbar": "Slideshow",
    "kernelspec": {
      "display_name": "Python 3",
      "language": "python",
      "name": "python3"
    },
    "language_info": {
      "codemirror_mode": {
        "name": "ipython",
        "version": 3
      },
      "file_extension": ".py",
      "mimetype": "text/x-python",
      "name": "python",
      "nbconvert_exporter": "python",
      "pygments_lexer": "ipython3",
      "version": "3.5.1"
    },
    "colab": {
      "provenance": [],
      "collapsed_sections": []
    }
  },
  "nbformat": 4,
  "nbformat_minor": 0
}