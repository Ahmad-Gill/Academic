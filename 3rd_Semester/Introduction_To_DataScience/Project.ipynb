{
  "nbformat": 4,
  "nbformat_minor": 0,
  "metadata": {
    "colab": {
      "provenance": []
    },
    "kernelspec": {
      "name": "python3",
      "display_name": "Python 3"
    },
    "language_info": {
      "name": "python"
    }
  },
  "cells": [
    {
      "cell_type": "markdown",
      "source": [
        "**Iport Libraries**"
      ],
      "metadata": {
        "id": "EyD28pzviSpB"
      }
    },
    {
      "cell_type": "code",
      "execution_count": 53,
      "metadata": {
        "id": "xGAWE2CfiPw-"
      },
      "outputs": [],
      "source": [
        "import pandas as pd\n",
        "import matplotlib.pyplot as plt\n",
        "import numpy as np\n",
        "import matplotlib.pyplot as plt\n",
        "import seaborn as sns\n"
      ]
    },
    {
      "cell_type": "markdown",
      "source": [
        "Xcel to csv"
      ],
      "metadata": {
        "id": "fLrguvHYoLI3"
      }
    },
    {
      "cell_type": "code",
      "source": [
        "CollectedData_Xcel= pd.read_excel('/content/CollectedData.xlsx')\n",
        " \n",
        "#print(CollectedData_Xcel.head())\n",
        "CollectedData_Xcel.to_csv (\"CollectedDAta.csv\", index = None, header=True)\n",
        "CollectedData_csv = pd.DataFrame(pd.read_csv(\"CollectedDAta.csv\"))\n",
        "print(CollectedData_csv.head())\n"
      ],
      "metadata": {
        "colab": {
          "base_uri": "https://localhost:8080/"
        },
        "id": "PpN_WWmhoPiM",
        "outputId": "f0f32256-30dc-4036-ec44-8c0d92ff6daf"
      },
      "execution_count": 44,
      "outputs": [
        {
          "output_type": "stream",
          "name": "stdout",
          "text": [
            "   ignored  ignore1  Age  ignore 55  ignore 56  ignore 57  ignore 58  AMV  \\\n",
            "0      8.0      2.0  NaN        0.0     1993.0      146.0        NaN  2.0   \n",
            "1      8.0      3.0  NaN        0.0     1993.0      146.0        NaN  1.0   \n",
            "2      8.0      4.0  NaN        0.0     1993.0      146.0        NaN  3.0   \n",
            "3      8.0      5.0  NaN        0.0     1993.0      146.0        NaN  3.0   \n",
            "4      8.0      6.0  NaN        0.0     1993.0      146.0        NaN  1.0   \n",
            "\n",
            "   ignore 45  ignore 46  ...  ignore8.1  15.3  ignore7  TaOutdoor  ignore6  \\\n",
            "0        1.0        NaN  ...        NaN  15.3      7.8      11.55     58.0   \n",
            "1        2.0        NaN  ...        NaN  15.3      7.8      11.55     58.0   \n",
            "2        1.0        NaN  ...        NaN  15.3      7.8      11.55     58.0   \n",
            "3        1.0        NaN  ...        NaN  15.3      7.8      11.55     58.0   \n",
            "4        2.0        NaN  ...        NaN  15.3      7.8      11.55     58.0   \n",
            "\n",
            "   ignore5  RhOutdoor  ignore4  ignore3  ignore2  \n",
            "0    100.0       79.0     15.4      8.1    11.75  \n",
            "1    100.0       79.0     15.5      8.1    11.80  \n",
            "2    100.0       79.0     15.4      8.1    11.75  \n",
            "3    100.0       79.0     15.4      8.1    11.75  \n",
            "4    100.0       79.0     15.6      8.3    11.95  \n",
            "\n",
            "[5 rows x 80 columns]\n"
          ]
        }
      ]
    },
    {
      "cell_type": "markdown",
      "source": [
        "***Part A. Preprocessing***"
      ],
      "metadata": {
        "id": "u1BZoyyD2_Fb"
      }
    },
    {
      "cell_type": "code",
      "source": [
        "Selecting_the_data = pd.DataFrame(CollectedData_csv, columns=['Age', 'AMV', 'Met', 'Clo','Dewpt','PlaneRadTemp','Ta','Tmrt','Vel','AirTurb','Pa','Rh','PMV','TaOutdoor','RhOutdoor'])\n",
        "#print(Selecting_the_data)\n",
        "DataType = Selecting_the_data.dtypes\n",
        "print('-------Data type of each column of Dataframe :------')\n",
        "print(DataType)\n",
        "print('---------NUMBER OF NULLS IN EACH COlumn---------')\n",
        "\n",
        "count_nan_Age = Selecting_the_data['Age'].isna().sum()\n",
        "count_nan_AMV = Selecting_the_data['AMV'].isna().sum()\n",
        "count_nan_Met = Selecting_the_data['Met'].isna().sum()\n",
        "count_nan_Clo = Selecting_the_data['Clo'].isna().sum()\n",
        "count_nan_Dewpt = Selecting_the_data['Dewpt'].isna().sum()\n",
        "count_nan_PlaneRedTemp = Selecting_the_data['PlaneRadTemp'].isna().sum()\n",
        "count_nan_Ta = Selecting_the_data['Ta'].isna().sum()\n",
        "count_nan_Tmrt = Selecting_the_data['Tmrt'].isna().sum()\n",
        "count_nan_Vel = Selecting_the_data['Vel'].isna().sum()\n",
        "count_nan_AirTurb = Selecting_the_data['AirTurb'].isna().sum()\n",
        "count_nan_Pa = Selecting_the_data['Pa'].isna().sum()\n",
        "count_nan_Rh = Selecting_the_data['Rh'].isna().sum()\n",
        "count_nan_PMV = Selecting_the_data['PMV'].isna().sum()\n",
        "count_nan_TaOutdoor = Selecting_the_data['TaOutdoor'].isna().sum()\n",
        "count_nan_RhOutdoor = Selecting_the_data['RhOutdoor'].isna().sum()\n",
        "print ('Count of NaN in RhOutdoor =  ' + str(count_nan_RhOutdoor))\n",
        "print ('Count of NaN in TaOutdoor =  ' + str(count_nan_TaOutdoor))\n",
        "print ('Count of NaN in PMV =  ' + str(count_nan_PMV))\n",
        "print ('Count of NaN in Rh =  ' + str(count_nan_Rh))\n",
        "print ('Count of NaN in Pa =  ' + str(count_nan_Pa))\n",
        "print ('Count of NaN in AirTub =  ' + str(count_nan_AirTurb))\n",
        "print ('Count of NaN in Vel =  ' + str(count_nan_Vel))\n",
        "print ('Count of NaN in Tmrt =  ' + str(count_nan_Tmrt))\n",
        "print ('Count of NaN in Ta =  ' + str(count_nan_Ta))\n",
        "print ('Count of NaN in PlaneRedTemp =  ' + str(count_nan_PlaneRedTemp))\n",
        "print ('Count of NaN in Dewpt =  ' + str(count_nan_Dewpt))\n",
        "print ('Count of NaN in Clo =  ' + str(count_nan_Clo))\n",
        "print ('Count of NaN in AMV =  ' + str(count_nan_AMV))\n",
        "print ('Count of NaN in Age =  ' + str(count_nan_Age))\n",
        "print ('Count of NaN in Met =  ' + str(count_nan_Met))\n",
        "\n",
        "print('---------Find Outliers---------')\n",
        "\n",
        "print(CollectedData_csv[['Age', 'AMV', 'Met', 'Clo','Dewpt','PlaneRadTemp','Ta','Tmrt','Vel','AirTurb','Pa','Rh','PMV','TaOutdoor','RhOutdoor']].min())\n",
        "print(Selecting_the_data[['Age', 'AMV', 'Met', 'Clo','Dewpt','PlaneRadTemp','Ta','Tmrt','Vel','AirTurb','Pa','Rh','PMV','TaOutdoor','RhOutdoor']].max())\n",
        "\n",
        "\n",
        "\n",
        "\n",
        "print(\"\\n----------- Calculate Mean -----------\\n\")\n",
        "print(Selecting_the_data.mean())\n",
        " \n",
        "print(\"\\n----------- Calculate Median -----------\\n\")\n",
        "print(Selecting_the_data.median())\n",
        " \n",
        "print(\"\\n----------- Calculate Mode -----------\\n\")\n",
        "print(Selecting_the_data.mode())"
      ],
      "metadata": {
        "colab": {
          "base_uri": "https://localhost:8080/"
        },
        "id": "2Bn6PMer3CyK",
        "outputId": "0fd50c0f-ace4-431f-94bc-a43e9260cf7a"
      },
      "execution_count": 62,
      "outputs": [
        {
          "output_type": "stream",
          "name": "stdout",
          "text": [
            "-------Data type of each column of Dataframe :------\n",
            "Age             float64\n",
            "AMV             float64\n",
            "Met             float64\n",
            "Clo             float64\n",
            "Dewpt           float64\n",
            "PlaneRadTemp    float64\n",
            "Ta              float64\n",
            "Tmrt            float64\n",
            "Vel             float64\n",
            "AirTurb         float64\n",
            "Pa              float64\n",
            "Rh              float64\n",
            "PMV             float64\n",
            "TaOutdoor       float64\n",
            "RhOutdoor       float64\n",
            "dtype: object\n",
            "---------NUMBER OF NULLS IN EACH COlumn---------\n",
            "Count of NaN in RhOutdoor =  19\n",
            "Count of NaN in TaOutdoor =  1368\n",
            "Count of NaN in PMV =  696\n",
            "Count of NaN in Rh =  35\n",
            "Count of NaN in Pa =  4656\n",
            "Count of NaN in AirTub =  5601\n",
            "Count of NaN in Vel =  3700\n",
            "Count of NaN in Tmrt =  3701\n",
            "Count of NaN in Ta =  20\n",
            "Count of NaN in PlaneRedTemp =  7022\n",
            "Count of NaN in Dewpt =  3552\n",
            "Count of NaN in Clo =  1406\n",
            "Count of NaN in AMV =  55\n",
            "Count of NaN in Age =  2916\n",
            "Count of NaN in Met =  1887\n",
            "---------Find Outliers---------\n",
            "Age              0.000\n",
            "AMV             -3.000\n",
            "Met              0.100\n",
            "Clo              0.150\n",
            "Dewpt           -1.953\n",
            "PlaneRadTemp    -7.420\n",
            "Ta              15.960\n",
            "Tmrt            16.610\n",
            "Vel              0.000\n",
            "AirTurb          0.000\n",
            "Pa               0.000\n",
            "Rh               7.400\n",
            "PMV             -4.170\n",
            "TaOutdoor      -24.900\n",
            "RhOutdoor        0.000\n",
            "dtype: float64\n",
            "Age             1996.00000\n",
            "AMV                3.00000\n",
            "Met                4.50000\n",
            "Clo                2.13000\n",
            "Dewpt             26.89675\n",
            "PlaneRadTemp      11.70000\n",
            "Ta                31.00000\n",
            "Tmrt              37.44500\n",
            "Vel                1.88000\n",
            "AirTurb          102.45000\n",
            "Pa                27.70000\n",
            "Rh                79.30000\n",
            "PMV                2.50000\n",
            "TaOutdoor         32.35000\n",
            "RhOutdoor        100.35000\n",
            "dtype: float64\n",
            "\n",
            "----------- Calculate Mean -----------\n",
            "\n",
            "Age             308.637202\n",
            "AMV               0.100735\n",
            "Met               1.066003\n",
            "Clo               0.778492\n",
            "Dewpt            13.621447\n",
            "PlaneRadTemp      0.217785\n",
            "Ta               23.178861\n",
            "Tmrt             23.450261\n",
            "Vel               0.112439\n",
            "AirTurb          18.265870\n",
            "Pa                5.123996\n",
            "Rh               42.529203\n",
            "PMV              -0.073676\n",
            "TaOutdoor        17.174585\n",
            "RhOutdoor        61.100365\n",
            "dtype: float64\n",
            "\n",
            "----------- Calculate Median -----------\n",
            "\n",
            "Age             35.000000\n",
            "AMV              0.000000\n",
            "Met              1.100000\n",
            "Clo              0.751700\n",
            "Dewpt           14.100000\n",
            "PlaneRadTemp     0.200000\n",
            "Ta              23.136667\n",
            "Tmrt            23.358438\n",
            "Vel              0.100000\n",
            "AirTurb          0.500000\n",
            "Pa               1.550667\n",
            "Rh              43.280000\n",
            "PMV             -0.030000\n",
            "TaOutdoor       18.200000\n",
            "RhOutdoor       68.795799\n",
            "dtype: float64\n",
            "\n",
            "----------- Calculate Mode -----------\n",
            "\n",
            "    Age  AMV  Met   Clo  Dewpt  PlaneRadTemp    Ta  Tmrt  Vel  AirTurb   Pa  \\\n",
            "0  24.0  0.0  1.0  0.77   17.4           0.3  23.2  22.5  0.1      0.5  2.1   \n",
            "\n",
            "     Rh  PMV  TaOutdoor  RhOutdoor  \n",
            "0  64.0  0.1  27.555556        0.0  \n"
          ]
        }
      ]
    }
  ]
}