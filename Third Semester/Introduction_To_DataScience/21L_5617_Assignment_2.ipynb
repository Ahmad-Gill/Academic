{
  "cells": [
    {
      "cell_type": "markdown",
      "metadata": {
        "id": "TWWLTwYZorzC"
      },
      "source": [
        "# Introduction To Data Science – Assignment 2\n",
        "\n",
        "---\n",
        "\n",
        "#### Sections A – B – C – D\n",
        "\n",
        "---\n",
        "\n",
        "##***Instructions: Read These Carefully Before Starting!***\n",
        "\n",
        "1. Due Date: Thursday 20th October 2022 – 11:59PM\n",
        "\n",
        "2. **Name the file in the format Lyyxxxx_A2.ipynb and save it as .ipynb (e.g. L216666_A2.ipynb)**\n",
        "\n",
        "3. Submission will be taken on Google Classroom (**submit SINGLE .ipynb file ONLY**)\n",
        "\n",
        "4. **Assignment will not be evaluated if**:\n",
        "\n",
        "> * You submit python (.py) files\n",
        "> * You submit multiple .ipynb files\n",
        "> * You submit compressed (.rar or .zip) files\n",
        "\n",
        "5. **Work in the spaces provided and do not delete/modify any cells from this template.**\n",
        "\n",
        "6. Upload data files directly to Google Colab - do not use Google Drive or GitHub linking method\n",
        "\n",
        "*Not following these instructions will lead to mark deduction.*\n",
        "\n",
        "---\n",
        "\n",
        "All source files needed to complete this assignment can be found on the following [Google Drive link](https://drive.google.com/drive/folders/1qBib_6ZOhvHb73ZRLWiCMWl9NFyU1IDO?usp=sharing). Download these files and upload them to your Google Colab Notebook. \n",
        "\n",
        "**Do not link Google Drive or GitHub with Colab.**\n",
        "\n",
        "**Do not add these files with your submission on Google Classroom.**\n",
        "\n",
        "---\n",
        "\n",
        "Happy Coding 🌺\n",
        "\n",
        "---\n",
        "\n",
        "TA Emails\n",
        "\n",
        "Section A, C - Muhammad Maarij l192347@lhr.nu.edu.pk\n",
        "\n",
        "Section B, D - Hira Ijaz l192377@lhr.nu.edu.pk\n",
        "\n",
        "---"
      ]
    },
    {
      "cell_type": "markdown",
      "metadata": {
        "id": "mwtAOew56gkd"
      },
      "source": [
        "---\n",
        "## Question 0\n",
        "\n",
        "Add all library imports here"
      ]
    },
    {
      "cell_type": "code",
      "execution_count": 54,
      "metadata": {
        "id": "swlE8Tvq6g2u"
      },
      "outputs": [],
      "source": [
        "import pandas as pd\n",
        "import numpy as np\n",
        "import seaborn as seabornInstance\n",
        "import matplotlib.pyplot as plt\n",
        "from sklearn.datasets import make_circles\n",
        "import seaborn as sns\n",
        "from sklearn.datasets import make_classification\n",
        "from sklearn.metrics import plot_confusion_matrix\n",
        "from sklearn.svm import SVC\n",
        "from sklearn.metrics import accuracy_score\n",
        "from sklearn.metrics import precision_score\n",
        "from sklearn.metrics import f1_score\n",
        "from sklearn.metrics import cohen_kappa_score\n",
        "from sklearn.metrics import roc_auc_score\n",
        "from sklearn.metrics import recall_score\n",
        "from sklearn import metrics\n",
        "from sklearn.datasets import load_wine \n",
        "from sklearn.linear_model import LogisticRegression \n",
        "from sklearn.metrics import confusion_matrix, accuracy_score \n",
        "from sklearn.datasets import load_iris\n",
        "from sklearn.preprocessing import StandardScaler\n",
        "from sklearn import linear_model\n",
        "from sklearn.model_selection import train_test_split\n",
        "from sklearn.linear_model import LinearRegression\n"
      ]
    },
    {
      "cell_type": "markdown",
      "metadata": {
        "id": "ZR8C9ctqsy3V"
      },
      "source": [
        "---\n",
        "## Question 1\n",
        "\n",
        "####Single Linear Regression with Gradient Descent\n",
        "\n",
        "> Take help from slides 26 and 30\n",
        "---"
      ]
    },
    {
      "cell_type": "markdown",
      "metadata": {
        "id": "DzGOilP7sy3Y"
      },
      "source": [
        "**Part A -**\n",
        "Write a function that calculates and returns value for hypothesis $h_\\theta(x)$"
      ]
    },
    {
      "cell_type": "code",
      "execution_count": 55,
      "metadata": {
        "collapsed": true,
        "id": "3bczSIhosy3Z"
      },
      "outputs": [],
      "source": [
        "# complete this function implementation\n",
        "def hypothesis(x, theta):\n",
        "   hypothesis = theta[0]+theta[1]*x\n",
        "   return hypothesis\n"
      ]
    },
    {
      "cell_type": "markdown",
      "metadata": {
        "id": "dXORHsxSsy3a"
      },
      "source": [
        "**Part B -**\n",
        "Write a function that calculates and returns value for loss/cost $J(\\theta_0, \\theta_1)$"
      ]
    },
    {
      "cell_type": "code",
      "execution_count": 56,
      "metadata": {
        "collapsed": true,
        "id": "__DPftoLsy3c"
      },
      "outputs": [],
      "source": [
        "# complete this function implementation\n",
        "def loss_(x, y):\n",
        " slope=len(hypothesis(x,theta))\n",
        " j = np.sum((hypothesis(x,theta) -y)**2) / slope # cost\n",
        " return j\n"
      ]
    },
    {
      "cell_type": "markdown",
      "metadata": {
        "id": "WjWa6pMGsy3d"
      },
      "source": [
        "**Part C-**\n",
        "Write a function that applies the gradient descent algorithm and updates values of $\\theta_0$ and $\\theta_1$ until they converge.\n",
        "\n",
        "* take default vaue of $α$ to be 0.015\n",
        "* take default number of iterations to be 15000\n",
        "* print loss after every 500 iterations"
      ]
    },
    {
      "cell_type": "code",
      "execution_count": 57,
      "metadata": {
        "collapsed": true,
        "id": "U7qtzuCWsy3e"
      },
      "outputs": [],
      "source": [
        " # complete this function implementation\n",
        "\n",
        "def gradientDescent(x, y, theta, numIterations=15000, alpha=0.015):\n",
        "  slope = len(hypothesis(x,theta))\n",
        "  loss = []\n",
        "  i =0\n",
        "#cost function\n",
        "  while(i<numIterations):\n",
        "      theta [0]= theta[0] - (1/slope)*(alpha)* (np.sum(hypothesis(x,theta))-y)\n",
        "      theta [1]= theta[1] - (1/slope)*(alpha)* (np.sum(hypothesis(x,theta)-y)*x)\n",
        "      i =i+1\n",
        "      if(i%500==0):\n",
        "        print(loss)\n",
        "        return theta"
      ]
    },
    {
      "cell_type": "markdown",
      "metadata": {
        "id": "0zwvS5cqsy3g"
      },
      "source": [
        "**Part D -**\n",
        "FactoryRevenue.csv contains information about the number of workers in a factory and the annual profit for that factory. Import the file FactoryRevenue.csv as a Pandas DataSet and print out the information for it."
      ]
    },
    {
      "cell_type": "code",
      "execution_count": 58,
      "metadata": {
        "colab": {
          "base_uri": "https://localhost:8080/"
        },
        "collapsed": true,
        "id": "Uef-aGHisy3h",
        "outputId": "ec070aba-9254-4656-d409-cf865a83ffaa"
      },
      "outputs": [
        {
          "output_type": "stream",
          "name": "stdout",
          "text": [
            "   TotalFactoryWorkers  AnnualProfit\n",
            "0               6.5894        5.9966\n",
            "1               9.2482       12.1340\n",
            "2               5.8918        1.8495\n",
            "3               8.2111        6.5426\n",
            "4               7.9334        4.5623\n"
          ]
        }
      ],
      "source": [
        "FactoryRevenue= pd.read_csv(\"https://raw.githubusercontent.com/Ahmad-Gill/21L-5617/main/Update_FactoryRevenue.csv\")\n",
        "print(FactoryRevenue.head())"
      ]
    },
    {
      "cell_type": "markdown",
      "metadata": {
        "id": "yv9_dDiw65o8"
      },
      "source": [
        "**Part E -**\n",
        "Remove rows that have any null values"
      ]
    },
    {
      "cell_type": "code",
      "execution_count": 59,
      "metadata": {
        "colab": {
          "base_uri": "https://localhost:8080/"
        },
        "id": "l50u9HZx7H5t",
        "outputId": "cdc5f1c0-8f2f-4a74-c9da-5199f1fb7883"
      },
      "outputs": [
        {
          "output_type": "stream",
          "name": "stdout",
          "text": [
            "total number of rows after deletion of null rows =  97\n",
            "   TotalFactoryWorkers  AnnualProfit\n",
            "0               6.5894        5.9966\n",
            "1               9.2482       12.1340\n",
            "2               5.8918        1.8495\n",
            "3               8.2111        6.5426\n",
            "4               7.9334        4.5623\n"
          ]
        }
      ],
      "source": [
        "FactoryRevenue=FactoryRevenue.dropna()\n",
        "length=(FactoryRevenue.shape[0])\n",
        "print(\"total number of rows after deletion of null rows = \",length)\n",
        "print(FactoryRevenue.head())\n"
      ]
    },
    {
      "cell_type": "markdown",
      "metadata": {
        "id": "u0Y68nh87HJX"
      },
      "source": [
        "**Part F -**\n",
        "\n",
        "First identify the independant and dependant variables. \n",
        "\n",
        "Then create two arrays named x and y and add independant variable data to array x, dependant variable data to array y."
      ]
    },
    {
      "cell_type": "code",
      "execution_count": 60,
      "metadata": {
        "colab": {
          "base_uri": "https://localhost:8080/"
        },
        "id": "m49bbkSy7xxp",
        "outputId": "fdf66e7a-e9f1-4a4a-ae5e-4292532323ec"
      },
      "outputs": [
        {
          "output_type": "stream",
          "name": "stdout",
          "text": [
            "independet variable is =  TotalFactoryWorkers \n",
            "dependet variable is =  AnnualProfit \n"
          ]
        }
      ],
      "source": [
        "# independant variable:\n",
        "print(\"independet variable is =  TotalFactoryWorkers \")\n",
        "\n",
        "# dependant variable:\n",
        "print(\"dependet variable is =  AnnualProfit \")\n",
        "x= np.array(FactoryRevenue[\"TotalFactoryWorkers\"])\n",
        "y= np.array(FactoryRevenue[\"AnnualProfit\"])"
      ]
    },
    {
      "cell_type": "markdown",
      "metadata": {
        "id": "8vRXmn9z8H4q"
      },
      "source": [
        "**Part G -** \n",
        "\n",
        "Create an array called 'theta' that will hold $θ_0$ and $θ_1$. Initalize both values to 0.\n",
        "\n",
        "Then call the gradientDescent function using array x, array y, and array theta. Do not provide any other input parameters.\n",
        "\n",
        "Print out the values of y-intercept and slope/gradient"
      ]
    },
    {
      "cell_type": "code",
      "execution_count": 61,
      "metadata": {
        "colab": {
          "base_uri": "https://localhost:8080/"
        },
        "id": "e7nBeh3b9KXK",
        "outputId": "b8469fbc-9783-4c7f-9ed9-a1e2be9c7b43"
      },
      "outputs": [
        {
          "output_type": "stream",
          "name": "stdout",
          "text": [
            "[]\n",
            "SLOPE =  [-43.37575809 -42.90121686 -43.69641015 -43.3335416  -43.48665758\n",
            " -43.52113438 -43.57708283 -43.05717046 -43.41435603 -43.72936376\n",
            " -43.9492916  -43.64800036 -43.48341789 -43.5330416  -43.42079675\n",
            " -43.43971686 -43.89684495 -42.45314984 -42.90740242 -42.52080448\n",
            " -43.46169108 -43.39527356 -43.23822201 -43.76075551 -42.21631995\n",
            " -43.32292562 -42.47920655 -43.13346943 -42.78307253 -42.92286634\n",
            " -43.31183799 -42.92039211 -43.50320397 -42.91157768 -43.32920397\n",
            " -43.54431479 -43.58795397 -42.64057253 -43.5954617  -43.28071686\n",
            " -43.78403799 -43.56779675 -43.42924778 -43.79605423 -43.55705706\n",
            " -43.42271428 -43.59673747 -42.15639727 -43.50979933 -43.43831737\n",
            " -43.6010751  -42.08905191 -42.79552098 -43.29456479 -42.70343335\n",
            " -41.97237665 -43.93374263 -43.31378644 -43.76774134 -43.82766015\n",
            " -43.62126325 -43.69675036 -43.50725551 -43.28248747 -43.68578644\n",
            " -43.82823696 -43.13927613 -43.79170268 -43.5281318  -43.74056737\n",
            " -43.58108026 -44.04668335 -43.81646582 -43.53906479 -43.39858283\n",
            " -43.31730448 -43.68031995 -43.80233567 -43.8236233  -43.78694289\n",
            " -43.25615242 -43.42624778 -43.5114617  -43.79637897 -43.53697716\n",
            " -43.42301582 -43.65070655 -43.31891273 -43.75851325 -43.44247716\n",
            " -43.69683541 -43.22052356 -43.76070912 -43.31747459 -43.69717562\n",
            " -43.50782768 -43.4529617 ]\n",
            "Intercept =  [ 3.98605427  5.59441332  3.56406267  4.96705166  4.79906561  4.89736497\n",
            "  3.39135825  7.76474225  3.84329335  3.83083202  3.84662041  3.79538375\n",
            "  3.41156255  5.6319183   5.71866371  5.3386535   3.13305777 12.87207467\n",
            "  9.01813474 11.46866223  4.36642743  5.01786487  6.19195246  3.32669239\n",
            " 12.3046605   6.13146054  3.69611652  3.3438116   5.1530643   4.23636982\n",
            "  3.54470526  5.07097677  4.52261756  5.18905699  3.92362661  3.05762435\n",
            "  3.45451181  8.56807489  3.46860643  5.08640221  3.41216747  3.25410209\n",
            "  3.85055238  3.10329575  3.88938819  4.27726235  3.74390513 12.26171124\n",
            "  3.32106664  3.82677906  3.3663146  11.46019336  7.7599029   6.62809917\n",
            "  7.97041477 13.43101997  3.17727736  5.55327881  3.63072476  3.3393957\n",
            "  3.06052797  3.45269705  4.61952561  3.55129887  3.20933808  5.01683651\n",
            "  8.10228714  3.28888495  4.43677953  3.63326542  4.37108531  3.04086809\n",
            "  3.96095013  4.56024353  3.04667532  6.21493938  3.08974556  3.46570281\n",
            "  3.13856254  3.84468466  5.90927373  3.94159271  5.15221741  3.27073737\n",
            "  4.16335607  7.08239345  3.49262172  4.7333109   4.29075205  3.06706109\n",
            "  3.50937798  7.0775541   3.35221998  4.5612114   3.21072939  4.4908593\n",
            "  4.59926082]\n"
          ]
        }
      ],
      "source": [
        "theta = [0,0]\n",
        "slope,intercept=gradientDescent(x,y,theta)\n",
        "print(\"SLOPE = \",slope)\n",
        "print(\"Intercept = \",intercept)"
      ]
    },
    {
      "cell_type": "markdown",
      "metadata": {
        "id": "lksKYteB9NOx"
      },
      "source": [
        "**Part H -** Plot a scatter plot and regression line on the same graph"
      ]
    },
    {
      "cell_type": "code",
      "execution_count": 74,
      "metadata": {
        "id": "Jdah8R6L9XSl",
        "colab": {
          "base_uri": "https://localhost:8080/",
          "height": 575
        },
        "outputId": "d4b479e5-ad71-47fc-8687-93931fb83b49"
      },
      "outputs": [
        {
          "output_type": "display_data",
          "data": {
            "text/plain": [
              "<Figure size 432x288 with 1 Axes>"
            ],
            "image/png": "[encoded data removed]"
          },
          "metadata": {
            "needs_background": "light"
          }
        },
        {
          "output_type": "stream",
          "name": "stdout",
          "text": [
            "\n",
            "\n"
          ]
        },
        {
          "output_type": "display_data",
          "data": {
            "text/plain": [
              "<Figure size 432x288 with 1 Axes>"
            ],
            "image/png": "[encoded data removed]"
          },
          "metadata": {
            "needs_background": "light"
          }
        }
      ],
      "source": [
        "plt.scatter(FactoryRevenue['AnnualProfit'],FactoryRevenue['TotalFactoryWorkers'])\n",
        "plt.xlabel(\"TotalFactoryWorkers\")\n",
        "plt.ylabel(\"AnnualProfit\")\n",
        "plt.show()\n",
        "print(\"\\n\")\n",
        "x_range = np.linspace(x.min(), x.max(), num=2)\n",
        "#plt.scatter(FactoryRevenue['AnnualProfit'],FactoryRevenue['TotalFactoryWorkers'])\n",
        "plt.plot(x,slope*x+intercept,color=\"red\")\n",
        "plt.xlabel(\"TotalFactoryWorkers\")\n",
        "plt.ylabel(\"AnnualProfit\")\n",
        "plt.show()"
      ]
    },
    {
      "cell_type": "markdown",
      "metadata": {
        "id": "upsln2T-38-M"
      },
      "source": [
        "---\n",
        "## Question 2\n",
        "\n",
        "Logistic Regression on Flowers Dataset\n",
        "\n",
        "---\n",
        "\n"
      ]
    },
    {
      "cell_type": "markdown",
      "metadata": {
        "id": "plh_l8AV4MU5"
      },
      "source": [
        "**Part A** - Load the file FlowersData.csv and describe the dataset"
      ]
    },
    {
      "cell_type": "code",
      "execution_count": 71,
      "metadata": {
        "colab": {
          "base_uri": "https://localhost:8080/",
          "height": 399
        },
        "id": "p7Cgq8di3771",
        "outputId": "76c31000-e1e3-40c7-9af8-ac2e8eb0eb6c"
      },
      "outputs": [
        {
          "output_type": "stream",
          "name": "stdout",
          "text": [
            "   sepal_length  sepal_width  petal_length  petal_width flower_name\n",
            "0           5.1          3.5           1.4          0.2    hibiscus\n",
            "1           4.9          3.0           1.4          0.2    hibiscus\n",
            "2           4.7          3.2           1.3          0.2    hibiscus\n",
            "3           4.6          3.1           1.5          0.2    hibiscus\n",
            "4           5.0          3.6           1.4          0.2    hibiscus\n"
          ]
        },
        {
          "output_type": "execute_result",
          "data": {
            "text/plain": [
              "       sepal_length  sepal_width  petal_length  petal_width\n",
              "count    150.000000   150.000000    150.000000   150.000000\n",
              "mean       5.843333     3.054000      3.758667     1.198667\n",
              "std        0.828066     0.433594      1.764420     0.763161\n",
              "min        4.300000     2.000000      1.000000     0.100000\n",
              "25%        5.100000     2.800000      1.600000     0.300000\n",
              "50%        5.800000     3.000000      4.350000     1.300000\n",
              "75%        6.400000     3.300000      5.100000     1.800000\n",
              "max        7.900000     4.400000      6.900000     2.500000"
            ],
            "text/html": [
              "\n",
              "  <div id=\"df-46889dae-a355-4ba1-8d74-05fc3ddfb7cb\">\n",
              "    <div class=\"colab-df-container\">\n",
              "      <div>\n",
              "<style scoped>\n",
              "    .dataframe tbody tr th:only-of-type {\n",
              "        vertical-align: middle;\n",
              "    }\n",
              "\n",
              "    .dataframe tbody tr th {\n",
              "        vertical-align: top;\n",
              "    }\n",
              "\n",
              "    .dataframe thead th {\n",
              "        text-align: right;\n",
              "    }\n",
              "</style>\n",
              "<table border=\"1\" class=\"dataframe\">\n",
              "  <thead>\n",
              "    <tr style=\"text-align: right;\">\n",
              "      <th></th>\n",
              "      <th>sepal_length</th>\n",
              "      <th>sepal_width</th>\n",
              "      <th>petal_length</th>\n",
              "      <th>petal_width</th>\n",
              "    </tr>\n",
              "  </thead>\n",
              "  <tbody>\n",
              "    <tr>\n",
              "      <th>count</th>\n",
              "      <td>150.000000</td>\n",
              "      <td>150.000000</td>\n",
              "      <td>150.000000</td>\n",
              "      <td>150.000000</td>\n",
              "    </tr>\n",
              "    <tr>\n",
              "      <th>mean</th>\n",
              "      <td>5.843333</td>\n",
              "      <td>3.054000</td>\n",
              "      <td>3.758667</td>\n",
              "      <td>1.198667</td>\n",
              "    </tr>\n",
              "    <tr>\n",
              "      <th>std</th>\n",
              "      <td>0.828066</td>\n",
              "      <td>0.433594</td>\n",
              "      <td>1.764420</td>\n",
              "      <td>0.763161</td>\n",
              "    </tr>\n",
              "    <tr>\n",
              "      <th>min</th>\n",
              "      <td>4.300000</td>\n",
              "      <td>2.000000</td>\n",
              "      <td>1.000000</td>\n",
              "      <td>0.100000</td>\n",
              "    </tr>\n",
              "    <tr>\n",
              "      <th>25%</th>\n",
              "      <td>5.100000</td>\n",
              "      <td>2.800000</td>\n",
              "      <td>1.600000</td>\n",
              "      <td>0.300000</td>\n",
              "    </tr>\n",
              "    <tr>\n",
              "      <th>50%</th>\n",
              "      <td>5.800000</td>\n",
              "      <td>3.000000</td>\n",
              "      <td>4.350000</td>\n",
              "      <td>1.300000</td>\n",
              "    </tr>\n",
              "    <tr>\n",
              "      <th>75%</th>\n",
              "      <td>6.400000</td>\n",
              "      <td>3.300000</td>\n",
              "      <td>5.100000</td>\n",
              "      <td>1.800000</td>\n",
              "    </tr>\n",
              "    <tr>\n",
              "      <th>max</th>\n",
              "      <td>7.900000</td>\n",
              "      <td>4.400000</td>\n",
              "      <td>6.900000</td>\n",
              "      <td>2.500000</td>\n",
              "    </tr>\n",
              "  </tbody>\n",
              "</table>\n",
              "</div>\n",
              "      <button class=\"colab-df-convert\" onclick=\"convertToInteractive('df-46889dae-a355-4ba1-8d74-05fc3ddfb7cb')\"\n",
              "              title=\"Convert this dataframe to an interactive table.\"\n",
              "              style=\"display:none;\">\n",
              "        \n",
              "  <svg xmlns=\"http://www.w3.org/2000/svg\" height=\"24px\"viewBox=\"0 0 24 24\"\n",
              "       width=\"24px\">\n",
              "    <path d=\"M0 0h24v24H0V0z\" fill=\"none\"/>\n",
              "    <path d=\"M18.56 5.44l.94 2.06.94-2.06 2.06-.94-2.06-.94-.94-2.06-.94 2.06-2.06.94zm-11 1L8.5 8.5l.94-2.06 2.06-.94-2.06-.94L8.5 2.5l-.94 2.06-2.06.94zm10 10l.94 2.06.94-2.06 2.06-.94-2.06-.94-.94-2.06-.94 2.06-2.06.94z\"/><path d=\"M17.41 7.96l-1.37-1.37c-.4-.4-.92-.59-1.43-.59-.52 0-1.04.2-1.43.59L10.3 9.45l-7.72 7.72c-.78.78-.78 2.05 0 2.83L4 21.41c.39.39.9.59 1.41.59.51 0 1.02-.2 1.41-.59l7.78-7.78 2.81-2.81c.8-.78.8-2.07 0-2.86zM5.41 20L4 18.59l7.72-7.72 1.47 1.35L5.41 20z\"/>\n",
              "  </svg>\n",
              "      </button>\n",
              "      \n",
              "  <style>\n",
              "    .colab-df-container {\n",
              "      display:flex;\n",
              "      flex-wrap:wrap;\n",
              "      gap: 12px;\n",
              "    }\n",
              "\n",
              "    .colab-df-convert {\n",
              "      background-color: #E8F0FE;\n",
              "      border: none;\n",
              "      border-radius: 50%;\n",
              "      cursor: pointer;\n",
              "      display: none;\n",
              "      fill: #1967D2;\n",
              "      height: 32px;\n",
              "      padding: 0 0 0 0;\n",
              "      width: 32px;\n",
              "    }\n",
              "\n",
              "    .colab-df-convert:hover {\n",
              "      background-color: #E2EBFA;\n",
              "      box-shadow: 0px 1px 2px rgba(60, 64, 67, 0.3), 0px 1px 3px 1px rgba(60, 64, 67, 0.15);\n",
              "      fill: #174EA6;\n",
              "    }\n",
              "\n",
              "    [theme=dark] .colab-df-convert {\n",
              "      background-color: #3B4455;\n",
              "      fill: #D2E3FC;\n",
              "    }\n",
              "\n",
              "    [theme=dark] .colab-df-convert:hover {\n",
              "      background-color: #434B5C;\n",
              "      box-shadow: 0px 1px 3px 1px rgba(0, 0, 0, 0.15);\n",
              "      filter: drop-shadow(0px 1px 2px rgba(0, 0, 0, 0.3));\n",
              "      fill: #FFFFFF;\n",
              "    }\n",
              "  </style>\n",
              "\n",
              "      <script>\n",
              "        const buttonEl =\n",
              "          document.querySelector('#df-46889dae-a355-4ba1-8d74-05fc3ddfb7cb button.colab-df-convert');\n",
              "        buttonEl.style.display =\n",
              "          google.colab.kernel.accessAllowed ? 'block' : 'none';\n",
              "\n",
              "        async function convertToInteractive(key) {\n",
              "          const element = document.querySelector('#df-46889dae-a355-4ba1-8d74-05fc3ddfb7cb');\n",
              "          const dataTable =\n",
              "            await google.colab.kernel.invokeFunction('convertToInteractive',\n",
              "                                                     [key], {});\n",
              "          if (!dataTable) return;\n",
              "\n",
              "          const docLinkHtml = 'Like what you see? Visit the ' +\n",
              "            '<a target=\"_blank\" href=https://colab.research.google.com/notebooks/data_table.ipynb>data table notebook</a>'\n",
              "            + ' to learn more about interactive tables.';\n",
              "          element.innerHTML = '';\n",
              "          dataTable['output_type'] = 'display_data';\n",
              "          await google.colab.output.renderOutput(dataTable, element);\n",
              "          const docLink = document.createElement('div');\n",
              "          docLink.innerHTML = docLinkHtml;\n",
              "          element.appendChild(docLink);\n",
              "        }\n",
              "      </script>\n",
              "    </div>\n",
              "  </div>\n",
              "  "
            ]
          },
          "metadata": {},
          "execution_count": 71
        }
      ],
      "source": [
        "FlowersData= pd.read_csv(\"https://raw.githubusercontent.com/Ahmad-Gill/21L-5617/main/FlowersData.csv\")\n",
        "print(FlowersData.head())\n",
        "FlowersData.describe()\n"
      ]
    },
    {
      "cell_type": "markdown",
      "metadata": {
        "id": "7LsiIV9n4QMz"
      },
      "source": [
        "**Part B** - Split data into training and test data using SKLearn train_test_split. Specify parameter test_size to be 25%\n",
        "\n",
        "Hint: You will be needing 4 arrays: X_train, X_test, y_train, y_test"
      ]
    },
    {
      "cell_type": "code",
      "execution_count": 44,
      "metadata": {
        "colab": {
          "base_uri": "https://localhost:8080/"
        },
        "id": "f49YQ4GT4k5s",
        "outputId": "60677ead-3fa1-4d9d-d648-cdee4bddbf02"
      },
      "outputs": [
        {
          "output_type": "stream",
          "name": "stdout",
          "text": [
            "\n",
            " X_train \n",
            "      sepal_length  sepal_width  petal_length  petal_width\n",
            "55            5.7          2.8           4.5          1.3\n",
            "39            5.1          3.4           1.5          0.2\n",
            "127           6.1          3.0           4.9          1.8\n",
            "83            6.0          2.7           5.1          1.6\n",
            "132           6.4          2.8           5.6          2.2\n",
            "\n",
            "\n",
            " y_train \n",
            "['daffodil' 'hibiscus' 'lily' 'daffodil' 'lily' 'lily' 'hibiscus' 'lily'\n",
            " 'lily' 'daffodil' 'lily' 'daffodil' 'daffodil' 'daffodil' 'lily'\n",
            " 'hibiscus' 'hibiscus' 'hibiscus' 'hibiscus' 'hibiscus' 'daffodil'\n",
            " 'daffodil' 'hibiscus' 'daffodil' 'hibiscus' 'daffodil' 'lily' 'daffodil'\n",
            " 'hibiscus' 'hibiscus' 'daffodil' 'lily' 'lily' 'daffodil' 'lily'\n",
            " 'daffodil' 'hibiscus' 'daffodil' 'hibiscus' 'lily' 'daffodil' 'hibiscus'\n",
            " 'daffodil' 'daffodil' 'hibiscus' 'daffodil' 'lily' 'lily' 'daffodil'\n",
            " 'daffodil' 'lily' 'hibiscus' 'hibiscus' 'hibiscus' 'lily' 'daffodil'\n",
            " 'daffodil' 'daffodil' 'hibiscus' 'lily' 'hibiscus' 'lily' 'hibiscus'\n",
            " 'lily' 'lily' 'daffodil' 'lily' 'lily' 'hibiscus' 'lily' 'lily'\n",
            " 'daffodil' 'daffodil' 'hibiscus' 'lily' 'lily' 'daffodil' 'lily'\n",
            " 'daffodil' 'daffodil' 'lily' 'lily' 'daffodil' 'daffodil' 'hibiscus'\n",
            " 'lily' 'hibiscus' 'hibiscus' 'hibiscus' 'lily' 'daffodil' 'hibiscus'\n",
            " 'hibiscus' 'lily' 'hibiscus' 'daffodil' 'daffodil' 'lily' 'daffodil'\n",
            " 'daffodil' 'hibiscus' 'lily' 'daffodil' 'hibiscus' 'daffodil' 'hibiscus'\n",
            " 'daffodil' 'lily' 'hibiscus' 'daffodil' 'lily' 'lily']\n",
            "\n",
            "\n",
            "\n",
            "x_test \n",
            "\n",
            "     sepal_length  sepal_width  petal_length  petal_width\n",
            "124           6.7          3.3           5.7          2.1\n",
            "114           5.8          2.8           5.1          2.4\n",
            "32            5.2          4.1           1.5          0.1\n",
            "2             4.7          3.2           1.3          0.2\n",
            "26            5.0          3.4           1.6          0.4\n",
            "\n",
            "\n",
            "\n",
            "y_test \n",
            "\n",
            "['lily' 'lily' 'hibiscus' 'hibiscus' 'hibiscus' 'daffodil' 'daffodil'\n",
            " 'daffodil' 'lily' 'daffodil' 'daffodil' 'lily' 'hibiscus' 'hibiscus'\n",
            " 'hibiscus' 'hibiscus' 'lily' 'daffodil' 'hibiscus' 'daffodil' 'hibiscus'\n",
            " 'lily' 'hibiscus' 'lily' 'lily' 'daffodil' 'lily' 'hibiscus' 'lily'\n",
            " 'daffodil' 'hibiscus' 'lily' 'hibiscus' 'lily' 'lily' 'hibiscus'\n",
            " 'hibiscus' 'hibiscus']\n",
            "\n",
            "\n"
          ]
        }
      ],
      "source": [
        "featurecall=['sepal_length','sepal_width','petal_length','petal_width']\n",
        "x= FlowersData[featurecall]\n",
        "y= FlowersData['flower_name'].values\n",
        "x_train,x_test,y_train,y_test=train_test_split(x,y,random_state=82,test_size=0.25,shuffle=True)\n",
        "print(\"\\n X_train \\n\",x_train.head())\n",
        "print(\"\\n\")\n",
        "print(\" y_train \")\n",
        "print( y_train)\n",
        "print(\"\\n\")\n",
        "print(\"\\nx_test \\n\")\n",
        "print(x_test.head())\n",
        "print(\"\\n\")\n",
        "print(\"\\ny_test \\n\")\n",
        "print(y_test)\n",
        "print(\"\\n\")\n",
        "#print(y)\n"
      ]
    },
    {
      "cell_type": "markdown",
      "metadata": {
        "id": "Ez5Fa2ePDzXu"
      },
      "source": [
        "**Part C** - Perform scaling on the X_test and X_train values using StandardScacler from SKLearn Library"
      ]
    },
    {
      "cell_type": "code",
      "execution_count": 45,
      "metadata": {
        "id": "97-2bUgtDzXv"
      },
      "outputs": [],
      "source": [
        "\n",
        "scaler=StandardScaler()\n",
        "#print(x_train)\n",
        "x_train=scaler.fit_transform(x_train)\n",
        "x_test=scaler.fit_transform(x_test)\n",
        "\n"
      ]
    },
    {
      "cell_type": "markdown",
      "metadata": {
        "id": "E9BlQYh54lLX"
      },
      "source": [
        "**Part D** - Train Model using SKLearn LogisticRegression"
      ]
    },
    {
      "cell_type": "code",
      "execution_count": 46,
      "metadata": {
        "colab": {
          "base_uri": "https://localhost:8080/"
        },
        "id": "hD_MUVu64xkw",
        "outputId": "c799859c-f871-4ceb-ddb4-d23e7cf3def7"
      },
      "outputs": [
        {
          "output_type": "execute_result",
          "data": {
            "text/plain": [
              "LogisticRegression(solver='liblinear')"
            ]
          },
          "metadata": {},
          "execution_count": 46
        }
      ],
      "source": [
        "logistic_model = LogisticRegression(solver='liblinear')\n",
        "logistic_model.fit(x_train, y_train)"
      ]
    },
    {
      "cell_type": "markdown",
      "metadata": {
        "id": "-HKhBOzW4xSx"
      },
      "source": [
        "**Part E** - Predict Labels for test split"
      ]
    },
    {
      "cell_type": "code",
      "execution_count": 47,
      "metadata": {
        "colab": {
          "base_uri": "https://localhost:8080/"
        },
        "id": "IqpPKB1M5G4G",
        "outputId": "5725967b-08b8-470c-d000-119bba55aa65"
      },
      "outputs": [
        {
          "output_type": "stream",
          "name": "stdout",
          "text": [
            "['lily' 'lily' 'hibiscus' 'hibiscus' 'hibiscus' 'lily' 'daffodil'\n",
            " 'daffodil' 'daffodil' 'daffodil' 'daffodil' 'daffodil' 'hibiscus'\n",
            " 'hibiscus' 'hibiscus' 'hibiscus' 'lily' 'lily' 'hibiscus' 'daffodil'\n",
            " 'hibiscus' 'lily' 'hibiscus' 'lily' 'lily' 'daffodil' 'lily' 'hibiscus'\n",
            " 'lily' 'daffodil' 'hibiscus' 'lily' 'hibiscus' 'lily' 'lily' 'hibiscus'\n",
            " 'hibiscus' 'hibiscus']\n"
          ]
        }
      ],
      "source": [
        "y_pred = logistic_model.predict(x_test)\n",
        "print(y_pred)"
      ]
    },
    {
      "cell_type": "markdown",
      "metadata": {
        "id": "34It-TAowlCw"
      },
      "source": [
        "---\n",
        "## Question 3\n",
        "\n",
        "Confusion Matrix Construction\n",
        "\n",
        "---"
      ]
    },
    {
      "cell_type": "markdown",
      "metadata": {
        "id": "vi_ix0XsxF8x"
      },
      "source": [
        "**Part A** - Using the prediction result of logistic regression (Question 2) construct a confusion matrix using SKLearn confusion_matrix\n",
        "\n",
        "Print out this confusion matrix"
      ]
    },
    {
      "cell_type": "code",
      "execution_count": 48,
      "metadata": {
        "colab": {
          "base_uri": "https://localhost:8080/",
          "height": 295
        },
        "id": "o23T4fDsxD-L",
        "outputId": "72fd4f52-40e6-4cb0-adcc-8a972d45095e"
      },
      "outputs": [
        {
          "output_type": "display_data",
          "data": {
            "text/plain": [
              "<Figure size 432x288 with 2 Axes>"
            ],
            "image/png": "[encoded data removed]"
          },
          "metadata": {
            "needs_background": "light"
          }
        }
      ],
      "source": [
        "cnf_matrix = metrics.confusion_matrix(y_test, y_pred)\n",
        "ax= plt.subplot()\n",
        "sns.heatmap(cnf_matrix, annot=True, fmt='g', ax=ax)\n",
        "ax.set_xlabel('Predicted labels');ax.set_ylabel('True labels')\n",
        "ax.set_title('Confusion Matrix'); \n"
      ]
    },
    {
      "cell_type": "markdown",
      "metadata": {
        "id": "JlYB9BY4xEh1"
      },
      "source": [
        "**Part B** - Calculate and print Accuracy"
      ]
    },
    {
      "cell_type": "code",
      "execution_count": 49,
      "metadata": {
        "colab": {
          "base_uri": "https://localhost:8080/"
        },
        "id": "cupearHPxUKj",
        "outputId": "e4eb322b-2cc3-47fc-f273-429d6c13128f"
      },
      "outputs": [
        {
          "output_type": "stream",
          "name": "stdout",
          "text": [
            "Accuracy is 0.8947368421052632\n"
          ]
        }
      ],
      "source": [
        "accuracy = accuracy_score(y_test,y_pred)\n",
        "print(\"Accuracy is\",accuracy)"
      ]
    },
    {
      "cell_type": "markdown",
      "metadata": {
        "id": "RvEXBB3CxUk-"
      },
      "source": [
        "**Part C** - Calculate and print Recall"
      ]
    },
    {
      "cell_type": "code",
      "execution_count": 50,
      "metadata": {
        "colab": {
          "base_uri": "https://localhost:8080/"
        },
        "id": "PyBufaj8xbKC",
        "outputId": "981d5d52-4d61-40e8-c91c-270dc1ad96d3"
      },
      "outputs": [
        {
          "output_type": "stream",
          "name": "stdout",
          "text": [
            "RECALL in percentage  [0.77777778 1.         0.84615385]\n"
          ]
        }
      ],
      "source": [
        "recall = recall_score(y_test, y_pred, average=None)\n",
        "print(\"RECALL in percentage \", recall)"
      ]
    },
    {
      "cell_type": "markdown",
      "metadata": {
        "id": "W6BgzGjMxbfu"
      },
      "source": [
        "**Part D** - Calculate and print Precision"
      ]
    },
    {
      "cell_type": "code",
      "execution_count": 51,
      "metadata": {
        "colab": {
          "base_uri": "https://localhost:8080/"
        },
        "id": "gHJg8C-1xg_6",
        "outputId": "1403420b-5962-4f6f-fce5-e4be65260c1f"
      },
      "outputs": [
        {
          "output_type": "stream",
          "name": "stdout",
          "text": [
            "Precision:  [0.77777778 1.         0.84615385]\n"
          ]
        }
      ],
      "source": [
        "precision = precision_score(y_test, y_pred,average=None)\n",
        "print(\"Precision: \",precision)"
      ]
    },
    {
      "cell_type": "markdown",
      "metadata": {
        "id": "6RPHz7hVxhbk"
      },
      "source": [
        "**Part E** - Calculate and print $𝐹_1$ Score"
      ]
    },
    {
      "cell_type": "code",
      "execution_count": 52,
      "metadata": {
        "colab": {
          "base_uri": "https://localhost:8080/"
        },
        "id": "NmwjCpMixmeJ",
        "outputId": "97f76938-45ec-4faa-9648-20a5a454d63a"
      },
      "outputs": [
        {
          "output_type": "stream",
          "name": "stdout",
          "text": [
            "F1 score:  [0.77777778 1.         0.84615385]\n"
          ]
        }
      ],
      "source": [
        "f1 = f1_score(y_test, y_pred,average=None)\n",
        "print(\"F1 score: \", f1)"
      ]
    }
  ],
  "metadata": {
    "celltoolbar": "Slideshow",
    "colab": {
      "collapsed_sections": [],
      "provenance": []
    },
    "kernelspec": {
      "display_name": "Python 3",
      "language": "python",
      "name": "python3"
    },
    "language_info": {
      "codemirror_mode": {
        "name": "ipython",
        "version": 3
      },
      "file_extension": ".py",
      "mimetype": "text/x-python",
      "name": "python",
      "nbconvert_exporter": "python",
      "pygments_lexer": "ipython3",
      "version": "3.5.1"
    }
  },
  "nbformat": 4,
  "nbformat_minor": 0
}