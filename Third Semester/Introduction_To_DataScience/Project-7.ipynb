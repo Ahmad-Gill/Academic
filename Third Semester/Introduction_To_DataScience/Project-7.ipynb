{
  "cells": [
    {
      "cell_type": "markdown",
      "metadata": {
        "id": "EyD28pzviSpB"
      },
      "source": [
        "\n",
        "**Iport Libraries**"
      ]
    },
    {
      "cell_type": "code",
      "execution_count": null,
      "metadata": {
        "colab": {
          "base_uri": "https://localhost:8080/"
        },
        "id": "xGAWE2CfiPw-",
        "outputId": "945c51c8-5d36-4e85-c5ae-45aba392cdd8"
      },
      "outputs": [
        {
          "output_type": "stream",
          "name": "stdout",
          "text": [
            "Looking in indexes: https://pypi.org/simple, https://us-python.pkg.dev/colab-wheels/public/simple/\n",
            "Requirement already satisfied: joblib in /usr/local/lib/python3.8/dist-packages (1.2.0)\n",
            "Looking in indexes: https://pypi.org/simple, https://us-python.pkg.dev/colab-wheels/public/simple/\n",
            "Requirement already satisfied: mlxtend in /usr/local/lib/python3.8/dist-packages (0.14.0)\n",
            "Requirement already satisfied: setuptools in /usr/local/lib/python3.8/dist-packages (from mlxtend) (57.4.0)\n",
            "Requirement already satisfied: scikit-learn>=0.18 in /usr/local/lib/python3.8/dist-packages (from mlxtend) (1.0.2)\n",
            "Requirement already satisfied: numpy>=1.10.4 in /usr/local/lib/python3.8/dist-packages (from mlxtend) (1.21.6)\n",
            "Requirement already satisfied: scipy>=0.17 in /usr/local/lib/python3.8/dist-packages (from mlxtend) (1.7.3)\n",
            "Requirement already satisfied: matplotlib>=1.5.1 in /usr/local/lib/python3.8/dist-packages (from mlxtend) (3.2.2)\n",
            "Requirement already satisfied: pandas>=0.17.1 in /usr/local/lib/python3.8/dist-packages (from mlxtend) (1.3.5)\n",
            "Requirement already satisfied: kiwisolver>=1.0.1 in /usr/local/lib/python3.8/dist-packages (from matplotlib>=1.5.1->mlxtend) (1.4.4)\n",
            "Requirement already satisfied: pyparsing!=2.0.4,!=2.1.2,!=2.1.6,>=2.0.1 in /usr/local/lib/python3.8/dist-packages (from matplotlib>=1.5.1->mlxtend) (3.0.9)\n",
            "Requirement already satisfied: python-dateutil>=2.1 in /usr/local/lib/python3.8/dist-packages (from matplotlib>=1.5.1->mlxtend) (2.8.2)\n",
            "Requirement already satisfied: cycler>=0.10 in /usr/local/lib/python3.8/dist-packages (from matplotlib>=1.5.1->mlxtend) (0.11.0)\n",
            "Requirement already satisfied: pytz>=2017.3 in /usr/local/lib/python3.8/dist-packages (from pandas>=0.17.1->mlxtend) (2022.6)\n",
            "Requirement already satisfied: six>=1.5 in /usr/local/lib/python3.8/dist-packages (from python-dateutil>=2.1->matplotlib>=1.5.1->mlxtend) (1.15.0)\n",
            "Requirement already satisfied: joblib>=0.11 in /usr/local/lib/python3.8/dist-packages (from scikit-learn>=0.18->mlxtend) (1.2.0)\n",
            "Requirement already satisfied: threadpoolctl>=2.0.0 in /usr/local/lib/python3.8/dist-packages (from scikit-learn>=0.18->mlxtend) (3.1.0)\n"
          ]
        }
      ],
      "source": [
        "\n",
        "import pandas as pd\n",
        "import matplotlib.pyplot as plt\n",
        "import numpy as np\n",
        "from sklearn.preprocessing import StandardScaler\n",
        "from matplotlib.cbook import boxplot_stats\n",
        "import seaborn as sns\n",
        "import math\n",
        "from sklearn.linear_model import LogisticRegression\n",
        "from scipy.stats import entropy as en\n",
        "from sklearn.datasets import fetch_20newsgroups\n",
        "from sklearn.feature_selection import mutual_info_classif\n",
        "from sklearn.feature_extraction.text import CountVectorizer\n",
        "from sklearn.preprocessing import MinMaxScaler\n",
        "from math import log2\n",
        "from sklearn.model_selection import train_test_split\n",
        "!pip install joblib\n",
        "import json\n",
        "import subprocess\n",
        "import sqlalchemy\n",
        "!pip install mlxtend\n",
        "import joblib\n",
        "import sys\n",
        "from sklearn import preprocessing\n",
        "sys.modules['sklearn.externals.joblib'] = joblib\n",
        "from mlxtend.feature_selection import SequentialFeatureSelector as sfs\n",
        "\n",
        "\n",
        "\n",
        "from sklearn.preprocessing import normalize\n",
        "from sklearn import linear_model\n",
        "from sklearn.metrics import r2_score\n",
        "from sklearn.preprocessing import StandardScaler\n",
        "from sklearn.metrics import accuracy_score\n",
        "from sklearn.linear_model import LogisticRegression\n",
        "from sklearn.model_selection import train_test_split\n",
        "from sklearn.preprocessing import MinMaxScaler\n",
        "from mlxtend.feature_selection import SequentialFeatureSelector as sfs\n",
        "from sklearn.linear_model import LinearRegression\n",
        "from sklearn.model_selection import train_test_split\n",
        "from sklearn import preprocessing\n",
        "\n",
        "\n",
        "import numpy as np\n",
        "import pandas as pd\n",
        "from sklearn.model_selection import train_test_split\n",
        "from sklearn.linear_model import LinearRegression\n",
        "from sklearn.metrics import r2_score\n",
        "import matplotlib.pyplot as plt\n",
        "import seaborn as sns\n",
        "import warnings\n",
        "warnings.filterwarnings(\"ignore\")\n",
        "\n",
        "from sklearn.linear_model import LinearRegression\n",
        "\n",
        "import numpy as np # linear algebra\n",
        "import pandas as pd # data processing, CSV file I/O (e.g. pd.read_csv)\n",
        "import math\n",
        "from collections import Counter\n",
        "\n",
        "# Input data files are available in the \"../input/\" directory.\n",
        "# For example, running this (by clicking run or pressing Shift+Enter) will list the files in the input directory\n",
        "\n",
        "import os\n"
      ]
    },
    {
      "cell_type": "markdown",
      "metadata": {
        "id": "fLrguvHYoLI3"
      },
      "source": [
        "# Xcel to csv\n"
      ]
    },
    {
      "cell_type": "code",
      "execution_count": null,
      "metadata": {
        "id": "PpN_WWmhoPiM"
      },
      "outputs": [],
      "source": [
        "CollectedData_Xcel= pd.read_excel('CollectedData.xlsx')\n",
        " \n",
        "#print(CollectedData_Xcel.head())\n",
        "CollectedData_Xcel.to_csv (\"CollectedData.csv\", index = None, header=True)\n",
        "CollectedData_csv = pd.read_csv(\"CollectedData.csv\")\n",
        "#print(CollectedData_csv.head())\n",
        "CollectedData_csv=CollectedData_csv.rename(columns={CollectedData_csv.columns[2]:'Age',CollectedData_csv.columns[7]:'AMV',CollectedData_csv.columns[21]:'Clo',CollectedData_csv.columns[18]:'Met',CollectedData_csv.columns[25]:'Dewpt',CollectedData_csv.columns[26]:'PlaneRadTemp',CollectedData_csv.columns[36]:'Ta',CollectedData_csv.columns[37]:'Tmrt',CollectedData_csv.columns[39]:'Vel',CollectedData_csv.columns[41]:'AirTurb',CollectedData_csv.columns[42]:'Pa',CollectedData_csv.columns[43]:'Rh',CollectedData_csv.columns[73]:'TaOutdoor',CollectedData_csv.columns[76]:'RhOutdoor',CollectedData_csv.columns[48]:'PMV'})\n",
        "#CollectedData_csv.info()\n"
      ]
    },
    {
      "cell_type": "markdown",
      "metadata": {
        "id": "u1BZoyyD2_Fb"
      },
      "source": [
        "***Part A. Preprocessing***"
      ]
    },
    {
      "cell_type": "code",
      "execution_count": null,
      "metadata": {
        "colab": {
          "base_uri": "https://localhost:8080/"
        },
        "id": "2Bn6PMer3CyK",
        "outputId": "6b161c9c-b0cc-46cc-c285-8ab14c90318d"
      },
      "outputs": [
        {
          "output_type": "stream",
          "name": "stdout",
          "text": [
            "          Age   Clo  Met   Dewpt  PlaneRadTemp         Ta       Tmrt   Vel  \\\n",
            "0         NaN  0.78  2.1     NaN           NaN  19.100000  19.629472  0.06   \n",
            "1         NaN  1.05  2.1     NaN           NaN  20.000000  19.046655  0.06   \n",
            "2         NaN  0.40  2.6     NaN           NaN  21.000000  20.153116  0.06   \n",
            "3         NaN  0.37  3.0     NaN           NaN  23.000000  21.942458  0.06   \n",
            "4         NaN  1.29  2.1     NaN           NaN  19.800000  19.429333  0.06   \n",
            "...       ...   ...  ...     ...           ...        ...        ...   ...   \n",
            "12560  1996.0   NaN  0.1  22.122           NaN  22.142437        NaN   NaN   \n",
            "12561  1996.0   NaN  0.1  22.122           NaN  22.142437        NaN   NaN   \n",
            "12562  1996.0   NaN  0.1  22.122           NaN  22.142437        NaN   NaN   \n",
            "12563  1996.0   NaN  0.1  22.122           NaN  22.142437        NaN   NaN   \n",
            "12564  1996.0   NaN  0.1  22.122           NaN  22.142437        NaN   NaN   \n",
            "\n",
            "        AirTurb    Pa    Rh  TaOutdoor  RhOutdoor  AMV   PMV  \n",
            "0           NaN   NaN  51.3      11.55       79.0  2.0  0.51  \n",
            "1           NaN   NaN  51.9      11.55       79.0  1.0  0.80  \n",
            "2           NaN   NaN  49.9      11.55       79.0  3.0  0.76  \n",
            "3           NaN   NaN  45.6      11.55       79.0  3.0  1.47  \n",
            "4           NaN   NaN  51.4      11.55       79.0  1.0  0.97  \n",
            "...         ...   ...   ...        ...        ...  ...   ...  \n",
            "12560  67.42325  22.3  22.9        NaN        0.0  1.0   NaN  \n",
            "12561  67.42325  22.3  21.4        NaN        0.0  1.0   NaN  \n",
            "12562  67.42325  22.3  23.1        NaN        0.0  1.0   NaN  \n",
            "12563  67.42325  22.3  22.0        NaN        0.0  1.0   NaN  \n",
            "12564  67.42325  22.3  20.3        NaN        0.0  1.0   NaN  \n",
            "\n",
            "[12565 rows x 15 columns]\n",
            "-------Data type of each column of Dataframe :------\n",
            "Age             float64\n",
            "Clo             float64\n",
            "Met             float64\n",
            "Dewpt           float64\n",
            "PlaneRadTemp    float64\n",
            "Ta              float64\n",
            "Tmrt            float64\n",
            "Vel             float64\n",
            "AirTurb         float64\n",
            "Pa              float64\n",
            "Rh              float64\n",
            "TaOutdoor       float64\n",
            "RhOutdoor       float64\n",
            "AMV             float64\n",
            "PMV             float64\n",
            "dtype: object\n",
            "---------NUMBER OF NULLS IN EACH COlumn---------\n",
            "Age             2915\n",
            "Clo             1406\n",
            "Met             1887\n",
            "Dewpt           3551\n",
            "PlaneRadTemp    7021\n",
            "Ta                20\n",
            "Tmrt            3701\n",
            "Vel             3700\n",
            "AirTurb         5600\n",
            "Pa              4655\n",
            "Rh                35\n",
            "TaOutdoor       1368\n",
            "RhOutdoor         19\n",
            "AMV               55\n",
            "PMV              696\n",
            "dtype: int64\n",
            "---------Find min---------\n",
            "Age              0.000\n",
            "Clo              0.150\n",
            "Met              0.100\n",
            "Dewpt           -1.953\n",
            "PlaneRadTemp    -7.420\n",
            "Ta              15.960\n",
            "Tmrt            16.610\n",
            "Vel              0.000\n",
            "AirTurb          0.000\n",
            "Pa               0.000\n",
            "Rh               7.400\n",
            "TaOutdoor      -24.900\n",
            "RhOutdoor        0.000\n",
            "AMV             -3.000\n",
            "PMV             -4.170\n",
            "dtype: float64\n",
            "---------Find max---------\n",
            "Age             1996.00000\n",
            "Clo                2.13000\n",
            "Met                4.50000\n",
            "Dewpt             26.89675\n",
            "PlaneRadTemp      11.70000\n",
            "Ta                31.00000\n",
            "Tmrt              37.44500\n",
            "Vel                1.88000\n",
            "AirTurb          102.45000\n",
            "Pa                27.70000\n",
            "Rh                79.30000\n",
            "TaOutdoor         32.35000\n",
            "RhOutdoor        100.35000\n",
            "AMV                3.00000\n",
            "PMV                2.50000\n",
            "dtype: float64\n",
            "---------Find varience---------\n",
            "Age             462556.556104\n",
            "Clo                  0.049284\n",
            "Met                  0.183939\n",
            "Dewpt               34.845928\n",
            "PlaneRadTemp         1.084022\n",
            "Ta                   2.053443\n",
            "Tmrt                 2.257475\n",
            "Vel                  0.006248\n",
            "AirTurb            627.057129\n",
            "Pa                  66.522562\n",
            "Rh                 226.848017\n",
            "TaOutdoor          113.751067\n",
            "RhOutdoor          610.305583\n",
            "AMV                  1.214430\n",
            "PMV                  0.289471\n",
            "dtype: float64\n",
            "---------Find STD---------\n",
            "Age             680.115105\n",
            "Clo               0.221999\n",
            "Met               0.428882\n",
            "Dewpt             5.903044\n",
            "PlaneRadTemp      1.041164\n",
            "Ta                1.432984\n",
            "Tmrt              1.502489\n",
            "Vel               0.079044\n",
            "AirTurb          25.041109\n",
            "Pa                8.156136\n",
            "Rh               15.061475\n",
            "TaOutdoor        10.665415\n",
            "RhOutdoor        24.704364\n",
            "AMV               1.102012\n",
            "PMV               0.538025\n",
            "dtype: float64\n",
            "\n",
            "----------- Calculate Mean -----------\n",
            "\n",
            "Age             308.637202\n",
            "Clo               0.778503\n",
            "Met               1.065907\n",
            "Dewpt            13.621447\n",
            "PlaneRadTemp      0.217785\n",
            "Ta               23.179187\n",
            "Tmrt             23.450693\n",
            "Vel               0.112445\n",
            "AirTurb          18.265870\n",
            "Pa                5.123996\n",
            "Rh               42.528507\n",
            "TaOutdoor        17.175087\n",
            "RhOutdoor        61.098939\n",
            "AMV               0.100584\n",
            "PMV              -0.073711\n",
            "dtype: float64\n",
            "\n",
            "----------- Calculate Median -----------\n",
            "\n",
            "Age             35.000000\n",
            "Clo              0.751700\n",
            "Met              1.100000\n",
            "Dewpt           14.100000\n",
            "PlaneRadTemp     0.200000\n",
            "Ta              23.136667\n",
            "Tmrt            23.359219\n",
            "Vel              0.100000\n",
            "AirTurb          0.500000\n",
            "Pa               1.550667\n",
            "Rh              43.276815\n",
            "TaOutdoor       18.200000\n",
            "RhOutdoor       68.795799\n",
            "AMV              0.000000\n",
            "PMV             -0.030000\n",
            "dtype: float64\n",
            "\n",
            "----------- Calculate Mode -----------\n",
            "\n",
            "    Age   Clo  Met  Dewpt  PlaneRadTemp    Ta  Tmrt  Vel  AirTurb   Pa    Rh  \\\n",
            "0  24.0  0.77  1.0   17.4           0.3  23.2  22.5  0.1      0.5  2.1  64.0   \n",
            "\n",
            "   TaOutdoor  RhOutdoor  AMV  PMV  \n",
            "0  27.555556        0.0  0.0  0.1  \n",
            "\n",
            "----------- Calculate Outliers -----------\n",
            "\n",
            "4\n",
            "71\n",
            "55\n",
            "0\n",
            "245\n",
            "138\n",
            "277\n",
            "161\n",
            "2\n",
            "39\n",
            "0\n",
            "10\n",
            "1\n",
            "0\n",
            "114\n"
          ]
        }
      ],
      "source": [
        "Selecting_the_data = pd.DataFrame(CollectedData_csv, columns=['Age','Clo','Met','Dewpt','PlaneRadTemp','Ta','Tmrt','Vel','AirTurb','Pa','Rh','TaOutdoor','RhOutdoor','AMV','PMV'])\n",
        "print(Selecting_the_data)\n",
        "DataType = Selecting_the_data.dtypes\n",
        "print('-------Data type of each column of Dataframe :------')\n",
        "print(DataType)\n",
        "print('---------NUMBER OF NULLS IN EACH COlumn---------')\n",
        "print(CollectedData_csv[['Age','Clo','Met','Dewpt','PlaneRadTemp','Ta','Tmrt','Vel','AirTurb','Pa','Rh','TaOutdoor','RhOutdoor','AMV','PMV']].isna().sum())\n",
        "\n",
        "\n",
        "print('---------Find min---------')\n",
        "\n",
        "print(CollectedData_csv[['Age','Clo','Met','Dewpt','PlaneRadTemp','Ta','Tmrt','Vel','AirTurb','Pa','Rh','TaOutdoor','RhOutdoor','AMV','PMV']].min())\n",
        "print('---------Find max---------')\n",
        "print(CollectedData_csv[['Age','Clo','Met','Dewpt','PlaneRadTemp','Ta','Tmrt','Vel','AirTurb','Pa','Rh','TaOutdoor','RhOutdoor','AMV','PMV']].max())\n",
        "print('---------Find varience---------')\n",
        "print(CollectedData_csv[['Age','Clo','Met','Dewpt','PlaneRadTemp','Ta','Tmrt','Vel','AirTurb','Pa','Rh','TaOutdoor','RhOutdoor','AMV','PMV']].var())\n",
        "\n",
        "print('---------Find STD---------')\n",
        "\n",
        "print(CollectedData_csv[['Age','Clo','Met','Dewpt','PlaneRadTemp','Ta','Tmrt','Vel','AirTurb','Pa','Rh','TaOutdoor','RhOutdoor','AMV','PMV']].std())\n",
        "print(\"\\n----------- Calculate Mean -----------\\n\")\n",
        "print(Selecting_the_data.mean())\n",
        " \n",
        "print(\"\\n----------- Calculate Median -----------\\n\")\n",
        "print(Selecting_the_data.median())\n",
        " \n",
        "print(\"\\n----------- Calculate Mode -----------\\n\")\n",
        "print(Selecting_the_data.mode())\n",
        "\n",
        "print(\"\\n----------- Calculate Outliers -----------\\n\")\n",
        "for i in range(0,15):\n",
        "  Outliers=Selecting_the_data[Selecting_the_data.columns[i]].dropna()\n",
        "  stats=boxplot_stats(Outliers)\n",
        "  print(len(set(stats[0]['fliers'])))"
      ]
    },
    {
      "cell_type": "markdown",
      "metadata": {
        "id": "Iydf4RtFgCET"
      },
      "source": [
        "# **Histogram & Box PLOT** "
      ]
    },
    {
      "cell_type": "code",
      "execution_count": null,
      "metadata": {
        "colab": {
          "base_uri": "https://localhost:8080/",
          "height": 1000
        },
        "id": "J4ZZJC3zgLxl",
        "outputId": "fd695c4a-07a2-4a98-d61c-44766d38c9e3"
      },
      "outputs": [
        {
          "output_type": "stream",
          "name": "stdout",
          "text": [
            "\n",
            "-----HISTOGRAM--------\n",
            "\n"
          ]
        },
        {
          "output_type": "display_data",
          "data": {
            "text/plain": [
              "<Figure size 1440x1080 with 16 Axes>"
            ],
            "image/png": "[encoded data removed]"
          },
          "metadata": {
            "needs_background": "light"
          }
        },
        {
          "output_type": "stream",
          "name": "stdout",
          "text": [
            "\n",
            "-----BoxPlot--------\n",
            "\n",
            "\n",
            "\n"
          ]
        },
        {
          "output_type": "display_data",
          "data": {
            "text/plain": [
              "<Figure size 432x288 with 1 Axes>"
            ],
            "image/png": "[encoded data removed]"
          },
          "metadata": {
            "needs_background": "light"
          }
        },
        {
          "output_type": "stream",
          "name": "stdout",
          "text": [
            "\n",
            "\n"
          ]
        },
        {
          "output_type": "display_data",
          "data": {
            "text/plain": [
              "<Figure size 432x288 with 1 Axes>"
            ],
            "image/png": "[encoded data removed]"
          },
          "metadata": {
            "needs_background": "light"
          }
        },
        {
          "output_type": "stream",
          "name": "stdout",
          "text": [
            "\n",
            "\n"
          ]
        },
        {
          "output_type": "display_data",
          "data": {
            "text/plain": [
              "<Figure size 432x288 with 1 Axes>"
            ],
            "image/png": "[encoded data removed]"
          },
          "metadata": {
            "needs_background": "light"
          }
        },
        {
          "output_type": "stream",
          "name": "stdout",
          "text": [
            "\n",
            "\n"
          ]
        },
        {
          "output_type": "display_data",
          "data": {
            "text/plain": [
              "<Figure size 432x288 with 1 Axes>"
            ],
            "image/png": "[encoded data removed]"
          },
          "metadata": {
            "needs_background": "light"
          }
        },
        {
          "output_type": "stream",
          "name": "stdout",
          "text": [
            "\n",
            "\n"
          ]
        },
        {
          "output_type": "display_data",
          "data": {
            "text/plain": [
              "<Figure size 432x288 with 1 Axes>"
            ],
            "image/png": "[encoded data removed]"
          },
          "metadata": {
            "needs_background": "light"
          }
        },
        {
          "output_type": "stream",
          "name": "stdout",
          "text": [
            "\n",
            "\n"
          ]
        },
        {
          "output_type": "display_data",
          "data": {
            "text/plain": [
              "<Figure size 432x288 with 1 Axes>"
            ],
            "image/png": "[encoded data removed]"
          },
          "metadata": {
            "needs_background": "light"
          }
        },
        {
          "output_type": "stream",
          "name": "stdout",
          "text": [
            "\n",
            "\n"
          ]
        },
        {
          "output_type": "display_data",
          "data": {
            "text/plain": [
              "<Figure size 432x288 with 1 Axes>"
            ],
            "image/png": "[encoded data removed]"
          },
          "metadata": {
            "needs_background": "light"
          }
        },
        {
          "output_type": "stream",
          "name": "stdout",
          "text": [
            "\n",
            "\n"
          ]
        },
        {
          "output_type": "display_data",
          "data": {
            "text/plain": [
              "<Figure size 432x288 with 1 Axes>"
            ],
            "image/png": "[encoded data removed]"
          },
          "metadata": {
            "needs_background": "light"
          }
        },
        {
          "output_type": "stream",
          "name": "stdout",
          "text": [
            "\n",
            "\n"
          ]
        },
        {
          "output_type": "display_data",
          "data": {
            "text/plain": [
              "<Figure size 432x288 with 1 Axes>"
            ],
            "image/png": "[encoded data removed]"
          },
          "metadata": {
            "needs_background": "light"
          }
        },
        {
          "output_type": "stream",
          "name": "stdout",
          "text": [
            "\n",
            "\n"
          ]
        },
        {
          "output_type": "display_data",
          "data": {
            "text/plain": [
              "<Figure size 432x288 with 1 Axes>"
            ],
            "image/png": "[encoded data removed]"
          },
          "metadata": {
            "needs_background": "light"
          }
        },
        {
          "output_type": "stream",
          "name": "stdout",
          "text": [
            "\n",
            "\n"
          ]
        },
        {
          "output_type": "display_data",
          "data": {
            "text/plain": [
              "<Figure size 432x288 with 1 Axes>"
            ],
            "image/png": "[encoded data removed]"
          },
          "metadata": {
            "needs_background": "light"
          }
        },
        {
          "output_type": "stream",
          "name": "stdout",
          "text": [
            "\n",
            "\n"
          ]
        },
        {
          "output_type": "display_data",
          "data": {
            "text/plain": [
              "<Figure size 432x288 with 1 Axes>"
            ],
            "image/png": "[encoded data removed]"
          },
          "metadata": {
            "needs_background": "light"
          }
        },
        {
          "output_type": "stream",
          "name": "stdout",
          "text": [
            "\n",
            "\n"
          ]
        },
        {
          "output_type": "display_data",
          "data": {
            "text/plain": [
              "<Figure size 432x288 with 1 Axes>"
            ],
            "image/png": "[encoded data removed]"
          },
          "metadata": {
            "needs_background": "light"
          }
        },
        {
          "output_type": "stream",
          "name": "stdout",
          "text": [
            "\n",
            "\n"
          ]
        },
        {
          "output_type": "display_data",
          "data": {
            "text/plain": [
              "<Figure size 432x288 with 1 Axes>"
            ],
            "image/png": "[encoded data removed]"
          },
          "metadata": {
            "needs_background": "light"
          }
        },
        {
          "output_type": "stream",
          "name": "stdout",
          "text": [
            "\n",
            "\n"
          ]
        },
        {
          "output_type": "display_data",
          "data": {
            "text/plain": [
              "<Figure size 432x288 with 1 Axes>"
            ],
            "image/png": "[encoded data removed]"
          },
          "metadata": {
            "needs_background": "light"
          }
        }
      ],
      "source": [
        "print(\"\\n-----HISTOGRAM--------\\n\")\n",
        "\n",
        "Selecting_the_data.hist(bins=10,figsize = [20 , 15])\n",
        "plt.show()\n",
        "print(\"\\n-----BoxPlot--------\\n\")\n",
        "for i in range(0,15):\n",
        "  print(\"\\n\")\n",
        "  sns.boxplot(x=Selecting_the_data[Selecting_the_data.columns[i]])\n",
        "  plt.show()\n"
      ]
    },
    {
      "cell_type": "markdown",
      "metadata": {
        "id": "kl7Z9nXqgMfV"
      },
      "source": [
        "# **FILL THE MISSING VALUES**"
      ]
    },
    {
      "cell_type": "code",
      "execution_count": null,
      "metadata": {
        "colab": {
          "base_uri": "https://localhost:8080/"
        },
        "id": "K12gEkGhgSao",
        "outputId": "1bd50f19-b0e9-4967-eafc-732df061c387"
      },
      "outputs": [
        {
          "output_type": "stream",
          "name": "stdout",
          "text": [
            "87       35.0\n",
            "117      35.0\n",
            "120      35.0\n",
            "123      35.0\n",
            "124      35.0\n",
            "         ... \n",
            "10293    35.0\n",
            "10294    35.0\n",
            "10296    35.0\n",
            "10297    35.0\n",
            "10299    35.0\n",
            "Name: Age, Length: 3217, dtype: float64\n",
            "87       1.110000\n",
            "117      0.798463\n",
            "120      0.798463\n",
            "123      0.838023\n",
            "124      0.988069\n",
            "           ...   \n",
            "10293    0.778503\n",
            "10294    0.778503\n",
            "10296    0.778503\n",
            "10297    0.778503\n",
            "10299    0.778503\n",
            "Name: Clo, Length: 3217, dtype: float64\n",
            "87       1.400000\n",
            "117      1.100000\n",
            "120      1.100000\n",
            "123      1.100000\n",
            "124      1.100000\n",
            "           ...   \n",
            "10293    1.387457\n",
            "10294    1.417526\n",
            "10296    1.344502\n",
            "10297    1.052405\n",
            "10299    1.030928\n",
            "Name: Met, Length: 3217, dtype: float64\n",
            "87       14.1\n",
            "117      14.1\n",
            "120      14.1\n",
            "123      14.1\n",
            "124      14.1\n",
            "         ... \n",
            "10293    14.1\n",
            "10294    14.1\n",
            "10296    14.1\n",
            "10297    14.1\n",
            "10299    14.1\n",
            "Name: Dewpt, Length: 3217, dtype: float64\n",
            "87       0.217785\n",
            "117      0.217785\n",
            "120      0.217785\n",
            "123      0.217785\n",
            "124      0.217785\n",
            "           ...   \n",
            "10293    0.217785\n",
            "10294    0.217785\n",
            "10296    0.217785\n",
            "10297    0.217785\n",
            "10299    0.217785\n",
            "Name: PlaneRadTemp, Length: 3217, dtype: float64\n",
            "87       22.400000\n",
            "117      23.800000\n",
            "120      23.600000\n",
            "123      24.300000\n",
            "124      23.900000\n",
            "           ...    \n",
            "10293    20.413333\n",
            "10294    20.416667\n",
            "10296    21.376667\n",
            "10297    20.743333\n",
            "10299    20.373333\n",
            "Name: Ta, Length: 3217, dtype: float64\n",
            "87       22.928497\n",
            "117      24.892925\n",
            "120      24.576481\n",
            "123      24.733931\n",
            "124      24.448633\n",
            "           ...    \n",
            "10293    23.450693\n",
            "10294    23.450693\n",
            "10296    23.450693\n",
            "10297    23.450693\n",
            "10299    23.450693\n",
            "Name: Tmrt, Length: 3217, dtype: float64\n",
            "87       0.06\n",
            "117      0.14\n",
            "120      0.12\n",
            "123      0.12\n",
            "124      0.15\n",
            "         ... \n",
            "10293    0.10\n",
            "10294    0.10\n",
            "10296    0.10\n",
            "10297    0.10\n",
            "10299    0.10\n",
            "Name: Vel, Length: 3217, dtype: float64\n",
            "87       0.5\n",
            "117      0.5\n",
            "120      0.5\n",
            "123      0.5\n",
            "124      0.5\n",
            "        ... \n",
            "10293    0.5\n",
            "10294    0.5\n",
            "10296    0.5\n",
            "10297    0.5\n",
            "10299    0.5\n",
            "Name: AirTurb, Length: 3217, dtype: float64\n",
            "87       1.550667\n",
            "117      1.550667\n",
            "120      1.550667\n",
            "123      1.550667\n",
            "124      1.550667\n",
            "           ...   \n",
            "10293    1.550667\n",
            "10294    1.550667\n",
            "10296    1.550667\n",
            "10297    1.550667\n",
            "10299    1.550667\n",
            "Name: Pa, Length: 3217, dtype: float64\n",
            "87       31.500000\n",
            "117      62.000000\n",
            "120      61.400000\n",
            "123      60.600000\n",
            "124      60.000000\n",
            "           ...    \n",
            "10293    43.276815\n",
            "10294    43.276815\n",
            "10296    43.276815\n",
            "10297    43.276815\n",
            "10299    43.276815\n",
            "Name: Rh, Length: 3217, dtype: float64\n",
            "87        6.75\n",
            "117      31.90\n",
            "120      31.90\n",
            "123      31.90\n",
            "124      31.90\n",
            "         ...  \n",
            "10293    11.15\n",
            "10294    11.15\n",
            "10296    11.15\n",
            "10297    11.15\n",
            "10299    11.15\n",
            "Name: TaOutdoor, Length: 3217, dtype: float64\n",
            "87       81.5\n",
            "117      72.0\n",
            "120      72.0\n",
            "123      72.0\n",
            "124      72.0\n",
            "         ... \n",
            "10293    79.5\n",
            "10294    79.5\n",
            "10296    79.5\n",
            "10297    79.5\n",
            "10299    79.5\n",
            "Name: RhOutdoor, Length: 3217, dtype: float64\n",
            "87       0.0\n",
            "117      0.5\n",
            "120      1.0\n",
            "123     -1.0\n",
            "124      1.0\n",
            "        ... \n",
            "10293    0.7\n",
            "10294    0.5\n",
            "10296   -1.2\n",
            "10297   -1.0\n",
            "10299   -1.0\n",
            "Name: AMV, Length: 3217, dtype: float64\n",
            "87       0.52\n",
            "117      0.18\n",
            "120      0.15\n",
            "123      0.33\n",
            "124      0.38\n",
            "         ... \n",
            "10293   -0.03\n",
            "10294   -0.03\n",
            "10296   -0.03\n",
            "10297   -0.03\n",
            "10299   -0.03\n",
            "Name: PMV, Length: 3217, dtype: float64\n"
          ]
        }
      ],
      "source": [
        "\n",
        "#Number Of Missing Values In Column : Age\n",
        "#print(\"Number Of Missing Values In The Column Age : \" , Selecting_the_data['Age'].isnull().sum())\n",
        "\n",
        "#Filling Missing Values\n",
        "Selecting_the_data['Age'] = Selecting_the_data['Age'].fillna(Selecting_the_data['Age']).median()\n",
        "print(Selecting_the_data['Age'])\n",
        "\n",
        "#Number Of Missing Values In Column : CLO\n",
        "#print(\"\\nNumber Of Missing Values In The Column CLO\" , Selecting_the_data['Clo'].isnull().sum())\n",
        "\n",
        "#Filling Missing Values\n",
        "Selecting_the_data['Clo'] = Selecting_the_data['Clo'].fillna(Selecting_the_data['Clo'].mean())\n",
        "print(Selecting_the_data['Clo'])\n",
        "\n",
        "\n",
        "#Number Of Missing Values In Column : Met\n",
        "#print(\"\\nNumber Of Missing Values In The Column Met\" , Selecting_the_data['Met'].isnull().sum())\n",
        "\n",
        "#Filling Missing Values\n",
        "Selecting_the_data['Met'] = Selecting_the_data['Met'].fillna(Selecting_the_data['Met'].median())\n",
        "print(Selecting_the_data['Met'])\n",
        "\n",
        "\n",
        "#Number Of Missing Values In Column : Dewpt\n",
        "#print(\"\\nNumber Of Missing Values In Column Dewpt\" , Selecting_the_data['Dewpt'].isnull().sum())\n",
        "\n",
        "#Filling Missing Values\n",
        "Selecting_the_data['Dewpt'] = Selecting_the_data['Dewpt'].fillna(Selecting_the_data['Dewpt'].median())\n",
        "print(Selecting_the_data['Dewpt'])\n",
        "\n",
        "\n",
        "#Number Of Missing Values In Column : PlaneRadTemp\n",
        "#print(\"\\nNumber Of Missing Values In Column PlaneRadTemp\" , Selecting_the_data['PlaneRadTemp'].isnull().sum())\n",
        "\n",
        "#Filling Missing Values\n",
        "Selecting_the_data['PlaneRadTemp'] = Selecting_the_data['PlaneRadTemp'].fillna(Selecting_the_data['PlaneRadTemp'].mean())\n",
        "print(Selecting_the_data['PlaneRadTemp'])\n",
        "\n",
        "\n",
        "#Number Of Missing Values In Column : Ta\n",
        "#print(\"\\nNumber Of Missing Values In Column Ta\" , Selecting_the_data['Ta'].isnull().sum())\n",
        "\n",
        "#Filling Missing Values\n",
        "Selecting_the_data['Ta'] = Selecting_the_data['Ta'].fillna(Selecting_the_data['Ta'].median())\n",
        "print(Selecting_the_data['Ta'])\n",
        "\n",
        "\n",
        "#Number Of Missing Values In Column : Tmrt\n",
        "#print(\"\\nNumber Of Missing Values In Column Tmrt\" , Selecting_the_data['Tmrt'].isnull().sum())\n",
        "\n",
        "#Filling Missing Values\n",
        "Selecting_the_data['Tmrt'] = Selecting_the_data['Tmrt'].fillna(Selecting_the_data['Tmrt'].mean())\n",
        "print(Selecting_the_data['Tmrt'])\n",
        "\n",
        "\n",
        "#Number Of Missing Values In Column : Vel\n",
        "#print(\"\\nNumber Of Missing Values In Column Vel\" , Selecting_the_data['Vel'].isnull().sum())\n",
        "\n",
        "#Filling Missing Values\n",
        "Selecting_the_data['Vel'] = Selecting_the_data['Vel'].fillna(Selecting_the_data['Vel'].median())\n",
        "print(Selecting_the_data['Vel'])\n",
        "\n",
        "\n",
        "#Number Of Missing Values In Column : AirTub\n",
        "#print(\"\\nNumber Of Missing Values In Column AirTurb : \" , Selecting_the_data['AirTurb'].isnull().sum())\n",
        "\n",
        "#Filling Missing Values\n",
        "Selecting_the_data['AirTurb'] = Selecting_the_data['AirTurb'].fillna(Selecting_the_data['AirTurb'].median())\n",
        "print(Selecting_the_data['AirTurb'])\n",
        "\n",
        "\n",
        "#Number Of Missing Values In Column : Pa\n",
        "#print(\"\\nNumber Of Missing Values In Column Pa\" , Selecting_the_data['Pa'].isnull().sum())\n",
        "\n",
        "#Filling Missing Values\n",
        "Selecting_the_data['Pa'] = Selecting_the_data['Pa'].fillna(Selecting_the_data['Pa'].median())\n",
        "print(Selecting_the_data['Pa'])\n",
        "\n",
        "\n",
        "#Number Of Missing Values In Column : Rh\n",
        "#print(\"\\nNumber Of Missing Values In Column Rh\" , Selecting_the_data['Rh'].isnull().sum())\n",
        "\n",
        "#Filling Missing Values\n",
        "Selecting_the_data['Rh'] = Selecting_the_data['Rh'].fillna(Selecting_the_data['Rh'].median())\n",
        "print(Selecting_the_data['Rh'])\n",
        "\n",
        "\n",
        "#Number Of Missing Values In Column : TaOutDoor\n",
        "#print(\"\\nNumber Of Missing Values In Column TaOutDoor\" , Selecting_the_data['TaOutdoor'].isnull().sum())\n",
        "\n",
        "#Filling Missing Values\n",
        "Selecting_the_data['TaOutdoor'] = Selecting_the_data['TaOutdoor'].fillna(Selecting_the_data['TaOutdoor'].median())\n",
        "print(Selecting_the_data['TaOutdoor'])\n",
        "\n",
        "\n",
        "#Number Of Missing Values In Column : RhOutDoor\n",
        "#print(\"\\nNumber Of Missing Values In Column RhOutDoor\" , Selecting_the_data['RhOutdoor'].isnull().sum())\n",
        "\n",
        "#Filling Missing Values\n",
        "Selecting_the_data['RhOutdoor'] = Selecting_the_data['RhOutdoor'].fillna(Selecting_the_data['RhOutdoor'].median())\n",
        "print(Selecting_the_data['RhOutdoor'])\n",
        "\n",
        "\n",
        "#Number Of Missing Values In Column : AMV\n",
        "#print(\"\\nNumber Of Missing Values In Column AMV\" ,Selecting_the_data['AMV'].isnull().sum())\n",
        "\n",
        "#Filling Missing Values\n",
        "Selecting_the_data['AMV'] = Selecting_the_data['AMV'].fillna(Selecting_the_data['AMV'].median())\n",
        "print(Selecting_the_data['AMV'])\n",
        "\n",
        "\n",
        "#Number Of Missing Values In Column : PMV\n",
        "#print(\"\\nNumber Of Missing Values In Column PMV\" , Selecting_the_data['PMV'].isnull().sum())\n",
        "\n",
        "#Filling Missing Values\n",
        "Selecting_the_data['PMV'] = Selecting_the_data['PMV'].fillna(Selecting_the_data['PMV'].median())\n",
        "print(Selecting_the_data['PMV'])\n"
      ]
    },
    {
      "cell_type": "markdown",
      "metadata": {
        "id": "xvEwrw7LLy1j"
      },
      "source": [
        "# Handling the Noisy data"
      ]
    },
    {
      "cell_type": "code",
      "execution_count": null,
      "metadata": {
        "id": "cpAwxgGGL2a0",
        "colab": {
          "base_uri": "https://localhost:8080/",
          "height": 1000
        },
        "outputId": "ab12534d-6ca9-4ec1-f706-5965701bd009"
      },
      "outputs": [
        {
          "output_type": "stream",
          "name": "stdout",
          "text": [
            "Age              0.000000\n",
            "Clo              0.205720\n",
            "Met              0.200000\n",
            "Dewpt            4.990000\n",
            "PlaneRadTemp     0.000000\n",
            "Ta               1.600000\n",
            "Tmrt             0.910721\n",
            "Vel              0.040000\n",
            "AirTurb          0.214667\n",
            "Pa               0.241070\n",
            "Rh              26.060000\n",
            "TaOutdoor       13.455556\n",
            "RhOutdoor       23.180063\n",
            "AMV              1.700000\n",
            "PMV              0.610000\n",
            "dtype: float64\n",
            "         Age    Clo    Met  Dewpt  PlaneRadTemp     Ta   Tmrt   Vel  AirTurb  \\\n",
            "0      False   True  False  False          True  False  False  True     True   \n",
            "1      False  False  False  False          True  False  False  True     True   \n",
            "2      False   True  False  False          True  False  False  True     True   \n",
            "3      False   True  False  False          True  False  False  True     True   \n",
            "4      False  False  False  False          True  False  False  True     True   \n",
            "...      ...    ...    ...    ...           ...    ...    ...   ...      ...   \n",
            "12560  False   True   True  False          True  False  False  True    False   \n",
            "12561  False   True   True  False          True  False  False  True    False   \n",
            "12562  False   True   True  False          True  False  False  True    False   \n",
            "12563  False   True   True  False          True  False  False  True    False   \n",
            "12564  False   True   True  False          True  False  False  True    False   \n",
            "\n",
            "          Pa     Rh  TaOutdoor  RhOutdoor    AMV    PMV  \n",
            "0      False  False      False      False  False   True  \n",
            "1      False  False      False      False  False   True  \n",
            "2      False  False      False      False  False   True  \n",
            "3      False  False      False      False  False  False  \n",
            "4      False  False      False      False  False   True  \n",
            "...      ...    ...        ...        ...    ...    ...  \n",
            "12560  False  False      False       True  False   True  \n",
            "12561  False  False      False       True  False   True  \n",
            "12562  False  False      False       True  False   True  \n",
            "12563  False  False      False       True  False   True  \n",
            "12564  False  False      False       True  False   True  \n",
            "\n",
            "[12565 rows x 15 columns]\n"
          ]
        },
        {
          "output_type": "display_data",
          "data": {
            "text/plain": [
              "<Figure size 1440x1080 with 16 Axes>"
            ],
            "image/png": "[encoded data removed]"
          },
          "metadata": {
            "needs_background": "light"
          }
        }
      ],
      "source": [
        "#Question_4\n",
        "#Finding Number Of Outliers\n",
        "    \n",
        "Q1 = Selecting_the_data.quantile(0.25)\n",
        "Q3 = Selecting_the_data.quantile(0.75)\n",
        "IQR = Q3 - Q1\n",
        "print(IQR)\n",
        "print((Selecting_the_data < ((Q1 - 1.5 * IQR)) | (Selecting_the_data > (Q3 + 1.5 * IQR))))\n",
        "\n",
        "Selecting_the_data = Selecting_the_data[~((Selecting_the_data< (Q1 - 1.5 * IQR)) |(Selecting_the_data> (Q3 + 1.5 * IQR))).any(axis=1)]\n",
        "Selecting_the_data.shape\n",
        "Selecting_the_data.hist(bins=10,figsize = [20 , 15])\n",
        "plt.show()\n",
        "\n"
      ]
    },
    {
      "cell_type": "markdown",
      "metadata": {
        "id": "9oCWbqutkKm0"
      },
      "source": [
        "# Allpy **Filters**"
      ]
    },
    {
      "cell_type": "code",
      "execution_count": null,
      "metadata": {
        "id": "B7CZU5NykQKH"
      },
      "outputs": [],
      "source": [
        "#Question_5\n",
        "#Applying Filter\n",
        "variance = Selecting_the_data.var()\n",
        "columns = Selecting_the_data.columns\n",
        "v = []\n",
        "\n",
        "for i in range(0 , len(variance)):\n",
        "    if variance[i] >= 0:\n",
        "       v.append(columns[i])   "
      ]
    },
    {
      "cell_type": "markdown",
      "metadata": {
        "id": "yXMIx61rL6ls"
      },
      "source": [
        "# **Heat Map**"
      ]
    },
    {
      "cell_type": "code",
      "execution_count": null,
      "metadata": {
        "id": "3onMK-LHMDBM",
        "colab": {
          "base_uri": "https://localhost:8080/",
          "height": 332
        },
        "outputId": "0885a49d-f757-4e7c-8197-2f36489466a2"
      },
      "outputs": [
        {
          "output_type": "display_data",
          "data": {
            "text/plain": [
              "<Figure size 432x288 with 2 Axes>"
            ],
            "image/png": "[encoded data removed]"
          },
          "metadata": {
            "needs_background": "light"
          }
        }
      ],
      "source": [
        "dataplot = sns.heatmap(Selecting_the_data.corr() , cmap = \"hot_r\" , annot = True , annot_kws = {'size' : 5} )\n",
        "plt.show()"
      ]
    },
    {
      "cell_type": "markdown",
      "metadata": {
        "id": "oGKZJ8ppMHG_"
      },
      "source": [
        "# Entropy and information **gain**"
      ]
    },
    {
      "cell_type": "code",
      "execution_count": null,
      "metadata": {
        "id": "7MK0XzfmMKoi",
        "colab": {
          "base_uri": "https://localhost:8080/"
        },
        "outputId": "5b286c91-ba77-4088-f99b-8011586c1a36"
      },
      "outputs": [
        {
          "output_type": "stream",
          "name": "stdout",
          "text": [
            "-0.0\n",
            "4.784225029150438\n"
          ]
        }
      ],
      "source": [
        "#Entropy\n",
        "from math import e\n",
        "\n",
        "\n",
        "def pandas_entropy(column, base=None):\n",
        "    vc = pd.Series(column).value_counts(normalize=True, sort=False)\n",
        "    base = e if base is None else base\n",
        "    print(-(vc * np.log(vc)/np.log(base)).sum())\n",
        "Usage: pandas_entropy(Selecting_the_data['Age'])\n",
        "Usage: pandas_entropy(Selecting_the_data['Clo']) "
      ]
    },
    {
      "cell_type": "code",
      "execution_count": null,
      "metadata": {
        "id": "NuBrrWBMMR_A",
        "colab": {
          "base_uri": "https://localhost:8080/"
        },
        "outputId": "c42ade7e-0ade-4867-dd64-57b8e29acba3"
      },
      "outputs": [
        {
          "output_type": "stream",
          "name": "stdout",
          "text": [
            "Age   Clo       Met       Dewpt  PlaneRadTemp  Ta         Tmrt       Vel  AirTurb  Pa        Rh         TaOutdoor  RhOutdoor  AMV  PMV  \n",
            "35.0  0.682944  1.000000  14.1   0.217785      26.000000  23.450693  0.1  0.5      1.800000  61.000000  27.555556  81.550000  0.0  -0.30    0.001554\n",
            "      0.593940  0.989761  14.1   0.217785      22.600000  23.954162  0.1  0.5      1.435000  52.300000  28.050000  81.000000  0.0  -0.76    0.000933\n",
            "      0.810000  1.100000  14.1   0.217785      23.000000  23.450693  0.1  0.5      1.550667  21.400000  4.400000   55.300000  0.0  -0.23    0.000933\n",
            "      0.464972  1.194539  14.1   0.217785      22.400000  23.025230  0.1  0.5      1.653000  61.000000  28.050000  81.000000  0.0  -0.62    0.000933\n",
            "      0.778503  1.100000  14.1   0.217785      23.136667  23.450693  0.1  0.5      1.550667  43.276815  18.200000  68.795799  0.0  -0.03    0.000933\n",
            "dtype: float64\n"
          ]
        }
      ],
      "source": []
    },
    {
      "cell_type": "markdown",
      "metadata": {
        "id": "RuMK8kcaMUf4"
      },
      "source": [
        "# **Part B Analysis Algorithm**"
      ]
    },
    {
      "cell_type": "code",
      "execution_count": null,
      "metadata": {
        "id": "JEzUxvZ7MYBY",
        "colab": {
          "base_uri": "https://localhost:8080/"
        },
        "outputId": "173332df-83c1-4c1f-bd61-c7231d186f37"
      },
      "outputs": [
        {
          "output_type": "stream",
          "name": "stdout",
          "text": [
            "Normalized Dataset In The Form Of Array :- \n",
            "\n",
            "[[0.         0.9359188  0.82348993 ... 0.74991708 0.5        0.82949309]\n",
            " [0.         0.55143157 0.23355705 ... 0.40232172 0.5        0.48387097]\n",
            " [0.         0.33355548 0.23355705 ... 0.40232172 0.5        0.35483871]\n",
            " ...\n",
            " [0.         0.65898547 0.21812081 ... 0.37277179 0.66666667 0.61290323]\n",
            " [0.         0.36454515 0.40268456 ... 0.43225296 0.58333333 0.67281106]\n",
            " [0.         0.51106444 0.09773057 ... 0.72338308 0.33333333 0.57603687]]\n",
            "\n",
            "\n",
            "Normalized data in the form of Data Set : \n",
            "      Age       Clo       Met     Dewpt  PlaneRadTemp        Ta      Tmrt  \\\n",
            "0     0.0  0.935919  0.823490  0.016667           0.0  0.377729  0.378708   \n",
            "1     0.0  0.551432  0.233557  0.016667           0.0  0.475983  0.522168   \n",
            "2     0.0  0.333555  0.233557  0.016667           0.0  0.508734  0.522168   \n",
            "3     0.0  0.243842  0.233557  0.016667           0.0  0.508734  0.522168   \n",
            "4     0.0  0.859021  0.233557  0.016667           0.0  0.508734  0.522168   \n",
            "...   ...       ...       ...       ...           ...       ...       ...   \n",
            "3212  0.0  0.308461  0.469799  0.383333           0.0  0.295852  0.255495   \n",
            "3213  0.0  0.259990  0.151007  0.400000           0.0  0.344978  0.568681   \n",
            "3214  0.0  0.658985  0.218121  0.466667           0.0  0.508734  0.453297   \n",
            "3215  0.0  0.364545  0.402685  0.733333           0.0  0.737991  0.626374   \n",
            "3216  0.0  0.511064  0.097731  0.016667           0.0  0.045852  0.522168   \n",
            "\n",
            "           Vel   AirTurb        Pa        Rh  TaOutdoor  RhOutdoor       AMV  \\\n",
            "0     0.200000  0.395062  0.513390  0.312230   0.366337   0.749917  0.500000   \n",
            "1     0.466667  0.395062  0.513390  0.166906   0.308168   0.402322  0.500000   \n",
            "2     0.466667  0.395062  0.513390  0.120863   0.308168   0.402322  0.500000   \n",
            "3     0.466667  0.395062  0.513390  0.120863   0.308168   0.402322  0.500000   \n",
            "4     0.466667  0.395062  0.513390  0.120863   0.308168   0.402322  0.500000   \n",
            "...        ...       ...       ...       ...        ...        ...       ...   \n",
            "3212  0.333333  0.395062  0.435434  0.668734   0.922030   0.372772  0.333333   \n",
            "3213  0.200000  0.395062  0.433832  0.653251   0.922030   0.372772  0.416667   \n",
            "3214  0.000000  0.395062  0.442482  0.610556   0.922030   0.372772  0.666667   \n",
            "3215  0.333333  0.395062  0.675362  0.650685   0.899752   0.432253  0.583333   \n",
            "3216  0.466667  0.395062  0.513390  0.481681   0.475248   0.723383  0.333333   \n",
            "\n",
            "           PMV  \n",
            "0     0.829493  \n",
            "1     0.483871  \n",
            "2     0.354839  \n",
            "3     0.285714  \n",
            "4     0.649770  \n",
            "...        ...  \n",
            "3212  0.387097  \n",
            "3213  0.308756  \n",
            "3214  0.612903  \n",
            "3215  0.672811  \n",
            "3216  0.576037  \n",
            "\n",
            "[3217 rows x 15 columns]\n"
          ]
        }
      ],
      "source": [
        "scaler = MinMaxScaler()\n",
        "normalized_data = scaler.fit_transform(Selecting_the_data)\n",
        "print(\"Normalized Dataset In The Form Of Array :- \\n\")\n",
        "print(normalized_data)\n",
        "print(\"\\n\")\n",
        "print(\"Normalized data in the form of Data Set : \")\n",
        "normalized_data = pd.DataFrame(normalized_data , columns = Selecting_the_data.columns)\n",
        "print(normalized_data)\n",
        "\n"
      ]
    },
    {
      "cell_type": "markdown",
      "metadata": {
        "id": "5MUJpP0OT9tp"
      },
      "source": [
        "# **Forword Selection 2A**"
      ]
    },
    {
      "cell_type": "code",
      "execution_count": null,
      "metadata": {
        "id": "bt7ELccUM3s6",
        "colab": {
          "base_uri": "https://localhost:8080/"
        },
        "outputId": "eb7021c0-5e93-4f75-f96e-102aea6428dd"
      },
      "outputs": [
        {
          "output_type": "stream",
          "name": "stdout",
          "text": [
            "[0, 1, 2, 3, 5, 6, 7, 8, 9, 10, 11, 12, 13]\n"
          ]
        }
      ],
      "source": [
        "\n",
        "X = Selecting_the_data.drop(['PMV'] , axis = 1)\n",
        "Y = Selecting_the_data['PMV']\n",
        "\n",
        "mlr = LinearRegression()\n",
        "\n",
        "X_train, X_test, y_train, y_test = train_test_split(X,Y,test_size = 0.2 , random_state = 100)\n",
        "sfs1 = sfs(mlr,k_features='best',forward=True,floating=False,scoring='neg_mean_squared_error',cv=0)\n",
        "sfs1 = sfs1.fit(X_train, y_train)\n",
        "\n",
        "feat_names = list(sfs1.k_feature_idx_)\n",
        "print(feat_names)\n",
        "\n",
        "\n"
      ]
    },
    {
      "cell_type": "markdown",
      "metadata": {
        "id": "x2n8vzjsisvz"
      },
      "source": [
        "# BACK Word **SELECTION 2A**"
      ]
    },
    {
      "cell_type": "code",
      "execution_count": null,
      "metadata": {
        "id": "vm69jl8-iwFy",
        "colab": {
          "base_uri": "https://localhost:8080/",
          "height": 392
        },
        "outputId": "483117c5-2166-44f4-f559-5e07530467a5"
      },
      "outputs": [
        {
          "output_type": "error",
          "ename": "TypeError",
          "evalue": "ignored",
          "traceback": [
            "\u001b[0;31m---------------------------------------------------------------------------\u001b[0m",
            "\u001b[0;31mTypeError\u001b[0m                                 Traceback (most recent call last)",
            "\u001b[0;32m<ipython-input-286-86ea148df794>\u001b[0m in \u001b[0;36m<module>\u001b[0;34m\u001b[0m\n\u001b[1;32m      1\u001b[0m \u001b[0mX\u001b[0m \u001b[0;34m=\u001b[0m \u001b[0mSelecting_the_data\u001b[0m\u001b[0;34m.\u001b[0m\u001b[0mdrop\u001b[0m\u001b[0;34m(\u001b[0m\u001b[0;34m[\u001b[0m\u001b[0;34m'PMV'\u001b[0m\u001b[0;34m]\u001b[0m \u001b[0;34m,\u001b[0m \u001b[0maxis\u001b[0m \u001b[0;34m=\u001b[0m \u001b[0;36m1\u001b[0m\u001b[0;34m)\u001b[0m\u001b[0;34m\u001b[0m\u001b[0;34m\u001b[0m\u001b[0m\n\u001b[0;32m----> 2\u001b[0;31m \u001b[0mx\u001b[0m\u001b[0;34m=\u001b[0m\u001b[0mpd\u001b[0m\u001b[0;34m.\u001b[0m\u001b[0mconcat\u001b[0m\u001b[0;34m(\u001b[0m\u001b[0;34m[\u001b[0m\u001b[0mX\u001b[0m\u001b[0;34m,\u001b[0m\u001b[0;34m'PMV'\u001b[0m\u001b[0;34m]\u001b[0m\u001b[0;34m,\u001b[0m\u001b[0maxis\u001b[0m\u001b[0;34m=\u001b[0m\u001b[0;36m1\u001b[0m\u001b[0;34m)\u001b[0m\u001b[0;34m\u001b[0m\u001b[0;34m\u001b[0m\u001b[0m\n\u001b[0m\u001b[1;32m      3\u001b[0m \u001b[0mY\u001b[0m \u001b[0;34m=\u001b[0m \u001b[0mSelecting_the_data\u001b[0m\u001b[0;34m[\u001b[0m\u001b[0;34m'PMV'\u001b[0m\u001b[0;34m]\u001b[0m\u001b[0;34m\u001b[0m\u001b[0;34m\u001b[0m\u001b[0m\n\u001b[1;32m      4\u001b[0m \u001b[0;34m\u001b[0m\u001b[0m\n\u001b[1;32m      5\u001b[0m \u001b[0mmlr\u001b[0m \u001b[0;34m=\u001b[0m \u001b[0mLinearRegression\u001b[0m\u001b[0;34m(\u001b[0m\u001b[0;34m)\u001b[0m\u001b[0;34m\u001b[0m\u001b[0;34m\u001b[0m\u001b[0m\n",
            "\u001b[0;32m/usr/local/lib/python3.8/dist-packages/pandas/util/_decorators.py\u001b[0m in \u001b[0;36mwrapper\u001b[0;34m(*args, **kwargs)\u001b[0m\n\u001b[1;32m    309\u001b[0m                     \u001b[0mstacklevel\u001b[0m\u001b[0;34m=\u001b[0m\u001b[0mstacklevel\u001b[0m\u001b[0;34m,\u001b[0m\u001b[0;34m\u001b[0m\u001b[0;34m\u001b[0m\u001b[0m\n\u001b[1;32m    310\u001b[0m                 )\n\u001b[0;32m--> 311\u001b[0;31m             \u001b[0;32mreturn\u001b[0m \u001b[0mfunc\u001b[0m\u001b[0;34m(\u001b[0m\u001b[0;34m*\u001b[0m\u001b[0margs\u001b[0m\u001b[0;34m,\u001b[0m \u001b[0;34m**\u001b[0m\u001b[0mkwargs\u001b[0m\u001b[0;34m)\u001b[0m\u001b[0;34m\u001b[0m\u001b[0;34m\u001b[0m\u001b[0m\n\u001b[0m\u001b[1;32m    312\u001b[0m \u001b[0;34m\u001b[0m\u001b[0m\n\u001b[1;32m    313\u001b[0m         \u001b[0;32mreturn\u001b[0m \u001b[0mwrapper\u001b[0m\u001b[0;34m\u001b[0m\u001b[0;34m\u001b[0m\u001b[0m\n",
            "\u001b[0;32m/usr/local/lib/python3.8/dist-packages/pandas/core/reshape/concat.py\u001b[0m in \u001b[0;36mconcat\u001b[0;34m(objs, axis, join, ignore_index, keys, levels, names, verify_integrity, sort, copy)\u001b[0m\n\u001b[1;32m    292\u001b[0m     \u001b[0mValueError\u001b[0m\u001b[0;34m:\u001b[0m \u001b[0mIndexes\u001b[0m \u001b[0mhave\u001b[0m \u001b[0moverlapping\u001b[0m \u001b[0mvalues\u001b[0m\u001b[0;34m:\u001b[0m \u001b[0;34m[\u001b[0m\u001b[0;34m'a'\u001b[0m\u001b[0;34m]\u001b[0m\u001b[0;34m\u001b[0m\u001b[0;34m\u001b[0m\u001b[0m\n\u001b[1;32m    293\u001b[0m     \"\"\"\n\u001b[0;32m--> 294\u001b[0;31m     op = _Concatenator(\n\u001b[0m\u001b[1;32m    295\u001b[0m         \u001b[0mobjs\u001b[0m\u001b[0;34m,\u001b[0m\u001b[0;34m\u001b[0m\u001b[0;34m\u001b[0m\u001b[0m\n\u001b[1;32m    296\u001b[0m         \u001b[0maxis\u001b[0m\u001b[0;34m=\u001b[0m\u001b[0maxis\u001b[0m\u001b[0;34m,\u001b[0m\u001b[0;34m\u001b[0m\u001b[0;34m\u001b[0m\u001b[0m\n",
            "\u001b[0;32m/usr/local/lib/python3.8/dist-packages/pandas/core/reshape/concat.py\u001b[0m in \u001b[0;36m__init__\u001b[0;34m(self, objs, axis, join, keys, levels, names, ignore_index, verify_integrity, copy, sort)\u001b[0m\n\u001b[1;32m    382\u001b[0m                     \u001b[0;34m\"only Series and DataFrame objs are valid\"\u001b[0m\u001b[0;34m\u001b[0m\u001b[0;34m\u001b[0m\u001b[0m\n\u001b[1;32m    383\u001b[0m                 )\n\u001b[0;32m--> 384\u001b[0;31m                 \u001b[0;32mraise\u001b[0m \u001b[0mTypeError\u001b[0m\u001b[0;34m(\u001b[0m\u001b[0mmsg\u001b[0m\u001b[0;34m)\u001b[0m\u001b[0;34m\u001b[0m\u001b[0;34m\u001b[0m\u001b[0m\n\u001b[0m\u001b[1;32m    385\u001b[0m \u001b[0;34m\u001b[0m\u001b[0m\n\u001b[1;32m    386\u001b[0m             \u001b[0mndims\u001b[0m\u001b[0;34m.\u001b[0m\u001b[0madd\u001b[0m\u001b[0;34m(\u001b[0m\u001b[0mobj\u001b[0m\u001b[0;34m.\u001b[0m\u001b[0mndim\u001b[0m\u001b[0;34m)\u001b[0m\u001b[0;34m\u001b[0m\u001b[0;34m\u001b[0m\u001b[0m\n",
            "\u001b[0;31mTypeError\u001b[0m: cannot concatenate object of type '<class 'str'>'; only Series and DataFrame objs are valid"
          ]
        }
      ],
      "source": [
        "X = Selecting_the_data.drop(['PMV'] , axis = 1)\n",
        "\n",
        "Y = Selecting_the_data['PMV']\n",
        "\n",
        "mlr = LinearRegression()\n",
        "\n",
        "X_train, X_test, y_train, y_test = train_test_split(X,Y,test_size = 0.2 , random_state = 100)\n",
        "sfs1 = sfs(mlr,k_features='best',forward=False,floating=False,scoring='neg_mean_squared_error',cv=0)\n",
        "sfs1 = sfs1.fit(X_train, y_train)\n",
        "\n",
        "feat_names = list(sfs1.k_feature_idx_)\n",
        "print(feat_names)\n"
      ]
    },
    {
      "cell_type": "markdown",
      "source": [
        "# Select the data on the bassis of PMV"
      ],
      "metadata": {
        "id": "cTNB4OitQjb0"
      }
    },
    {
      "cell_type": "code",
      "source": [
        "Selecting_the_data_PMV = pd.DataFrame(Selecting_the_data, columns=['Clo','Met','Dewpt','Ta','Tmrt','Vel','AirTurb','Pa','Rh','TaOutdoor','RhOutdoor','PMV'])\n",
        "X = Selecting_the_data_PMV.drop(['PMV'] , axis = 1)\n",
        "Y = Selecting_the_data_PMV['PMV']\n",
        "from sklearn.linear_model import LogisticRegression\n",
        "x_train,x_test,y_train,y_test=train_test_split(X,Y,test_size=0.2,random_state=0)\n",
        "linreg=LinearRegression()\n",
        "linreg.fit(x_train,y_train)\n",
        "y_pred=linreg.predict(x_test)\n",
        "y_pred\n",
        "Accuracy=r2_score(y_test,y_pred)*100\n",
        "print(\" Accuracy of the model is %.2f\" %Accuracy)"
      ],
      "metadata": {
        "colab": {
          "base_uri": "https://localhost:8080/"
        },
        "id": "n_Squ-sjQmGp",
        "outputId": "6190a0d9-6ca9-4b54-caa0-b9f93bc02ff7"
      },
      "execution_count": null,
      "outputs": [
        {
          "output_type": "stream",
          "name": "stdout",
          "text": [
            " Accuracy of the model is 94.92\n"
          ]
        }
      ]
    },
    {
      "cell_type": "markdown",
      "metadata": {
        "id": "T0sfUXOz4qQk"
      },
      "source": [
        "# **Forword Selection 3A**"
      ]
    },
    {
      "cell_type": "code",
      "execution_count": null,
      "metadata": {
        "id": "frdjfKk_4wUV"
      },
      "outputs": [],
      "source": [
        "\n",
        "\n",
        "X = Selecting_the_data.drop(['AMV'] , axis = 1)\n",
        "Y = Selecting_the_data['AMV']\n",
        "\n",
        "lab = preprocessing.LabelEncoder()\n",
        "Y=lab.fit_transform(Y)\n",
        "\n",
        "X_train, X_test, y_train, y_test = train_test_split(X,Y,test_size = 0.2 , random_state = 100)\n",
        "LG=LogisticRegression()\n",
        "sfs1 = sfs(LG,k_features='best',forward=True,floating=False,scoring='accuracy',cv=0)\n",
        "\n",
        "sfs1 = sfs1.fit(X_train, y_train)\n"
      ]
    },
    {
      "cell_type": "code",
      "execution_count": null,
      "metadata": {
        "id": "tPlDBU1Q6_6g"
      },
      "outputs": [],
      "source": [
        "feat_names = list(sfs1.k_feature_idx_)\n",
        "print(feat_names)"
      ]
    },
    {
      "cell_type": "code",
      "source": [
        "Selecting_the_data_AMV = pd.DataFrame(Selecting_the_data, columns=['Clo','Met','Dewpt','PlaneRadTemp','Vel','Pa','Rh','TaOutdoor','RhOutdoor','AMV',])\n",
        "import matplotlib.pyplot as plt\n",
        "import numpy as np\n",
        "from sklearn.linear_model import LogisticRegression\n",
        "from sklearn.metrics import classification_report, confusion_matrix\n",
        "X = Selecting_the_data.drop(['AMV'] , axis = 1)\n",
        "Y = Selecting_the_data['AMV']\n",
        "x=np.array(X)\n",
        "y=np.array(Y)\n",
        "model = LogisticRegression(solver='liblinear', random_state=0)\n",
        "model.fit(x, y)"
      ],
      "metadata": {
        "colab": {
          "base_uri": "https://localhost:8080/",
          "height": 341
        },
        "id": "AtCCR7yPgGvu",
        "outputId": "f65d9b0c-fd32-42a9-98e7-a966c0b2a9eb"
      },
      "execution_count": null,
      "outputs": [
        {
          "output_type": "error",
          "ename": "ValueError",
          "evalue": "ignored",
          "traceback": [
            "\u001b[0;31m---------------------------------------------------------------------------\u001b[0m",
            "\u001b[0;31mValueError\u001b[0m                                Traceback (most recent call last)",
            "\u001b[0;32m<ipython-input-330-17d41d04ca3c>\u001b[0m in \u001b[0;36m<module>\u001b[0;34m\u001b[0m\n\u001b[1;32m      9\u001b[0m \u001b[0my\u001b[0m\u001b[0;34m=\u001b[0m\u001b[0mnp\u001b[0m\u001b[0;34m.\u001b[0m\u001b[0marray\u001b[0m\u001b[0;34m(\u001b[0m\u001b[0mY\u001b[0m\u001b[0;34m)\u001b[0m\u001b[0;34m\u001b[0m\u001b[0;34m\u001b[0m\u001b[0m\n\u001b[1;32m     10\u001b[0m \u001b[0mmodel\u001b[0m \u001b[0;34m=\u001b[0m \u001b[0mLogisticRegression\u001b[0m\u001b[0;34m(\u001b[0m\u001b[0msolver\u001b[0m\u001b[0;34m=\u001b[0m\u001b[0;34m'liblinear'\u001b[0m\u001b[0;34m,\u001b[0m \u001b[0mrandom_state\u001b[0m\u001b[0;34m=\u001b[0m\u001b[0;36m0\u001b[0m\u001b[0;34m)\u001b[0m\u001b[0;34m\u001b[0m\u001b[0;34m\u001b[0m\u001b[0m\n\u001b[0;32m---> 11\u001b[0;31m \u001b[0mmodel\u001b[0m\u001b[0;34m.\u001b[0m\u001b[0mfit\u001b[0m\u001b[0;34m(\u001b[0m\u001b[0mx\u001b[0m\u001b[0;34m,\u001b[0m \u001b[0my\u001b[0m\u001b[0;34m)\u001b[0m\u001b[0;34m\u001b[0m\u001b[0;34m\u001b[0m\u001b[0m\n\u001b[0m",
            "\u001b[0;32m/usr/local/lib/python3.8/dist-packages/sklearn/linear_model/_logistic.py\u001b[0m in \u001b[0;36mfit\u001b[0;34m(self, X, y, sample_weight)\u001b[0m\n\u001b[1;32m   1514\u001b[0m             \u001b[0maccept_large_sparse\u001b[0m\u001b[0;34m=\u001b[0m\u001b[0msolver\u001b[0m \u001b[0;32mnot\u001b[0m \u001b[0;32min\u001b[0m \u001b[0;34m[\u001b[0m\u001b[0;34m\"liblinear\"\u001b[0m\u001b[0;34m,\u001b[0m \u001b[0;34m\"sag\"\u001b[0m\u001b[0;34m,\u001b[0m \u001b[0;34m\"saga\"\u001b[0m\u001b[0;34m]\u001b[0m\u001b[0;34m,\u001b[0m\u001b[0;34m\u001b[0m\u001b[0;34m\u001b[0m\u001b[0m\n\u001b[1;32m   1515\u001b[0m         )\n\u001b[0;32m-> 1516\u001b[0;31m         \u001b[0mcheck_classification_targets\u001b[0m\u001b[0;34m(\u001b[0m\u001b[0my\u001b[0m\u001b[0;34m)\u001b[0m\u001b[0;34m\u001b[0m\u001b[0;34m\u001b[0m\u001b[0m\n\u001b[0m\u001b[1;32m   1517\u001b[0m         \u001b[0mself\u001b[0m\u001b[0;34m.\u001b[0m\u001b[0mclasses_\u001b[0m \u001b[0;34m=\u001b[0m \u001b[0mnp\u001b[0m\u001b[0;34m.\u001b[0m\u001b[0munique\u001b[0m\u001b[0;34m(\u001b[0m\u001b[0my\u001b[0m\u001b[0;34m)\u001b[0m\u001b[0;34m\u001b[0m\u001b[0;34m\u001b[0m\u001b[0m\n\u001b[1;32m   1518\u001b[0m \u001b[0;34m\u001b[0m\u001b[0m\n",
            "\u001b[0;32m/usr/local/lib/python3.8/dist-packages/sklearn/utils/multiclass.py\u001b[0m in \u001b[0;36mcheck_classification_targets\u001b[0;34m(y)\u001b[0m\n\u001b[1;32m    195\u001b[0m         \u001b[0;34m\"multilabel-sequences\"\u001b[0m\u001b[0;34m,\u001b[0m\u001b[0;34m\u001b[0m\u001b[0;34m\u001b[0m\u001b[0m\n\u001b[1;32m    196\u001b[0m     ]:\n\u001b[0;32m--> 197\u001b[0;31m         \u001b[0;32mraise\u001b[0m \u001b[0mValueError\u001b[0m\u001b[0;34m(\u001b[0m\u001b[0;34m\"Unknown label type: %r\"\u001b[0m \u001b[0;34m%\u001b[0m \u001b[0my_type\u001b[0m\u001b[0;34m)\u001b[0m\u001b[0;34m\u001b[0m\u001b[0;34m\u001b[0m\u001b[0m\n\u001b[0m\u001b[1;32m    198\u001b[0m \u001b[0;34m\u001b[0m\u001b[0m\n\u001b[1;32m    199\u001b[0m \u001b[0;34m\u001b[0m\u001b[0m\n",
            "\u001b[0;31mValueError\u001b[0m: Unknown label type: 'continuous'"
          ]
        }
      ]
    },
    {
      "cell_type": "markdown",
      "metadata": {
        "id": "V09BgemG7lj0"
      },
      "source": [
        "# ***BackWord Selection 3A***"
      ]
    },
    {
      "cell_type": "code",
      "execution_count": null,
      "metadata": {
        "id": "KOcjRwew7rYw",
        "colab": {
          "base_uri": "https://localhost:8080/",
          "height": 232
        },
        "outputId": "818c9d7e-246e-41b2-aafa-4eac1ed5da5f"
      },
      "outputs": [
        {
          "output_type": "error",
          "ename": "TypeError",
          "evalue": "ignored",
          "traceback": [
            "\u001b[0;31m---------------------------------------------------------------------------\u001b[0m",
            "\u001b[0;31mTypeError\u001b[0m                                 Traceback (most recent call last)",
            "\u001b[0;32m<ipython-input-348-3270a18ed2b5>\u001b[0m in \u001b[0;36m<module>\u001b[0;34m\u001b[0m\n\u001b[1;32m      6\u001b[0m \u001b[0;34m\u001b[0m\u001b[0m\n\u001b[1;32m      7\u001b[0m \u001b[0mX_train\u001b[0m\u001b[0;34m,\u001b[0m \u001b[0mX_test\u001b[0m\u001b[0;34m,\u001b[0m \u001b[0my_train\u001b[0m\u001b[0;34m,\u001b[0m \u001b[0my_test\u001b[0m \u001b[0;34m=\u001b[0m \u001b[0mtrain_test_split\u001b[0m\u001b[0;34m(\u001b[0m\u001b[0mX\u001b[0m\u001b[0;34m,\u001b[0m\u001b[0mY\u001b[0m\u001b[0;34m,\u001b[0m\u001b[0mtest_size\u001b[0m \u001b[0;34m=\u001b[0m \u001b[0;36m0.2\u001b[0m \u001b[0;34m,\u001b[0m \u001b[0mrandom_state\u001b[0m \u001b[0;34m=\u001b[0m \u001b[0;36m100\u001b[0m\u001b[0;34m)\u001b[0m\u001b[0;34m\u001b[0m\u001b[0;34m\u001b[0m\u001b[0m\n\u001b[0;32m----> 8\u001b[0;31m \u001b[0mLG\u001b[0m\u001b[0;34m=\u001b[0m\u001b[0mLogisticRegression\u001b[0m\u001b[0;34m(\u001b[0m\u001b[0;34m)\u001b[0m\u001b[0;34m\u001b[0m\u001b[0;34m\u001b[0m\u001b[0m\n\u001b[0m\u001b[1;32m      9\u001b[0m \u001b[0msfs1\u001b[0m \u001b[0;34m=\u001b[0m \u001b[0msfs\u001b[0m\u001b[0;34m(\u001b[0m\u001b[0mLG\u001b[0m\u001b[0;34m,\u001b[0m\u001b[0mk_features\u001b[0m\u001b[0;34m=\u001b[0m\u001b[0;34m'best'\u001b[0m\u001b[0;34m,\u001b[0m\u001b[0mforward\u001b[0m\u001b[0;34m=\u001b[0m\u001b[0;32mFalse\u001b[0m\u001b[0;34m,\u001b[0m\u001b[0mverbose\u001b[0m\u001b[0;34m=\u001b[0m\u001b[0;36m2\u001b[0m\u001b[0;34m,\u001b[0m\u001b[0mscoring\u001b[0m\u001b[0;34m=\u001b[0m\u001b[0;34m'r2'\u001b[0m\u001b[0;34m)\u001b[0m\u001b[0;34m\u001b[0m\u001b[0;34m\u001b[0m\u001b[0m\n\u001b[1;32m     10\u001b[0m \u001b[0msfs1\u001b[0m \u001b[0;34m=\u001b[0m \u001b[0msfs1\u001b[0m\u001b[0;34m.\u001b[0m\u001b[0mfit\u001b[0m\u001b[0;34m(\u001b[0m\u001b[0mX_train\u001b[0m\u001b[0;34m,\u001b[0m \u001b[0my_train\u001b[0m\u001b[0;34m)\u001b[0m\u001b[0;34m\u001b[0m\u001b[0;34m\u001b[0m\u001b[0m\n",
            "\u001b[0;31mTypeError\u001b[0m: 'LogisticRegression' object is not callable"
          ]
        }
      ],
      "source": [
        "\n",
        "X = Selecting_the_data.drop(['AMV'] , axis = 1)\n",
        "Y = Selecting_the_data['AMV']\n",
        "\n",
        "lab = preprocessing.LabelEncoder()\n",
        "Y=lab.fit_transform(Y)\n",
        "\n",
        "X_train, X_test, y_train, y_test = train_test_split(X,Y,test_size = 0.2 , random_state = 100)\n",
        "LG=LogisticRegression()\n",
        "sfs1 = sfs(LG,k_features='best',forward=False,verbose=2,scoring='r2')\n",
        "sfs1 = sfs1.fit(X_train, y_train)"
      ]
    },
    {
      "cell_type": "code",
      "execution_count": 359,
      "metadata": {
        "id": "UAOU9-SI71Im",
        "colab": {
          "base_uri": "https://localhost:8080/",
          "height": 181
        },
        "outputId": "7b138657-a32e-4b39-f7a3-0faf5eca18ef"
      },
      "outputs": [
        {
          "output_type": "error",
          "ename": "TypeError",
          "evalue": "ignored",
          "traceback": [
            "\u001b[0;31m---------------------------------------------------------------------------\u001b[0m",
            "\u001b[0;31mTypeError\u001b[0m                                 Traceback (most recent call last)",
            "\u001b[0;32m<ipython-input-359-5ad87bc15f0b>\u001b[0m in \u001b[0;36m<module>\u001b[0;34m\u001b[0m\n\u001b[0;32m----> 1\u001b[0;31m \u001b[0mfeat_names\u001b[0m \u001b[0;34m=\u001b[0m \u001b[0mlist\u001b[0m\u001b[0;34m(\u001b[0m\u001b[0msfs1\u001b[0m\u001b[0;34m.\u001b[0m\u001b[0mk_feature_idx_\u001b[0m\u001b[0;34m)\u001b[0m\u001b[0;34m\u001b[0m\u001b[0;34m\u001b[0m\u001b[0m\n\u001b[0m\u001b[1;32m      2\u001b[0m \u001b[0mprint\u001b[0m\u001b[0;34m(\u001b[0m\u001b[0mfeat_names\u001b[0m\u001b[0;34m)\u001b[0m\u001b[0;34m\u001b[0m\u001b[0;34m\u001b[0m\u001b[0m\n",
            "\u001b[0;31mTypeError\u001b[0m: 'NoneType' object is not iterable"
          ]
        }
      ],
      "source": [
        "feat_names = list(sfs1.k_feature_idx_)\n",
        "print(feat_names)"
      ]
    },
    {
      "cell_type": "markdown",
      "source": [
        "# ***LOgictic Regrection AMV SPILLITING***"
      ],
      "metadata": {
        "id": "SstKAMQooeL9"
      }
    },
    {
      "cell_type": "code",
      "source": [
        "information=Selecting_the_data.astype({'AMV':'int'})\n",
        "\n",
        "log_x_columns=information[['Clo','Met','Dewpt','PlaneRadTemp','Rh','TaOutdoor','RhOutdoor','AMV','PMV']] #fetching the first four columns and not the last one (labels for flowers)\n",
        "log_y_labels=information[['AMV']] #fetching the last column having labels for flowers\n",
        "X_training, X_testing, y_training, y_testing = train_test_split(log_x_columns,log_y_labels,test_size=0.20) #funtion for spliting data into training and testing\n",
        "\n",
        "scaled=StandardScaler() \n",
        "logistic_x_training=scaled.fit_transform(X_training) \n",
        "logistic_x_testing=scaled.fit_transform(X_testing)\n",
        "\n",
        "from sklearn.linear_model import LogisticRegression\n",
        "LogisticRegression=LogisticRegression() \n",
        "LogisticRegression.fit(logistic_x_training,y_training['AMV'])\n",
        "y_pred2 = LogisticRegression.predict(logistic_x_testing)\n",
        "acc=accuracy_score(y_testing['AMV'], y_pred2)\n",
        "print(acc*100)"
      ],
      "metadata": {
        "colab": {
          "base_uri": "https://localhost:8080/"
        },
        "id": "UBBxLv-kooFu",
        "outputId": "37884341-ae91-4d0f-9d02-0b2f4b63d185"
      },
      "execution_count": 363,
      "outputs": [
        {
          "output_type": "stream",
          "name": "stdout",
          "text": [
            "99.68944099378882\n"
          ]
        }
      ]
    },
    {
      "cell_type": "markdown",
      "source": [
        "# ***Selecting The data AMV***"
      ],
      "metadata": {
        "id": "mdecdetpSXXL"
      }
    },
    {
      "cell_type": "code",
      "source": [
        "Selecting_the_data_AMV = pd.DataFrame(Selecting_the_data, columns=['Clo','Met','Dewpt','PlaneRadTemp','Rh','TaOutdoor','RhOutdoor','AMV','PMV'])\n",
        "print(Selecting_the_data_AMV.head())\n",
        "print(\"\\n\\n\")\n",
        "print(Selecting_the_data_PMV.head())"
      ],
      "metadata": {
        "colab": {
          "base_uri": "https://localhost:8080/"
        },
        "id": "14PyfzQ1SdFS",
        "outputId": "8e3eeaa6-16ef-4bbd-fa4b-51fad12fc468"
      },
      "execution_count": 370,
      "outputs": [
        {
          "output_type": "stream",
          "name": "stdout",
          "text": [
            "          Clo  Met  Dewpt  PlaneRadTemp    Rh  TaOutdoor  RhOutdoor  AMV   PMV\n",
            "87   1.110000  1.4   14.1      0.217785  31.5       6.75       81.5  0.0  0.52\n",
            "117  0.798463  1.1   14.1      0.217785  62.0      31.90       72.0  0.5  0.18\n",
            "120  0.798463  1.1   14.1      0.217785  61.4      31.90       72.0  1.0  0.15\n",
            "123  0.838023  1.1   14.1      0.217785  60.6      31.90       72.0 -1.0  0.33\n",
            "124  0.988069  1.1   14.1      0.217785  60.0      31.90       72.0  1.0  0.38\n",
            "\n",
            "\n",
            "\n",
            "          Clo  Met  Dewpt    Ta       Tmrt   Vel  AirTurb        Pa    Rh  \\\n",
            "87   1.110000  1.4   14.1  22.4  22.928497  0.06      0.5  1.550667  31.5   \n",
            "117  0.798463  1.1   14.1  23.8  24.892925  0.14      0.5  1.550667  62.0   \n",
            "120  0.798463  1.1   14.1  23.6  24.576481  0.12      0.5  1.550667  61.4   \n",
            "123  0.838023  1.1   14.1  24.3  24.733931  0.12      0.5  1.550667  60.6   \n",
            "124  0.988069  1.1   14.1  23.9  24.448633  0.15      0.5  1.550667  60.0   \n",
            "\n",
            "     TaOutdoor  RhOutdoor   PMV  \n",
            "87        6.75       81.5  0.52  \n",
            "117      31.90       72.0  0.18  \n",
            "120      31.90       72.0  0.15  \n",
            "123      31.90       72.0  0.33  \n",
            "124      31.90       72.0  0.38  \n"
          ]
        }
      ]
    },
    {
      "cell_type": "markdown",
      "metadata": {
        "id": "MKtFR0SF_gBj"
      },
      "source": [
        "# ***`Question 4`***"
      ]
    },
    {
      "cell_type": "code",
      "execution_count": null,
      "metadata": {
        "id": "EEIs9ywH9op6"
      },
      "outputs": [],
      "source": [
        "nformation=Selecting_the_data.astype({'AMV':'int'})\n",
        "\n",
        "log_x_columns=Selecting_the_data_PMV[['Met Rate', 'Dewpt', 'Plane Radiant Temprature', 'Air Velocity']] #fetching the first four columns and not the last one (labels for flowers)\n",
        "log_y_labels=Selecting_the_data[['AMV']] #fetching the last column having labels for flowers\n",
        "X_training, X_testing, y_training, y_testing = train_test_split(log_x_columns,log_y_labels,test_size=0.20) #funtion for spliting data into training and testing\n",
        "\n",
        "scaled=StandardScaler() \n",
        "logistic_x_training=scaled.fit_transform(X_training) \n",
        "logistic_x_testing=scaled.fit_transform(X_testing)\n",
        "\n",
        "from sklearn.linear_model import LogisticRegression\n",
        "LogisticRegression=LogisticRegression() \n",
        "LogisticRegression.fit(logistic_x_training,y_training['AMV'])\n",
        "y_pred2 = LogisticRegression.predict(logistic_x_testing)\n",
        "acc=accuracy_score(y_testing['AMV'], y_pred2)\n",
        "print(acc)"
      ]
    }
  ],
  "metadata": {
    "colab": {
      "provenance": []
    },
    "kernelspec": {
      "display_name": "Python 3",
      "name": "python3"
    },
    "language_info": {
      "name": "python"
    }
  },
  "nbformat": 4,
  "nbformat_minor": 0
}