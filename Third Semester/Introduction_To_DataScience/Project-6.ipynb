{
  "cells": [
    {
      "cell_type": "markdown",
      "metadata": {
        "id": "EyD28pzviSpB"
      },
      "source": [
        "**Iport Libraries**"
      ]
    },
    {
      "cell_type": "code",
      "execution_count": 136,
      "metadata": {
        "id": "xGAWE2CfiPw-"
      },
      "outputs": [],
      "source": [
        "import pandas as pd\n",
        "import matplotlib.pyplot as plt\n",
        "import numpy as np\n",
        "from matplotlib.cbook import boxplot_stats\n",
        "import seaborn as sns\n",
        "import math\n",
        "from scipy.stats import entropy as en\n",
        "from sklearn.datasets import fetch_20newsgroups\n",
        "from sklearn.feature_selection import mutual_info_classif\n",
        "from sklearn.feature_extraction.text import CountVectorizer\n",
        "from sklearn.preprocessing import MinMaxScaler\n"
      ]
    },
    {
      "cell_type": "markdown",
      "metadata": {
        "id": "fLrguvHYoLI3"
      },
      "source": [
        "# Xcel to csv\n"
      ]
    },
    {
      "cell_type": "code",
      "execution_count": 137,
      "metadata": {
        "id": "PpN_WWmhoPiM",
        "colab": {
          "base_uri": "https://localhost:8080/"
        },
        "outputId": "2500fedd-f839-42c9-db89-d8e72d3a372b"
      },
      "outputs": [
        {
          "output_type": "stream",
          "name": "stdout",
          "text": [
            "<class 'pandas.core.frame.DataFrame'>\n",
            "RangeIndex: 12565 entries, 0 to 12564\n",
            "Data columns (total 80 columns):\n",
            " #   Column              Non-Null Count  Dtype  \n",
            "---  ------              --------------  -----  \n",
            " 0   8                   12561 non-null  float64\n",
            " 1   1                   12562 non-null  float64\n",
            " 2   Age                 9650 non-null   float64\n",
            " 3   0                   12340 non-null  float64\n",
            " 4   1993                11213 non-null  float64\n",
            " 5   146                 12549 non-null  float64\n",
            " 6   Unnamed: 6          9746 non-null   float64\n",
            " 7   AMV                 12510 non-null  float64\n",
            " 8   1.1                 12514 non-null  float64\n",
            " 9   Unnamed: 9          3354 non-null   float64\n",
            " 10  Unnamed: 10         11778 non-null  float64\n",
            " 11  Unnamed: 11         4638 non-null   float64\n",
            " 12  Unnamed: 12         3371 non-null   float64\n",
            " 13  Unnamed: 13         5623 non-null   float64\n",
            " 14  Unnamed: 14         4909 non-null   float64\n",
            " 15  Unnamed: 15         4866 non-null   float64\n",
            " 16  Unnamed: 16         6213 non-null   float64\n",
            " 17  Unnamed: 17         6207 non-null   float64\n",
            " 18  Met                 10678 non-null  float64\n",
            " 19  0.65                12508 non-null  float64\n",
            " 20  0.15                12530 non-null  float64\n",
            " 21  Clo                 11159 non-null  float64\n",
            " 22  19.1                5676 non-null   float64\n",
            " 23  Unnamed: 23         11079 non-null  float64\n",
            " 24  18.03               5656 non-null   float64\n",
            " 25  Dewpt               9014 non-null   float64\n",
            " 26  PlaneRadTemp        5544 non-null   float64\n",
            " 27  19.6                5676 non-null   float64\n",
            " 28  Unnamed: 28         9264 non-null   float64\n",
            " 29  Unnamed: 29         5559 non-null   float64\n",
            " 30  0.06                5662 non-null   float64\n",
            " 31  Unnamed: 31         8748 non-null   float64\n",
            " 32  Unnamed: 32         5545 non-null   float64\n",
            " 33  Unnamed: 33         3961 non-null   float64\n",
            " 34  Unnamed: 34         4412 non-null   float64\n",
            " 35  Unnamed: 35         3961 non-null   float64\n",
            " 36  Ta                  12545 non-null  float64\n",
            " 37  Tmrt                8864 non-null   float64\n",
            " 38  19.364735852428357  9337 non-null   float64\n",
            " 39  Vel                 8865 non-null   float64\n",
            " 40  Unnamed: 40         5561 non-null   float64\n",
            " 41  AirTurb             6965 non-null   float64\n",
            " 42  Pa                  7910 non-null   float64\n",
            " 43  Rh                  12530 non-null  float64\n",
            " 44  19.3                12520 non-null  float64\n",
            " 45  23.3                12064 non-null  float64\n",
            " 46  -0.04               10847 non-null  float64\n",
            " 47  -0.04.1             12064 non-null  float64\n",
            " 48  PMV                 11869 non-null  float64\n",
            " 49  0.07                11176 non-null  float64\n",
            " 50  0.16                2874 non-null   float64\n",
            " 51  Unnamed: 51         9399 non-null   float64\n",
            " 52  Unnamed: 52         2757 non-null   float64\n",
            " 53  0.16.1              10719 non-null  float64\n",
            " 54  Unnamed: 54         3078 non-null   float64\n",
            " 55  Unnamed: 55         5382 non-null   float64\n",
            " 56  Unnamed: 56         3058 non-null   float64\n",
            " 57  Unnamed: 57         6339 non-null   float64\n",
            " 58  Unnamed: 58         3132 non-null   float64\n",
            " 59  Unnamed: 59         3131 non-null   float64\n",
            " 60  Unnamed: 60         4749 non-null   float64\n",
            " 61  Unnamed: 61         6330 non-null   float64\n",
            " 62  Unnamed: 62         5248 non-null   float64\n",
            " 63  Unnamed: 63         6802 non-null   float64\n",
            " 64  Unnamed: 64         3052 non-null   float64\n",
            " 65  Unnamed: 65         3051 non-null   float64\n",
            " 66  Unnamed: 66         3055 non-null   float64\n",
            " 67  Unnamed: 67         3051 non-null   float64\n",
            " 68  Unnamed: 68         3056 non-null   float64\n",
            " 69  Unnamed: 69         3054 non-null   float64\n",
            " 70  Unnamed: 70         3060 non-null   float64\n",
            " 71  15.3                12546 non-null  float64\n",
            " 72  7.8                 11197 non-null  float64\n",
            " 73  TaOutdoor           11197 non-null  float64\n",
            " 74  58                  12546 non-null  float64\n",
            " 75  100                 12546 non-null  float64\n",
            " 76  RhOutdoor           12546 non-null  float64\n",
            " 77  15.4                12545 non-null  float64\n",
            " 78  8.1                 12545 non-null  float64\n",
            " 79  11.7                12545 non-null  float64\n",
            "dtypes: float64(80)\n",
            "memory usage: 7.7 MB\n"
          ]
        }
      ],
      "source": [
        "CollectedData_Xcel= pd.read_excel('CollectedData.xlsx')\n",
        " \n",
        "#print(CollectedData_Xcel.head())\n",
        "CollectedData_Xcel.to_csv (\"CollectedData.csv\", index = None, header=True)\n",
        "CollectedData_csv = pd.read_csv(\"CollectedData.csv\")\n",
        "#print(CollectedData_csv.head())\n",
        "CollectedData_csv=CollectedData_csv.rename(columns={CollectedData_csv.columns[2]:'Age',CollectedData_csv.columns[7]:'AMV',CollectedData_csv.columns[21]:'Clo',CollectedData_csv.columns[18]:'Met',CollectedData_csv.columns[25]:'Dewpt',CollectedData_csv.columns[26]:'PlaneRadTemp',CollectedData_csv.columns[36]:'Ta',CollectedData_csv.columns[37]:'Tmrt',CollectedData_csv.columns[39]:'Vel',CollectedData_csv.columns[41]:'AirTurb',CollectedData_csv.columns[42]:'Pa',CollectedData_csv.columns[43]:'Rh',CollectedData_csv.columns[73]:'TaOutdoor',CollectedData_csv.columns[76]:'RhOutdoor',CollectedData_csv.columns[48]:'PMV'})\n",
        "CollectedData_csv.info()\n"
      ]
    },
    {
      "cell_type": "markdown",
      "metadata": {
        "id": "u1BZoyyD2_Fb"
      },
      "source": [
        "***Part A. Preprocessing***"
      ]
    },
    {
      "cell_type": "code",
      "execution_count": 138,
      "metadata": {
        "colab": {
          "base_uri": "https://localhost:8080/"
        },
        "id": "2Bn6PMer3CyK",
        "outputId": "2cc18f64-6a00-4bca-8215-983794c37491"
      },
      "outputs": [
        {
          "output_type": "stream",
          "name": "stdout",
          "text": [
            "          Age   Clo  Met   Dewpt  PlaneRadTemp         Ta       Tmrt   Vel  \\\n",
            "0         NaN  0.78  2.1     NaN           NaN  19.100000  19.629472  0.06   \n",
            "1         NaN  1.05  2.1     NaN           NaN  20.000000  19.046655  0.06   \n",
            "2         NaN  0.40  2.6     NaN           NaN  21.000000  20.153116  0.06   \n",
            "3         NaN  0.37  3.0     NaN           NaN  23.000000  21.942458  0.06   \n",
            "4         NaN  1.29  2.1     NaN           NaN  19.800000  19.429333  0.06   \n",
            "...       ...   ...  ...     ...           ...        ...        ...   ...   \n",
            "12560  1996.0   NaN  0.1  22.122           NaN  22.142437        NaN   NaN   \n",
            "12561  1996.0   NaN  0.1  22.122           NaN  22.142437        NaN   NaN   \n",
            "12562  1996.0   NaN  0.1  22.122           NaN  22.142437        NaN   NaN   \n",
            "12563  1996.0   NaN  0.1  22.122           NaN  22.142437        NaN   NaN   \n",
            "12564  1996.0   NaN  0.1  22.122           NaN  22.142437        NaN   NaN   \n",
            "\n",
            "        AirTurb    Pa    Rh  TaOutdoor  RhOutdoor  AMV   PMV  \n",
            "0           NaN   NaN  51.3      11.55       79.0  2.0  0.51  \n",
            "1           NaN   NaN  51.9      11.55       79.0  1.0  0.80  \n",
            "2           NaN   NaN  49.9      11.55       79.0  3.0  0.76  \n",
            "3           NaN   NaN  45.6      11.55       79.0  3.0  1.47  \n",
            "4           NaN   NaN  51.4      11.55       79.0  1.0  0.97  \n",
            "...         ...   ...   ...        ...        ...  ...   ...  \n",
            "12560  67.42325  22.3  22.9        NaN        0.0  1.0   NaN  \n",
            "12561  67.42325  22.3  21.4        NaN        0.0  1.0   NaN  \n",
            "12562  67.42325  22.3  23.1        NaN        0.0  1.0   NaN  \n",
            "12563  67.42325  22.3  22.0        NaN        0.0  1.0   NaN  \n",
            "12564  67.42325  22.3  20.3        NaN        0.0  1.0   NaN  \n",
            "\n",
            "[12565 rows x 15 columns]\n",
            "-------Data type of each column of Dataframe :------\n",
            "Age             float64\n",
            "Clo             float64\n",
            "Met             float64\n",
            "Dewpt           float64\n",
            "PlaneRadTemp    float64\n",
            "Ta              float64\n",
            "Tmrt            float64\n",
            "Vel             float64\n",
            "AirTurb         float64\n",
            "Pa              float64\n",
            "Rh              float64\n",
            "TaOutdoor       float64\n",
            "RhOutdoor       float64\n",
            "AMV             float64\n",
            "PMV             float64\n",
            "dtype: object\n",
            "---------NUMBER OF NULLS IN EACH COlumn---------\n",
            "Age             2915\n",
            "Clo             1406\n",
            "Met             1887\n",
            "Dewpt           3551\n",
            "PlaneRadTemp    7021\n",
            "Ta                20\n",
            "Tmrt            3701\n",
            "Vel             3700\n",
            "AirTurb         5600\n",
            "Pa              4655\n",
            "Rh                35\n",
            "TaOutdoor       1368\n",
            "RhOutdoor         19\n",
            "AMV               55\n",
            "PMV              696\n",
            "dtype: int64\n",
            "---------Find min---------\n",
            "Age              0.000\n",
            "Clo              0.150\n",
            "Met              0.100\n",
            "Dewpt           -1.953\n",
            "PlaneRadTemp    -7.420\n",
            "Ta              15.960\n",
            "Tmrt            16.610\n",
            "Vel              0.000\n",
            "AirTurb          0.000\n",
            "Pa               0.000\n",
            "Rh               7.400\n",
            "TaOutdoor      -24.900\n",
            "RhOutdoor        0.000\n",
            "AMV             -3.000\n",
            "PMV             -4.170\n",
            "dtype: float64\n",
            "---------Find max---------\n",
            "Age             1996.00000\n",
            "Clo                2.13000\n",
            "Met                4.50000\n",
            "Dewpt             26.89675\n",
            "PlaneRadTemp      11.70000\n",
            "Ta                31.00000\n",
            "Tmrt              37.44500\n",
            "Vel                1.88000\n",
            "AirTurb          102.45000\n",
            "Pa                27.70000\n",
            "Rh                79.30000\n",
            "TaOutdoor         32.35000\n",
            "RhOutdoor        100.35000\n",
            "AMV                3.00000\n",
            "PMV                2.50000\n",
            "dtype: float64\n",
            "---------Find varience---------\n",
            "Age             462556.556104\n",
            "Clo                  0.049284\n",
            "Met                  0.183939\n",
            "Dewpt               34.845928\n",
            "PlaneRadTemp         1.084022\n",
            "Ta                   2.053443\n",
            "Tmrt                 2.257475\n",
            "Vel                  0.006248\n",
            "AirTurb            627.057129\n",
            "Pa                  66.522562\n",
            "Rh                 226.848017\n",
            "TaOutdoor          113.751067\n",
            "RhOutdoor          610.305583\n",
            "AMV                  1.214430\n",
            "PMV                  0.289471\n",
            "dtype: float64\n",
            "---------Find STD---------\n",
            "Age             680.115105\n",
            "Clo               0.221999\n",
            "Met               0.428882\n",
            "Dewpt             5.903044\n",
            "PlaneRadTemp      1.041164\n",
            "Ta                1.432984\n",
            "Tmrt              1.502489\n",
            "Vel               0.079044\n",
            "AirTurb          25.041109\n",
            "Pa                8.156136\n",
            "Rh               15.061475\n",
            "TaOutdoor        10.665415\n",
            "RhOutdoor        24.704364\n",
            "AMV               1.102012\n",
            "PMV               0.538025\n",
            "dtype: float64\n",
            "\n",
            "----------- Calculate Mean -----------\n",
            "\n",
            "Age             308.637202\n",
            "Clo               0.778503\n",
            "Met               1.065907\n",
            "Dewpt            13.621447\n",
            "PlaneRadTemp      0.217785\n",
            "Ta               23.179187\n",
            "Tmrt             23.450693\n",
            "Vel               0.112445\n",
            "AirTurb          18.265870\n",
            "Pa                5.123996\n",
            "Rh               42.528507\n",
            "TaOutdoor        17.175087\n",
            "RhOutdoor        61.098939\n",
            "AMV               0.100584\n",
            "PMV              -0.073711\n",
            "dtype: float64\n",
            "\n",
            "----------- Calculate Median -----------\n",
            "\n",
            "Age             35.000000\n",
            "Clo              0.751700\n",
            "Met              1.100000\n",
            "Dewpt           14.100000\n",
            "PlaneRadTemp     0.200000\n",
            "Ta              23.136667\n",
            "Tmrt            23.359219\n",
            "Vel              0.100000\n",
            "AirTurb          0.500000\n",
            "Pa               1.550667\n",
            "Rh              43.276815\n",
            "TaOutdoor       18.200000\n",
            "RhOutdoor       68.795799\n",
            "AMV              0.000000\n",
            "PMV             -0.030000\n",
            "dtype: float64\n",
            "\n",
            "----------- Calculate Mode -----------\n",
            "\n",
            "    Age   Clo  Met  Dewpt  PlaneRadTemp    Ta  Tmrt  Vel  AirTurb   Pa    Rh  \\\n",
            "0  24.0  0.77  1.0   17.4           0.3  23.2  22.5  0.1      0.5  2.1  64.0   \n",
            "\n",
            "   TaOutdoor  RhOutdoor  AMV  PMV  \n",
            "0  27.555556        0.0  0.0  0.1  \n",
            "\n",
            "----------- Calculate Outliers -----------\n",
            "\n",
            "4\n",
            "71\n",
            "55\n",
            "0\n",
            "245\n",
            "138\n",
            "277\n",
            "161\n",
            "2\n",
            "39\n",
            "0\n",
            "10\n",
            "1\n",
            "0\n",
            "114\n"
          ]
        }
      ],
      "source": [
        "Selecting_the_data = pd.DataFrame(CollectedData_csv, columns=['Age','Clo','Met','Dewpt','PlaneRadTemp','Ta','Tmrt','Vel','AirTurb','Pa','Rh','TaOutdoor','RhOutdoor','AMV','PMV'])\n",
        "print(Selecting_the_data)\n",
        "DataType = Selecting_the_data.dtypes\n",
        "print('-------Data type of each column of Dataframe :------')\n",
        "print(DataType)\n",
        "print('---------NUMBER OF NULLS IN EACH COlumn---------')\n",
        "print(CollectedData_csv[['Age','Clo','Met','Dewpt','PlaneRadTemp','Ta','Tmrt','Vel','AirTurb','Pa','Rh','TaOutdoor','RhOutdoor','AMV','PMV']].isna().sum())\n",
        "\n",
        "\n",
        "print('---------Find min---------')\n",
        "\n",
        "print(CollectedData_csv[['Age','Clo','Met','Dewpt','PlaneRadTemp','Ta','Tmrt','Vel','AirTurb','Pa','Rh','TaOutdoor','RhOutdoor','AMV','PMV']].min())\n",
        "print('---------Find max---------')\n",
        "print(CollectedData_csv[['Age','Clo','Met','Dewpt','PlaneRadTemp','Ta','Tmrt','Vel','AirTurb','Pa','Rh','TaOutdoor','RhOutdoor','AMV','PMV']].max())\n",
        "print('---------Find varience---------')\n",
        "print(CollectedData_csv[['Age','Clo','Met','Dewpt','PlaneRadTemp','Ta','Tmrt','Vel','AirTurb','Pa','Rh','TaOutdoor','RhOutdoor','AMV','PMV']].var())\n",
        "\n",
        "print('---------Find STD---------')\n",
        "\n",
        "print(CollectedData_csv[['Age','Clo','Met','Dewpt','PlaneRadTemp','Ta','Tmrt','Vel','AirTurb','Pa','Rh','TaOutdoor','RhOutdoor','AMV','PMV']].std())\n",
        "print(\"\\n----------- Calculate Mean -----------\\n\")\n",
        "print(Selecting_the_data.mean())\n",
        " \n",
        "print(\"\\n----------- Calculate Median -----------\\n\")\n",
        "print(Selecting_the_data.median())\n",
        " \n",
        "print(\"\\n----------- Calculate Mode -----------\\n\")\n",
        "print(Selecting_the_data.mode())\n",
        "\n",
        "print(\"\\n----------- Calculate Outliers -----------\\n\")\n",
        "for i in range(0,15):\n",
        "  Outliers=Selecting_the_data[Selecting_the_data.columns[i]].dropna()\n",
        "  stats=boxplot_stats(Outliers)\n",
        "  print(len(set(stats[0]['fliers'])))"
      ]
    },
    {
      "cell_type": "markdown",
      "metadata": {
        "id": "Iydf4RtFgCET"
      },
      "source": [
        "# **Histogram & Box PLOT** "
      ]
    },
    {
      "cell_type": "code",
      "execution_count": 139,
      "metadata": {
        "id": "J4ZZJC3zgLxl",
        "colab": {
          "base_uri": "https://localhost:8080/",
          "height": 1000
        },
        "outputId": "dbf5cdbc-3ac7-4e08-c871-970f22081b26"
      },
      "outputs": [
        {
          "output_type": "stream",
          "name": "stdout",
          "text": [
            "\n",
            "-----HISTOGRAM--------\n",
            "\n"
          ]
        },
        {
          "output_type": "display_data",
          "data": {
            "text/plain": [
              "<Figure size 1440x1080 with 16 Axes>"
            ],
            "image/png": "[encoded data removed]"
          },
          "metadata": {
            "needs_background": "light"
          }
        },
        {
          "output_type": "stream",
          "name": "stdout",
          "text": [
            "\n",
            "-----BoxPlot--------\n",
            "\n",
            "\n",
            "\n"
          ]
        },
        {
          "output_type": "display_data",
          "data": {
            "text/plain": [
              "<Figure size 432x288 with 1 Axes>"
            ],
            "image/png": "[encoded data removed]"
          },
          "metadata": {
            "needs_background": "light"
          }
        },
        {
          "output_type": "stream",
          "name": "stdout",
          "text": [
            "\n",
            "\n"
          ]
        },
        {
          "output_type": "display_data",
          "data": {
            "text/plain": [
              "<Figure size 432x288 with 1 Axes>"
            ],
            "image/png": "[encoded data removed]"
          },
          "metadata": {
            "needs_background": "light"
          }
        },
        {
          "output_type": "stream",
          "name": "stdout",
          "text": [
            "\n",
            "\n"
          ]
        },
        {
          "output_type": "display_data",
          "data": {
            "text/plain": [
              "<Figure size 432x288 with 1 Axes>"
            ],
            "image/png": "[encoded data removed]"
          },
          "metadata": {
            "needs_background": "light"
          }
        },
        {
          "output_type": "stream",
          "name": "stdout",
          "text": [
            "\n",
            "\n"
          ]
        },
        {
          "output_type": "display_data",
          "data": {
            "text/plain": [
              "<Figure size 432x288 with 1 Axes>"
            ],
            "image/png": "[encoded data removed]"
          },
          "metadata": {
            "needs_background": "light"
          }
        },
        {
          "output_type": "stream",
          "name": "stdout",
          "text": [
            "\n",
            "\n"
          ]
        },
        {
          "output_type": "display_data",
          "data": {
            "text/plain": [
              "<Figure size 432x288 with 1 Axes>"
            ],
            "image/png": "[encoded data removed]"
          },
          "metadata": {
            "needs_background": "light"
          }
        },
        {
          "output_type": "stream",
          "name": "stdout",
          "text": [
            "\n",
            "\n"
          ]
        },
        {
          "output_type": "display_data",
          "data": {
            "text/plain": [
              "<Figure size 432x288 with 1 Axes>"
            ],
            "image/png": "[encoded data removed]"
          },
          "metadata": {
            "needs_background": "light"
          }
        },
        {
          "output_type": "stream",
          "name": "stdout",
          "text": [
            "\n",
            "\n"
          ]
        },
        {
          "output_type": "display_data",
          "data": {
            "text/plain": [
              "<Figure size 432x288 with 1 Axes>"
            ],
            "image/png": "[encoded data removed]"
          },
          "metadata": {
            "needs_background": "light"
          }
        },
        {
          "output_type": "stream",
          "name": "stdout",
          "text": [
            "\n",
            "\n"
          ]
        },
        {
          "output_type": "display_data",
          "data": {
            "text/plain": [
              "<Figure size 432x288 with 1 Axes>"
            ],
            "image/png": "[encoded data removed]"
          },
          "metadata": {
            "needs_background": "light"
          }
        },
        {
          "output_type": "stream",
          "name": "stdout",
          "text": [
            "\n",
            "\n"
          ]
        },
        {
          "output_type": "display_data",
          "data": {
            "text/plain": [
              "<Figure size 432x288 with 1 Axes>"
            ],
            "image/png": "[encoded data removed]"
          },
          "metadata": {
            "needs_background": "light"
          }
        },
        {
          "output_type": "stream",
          "name": "stdout",
          "text": [
            "\n",
            "\n"
          ]
        },
        {
          "output_type": "display_data",
          "data": {
            "text/plain": [
              "<Figure size 432x288 with 1 Axes>"
            ],
            "image/png": "[encoded data removed]"
          },
          "metadata": {
            "needs_background": "light"
          }
        },
        {
          "output_type": "stream",
          "name": "stdout",
          "text": [
            "\n",
            "\n"
          ]
        },
        {
          "output_type": "display_data",
          "data": {
            "text/plain": [
              "<Figure size 432x288 with 1 Axes>"
            ],
            "image/png": "[encoded data removed]"
          },
          "metadata": {
            "needs_background": "light"
          }
        },
        {
          "output_type": "stream",
          "name": "stdout",
          "text": [
            "\n",
            "\n"
          ]
        },
        {
          "output_type": "display_data",
          "data": {
            "text/plain": [
              "<Figure size 432x288 with 1 Axes>"
            ],
            "image/png": "[encoded data removed]"
          },
          "metadata": {
            "needs_background": "light"
          }
        },
        {
          "output_type": "stream",
          "name": "stdout",
          "text": [
            "\n",
            "\n"
          ]
        },
        {
          "output_type": "display_data",
          "data": {
            "text/plain": [
              "<Figure size 432x288 with 1 Axes>"
            ],
            "image/png": "[encoded data removed]"
          },
          "metadata": {
            "needs_background": "light"
          }
        },
        {
          "output_type": "stream",
          "name": "stdout",
          "text": [
            "\n",
            "\n"
          ]
        },
        {
          "output_type": "display_data",
          "data": {
            "text/plain": [
              "<Figure size 432x288 with 1 Axes>"
            ],
            "image/png": "[encoded data removed]"
          },
          "metadata": {
            "needs_background": "light"
          }
        },
        {
          "output_type": "stream",
          "name": "stdout",
          "text": [
            "\n",
            "\n"
          ]
        },
        {
          "output_type": "display_data",
          "data": {
            "text/plain": [
              "<Figure size 432x288 with 1 Axes>"
            ],
            "image/png": "[encoded data removed]"
          },
          "metadata": {
            "needs_background": "light"
          }
        }
      ],
      "source": [
        "print(\"\\n-----HISTOGRAM--------\\n\")\n",
        "\n",
        "Selecting_the_data.hist(bins=10,figsize = [20 , 15])\n",
        "plt.show()\n",
        "print(\"\\n-----BoxPlot--------\\n\")\n",
        "for i in range(0,15):\n",
        "  print(\"\\n\")\n",
        "  sns.boxplot(x=Selecting_the_data[Selecting_the_data.columns[i]])\n",
        "  plt.show()\n"
      ]
    },
    {
      "cell_type": "markdown",
      "source": [
        "# **FILL THE MISSING VALUES**"
      ],
      "metadata": {
        "id": "kl7Z9nXqgMfV"
      }
    },
    {
      "cell_type": "code",
      "source": [
        "#mean_value=Selecting_the_data['Clo'].mean()\n",
        "  \n",
        "# Replace NaNs in column S2 with the\n",
        "# mean of values in the same column\n",
        "Selecting_the_data['Age'] = Selecting_the_data['Age'].fillna(Selecting_the_data['Age']).median()\n",
        "#print(CollectedData_csv['Age'].isnull().sum())\n",
        "\n",
        "Selecting_the_data['Clo'] = Selecting_the_data['Clo'].fillna(Selecting_the_data['Clo']).mean()\n",
        "#print(CollectedData_csv['Age'].isnull().sum())\n",
        "\n",
        "Selecting_the_data['Met'] = Selecting_the_data['Met'].fillna(Selecting_the_data['Met']).median()\n",
        "#print(CollectedData_csv['Met'].isnull().sum())\n",
        "\n",
        "Selecting_the_data['Dewpt'] = Selecting_the_data['Dewpt'].fillna(Selecting_the_data['Dewpt']).median()\n",
        "#print(CollectedData_csv['Dewpt'].isnull().sum())\n",
        "\n",
        "Selecting_the_data['PlaneRadTemp'] = Selecting_the_data['PlaneRadTemp'].fillna(Selecting_the_data['PlaneRadTemp']).mean()\n",
        "#print(CollectedData_csv['PlaneRadTemp'].isnull().sum())\n",
        "\n",
        "Selecting_the_data['Ta'] = Selecting_the_data['Ta'].fillna(Selecting_the_data['Ta']).median()\n",
        "#print(CollectedData_csv['Ta'].isnull().sum())\n",
        "\n",
        "Selecting_the_data['Tmrt'] = Selecting_the_data['Tmrt'].fillna(Selecting_the_data['Tmrt']).mean()\n",
        "#print(CollectedData_csv['Tmrt'].isnull().sum())\n",
        "\n",
        "Selecting_the_data['Vel'] = Selecting_the_data['Vel'].fillna(Selecting_the_data['Vel']).median()\n",
        "#print(CollectedData_csv['Vel'].isnull().sum())\n",
        "\n",
        "Selecting_the_data['AirTurb'] = Selecting_the_data['AirTurb'].fillna(Selecting_the_data['AirTurb']).median()\n",
        "#print(CollectedData_csv['AirTurb'].isnull().sum())\n",
        "\n",
        "Selecting_the_data['Pa'] = Selecting_the_data['Pa'].fillna(Selecting_the_data['Pa']).median()\n",
        "#print(CollectedData_csv['Pa'].isnull().sum())\n",
        "\n",
        "Selecting_the_data['Rh'] = Selecting_the_data['Rh'].fillna(Selecting_the_data['Rh']).median()\n",
        "#print(CollectedData_csv['Rh'].isnull().sum())\n",
        "\n",
        "Selecting_the_data['TaOutdoor'] = Selecting_the_data['TaOutdoor'].fillna(Selecting_the_data['TaOutdoor']).median()\n",
        "#print(CollectedData_csv['TaOutdoor'].isnull().sum())\n",
        "\n",
        "Selecting_the_data['RhOutdoor'] = Selecting_the_data['RhOutdoor'].fillna(Selecting_the_data['RhOutdoor']).median()\n",
        "#print(CollectedData_csv['RhOutdoor'].isnull().sum())\n",
        "\n",
        "Selecting_the_data['AMV'] = Selecting_the_data['AMV'].fillna(Selecting_the_data['AMV']).median()\n",
        "#print(CollectedData_csv['AMV'].isnull().sum())\n",
        "\n",
        "Selecting_the_data['PMV'] = Selecting_the_data['PMV'].fillna(Selecting_the_data['PMV']).median()\n",
        "#print(CollectedData_csv['PMV'].isnull().sum())\n",
        "\n",
        "#Verifying for any missing values\n",
        "print(\"NULL Values After The Insertion Of Missing Values :- \")\n",
        "#print(Selecting_the_data['Age','Clo','Met','Dewpt','PlaneRadTemp','Ta','Tmrt','Vel','AirTurb','Pa','Rh','TaOutdoor','RhOutdoor','AMV','PMV']\n",
        "print(Selecting_the_data)"
      ],
      "metadata": {
        "colab": {
          "base_uri": "https://localhost:8080/"
        },
        "id": "K12gEkGhgSao",
        "outputId": "e5cbdd8c-0731-4d15-82a4-d32bce9c7a74"
      },
      "execution_count": 144,
      "outputs": [
        {
          "output_type": "stream",
          "name": "stdout",
          "text": [
            "NULL Values After The Insertion Of Missing Values :- \n",
            "        Age       Clo  Met  Dewpt  PlaneRadTemp         Ta       Tmrt  Vel  \\\n",
            "0      35.0  0.778503  1.1   14.1      0.217785  23.136667  23.450693  0.1   \n",
            "1      35.0  0.778503  1.1   14.1      0.217785  23.136667  23.450693  0.1   \n",
            "2      35.0  0.778503  1.1   14.1      0.217785  23.136667  23.450693  0.1   \n",
            "3      35.0  0.778503  1.1   14.1      0.217785  23.136667  23.450693  0.1   \n",
            "4      35.0  0.778503  1.1   14.1      0.217785  23.136667  23.450693  0.1   \n",
            "...     ...       ...  ...    ...           ...        ...        ...  ...   \n",
            "12560  35.0  0.778503  1.1   14.1      0.217785  23.136667  23.450693  0.1   \n",
            "12561  35.0  0.778503  1.1   14.1      0.217785  23.136667  23.450693  0.1   \n",
            "12562  35.0  0.778503  1.1   14.1      0.217785  23.136667  23.450693  0.1   \n",
            "12563  35.0  0.778503  1.1   14.1      0.217785  23.136667  23.450693  0.1   \n",
            "12564  35.0  0.778503  1.1   14.1      0.217785  23.136667  23.450693  0.1   \n",
            "\n",
            "       AirTurb        Pa         Rh  TaOutdoor  RhOutdoor  AMV   PMV  \n",
            "0          0.5  1.550667  43.276815       18.2  68.795799  0.0 -0.03  \n",
            "1          0.5  1.550667  43.276815       18.2  68.795799  0.0 -0.03  \n",
            "2          0.5  1.550667  43.276815       18.2  68.795799  0.0 -0.03  \n",
            "3          0.5  1.550667  43.276815       18.2  68.795799  0.0 -0.03  \n",
            "4          0.5  1.550667  43.276815       18.2  68.795799  0.0 -0.03  \n",
            "...        ...       ...        ...        ...        ...  ...   ...  \n",
            "12560      0.5  1.550667  43.276815       18.2  68.795799  0.0 -0.03  \n",
            "12561      0.5  1.550667  43.276815       18.2  68.795799  0.0 -0.03  \n",
            "12562      0.5  1.550667  43.276815       18.2  68.795799  0.0 -0.03  \n",
            "12563      0.5  1.550667  43.276815       18.2  68.795799  0.0 -0.03  \n",
            "12564      0.5  1.550667  43.276815       18.2  68.795799  0.0 -0.03  \n",
            "\n",
            "[12565 rows x 15 columns]\n"
          ]
        }
      ]
    },
    {
      "cell_type": "markdown",
      "source": [
        "# Handling the Noisy data"
      ],
      "metadata": {
        "id": "xvEwrw7LLy1j"
      }
    },
    {
      "cell_type": "code",
      "source": [
        "\n",
        "\n",
        "\n",
        "for i in range(0,15):\n",
        "  print(\"\\n\")\n",
        "  sns.boxplot(x=Selecting_the_data[Selecting_the_data.columns[i]])\n",
        "  plt.show()\n",
        "\n"
      ],
      "metadata": {
        "id": "cpAwxgGGL2a0",
        "colab": {
          "base_uri": "https://localhost:8080/",
          "height": 1000
        },
        "outputId": "3e6352a5-755c-4dcd-f885-0336c2649939"
      },
      "execution_count": 146,
      "outputs": [
        {
          "output_type": "stream",
          "name": "stdout",
          "text": [
            "\n",
            "\n"
          ]
        },
        {
          "output_type": "display_data",
          "data": {
            "text/plain": [
              "<Figure size 432x288 with 1 Axes>"
            ],
            "image/png": "[encoded data removed]"
          },
          "metadata": {
            "needs_background": "light"
          }
        },
        {
          "output_type": "stream",
          "name": "stdout",
          "text": [
            "\n",
            "\n"
          ]
        },
        {
          "output_type": "display_data",
          "data": {
            "text/plain": [
              "<Figure size 432x288 with 1 Axes>"
            ],
            "image/png": "[encoded data removed]"
          },
          "metadata": {
            "needs_background": "light"
          }
        },
        {
          "output_type": "stream",
          "name": "stdout",
          "text": [
            "\n",
            "\n"
          ]
        },
        {
          "output_type": "display_data",
          "data": {
            "text/plain": [
              "<Figure size 432x288 with 1 Axes>"
            ],
            "image/png": "[encoded data removed]"
          },
          "metadata": {
            "needs_background": "light"
          }
        },
        {
          "output_type": "stream",
          "name": "stdout",
          "text": [
            "\n",
            "\n"
          ]
        },
        {
          "output_type": "display_data",
          "data": {
            "text/plain": [
              "<Figure size 432x288 with 1 Axes>"
            ],
            "image/png": "[encoded data removed]"
          },
          "metadata": {
            "needs_background": "light"
          }
        },
        {
          "output_type": "stream",
          "name": "stdout",
          "text": [
            "\n",
            "\n"
          ]
        },
        {
          "output_type": "display_data",
          "data": {
            "text/plain": [
              "<Figure size 432x288 with 1 Axes>"
            ],
            "image/png": "[encoded data removed]"
          },
          "metadata": {
            "needs_background": "light"
          }
        },
        {
          "output_type": "stream",
          "name": "stdout",
          "text": [
            "\n",
            "\n"
          ]
        },
        {
          "output_type": "display_data",
          "data": {
            "text/plain": [
              "<Figure size 432x288 with 1 Axes>"
            ],
            "image/png": "[encoded data removed]"
          },
          "metadata": {
            "needs_background": "light"
          }
        },
        {
          "output_type": "stream",
          "name": "stdout",
          "text": [
            "\n",
            "\n"
          ]
        },
        {
          "output_type": "display_data",
          "data": {
            "text/plain": [
              "<Figure size 432x288 with 1 Axes>"
            ],
            "image/png": "[encoded data removed]"
          },
          "metadata": {
            "needs_background": "light"
          }
        },
        {
          "output_type": "stream",
          "name": "stdout",
          "text": [
            "\n",
            "\n"
          ]
        },
        {
          "output_type": "display_data",
          "data": {
            "text/plain": [
              "<Figure size 432x288 with 1 Axes>"
            ],
            "image/png": "[encoded data removed]"
          },
          "metadata": {
            "needs_background": "light"
          }
        },
        {
          "output_type": "stream",
          "name": "stdout",
          "text": [
            "\n",
            "\n"
          ]
        },
        {
          "output_type": "display_data",
          "data": {
            "text/plain": [
              "<Figure size 432x288 with 1 Axes>"
            ],
            "image/png": "[encoded data removed]"
          },
          "metadata": {
            "needs_background": "light"
          }
        },
        {
          "output_type": "stream",
          "name": "stdout",
          "text": [
            "\n",
            "\n"
          ]
        },
        {
          "output_type": "display_data",
          "data": {
            "text/plain": [
              "<Figure size 432x288 with 1 Axes>"
            ],
            "image/png": "[encoded data removed]"
          },
          "metadata": {
            "needs_background": "light"
          }
        },
        {
          "output_type": "stream",
          "name": "stdout",
          "text": [
            "\n",
            "\n"
          ]
        },
        {
          "output_type": "display_data",
          "data": {
            "text/plain": [
              "<Figure size 432x288 with 1 Axes>"
            ],
            "image/png": "[encoded data removed]"
          },
          "metadata": {
            "needs_background": "light"
          }
        },
        {
          "output_type": "stream",
          "name": "stdout",
          "text": [
            "\n",
            "\n"
          ]
        },
        {
          "output_type": "display_data",
          "data": {
            "text/plain": [
              "<Figure size 432x288 with 1 Axes>"
            ],
            "image/png": "[encoded data removed]"
          },
          "metadata": {
            "needs_background": "light"
          }
        },
        {
          "output_type": "stream",
          "name": "stdout",
          "text": [
            "\n",
            "\n"
          ]
        },
        {
          "output_type": "display_data",
          "data": {
            "text/plain": [
              "<Figure size 432x288 with 1 Axes>"
            ],
            "image/png": "[encoded data removed]"
          },
          "metadata": {
            "needs_background": "light"
          }
        },
        {
          "output_type": "stream",
          "name": "stdout",
          "text": [
            "\n",
            "\n"
          ]
        },
        {
          "output_type": "display_data",
          "data": {
            "text/plain": [
              "<Figure size 432x288 with 1 Axes>"
            ],
            "image/png": "[encoded data removed]"
          },
          "metadata": {
            "needs_background": "light"
          }
        },
        {
          "output_type": "stream",
          "name": "stdout",
          "text": [
            "\n",
            "\n"
          ]
        },
        {
          "output_type": "display_data",
          "data": {
            "text/plain": [
              "<Figure size 432x288 with 1 Axes>"
            ],
            "image/png": "[encoded data removed]"
          },
          "metadata": {
            "needs_background": "light"
          }
        }
      ]
    },
    {
      "cell_type": "code",
      "source": [
        "#Question_4\n",
        "#Finding Number Of Outliers\n",
        "    \n",
        "Q1 = Selecting_the_data.quantile(0.25)\n",
        "Q3 = Selecting_the_data.quantile(0.75)\n",
        "IQR = Q3 - Q1\n",
        "print(IQR)\n",
        "print((Selecting_the_data < ((Q1 - 1.5 * IQR)) | (Selecting_the_data > (Q3 + 1.5 * IQR))))\n",
        "\n",
        "data_ = Selecting_the_data[~((Selecting_the_data< (Q1 - 1.5 * IQR)) |(Selecting_the_data> (Q3 + 1.5 * IQR))).any(axis=1)]\n",
        "data_.shape\n",
        "Selecting_the_data.hist(bins=10,figsize = [20 , 15])\n",
        "plt.show()"
      ],
      "metadata": {
        "id": "X8LCyycslYPK"
      },
      "execution_count": null,
      "outputs": []
    },
    {
      "cell_type": "code",
      "source": [
        " "
      ],
      "metadata": {
        "id": "f968r_wolfSG"
      },
      "execution_count": null,
      "outputs": []
    },
    {
      "cell_type": "markdown",
      "source": [
        "# Allpy **Filters**"
      ],
      "metadata": {
        "id": "9oCWbqutkKm0"
      }
    },
    {
      "cell_type": "code",
      "source": [
        "#Question_5\n",
        "#Applying Filter\n",
        "variance = Selecting_the_data.var()\n",
        "columns = Selecting_the_data.columns\n",
        "v = []\n",
        "\n",
        "for i in range(0 , len(variance)):\n",
        "    if variance[i] >= 0.2:\n",
        "       v.append(columns[i])  "
      ],
      "metadata": {
        "id": "B7CZU5NykQKH"
      },
      "execution_count": null,
      "outputs": []
    },
    {
      "cell_type": "markdown",
      "source": [
        "# **Heat Map**"
      ],
      "metadata": {
        "id": "yXMIx61rL6ls"
      }
    },
    {
      "cell_type": "code",
      "source": [
        "dataplot = sns.heatmap(Selecting_the_data.corr() , cmap = \"Blues\" , annot = True , annot_kws = {'size' : 5} )\n",
        "plt.show()"
      ],
      "metadata": {
        "id": "3onMK-LHMDBM"
      },
      "execution_count": null,
      "outputs": []
    },
    {
      "cell_type": "markdown",
      "source": [
        "# Entropy and information **gain**"
      ],
      "metadata": {
        "id": "oGKZJ8ppMHG_"
      }
    },
    {
      "cell_type": "code",
      "source": [
        "#Entropy\n",
        "print(\"\\n----------- Calculate Entropy -----------\\n\")\n",
        "for i in range(0,15):\n",
        "    arr = pd.Series(Selecting_the_data[Selecting_the_data.columns[i]])\n",
        "    data = arr.value_counts()\n",
        "    print(list(Selecting_the_data.columns)[i] , (en(data)))"
      ],
      "metadata": {
        "id": "7MK0XzfmMKoi"
      },
      "execution_count": null,
      "outputs": []
    },
    {
      "cell_type": "code",
      "source": [
        "#Information_Gain\n",
        "print(\"\\n----------- Calculate Information_Gain -----------\\n\")\n",
        "class0 = 10/100\n",
        "class1 = 90/100\n",
        "# calculate entropy\n",
        "entropy = -(class0 * log2(class0) + class1 * log2(class1))\n",
        "# print the result\n",
        "print('entropy: %.3f bits' % entropy)"
      ],
      "metadata": {
        "id": "NuBrrWBMMR_A"
      },
      "execution_count": null,
      "outputs": []
    },
    {
      "cell_type": "markdown",
      "source": [
        "# **Part B Analysis Algorithm**"
      ],
      "metadata": {
        "id": "RuMK8kcaMUf4"
      }
    },
    {
      "cell_type": "code",
      "source": [
        "scaler = MinMaxScaler()\n",
        "normalized_data = scaler.fit_transform(Selecting_the_data)\n",
        "print(\"Normalized Dataset In The Form Of Array :- \\n\")\n",
        "print(normalized_data)\n",
        "print(\"\\n\")\n",
        "print(\"Normalized data in the form of Data Set : \")\n",
        "normalized_data = pd.DataFrame(normalized_data , columns = Selecting_the_data.columns)\n",
        "print(normalized_data)"
      ],
      "metadata": {
        "id": "JEzUxvZ7MYBY"
      },
      "execution_count": null,
      "outputs": []
    }
  ],
  "metadata": {
    "colab": {
      "provenance": []
    },
    "kernelspec": {
      "display_name": "Python 3",
      "name": "python3"
    },
    "language_info": {
      "name": "python"
    }
  },
  "nbformat": 4,
  "nbformat_minor": 0
}