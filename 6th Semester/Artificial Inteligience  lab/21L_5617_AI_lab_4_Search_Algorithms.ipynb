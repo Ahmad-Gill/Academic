{
  "nbformat": 4,
  "nbformat_minor": 0,
  "metadata": {
    "colab": {
      "provenance": []
    },
    "kernelspec": {
      "name": "python3",
      "display_name": "Python 3"
    },
    "language_info": {
      "name": "python"
    }
  },
  "cells": [
    {
      "cell_type": "markdown",
      "source": [
        "# ***`Question 1`***"
      ],
      "metadata": {
        "id": "P1up1C8dxL4L"
      }
    },
    {
      "cell_type": "code",
      "execution_count": 11,
      "metadata": {
        "id": "DtcKNT2Uqy8G"
      },
      "outputs": [],
      "source": [
        "def readd(filename):\n",
        "    with open(filename, 'r') as file:\n",
        "        grid = [list(line.strip()) for line in file]\n",
        "    return grid"
      ]
    },
    {
      "cell_type": "code",
      "source": [
        "def dfs(cube, start, goal):\n",
        "    stack = [(start, [start])]\n",
        "\n",
        "    while stack:\n",
        "        current, path = stack.pop()\n",
        "        x, y = current\n",
        "\n",
        "        if current == goal:\n",
        "            return path\n",
        "\n",
        "        for neighbor in [(x+1, y), (x-1, y), (x, y+1), (x, y-1)]:\n",
        "            nx, ny = neighbor\n",
        "            if 0 <= nx < len(cube) and 0 <= ny < len(cube[0]) and cube[nx][ny] in '0SG' and neighbor not in path:\n",
        "                stack.append((neighbor, path + [neighbor]))\n",
        "\n",
        "    return -1\n",
        "\n",
        "\n",
        "def bfs(cube, start, goal):\n",
        "    queue = [(start, [start])]\n",
        "\n",
        "    while queue:\n",
        "        current, path = queue.pop(0)\n",
        "        x, y = current\n",
        "\n",
        "        if current == goal:\n",
        "            return path\n",
        "\n",
        "        for neighbor in [(x+1, y), (x-1, y), (x, y+1), (x, y-1)]:\n",
        "            nx, ny = neighbor\n",
        "            if 0 <= nx < len(cube) and 0 <= ny < len(cube[0]) and cube[nx][ny] in '0SG' and neighbor not in path:\n",
        "                queue.append((neighbor, path + [neighbor]))\n",
        "\n",
        "    return -1\n"
      ],
      "metadata": {
        "id": "w7V4sNWPrI0m"
      },
      "execution_count": 8,
      "outputs": []
    },
    {
      "cell_type": "code",
      "source": [
        "def solve_cube(filename):\n",
        "    grid = readd(filename)\n",
        "    start = (0, 1)\n",
        "    goal = (6, 6)\n",
        "    dfs_path = dfs(grid, start, goal)\n",
        "    print(\"DFS Path:\", dfs_path)\n",
        "    bfs_path = bfs(grid, start, goal)\n",
        "    print(\"BFS Path:\", bfs_path)\n",
        "\n",
        "filename = '1.txt'\n",
        "solve_cube(filename)\n"
      ],
      "metadata": {
        "colab": {
          "base_uri": "https://localhost:8080/"
        },
        "id": "mKvXwEkzrNXf",
        "outputId": "6faefef2-6a75-4860-9894-06df78ef4eb3"
      },
      "execution_count": 13,
      "outputs": [
        {
          "output_type": "stream",
          "name": "stdout",
          "text": [
            "DFS Path: [(0, 1), (0, 2), (0, 3), (1, 3), (1, 4), (2, 4), (2, 5), (3, 5), (4, 5), (4, 4), (5, 4), (6, 4), (6, 5), (6, 6)]\n",
            "BFS Path: [(0, 1), (0, 2), (0, 3), (1, 3), (1, 4), (2, 4), (2, 5), (3, 5), (4, 5), (4, 4), (5, 4), (6, 4), (6, 5), (6, 6)]\n"
          ]
        }
      ]
    },
    {
      "cell_type": "markdown",
      "source": [
        "# ***`Question 2`***"
      ],
      "metadata": {
        "id": "vNgqU2pBxRHn"
      }
    },
    {
      "cell_type": "code",
      "source": [
        "import heapq\n",
        "\n",
        "def ucs(graph, start, goal):\n",
        "    priority_queue = [(0, start, [])]\n",
        "    visited = set()\n",
        "\n",
        "    while priority_queue:\n",
        "        current_cost, current_node, current_path = heapq.heappop(priority_queue)\n",
        "\n",
        "        if current_node in visited:\n",
        "            continue\n",
        "\n",
        "        visited.add(current_node)\n",
        "        current_path = current_path + [current_node]\n",
        "\n",
        "        if current_node == goal:\n",
        "            return current_path, current_cost\n",
        "\n",
        "        for neighbor, edge_cost in graph.get(current_node, []):\n",
        "            if neighbor not in visited:\n",
        "                heapq.heappush(priority_queue, (current_cost + edge_cost, neighbor, current_path))\n",
        "\n",
        "    return []\n",
        "\n",
        "weighted_graph = {\n",
        "        'A': [('B', 4), ('C', 2)],\n",
        "        'B': [('A', 4), ('C', 5), ('D', 10)],\n",
        "        'C': [('A', 2), ('B', 5), ('D', 3)],\n",
        "        'D': [('B', 10), ('C', 3), ('E', 7)],\n",
        "        'E': [('D', 7)]\n",
        "    }\n",
        "\n",
        "start_node = 'A'\n",
        "goal_node = 'D'\n",
        "\n",
        "optimal_path, total_cost = ucs(weighted_graph, start_node, goal_node)\n",
        "\n",
        "if optimal_path:\n",
        "        print(f\"Optimal Path from {start_node} to {goal_node}: {optimal_path}\")\n",
        "        print(f\"Total Cost: {total_cost}\")\n",
        "else:\n",
        "        print(f\"No path found from {start_node} to {goal_node}.\")\n"
      ],
      "metadata": {
        "colab": {
          "base_uri": "https://localhost:8080/"
        },
        "id": "WmAuFpIRxVLv",
        "outputId": "22cf6852-d5de-4da2-d8fb-60ffcc3a7fc9"
      },
      "execution_count": 18,
      "outputs": [
        {
          "output_type": "stream",
          "name": "stdout",
          "text": [
            "Optimal Path from A to D: ['A', 'C', 'D']\n",
            "Total Cost: 5\n"
          ]
        }
      ]
    },
    {
      "cell_type": "markdown",
      "source": [
        "# ***`Part 3 `***"
      ],
      "metadata": {
        "id": "WgeTsmU86H-8"
      }
    },
    {
      "cell_type": "code",
      "source": [
        "def heuristic(node, goal):\n",
        "    return abs(node[0] - goal[0]) + abs(node[1] - goal[1])\n",
        "\n",
        "def is_valid_move(cube, move):\n",
        "    x, y = move\n",
        "    return 0 <= x < len(cube) and 0 <= y < len(cube[0]) and cube[x][y] != '1'\n",
        "\n",
        "def a_star(cube, start, goal):\n",
        "    priority_queue = [(0, start, [])]\n",
        "    visited = set()\n",
        "\n",
        "    while priority_queue:\n",
        "        current_cost, current_node, current_path = heapq.heappop(priority_queue)\n",
        "\n",
        "        if current_node == goal:\n",
        "            return current_path\n",
        "\n",
        "        if current_node in visited:\n",
        "            continue\n",
        "\n",
        "        visited.add(current_node)\n",
        "\n",
        "        for move in [(current_node[0]+1, current_node[1]), (current_node[0]-1, current_node[1]),\n",
        "                     (current_node[0], current_node[1]+1), (current_node[0], current_node[1]-1)]:\n",
        "            if is_valid_move(cube, move):\n",
        "                new_cost = current_cost + 1 + int(cube[move[0]][move[1]] == '2')\n",
        "                new_path = current_path + [move]\n",
        "                heapq.heappush(priority_queue, (new_cost + heuristic(move, goal), move, new_path))\n",
        "\n",
        "    return []\n",
        "\n",
        "def solve_cube(cube_filename):\n",
        "    cube = readd(cube_filename)\n",
        "    start = (0, 1)\n",
        "    goal = (6, 6)\n",
        "    optimal_path = a_star(cube, start, goal)\n",
        "    if optimal_path:\n",
        "        print(\"Optimal Path:\", optimal_path)\n",
        "    else:\n",
        "        print(\"No path found.\")\n",
        "\n",
        "# Example usage:\n",
        "cube_filename = '1.txt'\n",
        "solve_cube(cube_filename)"
      ],
      "metadata": {
        "colab": {
          "base_uri": "https://localhost:8080/"
        },
        "id": "0JDo72gCz4j9",
        "outputId": "7fef5814-d8c6-49dc-e0b7-3b9201e0adce"
      },
      "execution_count": 21,
      "outputs": [
        {
          "output_type": "stream",
          "name": "stdout",
          "text": [
            "Optimal Path: [(0, 2), (0, 3), (0, 4), (0, 5), (1, 5), (2, 5), (3, 5), (4, 5), (5, 5), (6, 5), (6, 6)]\n"
          ]
        }
      ]
    }
  ]
}