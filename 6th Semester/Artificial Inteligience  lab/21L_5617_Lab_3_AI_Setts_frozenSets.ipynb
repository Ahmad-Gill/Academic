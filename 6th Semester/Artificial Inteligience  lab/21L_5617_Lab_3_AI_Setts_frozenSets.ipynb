{
  "nbformat": 4,
  "nbformat_minor": 0,
  "metadata": {
    "colab": {
      "provenance": []
    },
    "kernelspec": {
      "name": "python3",
      "display_name": "Python 3"
    },
    "language_info": {
      "name": "python"
    }
  },
  "cells": [
    {
      "cell_type": "code",
      "execution_count": 34,
      "metadata": {
        "colab": {
          "base_uri": "https://localhost:8080/"
        },
        "id": "fhABMulH3qT_",
        "outputId": "0b16561a-b083-41ed-aeae-46f8d633d423"
      },
      "outputs": [
        {
          "output_type": "stream",
          "name": "stdout",
          "text": [
            "4\n"
          ]
        }
      ],
      "source": [
        "########### Question 1 ############\n",
        "def symmetric_difference_count(set1, set2):\n",
        "  len1=len(set1)\n",
        "  len2=len(set2)\n",
        "  count=0\n",
        "  unique_list = []\n",
        "\n",
        "    # traverse for all elements\n",
        "  for x in set1:\n",
        "        # check if exists in unique_list or not\n",
        "        if x not in unique_list:\n",
        "            unique_list.append(x)\n",
        "  for x in set2:\n",
        "        # check if exists in unique_list or not\n",
        "        if x not in unique_list:\n",
        "            unique_list.append(x)\n",
        "  if(len1<len2):\n",
        "    for x in set1:\n",
        "        if x  in set2:\n",
        "            count+=1\n",
        "  else:\n",
        "    for x in set2:\n",
        "        # check if exists in unique_list or not\n",
        "        if x  in set1:\n",
        "            count+=1\n",
        "  count1=len(unique_list)\n",
        "  return count1-count\n",
        "\n",
        "\n",
        "# Example usage:\n",
        "set1 = {1, 2, 3, 4, 5}\n",
        "set2 = {3, 4, 5, 6, 7}\n",
        "result = symmetric_difference_count(set1, set2)\n",
        "print(result)\n",
        "# Output should be the count of unique elements in the symmetric difference: 4\n"
      ]
    },
    {
      "cell_type": "code",
      "source": [
        "############ Question 2 ##############\n",
        "def is_disjoint_sets(set1, set2):\n",
        "  count=symmetric_difference_count(set1, set2)\n",
        "  if count==(len(set1)+len(set2)):\n",
        "    return True\n",
        "  else:\n",
        "    return False\n",
        "  # Your code here\n",
        "\n",
        "# Example usage:\n",
        "set1 = {1, 2, 3, 4, 5}\n",
        "set2 = {6, 7, 8, 9, 10}\n",
        "result = is_disjoint_sets(set1, set2)\n",
        "print(result)\n",
        "# Output should be True because set1 and set2 have no elements in common.\n"
      ],
      "metadata": {
        "colab": {
          "base_uri": "https://localhost:8080/"
        },
        "id": "vPNWQ18T3zRY",
        "outputId": "1ad756d7-ec1d-443b-c10d-541c5848c21a"
      },
      "execution_count": 35,
      "outputs": [
        {
          "output_type": "stream",
          "name": "stdout",
          "text": [
            "True\n"
          ]
        }
      ]
    },
    {
      "cell_type": "code",
      "source": [
        "################ Question 3 ###############\n",
        "def maximize_satisfaction(preferences):\n",
        "  max=0\n",
        "  sum=0\n",
        "  for y in range(len(preferences[0])):\n",
        "    for i in range(len(preferences)):\n",
        "      for x in preferences[i]:\n",
        "        sum =sum+x\n",
        "        break\n",
        "    if (sum>max):\n",
        "      max=sum-y\n",
        "  return max\n",
        "# Example usage:\n",
        "group1 = frozenset({1, 2, 3, 4, 5})\n",
        "group2 = frozenset({3, 4, 5, 6, 7})\n",
        "group3 = frozenset({1, 3, 5, 7, 9})\n",
        "group4 = frozenset({2, 4, 6, 8, 10})\n",
        "\n",
        "preferences = [group1, group2, group3, group4]\n",
        "result = maximize_satisfaction(preferences)\n",
        "result\n",
        "# Output should be the item that maximizes overall satisfaction.\n"
      ],
      "metadata": {
        "colab": {
          "base_uri": "https://localhost:8080/"
        },
        "id": "3WZxHgmn4TV_",
        "outputId": "ce4a6a58-333e-4653-ab39-a27498adb970"
      },
      "execution_count": 36,
      "outputs": [
        {
          "output_type": "execute_result",
          "data": {
            "text/plain": [
              "31"
            ]
          },
          "metadata": {},
          "execution_count": 36
        }
      ]
    },
    {
      "cell_type": "code",
      "source": [
        "################ Question 4 #####################\n",
        "def has_cycle(visited, graph, node):\n",
        "    if node not in visited:\n",
        "        visited.add(node)\n",
        "        for neighbour in graph[node]:\n",
        "           has_cycle(visited, graph, neighbour)\n",
        "    if (node!=len(visited)):\n",
        "        return False\n",
        "    else:\n",
        "        return True\n",
        "undirected_graph = {\n",
        "    1: {2, 3},\n",
        "    2: {1, 4},\n",
        "    3: {1, 4},\n",
        "    4: {2, 3}\n",
        "}\n",
        "result=len(undirected_graph)\n",
        "visited = set()\n",
        "node=len(undirected_graph)\n",
        "result=has_cycle(visited,undirected_graph, node)\n",
        "print(result)"
      ],
      "metadata": {
        "colab": {
          "base_uri": "https://localhost:8080/"
        },
        "id": "LvPTUW9V5hnZ",
        "outputId": "5f963651-56e8-4f05-8e2a-56f4ca17b234"
      },
      "execution_count": 37,
      "outputs": [
        {
          "output_type": "stream",
          "name": "stdout",
          "text": [
            "True\n"
          ]
        }
      ]
    },
    {
      "cell_type": "code",
      "source": [
        "################ Question 5 ###############\n",
        "def calculate_average(numbers):\n",
        "  try:\n",
        "          if not numbers:\n",
        "              raise ValueError(\"List is empty. Cannot calculate the average.\")\n",
        "\n",
        "          total = 0\n",
        "          count = 0\n",
        "          for value in numbers:\n",
        "              if not isinstance(value, (int, float)):\n",
        "                  raise TypeError(\"Invalid element type. All elements must be numerical.\")\n",
        "              total += value\n",
        "              count += 1\n",
        "\n",
        "          return total / count\n",
        "\n",
        "  except ValueError :\n",
        "          return ValueError\n",
        "  except TypeError:\n",
        "          return TypeError\n",
        "\n",
        "\n",
        "numbers = [1, 2, 3, 4, 5]\n",
        "print(\"Average:\", calculate_average(numbers))"
      ],
      "metadata": {
        "id": "lJUq0VLS7OOB",
        "colab": {
          "base_uri": "https://localhost:8080/"
        },
        "outputId": "269d973f-91fd-4804-8edc-cdf77bf48933"
      },
      "execution_count": 38,
      "outputs": [
        {
          "output_type": "stream",
          "name": "stdout",
          "text": [
            "Average: 3.0\n"
          ]
        }
      ]
    },
    {
      "cell_type": "code",
      "source": [
        "################ Question 6 ###############\n",
        "#write your code here\n",
        "my_file = open(\"1.txt\", \"r\")\n",
        "data = my_file.read()\n",
        "data_into_list = data.replace('\\n', ' ').split(\",\")\n",
        "result = [item.split(' ', 1)[0] for item in data_into_list]\n",
        "highhest= [item.split(',', 1)[0] for item in data_into_list]\n",
        "(result.pop(0))\n",
        "res = [eval(i) for i in result]\n",
        "average=(sum(res) / len(res))\n",
        "# printing the data\n",
        "print(\"Average = \",average)\n",
        "my_file.close()\n",
        "names = [''.join(c for c in item if c.isalpha() or c.isspace()) for item in data_into_list if any(c.isalpha() for c in item)]\n",
        "max = 0\n",
        "for i in range(0, len(res)):\n",
        "    if res[i] >res[max]:\n",
        "        max= i\n",
        "print(\"student with the highest grade.= \",names[max])"
      ],
      "metadata": {
        "id": "NMkHxaXU-jTj",
        "colab": {
          "base_uri": "https://localhost:8080/"
        },
        "outputId": "1a27197c-eb0a-4210-97ba-95097063bdb1"
      },
      "execution_count": 39,
      "outputs": [
        {
          "output_type": "stream",
          "name": "stdout",
          "text": [
            "Average =  89.6\n",
            "student with the highest grade.=   Eva\n"
          ]
        }
      ]
    }
  ]
}