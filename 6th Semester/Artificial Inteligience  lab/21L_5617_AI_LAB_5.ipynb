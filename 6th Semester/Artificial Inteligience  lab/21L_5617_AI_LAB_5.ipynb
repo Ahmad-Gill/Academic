{
  "nbformat": 4,
  "nbformat_minor": 0,
  "metadata": {
    "colab": {
      "provenance": []
    },
    "kernelspec": {
      "name": "python3",
      "display_name": "Python 3"
    },
    "language_info": {
      "name": "python"
    }
  },
  "cells": [
    {
      "cell_type": "code",
      "execution_count": 58,
      "metadata": {
        "id": "9cJB1BxbsLXp"
      },
      "outputs": [],
      "source": [
        "from math import inf\n",
        "\n",
        "\n",
        "board = [[0, 0, 0],\n",
        "         [0, 0, 0],\n",
        "         [0, 0, 0]]\n",
        "def Clearboard(board):\n",
        "    for x, row in enumerate(board):\n",
        "        for y, col in enumerate(row):\n",
        "            board[x][y] = 0"
      ]
    },
    {
      "cell_type": "code",
      "source": [
        "def initial_state(board):\n",
        "    chars = {1: 'X', -1: 'O', 0: ' '}\n",
        "    for x in board:\n",
        "        for y in x:\n",
        "            ch = chars[y]\n",
        "            print(f'| {ch} |', end='')\n",
        "        print('\\n' + '---------------')\n",
        "    print('###############\\n')"
      ],
      "metadata": {
        "id": "WSQ_I1-dtVhn"
      },
      "execution_count": 56,
      "outputs": []
    },
    {
      "cell_type": "code",
      "source": [
        "\n",
        "def winner(board, player):\n",
        "    conditions = [[board[0][0], board[0][1], board[0][2]],\n",
        "                     [board[1][0], board[1][1], board[1][2]],\n",
        "                     [board[2][0], board[2][1], board[2][2]],\n",
        "                     [board[0][0], board[1][0], board[2][0]],\n",
        "                     [board[0][1], board[1][1], board[2][1]],\n",
        "                     [board[0][2], board[1][2], board[2][2]],\n",
        "                     [board[0][0], board[1][1], board[2][2]],\n",
        "                     [board[0][2], board[1][1], board[2][0]]]\n",
        "\n",
        "    if [player, player, player] in conditions:\n",
        "        return True\n",
        "\n",
        "    return False\n",
        "\n",
        "def gameWon(board):\n",
        "    return winner(board, 1) or winner(board, -1)\n",
        "\n",
        "def printResult(board):\n",
        "    if winner(board, 1):\n",
        "        print('Ahmad has won! ' + '\\n')\n",
        "\n",
        "    elif winner(board, -1):\n",
        "        print('Computer has  won! you loose by the code you write sad' + '\\n')\n",
        "\n",
        "    else:\n",
        "        print('Draw' + '\\n')"
      ],
      "metadata": {
        "id": "mz-PjP74tfH1"
      },
      "execution_count": 47,
      "outputs": []
    },
    {
      "cell_type": "code",
      "source": [
        "def actions(board):\n",
        "    blank = []\n",
        "    for x, row in enumerate(board):\n",
        "        for y, col in enumerate(row):\n",
        "            if board[x][y] == 0:\n",
        "                blank.append([x, y])\n",
        "\n",
        "    return blank\n",
        "def terminal(board):\n",
        "    if len(actions(board)) == 0:\n",
        "        return True\n",
        "    return False\n"
      ],
      "metadata": {
        "id": "kt3tYCAvt4ER"
      },
      "execution_count": 48,
      "outputs": []
    },
    {
      "cell_type": "code",
      "source": [
        "def setMove(board, x, y, player):\n",
        "    board[x][y] = player"
      ],
      "metadata": {
        "id": "3zjLLovlu92W"
      },
      "execution_count": 32,
      "outputs": []
    },
    {
      "cell_type": "code",
      "source": [
        "def playerMove(board):\n",
        "    e = True\n",
        "    moves = {1: [0, 0], 2: [0, 1], 3: [0, 2],\n",
        "             4: [1, 0], 5: [1, 1], 6: [1, 2],\n",
        "             7: [2, 0], 8: [2, 1], 9: [2, 2]}\n",
        "    while e:\n",
        "        try:\n",
        "            move = int(input('Enter a number between 1-9: '))\n",
        "            if move < 1 or move > 9:\n",
        "                print('Invalid Move! Try again!')\n",
        "            elif not (moves[move] in actions(board)):\n",
        "                print('Invalid Move! Try again!')\n",
        "            else:\n",
        "                setMove(board, moves[move][0], moves[move][1], 1)\n",
        "                initial_state(board)\n",
        "                e = False\n",
        "        except(KeyError, ValueError):\n",
        "            print('Enter a number!')\n"
      ],
      "metadata": {
        "id": "Loni8eyKGKZj"
      },
      "execution_count": 33,
      "outputs": []
    },
    {
      "cell_type": "code",
      "source": [
        "def getScore(board):\n",
        "    if winner(board, 1):\n",
        "        return 10\n",
        "\n",
        "    elif winner(board, -1):\n",
        "        return -10\n",
        "\n",
        "    else:\n",
        "        return 0\n"
      ],
      "metadata": {
        "id": "gcPd6gaQGOsK"
      },
      "execution_count": 49,
      "outputs": []
    },
    {
      "cell_type": "code",
      "source": [
        "\n",
        "def minmax(board, depth, alpha, beta, player):\n",
        "    row = -1\n",
        "    col = -1\n",
        "    if depth == 0 or gameWon(board):\n",
        "        return [row, col, getScore(board)]\n",
        "\n",
        "    else:\n",
        "        for cell in actions(board):\n",
        "            setMove(board, cell[0], cell[1], player)\n",
        "            score = minmax(board, depth - 1, alpha, beta, -player)\n",
        "            if player == 1:\n",
        "                if score[2] > alpha:\n",
        "                    alpha = score[2]\n",
        "                    row = cell[0]\n",
        "                    col = cell[1]\n",
        "\n",
        "            else:\n",
        "                if score[2] < beta:\n",
        "                    beta = score[2]\n",
        "                    row = cell[0]\n",
        "                    col = cell[1]\n",
        "\n",
        "            setMove(board, cell[0], cell[1], 0)\n",
        "\n",
        "            if alpha >= beta:\n",
        "                break\n",
        "\n",
        "        if player == 1:\n",
        "            return [row, col, alpha]\n",
        "\n",
        "        else:\n",
        "            return [row, col, beta]"
      ],
      "metadata": {
        "id": "2rejphNPGWc8"
      },
      "execution_count": 35,
      "outputs": []
    },
    {
      "cell_type": "code",
      "source": [
        "def o_comp(board):\n",
        "        result = minmax(board, len(actions(board)), -inf, inf, -1)\n",
        "        setMove(board, result[0], result[1], -1)\n",
        "        initial_state(board)"
      ],
      "metadata": {
        "id": "y3ti8PJ0HHmn"
      },
      "execution_count": 37,
      "outputs": []
    },
    {
      "cell_type": "code",
      "source": [
        "\n",
        "\n",
        "def makeMove(board, player, mode):\n",
        "    if mode == 1:\n",
        "        if player == 1:\n",
        "            playerMove(board)\n",
        "\n",
        "        else:\n",
        "            o_comp(board)\n",
        "\n",
        "def Start():\n",
        "    Clearboard(board)\n",
        "    currentPlayer = 1\n",
        "    while not (terminal(board) or gameWon(board)):\n",
        "        makeMove(board, currentPlayer, 1)\n",
        "        currentPlayer *= -1\n",
        "\n",
        "    printResult(board)\n",
        "Start()"
      ],
      "metadata": {
        "colab": {
          "base_uri": "https://localhost:8080/",
          "height": 617
        },
        "id": "M6tJakTJxQyc",
        "outputId": "de36ec10-e9c9-4683-d816-51239723ecf5"
      },
      "execution_count": 57,
      "outputs": [
        {
          "output_type": "stream",
          "name": "stdout",
          "text": [
            "Enter a number between 1-9: 1\n",
            "| X ||   ||   |\n",
            "---------------\n",
            "|   ||   ||   |\n",
            "---------------\n",
            "|   ||   ||   |\n",
            "---------------\n",
            "###############\n",
            "\n",
            "| X ||   ||   |\n",
            "---------------\n",
            "|   || O ||   |\n",
            "---------------\n",
            "|   ||   ||   |\n",
            "---------------\n",
            "###############\n",
            "\n"
          ]
        },
        {
          "output_type": "error",
          "ename": "KeyboardInterrupt",
          "evalue": "Interrupted by user",
          "traceback": [
            "\u001b[0;31m---------------------------------------------------------------------------\u001b[0m",
            "\u001b[0;31mKeyboardInterrupt\u001b[0m                         Traceback (most recent call last)",
            "\u001b[0;32m<ipython-input-57-c9291cfcee78>\u001b[0m in \u001b[0;36m<cell line: 17>\u001b[0;34m()\u001b[0m\n\u001b[1;32m     15\u001b[0m \u001b[0;34m\u001b[0m\u001b[0m\n\u001b[1;32m     16\u001b[0m     \u001b[0mprintResult\u001b[0m\u001b[0;34m(\u001b[0m\u001b[0mboard\u001b[0m\u001b[0;34m)\u001b[0m\u001b[0;34m\u001b[0m\u001b[0;34m\u001b[0m\u001b[0m\n\u001b[0;32m---> 17\u001b[0;31m \u001b[0mStart\u001b[0m\u001b[0;34m(\u001b[0m\u001b[0;34m)\u001b[0m\u001b[0;34m\u001b[0m\u001b[0;34m\u001b[0m\u001b[0m\n\u001b[0m",
            "\u001b[0;32m<ipython-input-57-c9291cfcee78>\u001b[0m in \u001b[0;36mStart\u001b[0;34m()\u001b[0m\n\u001b[1;32m     11\u001b[0m     \u001b[0mcurrentPlayer\u001b[0m \u001b[0;34m=\u001b[0m \u001b[0;36m1\u001b[0m\u001b[0;34m\u001b[0m\u001b[0;34m\u001b[0m\u001b[0m\n\u001b[1;32m     12\u001b[0m     \u001b[0;32mwhile\u001b[0m \u001b[0;32mnot\u001b[0m \u001b[0;34m(\u001b[0m\u001b[0mterminal\u001b[0m\u001b[0;34m(\u001b[0m\u001b[0mboard\u001b[0m\u001b[0;34m)\u001b[0m \u001b[0;32mor\u001b[0m \u001b[0mgameWon\u001b[0m\u001b[0;34m(\u001b[0m\u001b[0mboard\u001b[0m\u001b[0;34m)\u001b[0m\u001b[0;34m)\u001b[0m\u001b[0;34m:\u001b[0m\u001b[0;34m\u001b[0m\u001b[0;34m\u001b[0m\u001b[0m\n\u001b[0;32m---> 13\u001b[0;31m         \u001b[0mmakeMove\u001b[0m\u001b[0;34m(\u001b[0m\u001b[0mboard\u001b[0m\u001b[0;34m,\u001b[0m \u001b[0mcurrentPlayer\u001b[0m\u001b[0;34m,\u001b[0m \u001b[0;36m1\u001b[0m\u001b[0;34m)\u001b[0m\u001b[0;34m\u001b[0m\u001b[0;34m\u001b[0m\u001b[0m\n\u001b[0m\u001b[1;32m     14\u001b[0m         \u001b[0mcurrentPlayer\u001b[0m \u001b[0;34m*=\u001b[0m \u001b[0;34m-\u001b[0m\u001b[0;36m1\u001b[0m\u001b[0;34m\u001b[0m\u001b[0;34m\u001b[0m\u001b[0m\n\u001b[1;32m     15\u001b[0m \u001b[0;34m\u001b[0m\u001b[0m\n",
            "\u001b[0;32m<ipython-input-57-c9291cfcee78>\u001b[0m in \u001b[0;36mmakeMove\u001b[0;34m(board, player, mode)\u001b[0m\n\u001b[1;32m      2\u001b[0m     \u001b[0;32mif\u001b[0m \u001b[0mmode\u001b[0m \u001b[0;34m==\u001b[0m \u001b[0;36m1\u001b[0m\u001b[0;34m:\u001b[0m\u001b[0;34m\u001b[0m\u001b[0;34m\u001b[0m\u001b[0m\n\u001b[1;32m      3\u001b[0m         \u001b[0;32mif\u001b[0m \u001b[0mplayer\u001b[0m \u001b[0;34m==\u001b[0m \u001b[0;36m1\u001b[0m\u001b[0;34m:\u001b[0m\u001b[0;34m\u001b[0m\u001b[0;34m\u001b[0m\u001b[0m\n\u001b[0;32m----> 4\u001b[0;31m             \u001b[0mplayerMove\u001b[0m\u001b[0;34m(\u001b[0m\u001b[0mboard\u001b[0m\u001b[0;34m)\u001b[0m\u001b[0;34m\u001b[0m\u001b[0;34m\u001b[0m\u001b[0m\n\u001b[0m\u001b[1;32m      5\u001b[0m \u001b[0;34m\u001b[0m\u001b[0m\n\u001b[1;32m      6\u001b[0m         \u001b[0;32melse\u001b[0m\u001b[0;34m:\u001b[0m\u001b[0;34m\u001b[0m\u001b[0;34m\u001b[0m\u001b[0m\n",
            "\u001b[0;32m<ipython-input-33-cb1b04ec75c6>\u001b[0m in \u001b[0;36mplayerMove\u001b[0;34m(board)\u001b[0m\n\u001b[1;32m      6\u001b[0m     \u001b[0;32mwhile\u001b[0m \u001b[0me\u001b[0m\u001b[0;34m:\u001b[0m\u001b[0;34m\u001b[0m\u001b[0;34m\u001b[0m\u001b[0m\n\u001b[1;32m      7\u001b[0m         \u001b[0;32mtry\u001b[0m\u001b[0;34m:\u001b[0m\u001b[0;34m\u001b[0m\u001b[0;34m\u001b[0m\u001b[0m\n\u001b[0;32m----> 8\u001b[0;31m             \u001b[0mmove\u001b[0m \u001b[0;34m=\u001b[0m \u001b[0mint\u001b[0m\u001b[0;34m(\u001b[0m\u001b[0minput\u001b[0m\u001b[0;34m(\u001b[0m\u001b[0;34m'Enter a number between 1-9: '\u001b[0m\u001b[0;34m)\u001b[0m\u001b[0;34m)\u001b[0m\u001b[0;34m\u001b[0m\u001b[0;34m\u001b[0m\u001b[0m\n\u001b[0m\u001b[1;32m      9\u001b[0m             \u001b[0;32mif\u001b[0m \u001b[0mmove\u001b[0m \u001b[0;34m<\u001b[0m \u001b[0;36m1\u001b[0m \u001b[0;32mor\u001b[0m \u001b[0mmove\u001b[0m \u001b[0;34m>\u001b[0m \u001b[0;36m9\u001b[0m\u001b[0;34m:\u001b[0m\u001b[0;34m\u001b[0m\u001b[0;34m\u001b[0m\u001b[0m\n\u001b[1;32m     10\u001b[0m                 \u001b[0mprint\u001b[0m\u001b[0;34m(\u001b[0m\u001b[0;34m'Invalid Move! Try again!'\u001b[0m\u001b[0;34m)\u001b[0m\u001b[0;34m\u001b[0m\u001b[0;34m\u001b[0m\u001b[0m\n",
            "\u001b[0;32m/usr/local/lib/python3.10/dist-packages/ipykernel/kernelbase.py\u001b[0m in \u001b[0;36mraw_input\u001b[0;34m(self, prompt)\u001b[0m\n\u001b[1;32m    849\u001b[0m                 \u001b[0;34m\"raw_input was called, but this frontend does not support input requests.\"\u001b[0m\u001b[0;34m\u001b[0m\u001b[0;34m\u001b[0m\u001b[0m\n\u001b[1;32m    850\u001b[0m             )\n\u001b[0;32m--> 851\u001b[0;31m         return self._input_request(str(prompt),\n\u001b[0m\u001b[1;32m    852\u001b[0m             \u001b[0mself\u001b[0m\u001b[0;34m.\u001b[0m\u001b[0m_parent_ident\u001b[0m\u001b[0;34m,\u001b[0m\u001b[0;34m\u001b[0m\u001b[0;34m\u001b[0m\u001b[0m\n\u001b[1;32m    853\u001b[0m             \u001b[0mself\u001b[0m\u001b[0;34m.\u001b[0m\u001b[0m_parent_header\u001b[0m\u001b[0;34m,\u001b[0m\u001b[0;34m\u001b[0m\u001b[0;34m\u001b[0m\u001b[0m\n",
            "\u001b[0;32m/usr/local/lib/python3.10/dist-packages/ipykernel/kernelbase.py\u001b[0m in \u001b[0;36m_input_request\u001b[0;34m(self, prompt, ident, parent, password)\u001b[0m\n\u001b[1;32m    893\u001b[0m             \u001b[0;32mexcept\u001b[0m \u001b[0mKeyboardInterrupt\u001b[0m\u001b[0;34m:\u001b[0m\u001b[0;34m\u001b[0m\u001b[0;34m\u001b[0m\u001b[0m\n\u001b[1;32m    894\u001b[0m                 \u001b[0;31m# re-raise KeyboardInterrupt, to truncate traceback\u001b[0m\u001b[0;34m\u001b[0m\u001b[0;34m\u001b[0m\u001b[0m\n\u001b[0;32m--> 895\u001b[0;31m                 \u001b[0;32mraise\u001b[0m \u001b[0mKeyboardInterrupt\u001b[0m\u001b[0;34m(\u001b[0m\u001b[0;34m\"Interrupted by user\"\u001b[0m\u001b[0;34m)\u001b[0m \u001b[0;32mfrom\u001b[0m \u001b[0;32mNone\u001b[0m\u001b[0;34m\u001b[0m\u001b[0;34m\u001b[0m\u001b[0m\n\u001b[0m\u001b[1;32m    896\u001b[0m             \u001b[0;32mexcept\u001b[0m \u001b[0mException\u001b[0m \u001b[0;32mas\u001b[0m \u001b[0me\u001b[0m\u001b[0;34m:\u001b[0m\u001b[0;34m\u001b[0m\u001b[0;34m\u001b[0m\u001b[0m\n\u001b[1;32m    897\u001b[0m                 \u001b[0mself\u001b[0m\u001b[0;34m.\u001b[0m\u001b[0mlog\u001b[0m\u001b[0;34m.\u001b[0m\u001b[0mwarning\u001b[0m\u001b[0;34m(\u001b[0m\u001b[0;34m\"Invalid Message:\"\u001b[0m\u001b[0;34m,\u001b[0m \u001b[0mexc_info\u001b[0m\u001b[0;34m=\u001b[0m\u001b[0;32mTrue\u001b[0m\u001b[0;34m)\u001b[0m\u001b[0;34m\u001b[0m\u001b[0;34m\u001b[0m\u001b[0m\n",
            "\u001b[0;31mKeyboardInterrupt\u001b[0m: Interrupted by user"
          ]
        }
      ]
    }
  ]
}