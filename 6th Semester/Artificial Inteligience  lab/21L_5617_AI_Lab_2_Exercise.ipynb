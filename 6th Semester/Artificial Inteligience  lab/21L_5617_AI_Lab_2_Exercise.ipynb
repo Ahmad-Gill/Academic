{
  "cells": [
    {
      "cell_type": "code",
      "execution_count": 25,
      "metadata": {
        "id": "mZ2V-vy4KX1c"
      },
      "outputs": [],
      "source": [
        "def removeValue(sampleList, val):\n",
        "    # LAB (begin solution)\n",
        "    return [x for x in sampleList if x != val]\n",
        "    # LAB (end solution)"
      ]
    },
    {
      "cell_type": "code",
      "execution_count": 34,
      "metadata": {
        "id": "6XLBuJ7qKVc_"
      },
      "outputs": [],
      "source": [
        "# Task 2\n",
        "def findAndReplaceValue(sampleList, val):\n",
        "    for i in range(len(sampleList)):\n",
        "        if sampleList[i] == val:\n",
        "            sampleList[i] = 200\n",
        "    return sampleList"
      ]
    },
    {
      "cell_type": "code",
      "execution_count": 27,
      "metadata": {
        "id": "rHM9y9yjKU8j"
      },
      "outputs": [],
      "source": [
        "# Task 3\n",
        "def vehicleWeight(vehicleDict):\n",
        "  # LAB (begin solution)\n",
        "    filtered_list = [i.upper()\n",
        "    for i, j in vehicleDict.items()\n",
        "     if j < 5000]\n",
        "    return filtered_list"
      ]
    },
    {
      "cell_type": "code",
      "execution_count": 28,
      "metadata": {
        "id": "VVexaC52JXNg"
      },
      "outputs": [],
      "source": [
        "# Task 4\n",
        "def sortTuple(tupleSort):\n",
        "    listSort = list(tupleSort)\n",
        "    for i in range(len(listSort) - 1):\n",
        "        for j in range(i + 1, len(listSort)):\n",
        "            if listSort[i][1] > listSort[j][1]:\n",
        "                listSort[i], listSort[j] = listSort[j], listSort[i]\n",
        "    return tuple(listSort)\n"
      ]
    },
    {
      "cell_type": "code",
      "execution_count": 29,
      "metadata": {
        "id": "wSeuLqs4JOZk"
      },
      "outputs": [],
      "source": [
        "# Task 5\n",
        "def checkSameTuple(checkTuple):\n",
        "  return all(x == checkTuple[0] for x in checkTuple)"
      ]
    },
    {
      "cell_type": "code",
      "execution_count": 40,
      "metadata": {
        "id": "WIbv72qtxdLZ"
      },
      "outputs": [],
      "source": [
        "# Task 6\n",
        "def stockTuple():\n",
        "    stock_data = [\n",
        "        {\"Purchase Date\": \"25 Jan 2001\", \"Purchase Price\": 43.50, \"Shares\": 25, \"Symbol\": \"CAT\", \"Current Price\": 92.45},\n",
        "        {\"Purchase Date\": \"25 Jan 2001\", \"Purchase Price\": 42.80, \"Shares\": 50, \"Symbol\": \"DD\", \"Current Price\": 51.19},\n",
        "        {\"Purchase Date\": \"25 Jan 2001\", \"Purchase Price\": 42.10, \"Shares\": 75, \"Symbol\": \"EK\", \"Current Price\": 34.87},\n",
        "        {\"Purchase Date\": \"25 Jan 2001\", \"Purchase Price\": 37.58, \"Shares\": 100, \"Symbol\": \"GM\", \"Current Price\": 37.58}\n",
        "    ]\n",
        "\n",
        "    stock_tuples = [\n",
        "        (stock[\"Purchase Date\"], stock[\"Purchase Price\"], stock[\"Shares\"], stock[\"Symbol\"], stock[\"Current Price\"])\n",
        "        for stock in stock_data\n",
        "    ]\n",
        "\n",
        "    return stock_tuples\n",
        "\n",
        "def totalPurchasePrice(stocks):\n",
        "    total_purchase_price = sum(stock[1] * stock[2] for stock in stocks)\n",
        "    return total_purchase_price\n",
        "\n",
        "def totalProfitLoss(stocks):\n",
        "    total_profit_loss = sum((stock[4] - stock[1]) * stock[2] for stock in stocks)\n",
        "    return total_profit_loss"
      ]
    },
    {
      "cell_type": "code",
      "execution_count": 24,
      "metadata": {
        "id": "zYElLc7S4CjJ"
      },
      "outputs": [],
      "source": [
        "def deleteDict(sampleDict, keysToRemove):\n",
        "    # LAB (begin solution)\n",
        "    updatedDict = {key: value for key, value in sampleDict.items() if key not in keysToRemove}\n",
        "    return updatedDict"
      ]
    },
    {
      "cell_type": "code",
      "execution_count": 31,
      "metadata": {
        "id": "-RztIR145i7c"
      },
      "outputs": [],
      "source": [
        "# Task 8\n",
        "def initializeDict(employees, defaults):\n",
        "    # LAB (begin solution)\n",
        "    initializedDict = {employee: defaults.copy() for employee in employees}\n",
        "    return initializedDict\n",
        "    # LAB (end solution)\n"
      ]
    },
    {
      "cell_type": "code",
      "execution_count": 43,
      "metadata": {
        "id": "4zwDRf_CH3-O"
      },
      "outputs": [],
      "source": [
        "def main():\n",
        "\n",
        "  list1 = [5, 20, 15, 20, 25, 50, 20]\n",
        "\n",
        "  resList = removeValue(list1, 20)\n",
        "  print(\"remove 20 from the list \",resList)\n",
        "\n",
        "  resList = findAndReplaceValue(list1, 20)\n",
        "  print(\"\\n\\n\\nReplace 20 with 200 \",resList)\n",
        "\n",
        "  vehicleDict = {\"Sedan\": 1500, \"SUV\": 2000, \"Pickup\": 2500, \"Minivan\": 1600, \"Van\": 2400, \"Semi\": 13600, \"Bicycle\": 7, \"Motorcycle\": 110}\n",
        "  lst = vehicleWeight(vehicleDict)\n",
        "  print(\"\\n\\n\\nUpper Case keys \",lst)\n",
        "\n",
        "  tuple1 = (('a', 23),('b', 37),('c', 11), ('d',29))\n",
        "  tuple1 = sortTuple(tuple1)\n",
        "  print(\"\\n\\n\\nSort the tupple\",tuple1)\n",
        "\n",
        "  tuple1 = (45, 45, 45, 45)\n",
        "  checkSame = checkSameTuple(tuple1)\n",
        "  print(\"\\n\\n\\nCheck the tupple\",checkSame)\n",
        "\n",
        "  print(\"\\n\\n\\nTotal purchase price = \",totalPurchasePrice(stockTuple()))\n",
        "  print(\"\\n\\n\\nTotal profit loss = \",totalProfitLoss(stockTuple()))\n",
        "\n",
        "  sampleDict = {\n",
        "  \"name\": \"Kelly\",\n",
        "  \"age\":25,\n",
        "  \"salary\": 8000,\n",
        "  \"city\": \"New york\"\n",
        "  }\n",
        "  keysToRemove = [\"name\", \"salary\"]\n",
        "  print(\"\\n\\n\\nDelete dict \",deleteDict(sampleDict, keysToRemove))\n",
        "\n",
        "  employees = ['Kelly', 'Emma', 'John']\n",
        "  defaults = {\"designation\": 'Application Developer', \"salary\": 8000}\n",
        "\n",
        "  resDict = initializeDict(employees, defaults)\n",
        "  print(\"\\n\\n\\n Initialize\", resDict)\n"
      ]
    },
    {
      "cell_type": "code",
      "execution_count": 44,
      "metadata": {
        "id": "IOHxSo9EHvWi",
        "colab": {
          "base_uri": "https://localhost:8080/"
        },
        "outputId": "016db6d9-19e1-4a8c-c16b-6eb51d01e0cb"
      },
      "outputs": [
        {
          "output_type": "stream",
          "name": "stdout",
          "text": [
            "remove 20 from the list  [5, 15, 25, 50]\n",
            "\n",
            "\n",
            "\n",
            "Replace 20 with 200  [5, 200, 15, 200, 25, 50, 200]\n",
            "\n",
            "\n",
            "\n",
            "Upper Case keys  ['SEDAN', 'SUV', 'PICKUP', 'MINIVAN', 'VAN', 'BICYCLE', 'MOTORCYCLE']\n",
            "\n",
            "\n",
            "\n",
            "Sort the tupple (('c', 11), ('a', 23), ('d', 29), ('b', 37))\n",
            "\n",
            "\n",
            "\n",
            "Check the tupple True\n",
            "\n",
            "\n",
            "\n",
            "Total purchase price =  10143.0\n",
            "\n",
            "\n",
            "\n",
            "Total profit loss =  1100.9999999999995\n",
            "\n",
            "\n",
            "\n",
            "Delete dict  {'age': 25, 'city': 'New york'}\n",
            "\n",
            "\n",
            "\n",
            " Initialize {'Kelly': {'designation': 'Application Developer', 'salary': 8000}, 'Emma': {'designation': 'Application Developer', 'salary': 8000}, 'John': {'designation': 'Application Developer', 'salary': 8000}}\n"
          ]
        }
      ],
      "source": [
        "'''\n",
        "Python files .py are modules. Modules can define variables, functions, and classes.\n",
        "When a Python interpreter reads a Python file, it first sets a few special variables.\n",
        "Then it executes the code from the file.\n",
        "\n",
        "One of those variables is called __name__.\n",
        "\n",
        "When the interpreter runs a module, the __name__ variable will be set as  __main__\n",
        "if the module that is being run is the main program.\n",
        "\n",
        "If the code is importing the module from another module, then the __name__\n",
        "variable will be set to that module’s name.\n",
        "'''\n",
        "# Standard boilerplate to call the main() function.\n",
        "if __name__ == '__main__':\n",
        "  main()"
      ]
    }
  ],
  "metadata": {
    "colab": {
      "provenance": []
    },
    "kernelspec": {
      "name": "python3",
      "display_name": "Python 3"
    },
    "language_info": {
      "name": "python"
    }
  },
  "nbformat": 4,
  "nbformat_minor": 0
}