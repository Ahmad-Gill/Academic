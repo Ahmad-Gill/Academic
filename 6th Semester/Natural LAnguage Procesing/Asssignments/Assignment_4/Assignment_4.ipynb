{
 "cells": [
  {
   "cell_type": "markdown",
   "metadata": {},
   "source": [
    "# Libraries"
   ]
  },
  {
   "cell_type": "code",
   "execution_count": 43,
   "metadata": {},
   "outputs": [
    {
     "name": "stdout",
     "output_type": "stream",
     "text": [
      "Collecting nltk==3.5Note: you may need to restart the kernel to use updated packages.\n"
     ]
    },
    {
     "name": "stderr",
     "output_type": "stream",
     "text": [
      "  WARNING: The script nltk.exe is installed in 'c:\\Users\\mahma\\AppData\\Local\\Programs\\Python\\Python312\\Scripts' which is not on PATH.\n",
      "  Consider adding this directory to PATH or, if you prefer to suppress this warning, use --no-warn-script-location.\n"
     ]
    },
    {
     "name": "stdout",
     "output_type": "stream",
     "text": [
      "\n",
      "  Downloading nltk-3.5.zip (1.4 MB)\n",
      "     ---------------------------------------- 0.0/1.4 MB ? eta -:--:--\n",
      "     ---------------------------------------- 0.0/1.4 MB ? eta -:--:--\n",
      "     ---------------------------------------- 0.0/1.4 MB ? eta -:--:--\n",
      "      --------------------------------------- 0.0/1.4 MB 217.9 kB/s eta 0:00:07\n",
      "      --------------------------------------- 0.0/1.4 MB 163.8 kB/s eta 0:00:09\n",
      "      --------------------------------------- 0.0/1.4 MB 163.8 kB/s eta 0:00:09\n",
      "     - -------------------------------------- 0.0/1.4 MB 151.3 kB/s eta 0:00:10\n",
      "     - -------------------------------------- 0.0/1.4 MB 151.3 kB/s eta 0:00:10\n",
      "     - -------------------------------------- 0.1/1.4 MB 164.1 kB/s eta 0:00:09\n",
      "     -- ------------------------------------- 0.1/1.4 MB 208.4 kB/s eta 0:00:07\n",
      "     -- ------------------------------------- 0.1/1.4 MB 218.5 kB/s eta 0:00:07\n",
      "     --- ------------------------------------ 0.1/1.4 MB 242.7 kB/s eta 0:00:06\n",
      "     --- ------------------------------------ 0.1/1.4 MB 225.3 kB/s eta 0:00:06\n",
      "     --- ------------------------------------ 0.1/1.4 MB 225.3 kB/s eta 0:00:06\n",
      "     --- ------------------------------------ 0.1/1.4 MB 225.3 kB/s eta 0:00:06\n",
      "     --- ------------------------------------ 0.1/1.4 MB 225.3 kB/s eta 0:00:06\n",
      "     --- ------------------------------------ 0.1/1.4 MB 182.9 kB/s eta 0:00:08\n",
      "     ---- ----------------------------------- 0.2/1.4 MB 199.4 kB/s eta 0:00:07\n",
      "     ---- ----------------------------------- 0.2/1.4 MB 199.4 kB/s eta 0:00:07\n",
      "     ----- ---------------------------------- 0.2/1.4 MB 210.2 kB/s eta 0:00:06\n",
      "     ----- ---------------------------------- 0.2/1.4 MB 222.4 kB/s eta 0:00:06\n",
      "     ----- ---------------------------------- 0.2/1.4 MB 222.4 kB/s eta 0:00:06\n",
      "     ----- ---------------------------------- 0.2/1.4 MB 222.4 kB/s eta 0:00:06\n",
      "     ----- ---------------------------------- 0.2/1.4 MB 222.4 kB/s eta 0:00:06\n",
      "     ----- ---------------------------------- 0.2/1.4 MB 222.4 kB/s eta 0:00:06\n",
      "     ----- ---------------------------------- 0.2/1.4 MB 222.4 kB/s eta 0:00:06\n",
      "     ----- ---------------------------------- 0.2/1.4 MB 222.4 kB/s eta 0:00:06\n",
      "     ------ --------------------------------- 0.2/1.4 MB 172.5 kB/s eta 0:00:08\n",
      "     ------ --------------------------------- 0.2/1.4 MB 172.5 kB/s eta 0:00:08\n",
      "     ------ --------------------------------- 0.2/1.4 MB 172.5 kB/s eta 0:00:08\n",
      "     ------ --------------------------------- 0.2/1.4 MB 172.5 kB/s eta 0:00:08\n",
      "     ------ --------------------------------- 0.2/1.4 MB 172.5 kB/s eta 0:00:08\n",
      "     ------ --------------------------------- 0.2/1.4 MB 172.5 kB/s eta 0:00:08\n",
      "     ------ --------------------------------- 0.2/1.4 MB 172.5 kB/s eta 0:00:08\n",
      "     ------ --------------------------------- 0.2/1.4 MB 172.5 kB/s eta 0:00:08\n",
      "     ------ --------------------------------- 0.2/1.4 MB 145.6 kB/s eta 0:00:09\n",
      "     ------ --------------------------------- 0.2/1.4 MB 145.6 kB/s eta 0:00:09\n",
      "     ------ --------------------------------- 0.2/1.4 MB 145.6 kB/s eta 0:00:09\n",
      "     ------- -------------------------------- 0.3/1.4 MB 144.3 kB/s eta 0:00:09\n",
      "     ------- -------------------------------- 0.3/1.4 MB 144.3 kB/s eta 0:00:09\n",
      "     ------- -------------------------------- 0.3/1.4 MB 144.3 kB/s eta 0:00:09\n",
      "     ------- -------------------------------- 0.3/1.4 MB 144.3 kB/s eta 0:00:09\n",
      "     ------- -------------------------------- 0.3/1.4 MB 144.3 kB/s eta 0:00:09\n",
      "     ------- -------------------------------- 0.3/1.4 MB 144.3 kB/s eta 0:00:09\n",
      "     ------- -------------------------------- 0.3/1.4 MB 144.3 kB/s eta 0:00:09\n",
      "     ------- -------------------------------- 0.3/1.4 MB 144.3 kB/s eta 0:00:09\n",
      "     ------- -------------------------------- 0.3/1.4 MB 144.3 kB/s eta 0:00:09\n",
      "     ------- -------------------------------- 0.3/1.4 MB 121.4 kB/s eta 0:00:10\n",
      "     ------- -------------------------------- 0.3/1.4 MB 121.4 kB/s eta 0:00:10\n",
      "     -------- ------------------------------- 0.3/1.4 MB 123.8 kB/s eta 0:00:10\n",
      "     -------- ------------------------------- 0.3/1.4 MB 126.5 kB/s eta 0:00:09\n",
      "     -------- ------------------------------- 0.3/1.4 MB 132.9 kB/s eta 0:00:09\n",
      "     --------- ------------------------------ 0.3/1.4 MB 139.8 kB/s eta 0:00:08\n",
      "     --------- ------------------------------ 0.3/1.4 MB 139.8 kB/s eta 0:00:08\n",
      "     --------- ------------------------------ 0.3/1.4 MB 136.9 kB/s eta 0:00:08\n",
      "     --------- ------------------------------ 0.3/1.4 MB 136.9 kB/s eta 0:00:08\n",
      "     --------- ------------------------------ 0.3/1.4 MB 136.9 kB/s eta 0:00:08\n",
      "     ---------- ----------------------------- 0.4/1.4 MB 139.0 kB/s eta 0:00:08\n",
      "     ---------- ----------------------------- 0.4/1.4 MB 139.0 kB/s eta 0:00:08\n",
      "     ---------- ----------------------------- 0.4/1.4 MB 138.8 kB/s eta 0:00:08\n",
      "     ----------- ---------------------------- 0.4/1.4 MB 143.1 kB/s eta 0:00:08\n",
      "     ----------- ---------------------------- 0.4/1.4 MB 146.4 kB/s eta 0:00:07\n",
      "     ----------- ---------------------------- 0.4/1.4 MB 146.4 kB/s eta 0:00:07\n",
      "     ------------ --------------------------- 0.4/1.4 MB 146.0 kB/s eta 0:00:07\n",
      "     ------------ --------------------------- 0.4/1.4 MB 146.0 kB/s eta 0:00:07\n",
      "     ------------ --------------------------- 0.5/1.4 MB 149.1 kB/s eta 0:00:07\n",
      "     ------------ --------------------------- 0.5/1.4 MB 148.7 kB/s eta 0:00:07\n",
      "     ------------ --------------------------- 0.5/1.4 MB 148.7 kB/s eta 0:00:07\n",
      "     ------------- -------------------------- 0.5/1.4 MB 151.5 kB/s eta 0:00:07\n",
      "     ------------- -------------------------- 0.5/1.4 MB 151.5 kB/s eta 0:00:07\n",
      "     -------------- ------------------------- 0.5/1.4 MB 155.0 kB/s eta 0:00:07\n",
      "     -------------- ------------------------- 0.5/1.4 MB 159.9 kB/s eta 0:00:06\n",
      "     -------------- ------------------------- 0.5/1.4 MB 159.9 kB/s eta 0:00:06\n",
      "     -------------- ------------------------- 0.5/1.4 MB 159.9 kB/s eta 0:00:06\n",
      "     -------------- ------------------------- 0.5/1.4 MB 159.9 kB/s eta 0:00:06\n",
      "     --------------- ------------------------ 0.5/1.4 MB 154.2 kB/s eta 0:00:06\n",
      "     --------------- ------------------------ 0.5/1.4 MB 154.2 kB/s eta 0:00:06\n",
      "     --------------- ------------------------ 0.5/1.4 MB 154.2 kB/s eta 0:00:06\n",
      "     --------------- ------------------------ 0.6/1.4 MB 153.2 kB/s eta 0:00:06\n",
      "     --------------- ------------------------ 0.6/1.4 MB 153.2 kB/s eta 0:00:06\n",
      "     ---------------- ----------------------- 0.6/1.4 MB 152.9 kB/s eta 0:00:06\n",
      "     ---------------- ----------------------- 0.6/1.4 MB 153.1 kB/s eta 0:00:06\n",
      "     ---------------- ----------------------- 0.6/1.4 MB 153.1 kB/s eta 0:00:06\n",
      "     ---------------- ----------------------- 0.6/1.4 MB 153.1 kB/s eta 0:00:06\n",
      "     ---------------- ----------------------- 0.6/1.4 MB 153.1 kB/s eta 0:00:06\n",
      "     ---------------- ----------------------- 0.6/1.4 MB 153.1 kB/s eta 0:00:06\n",
      "     ---------------- ----------------------- 0.6/1.4 MB 153.1 kB/s eta 0:00:06\n",
      "     ---------------- ----------------------- 0.6/1.4 MB 153.1 kB/s eta 0:00:06\n",
      "     ----------------- ---------------------- 0.6/1.4 MB 144.8 kB/s eta 0:00:06\n",
      "     ----------------- ---------------------- 0.6/1.4 MB 146.2 kB/s eta 0:00:06\n",
      "     ------------------ --------------------- 0.6/1.4 MB 149.9 kB/s eta 0:00:06\n",
      "     ------------------ --------------------- 0.7/1.4 MB 153.1 kB/s eta 0:00:06\n",
      "     ------------------ --------------------- 0.7/1.4 MB 153.8 kB/s eta 0:00:05\n",
      "     ------------------ --------------------- 0.7/1.4 MB 153.8 kB/s eta 0:00:05\n",
      "     ------------------- -------------------- 0.7/1.4 MB 154.6 kB/s eta 0:00:05\n",
      "     ------------------- -------------------- 0.7/1.4 MB 154.6 kB/s eta 0:00:05\n",
      "     ------------------- -------------------- 0.7/1.4 MB 154.6 kB/s eta 0:00:05\n",
      "     ------------------- -------------------- 0.7/1.4 MB 152.1 kB/s eta 0:00:05\n",
      "     ------------------- -------------------- 0.7/1.4 MB 152.1 kB/s eta 0:00:05\n",
      "     -------------------- ------------------- 0.7/1.4 MB 152.9 kB/s eta 0:00:05\n",
      "     -------------------- ------------------- 0.7/1.4 MB 152.9 kB/s eta 0:00:05\n",
      "     -------------------- ------------------- 0.7/1.4 MB 152.9 kB/s eta 0:00:05\n",
      "     -------------------- ------------------- 0.7/1.4 MB 153.7 kB/s eta 0:00:05\n",
      "     -------------------- ------------------- 0.7/1.4 MB 153.7 kB/s eta 0:00:05\n",
      "     --------------------- ------------------ 0.8/1.4 MB 152.4 kB/s eta 0:00:05\n",
      "     --------------------- ------------------ 0.8/1.4 MB 152.4 kB/s eta 0:00:05\n",
      "     --------------------- ------------------ 0.8/1.4 MB 152.4 kB/s eta 0:00:05\n",
      "     --------------------- ------------------ 0.8/1.4 MB 151.7 kB/s eta 0:00:05\n",
      "     --------------------- ------------------ 0.8/1.4 MB 151.7 kB/s eta 0:00:05\n",
      "     --------------------- ------------------ 0.8/1.4 MB 151.7 kB/s eta 0:00:05\n",
      "     --------------------- ------------------ 0.8/1.4 MB 151.7 kB/s eta 0:00:05\n",
      "     --------------------- ------------------ 0.8/1.4 MB 151.7 kB/s eta 0:00:05\n",
      "     ---------------------- ----------------- 0.8/1.4 MB 147.8 kB/s eta 0:00:05\n",
      "     ---------------------- ----------------- 0.8/1.4 MB 147.8 kB/s eta 0:00:05\n",
      "     ---------------------- ----------------- 0.8/1.4 MB 147.8 kB/s eta 0:00:05\n",
      "     ---------------------- ----------------- 0.8/1.4 MB 147.7 kB/s eta 0:00:05\n",
      "     ---------------------- ----------------- 0.8/1.4 MB 147.7 kB/s eta 0:00:05\n",
      "     ----------------------- ---------------- 0.8/1.4 MB 147.7 kB/s eta 0:00:05\n",
      "     ----------------------- ---------------- 0.8/1.4 MB 147.7 kB/s eta 0:00:05\n",
      "     ----------------------- ---------------- 0.8/1.4 MB 147.7 kB/s eta 0:00:05\n",
      "     ----------------------- ---------------- 0.8/1.4 MB 147.7 kB/s eta 0:00:05\n",
      "     ----------------------- ---------------- 0.8/1.4 MB 147.7 kB/s eta 0:00:05\n",
      "     ----------------------- ---------------- 0.8/1.4 MB 147.7 kB/s eta 0:00:05\n",
      "     ----------------------- ---------------- 0.8/1.4 MB 142.3 kB/s eta 0:00:05\n",
      "     ----------------------- ---------------- 0.8/1.4 MB 142.3 kB/s eta 0:00:05\n",
      "     ----------------------- ---------------- 0.8/1.4 MB 142.3 kB/s eta 0:00:05\n",
      "     ----------------------- ---------------- 0.8/1.4 MB 142.3 kB/s eta 0:00:05\n",
      "     ----------------------- ---------------- 0.8/1.4 MB 142.3 kB/s eta 0:00:05\n",
      "     ----------------------- ---------------- 0.8/1.4 MB 142.3 kB/s eta 0:00:05\n",
      "     ----------------------- ---------------- 0.8/1.4 MB 142.3 kB/s eta 0:00:05\n",
      "     ----------------------- ---------------- 0.8/1.4 MB 142.3 kB/s eta 0:00:05\n",
      "     ----------------------- ---------------- 0.8/1.4 MB 142.3 kB/s eta 0:00:05\n",
      "     ----------------------- ---------------- 0.8/1.4 MB 142.3 kB/s eta 0:00:05\n",
      "     ----------------------- ---------------- 0.8/1.4 MB 142.3 kB/s eta 0:00:05\n",
      "     ----------------------- ---------------- 0.8/1.4 MB 142.3 kB/s eta 0:00:05\n",
      "     ----------------------- ---------------- 0.8/1.4 MB 142.3 kB/s eta 0:00:05\n",
      "     ----------------------- ---------------- 0.8/1.4 MB 142.3 kB/s eta 0:00:05\n",
      "     ----------------------- ---------------- 0.8/1.4 MB 142.3 kB/s eta 0:00:05\n",
      "     ----------------------- ---------------- 0.8/1.4 MB 142.3 kB/s eta 0:00:05\n",
      "     ----------------------- ---------------- 0.8/1.4 MB 142.3 kB/s eta 0:00:05\n",
      "     ----------------------- ---------------- 0.8/1.4 MB 142.3 kB/s eta 0:00:05\n",
      "     ----------------------- ---------------- 0.8/1.4 MB 142.3 kB/s eta 0:00:05\n",
      "     ----------------------- ---------------- 0.8/1.4 MB 142.3 kB/s eta 0:00:05\n",
      "     ----------------------- ---------------- 0.8/1.4 MB 142.3 kB/s eta 0:00:05\n",
      "     ----------------------- ---------------- 0.8/1.4 MB 142.3 kB/s eta 0:00:05\n",
      "     ----------------------- ---------------- 0.8/1.4 MB 142.3 kB/s eta 0:00:05\n",
      "     ----------------------- ---------------- 0.8/1.4 MB 142.3 kB/s eta 0:00:05\n",
      "     ----------------------- ---------------- 0.8/1.4 MB 142.3 kB/s eta 0:00:05\n",
      "     ----------------------- ---------------- 0.8/1.4 MB 142.3 kB/s eta 0:00:05\n",
      "     ----------------------- ---------------- 0.8/1.4 MB 142.3 kB/s eta 0:00:05\n",
      "     ----------------------- ---------------- 0.8/1.4 MB 142.3 kB/s eta 0:00:05\n",
      "     ----------------------- ---------------- 0.8/1.4 MB 142.3 kB/s eta 0:00:05\n",
      "     ----------------------- ---------------- 0.8/1.4 MB 142.3 kB/s eta 0:00:05\n",
      "     ------------------------ --------------- 0.9/1.4 MB 115.0 kB/s eta 0:00:05\n",
      "     ------------------------ --------------- 0.9/1.4 MB 115.7 kB/s eta 0:00:05\n",
      "     ------------------------ --------------- 0.9/1.4 MB 117.9 kB/s eta 0:00:05\n",
      "     ------------------------ --------------- 0.9/1.4 MB 117.9 kB/s eta 0:00:05\n",
      "     ------------------------- -------------- 0.9/1.4 MB 119.4 kB/s eta 0:00:05\n",
      "     ------------------------- -------------- 0.9/1.4 MB 120.3 kB/s eta 0:00:05\n",
      "     -------------------------- ------------- 0.9/1.4 MB 122.2 kB/s eta 0:00:05\n",
      "     -------------------------- ------------- 0.9/1.4 MB 122.2 kB/s eta 0:00:05\n",
      "     -------------------------- ------------- 1.0/1.4 MB 121.8 kB/s eta 0:00:04\n",
      "     -------------------------- ------------- 1.0/1.4 MB 121.8 kB/s eta 0:00:04\n",
      "     -------------------------- ------------- 1.0/1.4 MB 121.8 kB/s eta 0:00:04\n",
      "     --------------------------- ------------ 1.0/1.4 MB 121.8 kB/s eta 0:00:04\n",
      "     --------------------------- ------------ 1.0/1.4 MB 121.8 kB/s eta 0:00:04\n",
      "     --------------------------- ------------ 1.0/1.4 MB 122.9 kB/s eta 0:00:04\n",
      "     --------------------------- ------------ 1.0/1.4 MB 122.9 kB/s eta 0:00:04\n",
      "     --------------------------- ------------ 1.0/1.4 MB 122.9 kB/s eta 0:00:04\n",
      "     --------------------------- ------------ 1.0/1.4 MB 122.9 kB/s eta 0:00:04\n",
      "     --------------------------- ------------ 1.0/1.4 MB 122.9 kB/s eta 0:00:04\n",
      "     --------------------------- ------------ 1.0/1.4 MB 122.9 kB/s eta 0:00:04\n",
      "     --------------------------- ------------ 1.0/1.4 MB 122.9 kB/s eta 0:00:04\n",
      "     ---------------------------- ----------- 1.0/1.4 MB 119.3 kB/s eta 0:00:04\n",
      "     ---------------------------- ----------- 1.0/1.4 MB 119.3 kB/s eta 0:00:04\n",
      "     ---------------------------- ----------- 1.0/1.4 MB 120.6 kB/s eta 0:00:04\n",
      "     ---------------------------- ----------- 1.0/1.4 MB 120.6 kB/s eta 0:00:04\n",
      "     ---------------------------- ----------- 1.0/1.4 MB 120.7 kB/s eta 0:00:04\n",
      "     ----------------------------- ---------- 1.1/1.4 MB 122.0 kB/s eta 0:00:04\n",
      "     ------------------------------ --------- 1.1/1.4 MB 123.7 kB/s eta 0:00:03\n",
      "     ------------------------------ --------- 1.1/1.4 MB 123.7 kB/s eta 0:00:03\n",
      "     ------------------------------ --------- 1.1/1.4 MB 124.0 kB/s eta 0:00:03\n",
      "     ------------------------------ --------- 1.1/1.4 MB 125.4 kB/s eta 0:00:03\n",
      "     ------------------------------- -------- 1.1/1.4 MB 126.2 kB/s eta 0:00:03\n",
      "     ------------------------------- -------- 1.1/1.4 MB 127.8 kB/s eta 0:00:03\n",
      "     -------------------------------- ------- 1.2/1.4 MB 129.5 kB/s eta 0:00:03\n",
      "     -------------------------------- ------- 1.2/1.4 MB 129.5 kB/s eta 0:00:03\n",
      "     -------------------------------- ------- 1.2/1.4 MB 129.5 kB/s eta 0:00:03\n",
      "     -------------------------------- ------- 1.2/1.4 MB 129.5 kB/s eta 0:00:03\n",
      "     -------------------------------- ------- 1.2/1.4 MB 129.5 kB/s eta 0:00:03\n",
      "     -------------------------------- ------- 1.2/1.4 MB 127.0 kB/s eta 0:00:03\n",
      "     -------------------------------- ------- 1.2/1.4 MB 127.0 kB/s eta 0:00:03\n",
      "     --------------------------------- ------ 1.2/1.4 MB 128.0 kB/s eta 0:00:02\n",
      "     --------------------------------- ------ 1.2/1.4 MB 128.0 kB/s eta 0:00:02\n",
      "     --------------------------------- ------ 1.2/1.4 MB 127.8 kB/s eta 0:00:02\n",
      "     ---------------------------------- ----- 1.2/1.4 MB 129.3 kB/s eta 0:00:02\n",
      "     ---------------------------------- ----- 1.2/1.4 MB 130.8 kB/s eta 0:00:02\n",
      "     ---------------------------------- ----- 1.2/1.4 MB 130.8 kB/s eta 0:00:02\n",
      "     ---------------------------------- ----- 1.2/1.4 MB 130.8 kB/s eta 0:00:02\n",
      "     ---------------------------------- ----- 1.2/1.4 MB 130.2 kB/s eta 0:00:02\n",
      "     ----------------------------------- ---- 1.3/1.4 MB 131.5 kB/s eta 0:00:02\n",
      "     ----------------------------------- ---- 1.3/1.4 MB 131.7 kB/s eta 0:00:02\n",
      "     ----------------------------------- ---- 1.3/1.4 MB 131.7 kB/s eta 0:00:02\n",
      "     ------------------------------------ --- 1.3/1.4 MB 133.0 kB/s eta 0:00:02\n",
      "     ------------------------------------ --- 1.3/1.4 MB 134.4 kB/s eta 0:00:01\n",
      "     ------------------------------------- -- 1.3/1.4 MB 134.6 kB/s eta 0:00:01\n",
      "     ------------------------------------- -- 1.4/1.4 MB 135.8 kB/s eta 0:00:01\n",
      "     -------------------------------------- - 1.4/1.4 MB 136.2 kB/s eta 0:00:01\n",
      "     -------------------------------------- - 1.4/1.4 MB 137.6 kB/s eta 0:00:01\n",
      "     ---------------------------------------  1.4/1.4 MB 139.0 kB/s eta 0:00:01\n",
      "     ---------------------------------------  1.4/1.4 MB 139.0 kB/s eta 0:00:01\n",
      "     ---------------------------------------  1.4/1.4 MB 139.2 kB/s eta 0:00:01\n",
      "     ---------------------------------------- 1.4/1.4 MB 140.3 kB/s eta 0:00:00\n",
      "  Preparing metadata (setup.py): started\n",
      "  Preparing metadata (setup.py): finished with status 'done'\n",
      "Requirement already satisfied: click in c:\\users\\mahma\\appdata\\local\\programs\\python\\python312\\lib\\site-packages (from nltk==3.5) (7.1.2)\n",
      "Requirement already satisfied: joblib in c:\\users\\mahma\\appdata\\local\\programs\\python\\python312\\lib\\site-packages (from nltk==3.5) (1.3.2)\n",
      "Requirement already satisfied: regex in c:\\users\\mahma\\appdata\\local\\programs\\python\\python312\\lib\\site-packages (from nltk==3.5) (2023.12.25)\n",
      "Requirement already satisfied: tqdm in c:\\users\\mahma\\appdata\\local\\programs\\python\\python312\\lib\\site-packages (from nltk==3.5) (4.66.1)\n",
      "Requirement already satisfied: colorama in c:\\users\\mahma\\appdata\\roaming\\python\\python312\\site-packages (from tqdm->nltk==3.5) (0.4.6)\n",
      "Building wheels for collected packages: nltk\n",
      "  Building wheel for nltk (setup.py): started\n",
      "  Building wheel for nltk (setup.py): finished with status 'done'\n",
      "  Created wheel for nltk: filename=nltk-3.5-py3-none-any.whl size=1434692 sha256=acf7f3472c829c800a9d383ac3bf916d51799826c657a10d106411ba0e18372f\n",
      "  Stored in directory: c:\\users\\mahma\\appdata\\local\\pip\\cache\\wheels\\81\\c8\\97\\7683065c88936de3102093c42eed9defe41435ac4cbdedccf5\n",
      "Successfully built nltk\n",
      "Installing collected packages: nltk\n",
      "  Attempting uninstall: nltk\n",
      "    Found existing installation: nltk 3.8.1\n",
      "    Uninstalling nltk-3.8.1:\n",
      "      Successfully uninstalled nltk-3.8.1\n",
      "Successfully installed nltk-3.5\n"
     ]
    }
   ],
   "source": [
    "pip install nltk==3.5\n"
   ]
  },
  {
   "cell_type": "code",
   "execution_count": 1,
   "metadata": {},
   "outputs": [
    {
     "name": "stderr",
     "output_type": "stream",
     "text": [
      "c:\\Users\\mahma\\AppData\\Local\\Programs\\Python\\Python312\\Lib\\site-packages\\tqdm\\auto.py:21: TqdmWarning: IProgress not found. Please update jupyter and ipywidgets. See https://ipywidgets.readthedocs.io/en/stable/user_install.html\n",
      "  from .autonotebook import tqdm as notebook_tqdm\n"
     ]
    }
   ],
   "source": [
    "import torch\n",
    "from torch.utils.data import DataLoader, TensorDataset\n",
    "from transformers import BertTokenizer, BertForQuestionAnswering, AdamW\n",
    "from sklearn.model_selection import train_test_split\n",
    "import wandb\n",
    "from nltk.translate.bleu_score import sentence_bleu\n",
    "from rouge import Rouge\n",
    "import pandas as pd\n",
    "import re\n",
    "from transformers import MobileBertTokenizer, MobileBertForQuestionAnswering, AdamW\n",
    "import logging\n",
    "from simpletransformers.question_answering import QuestionAnsweringModel, QuestionAnsweringArgs\n",
    "import torch\n",
    "from torch.utils.data import DataLoader, TensorDataset\n",
    "from transformers import BertTokenizer, BertForQuestionAnswering, AdamW\n",
    "from sklearn.model_selection import train_test_split\n",
    "import pandas as pd\n",
    "from nltk.translate.bleu_score import corpus_bleu\n",
    "from fractions import Fraction\n",
    "import logging\n",
    "from simpletransformers.question_answering import QuestionAnsweringModel\n",
    "\n"
   ]
  },
  {
   "cell_type": "markdown",
   "metadata": {},
   "source": [
    "# Load Data set "
   ]
  },
  {
   "cell_type": "code",
   "execution_count": 2,
   "metadata": {},
   "outputs": [],
   "source": [
    "df = pd.read_csv(\"train.csv\")\n",
    "df=df.head(100)"
   ]
  },
  {
   "cell_type": "markdown",
   "metadata": {},
   "source": [
    "# Preprocessing "
   ]
  },
  {
   "cell_type": "code",
   "execution_count": 3,
   "metadata": {},
   "outputs": [],
   "source": [
    "\n",
    "def preprocess_text(text):\n",
    "    text = text.lower()\n",
    "    text = re.sub(r'[^\\w\\s]', '', text)\n",
    "    text = re.sub(r'\\s+', ' ', text).strip()\n",
    "    return text"
   ]
  },
  {
   "cell_type": "markdown",
   "metadata": {},
   "source": [
    "# Cleaned Text"
   ]
  },
  {
   "cell_type": "code",
   "execution_count": 4,
   "metadata": {},
   "outputs": [
    {
     "data": {
      "text/html": [
       "<div>\n",
       "<style scoped>\n",
       "    .dataframe tbody tr th:only-of-type {\n",
       "        vertical-align: middle;\n",
       "    }\n",
       "\n",
       "    .dataframe tbody tr th {\n",
       "        vertical-align: top;\n",
       "    }\n",
       "\n",
       "    .dataframe thead th {\n",
       "        text-align: right;\n",
       "    }\n",
       "</style>\n",
       "<table border=\"1\" class=\"dataframe\">\n",
       "  <thead>\n",
       "    <tr style=\"text-align: right;\">\n",
       "      <th></th>\n",
       "      <th>qtype</th>\n",
       "      <th>Question</th>\n",
       "      <th>Answer</th>\n",
       "    </tr>\n",
       "  </thead>\n",
       "  <tbody>\n",
       "    <tr>\n",
       "      <th>0</th>\n",
       "      <td>susceptibility</td>\n",
       "      <td>who is at risk for lymphocytic choriomeningiti...</td>\n",
       "      <td>lcmv infections can occur after exposure to fr...</td>\n",
       "    </tr>\n",
       "    <tr>\n",
       "      <th>1</th>\n",
       "      <td>symptoms</td>\n",
       "      <td>what are the symptoms of lymphocytic choriomen...</td>\n",
       "      <td>lcmv is most commonly recognized as causing ne...</td>\n",
       "    </tr>\n",
       "    <tr>\n",
       "      <th>2</th>\n",
       "      <td>susceptibility</td>\n",
       "      <td>who is at risk for lymphocytic choriomeningiti...</td>\n",
       "      <td>individuals of all ages who come into contact ...</td>\n",
       "    </tr>\n",
       "    <tr>\n",
       "      <th>3</th>\n",
       "      <td>exams and tests</td>\n",
       "      <td>how to diagnose lymphocytic choriomeningitis lcm</td>\n",
       "      <td>during the first phase of the disease the most...</td>\n",
       "    </tr>\n",
       "    <tr>\n",
       "      <th>4</th>\n",
       "      <td>treatment</td>\n",
       "      <td>what are the treatments for lymphocytic chorio...</td>\n",
       "      <td>aseptic meningitis encephalitis or meningoence...</td>\n",
       "    </tr>\n",
       "    <tr>\n",
       "      <th>...</th>\n",
       "      <td>...</td>\n",
       "      <td>...</td>\n",
       "      <td>...</td>\n",
       "    </tr>\n",
       "    <tr>\n",
       "      <th>95</th>\n",
       "      <td>exams and tests</td>\n",
       "      <td>how to diagnose parasites leishmaniasis</td>\n",
       "      <td>various laboratory methods can be used to diag...</td>\n",
       "    </tr>\n",
       "    <tr>\n",
       "      <th>96</th>\n",
       "      <td>treatment</td>\n",
       "      <td>what are the treatments for parasites leishman...</td>\n",
       "      <td>before considering treatment the first step is...</td>\n",
       "    </tr>\n",
       "    <tr>\n",
       "      <th>97</th>\n",
       "      <td>prevention</td>\n",
       "      <td>how to prevent parasites leishmaniasis</td>\n",
       "      <td>no vaccines or drugs to prevent infection are ...</td>\n",
       "    </tr>\n",
       "    <tr>\n",
       "      <th>98</th>\n",
       "      <td>information</td>\n",
       "      <td>what is are parasites toxoplasmosis toxoplasma...</td>\n",
       "      <td>a singlecelled parasite called toxoplasma gond...</td>\n",
       "    </tr>\n",
       "    <tr>\n",
       "      <th>99</th>\n",
       "      <td>susceptibility</td>\n",
       "      <td>who is at risk for parasites toxoplasmosis tox...</td>\n",
       "      <td>toxoplasmosis is caused by the protozoan paras...</td>\n",
       "    </tr>\n",
       "  </tbody>\n",
       "</table>\n",
       "<p>100 rows × 3 columns</p>\n",
       "</div>"
      ],
      "text/plain": [
       "              qtype                                           Question  \\\n",
       "0    susceptibility  who is at risk for lymphocytic choriomeningiti...   \n",
       "1          symptoms  what are the symptoms of lymphocytic choriomen...   \n",
       "2    susceptibility  who is at risk for lymphocytic choriomeningiti...   \n",
       "3   exams and tests   how to diagnose lymphocytic choriomeningitis lcm   \n",
       "4         treatment  what are the treatments for lymphocytic chorio...   \n",
       "..              ...                                                ...   \n",
       "95  exams and tests            how to diagnose parasites leishmaniasis   \n",
       "96        treatment  what are the treatments for parasites leishman...   \n",
       "97       prevention             how to prevent parasites leishmaniasis   \n",
       "98      information  what is are parasites toxoplasmosis toxoplasma...   \n",
       "99   susceptibility  who is at risk for parasites toxoplasmosis tox...   \n",
       "\n",
       "                                               Answer  \n",
       "0   lcmv infections can occur after exposure to fr...  \n",
       "1   lcmv is most commonly recognized as causing ne...  \n",
       "2   individuals of all ages who come into contact ...  \n",
       "3   during the first phase of the disease the most...  \n",
       "4   aseptic meningitis encephalitis or meningoence...  \n",
       "..                                                ...  \n",
       "95  various laboratory methods can be used to diag...  \n",
       "96  before considering treatment the first step is...  \n",
       "97  no vaccines or drugs to prevent infection are ...  \n",
       "98  a singlecelled parasite called toxoplasma gond...  \n",
       "99  toxoplasmosis is caused by the protozoan paras...  \n",
       "\n",
       "[100 rows x 3 columns]"
      ]
     },
     "execution_count": 4,
     "metadata": {},
     "output_type": "execute_result"
    }
   ],
   "source": [
    "\n",
    "df['Question'] = df['Question'].apply(preprocess_text)\n",
    "df['Answer'] = df['Answer'].apply(preprocess_text)\n",
    "\n",
    "# Display the preprocessed data\n",
    "df"
   ]
  },
  {
   "cell_type": "markdown",
   "metadata": {},
   "source": [
    "# Aplit the Data"
   ]
  },
  {
   "cell_type": "code",
   "execution_count": 5,
   "metadata": {},
   "outputs": [],
   "source": [
    "train_data, test_data = train_test_split(df, test_size=0.25, random_state=42)"
   ]
  },
  {
   "cell_type": "markdown",
   "metadata": {},
   "source": [
    "# PreProcess"
   ]
  },
  {
   "cell_type": "code",
   "execution_count": 6,
   "metadata": {},
   "outputs": [],
   "source": [
    "train_examples = []\n",
    "for _, row in train_data.iterrows():\n",
    "    train_examples.append({\n",
    "        'context': row['Answer'],  \n",
    "        'qas': [{\n",
    "            'id': row['qtype'], \n",
    "            'question': row['Question'],  \n",
    "            'answers': [{\n",
    "                'text': row['Answer'],  \n",
    "                'answer_start': 0  \n",
    "            }]\n",
    "        }]\n",
    "    })\n",
    "test_examples = []\n",
    "for _, row in test_data.iterrows():\n",
    "    test_examples.append({\n",
    "        'context': row['Answer'],  \n",
    "        'qas': [{\n",
    "            'id': str(row.name), \n",
    "            'question': row['Question'], \n",
    "            'answers': [{\n",
    "                'text': row['Answer'],  \n",
    "                'answer_start': 0  \n",
    "            }]\n",
    "        }]\n",
    "    })"
   ]
  },
  {
   "cell_type": "markdown",
   "metadata": {},
   "source": [
    "# Gineral Model ARguments"
   ]
  },
  {
   "cell_type": "code",
   "execution_count": 7,
   "metadata": {},
   "outputs": [],
   "source": [
    "\n",
    "# Suppress unnecessary logging messages\n",
    "\n",
    "# Define model arguments\n",
    "model_args = QuestionAnsweringArgs()\n",
    "model_args.train_batch_size = 16\n",
    "model_args.evaluate_during_training = True\n",
    "model_args.n_best_size = 5\n",
    "model_args.num_train_epochs = 1\n",
    "model_args.overwrite_output_dir = True\n",
    "model_args.save_model_every_epoch = False\n",
    "model_args.use_multiprocessing = False\n",
    "model_args.wandb_project = \"MedQuad-QA\"\n",
    "model_args.config = {\n",
    "    \"hidden_dropout_prob\": 0.3,\n",
    "    \"attention_probs_dropout_prob\": 0.3\n",
    "}\n",
    "model_args_7 = QuestionAnsweringArgs()\n",
    "model_args.train_batch_size = 16\n",
    "model_args.evaluate_during_training = True\n",
    "model_args.n_best_size = 5  # Set n_best_size to 5\n",
    "model_args.num_train_epochs = 1\n",
    "model_args.overwrite_output_dir = True\n",
    "model_args.save_model_every_epoch = False\n",
    "model_args.use_multiprocessing = False\n",
    "model_args.wandb_project = \"MedQuad-QA\"\n",
    "model_args.config = {\n",
    "    \"hidden_dropout_prob\": 0.7,  # Dropout rate set to 0.3\n",
    "    \"attention_probs_dropout_prob\": 0.7  # Dropout rate set to 0.3\n",
    "}\n",
    "model_args.num_samples = 10  # Set the desired number of samples\n",
    "logging.basicConfig(level=logging.ERROR)"
   ]
  },
  {
   "cell_type": "markdown",
   "metadata": {},
   "source": [
    "# Load the Model  Bert"
   ]
  },
  {
   "cell_type": "code",
   "execution_count": 46,
   "metadata": {},
   "outputs": [
    {
     "name": "stderr",
     "output_type": "stream",
     "text": [
      "c:\\Users\\mahma\\AppData\\Local\\Programs\\Python\\Python312\\Lib\\site-packages\\huggingface_hub\\file_download.py:1132: FutureWarning: `resume_download` is deprecated and will be removed in version 1.0.0. Downloads always resume when possible. If you want to force a new download, use `force_download=True`.\n",
      "  warnings.warn(\n",
      "Some weights of BertForQuestionAnswering were not initialized from the model checkpoint at bert-base-cased and are newly initialized: ['qa_outputs.bias', 'qa_outputs.weight']\n",
      "You should probably TRAIN this model on a down-stream task to be able to use it for predictions and inference.\n",
      "Some weights of BertForQuestionAnswering were not initialized from the model checkpoint at bert-base-cased and are newly initialized: ['qa_outputs.bias', 'qa_outputs.weight']\n",
      "You should probably TRAIN this model on a down-stream task to be able to use it for predictions and inference.\n"
     ]
    }
   ],
   "source": [
    "# Load the question answering model\n",
    "bert_model_03_dropout = QuestionAnsweringModel(\n",
    "    \"bert\", \"bert-base-cased\", args=model_args, use_cuda=torch.cuda.is_available()\n",
    ")\n",
    "bert_model_07_dropout = QuestionAnsweringModel(\n",
    "    \"bert\", \"bert-base-cased\", args=model_args_7,use_cuda=torch.cuda.is_available()\n",
    ")"
   ]
  },
  {
   "cell_type": "markdown",
   "metadata": {},
   "source": [
    "# bert_model_03_dropout\n",
    "5cb8eccab60f9a55795c159a6f083bd3089b708d"
   ]
  },
  {
   "cell_type": "code",
   "execution_count": 66,
   "metadata": {},
   "outputs": [
    {
     "name": "stderr",
     "output_type": "stream",
     "text": [
      "c:\\Users\\mahma\\AppData\\Local\\Programs\\Python\\Python312\\Lib\\site-packages\\huggingface_hub\\file_download.py:1132: FutureWarning: `resume_download` is deprecated and will be removed in version 1.0.0. Downloads always resume when possible. If you want to force a new download, use `force_download=True`.\n",
      "  warnings.warn(\n",
      "Some weights of BertForQuestionAnswering were not initialized from the model checkpoint at bert-base-cased and are newly initialized: ['qa_outputs.bias', 'qa_outputs.weight']\n",
      "You should probably TRAIN this model on a down-stream task to be able to use it for predictions and inference.\n",
      "100%|██████████| 75/75 [00:00<00:00, 91.16it/s] \n",
      "add example index and unique id: 100%|██████████| 75/75 [00:00<?, ?it/s]\n",
      "Epoch:   0%|          | 0/1 [00:00<?, ?it/s]"
     ]
    },
    {
     "data": {
      "text/html": [
       "Finishing last run (ID:6ob2cuvl) before initializing another..."
      ],
      "text/plain": [
       "<IPython.core.display.HTML object>"
      ]
     },
     "metadata": {},
     "output_type": "display_data"
    },
    {
     "data": {
      "text/html": [
       " View run <strong style=\"color:#cdcd00\">lively-lake-38</strong> at: <a href='https://wandb.ai/fast-ncuc/MedQuad-QA/runs/6ob2cuvl' target=\"_blank\">https://wandb.ai/fast-ncuc/MedQuad-QA/runs/6ob2cuvl</a><br/> View project at: <a href='https://wandb.ai/fast-ncuc/MedQuad-QA' target=\"_blank\">https://wandb.ai/fast-ncuc/MedQuad-QA</a><br/>Synced 5 W&B file(s), 0 media file(s), 0 artifact file(s) and 0 other file(s)"
      ],
      "text/plain": [
       "<IPython.core.display.HTML object>"
      ]
     },
     "metadata": {},
     "output_type": "display_data"
    },
    {
     "data": {
      "text/html": [
       "Find logs at: <code>.\\wandb\\run-20240512_190101-6ob2cuvl\\logs</code>"
      ],
      "text/plain": [
       "<IPython.core.display.HTML object>"
      ]
     },
     "metadata": {},
     "output_type": "display_data"
    },
    {
     "data": {
      "text/html": [
       "Successfully finished last run (ID:6ob2cuvl). Initializing new run:<br/>"
      ],
      "text/plain": [
       "<IPython.core.display.HTML object>"
      ]
     },
     "metadata": {},
     "output_type": "display_data"
    },
    {
     "data": {
      "text/html": [
       "wandb version 0.17.0 is available!  To upgrade, please run:\n",
       " $ pip install wandb --upgrade"
      ],
      "text/plain": [
       "<IPython.core.display.HTML object>"
      ]
     },
     "metadata": {},
     "output_type": "display_data"
    },
    {
     "data": {
      "text/html": [
       "Tracking run with wandb version 0.16.6"
      ],
      "text/plain": [
       "<IPython.core.display.HTML object>"
      ]
     },
     "metadata": {},
     "output_type": "display_data"
    },
    {
     "data": {
      "text/html": [
       "Run data is saved locally in <code>d:\\6th_Semester\\NLP\\Assignments\\Assignment_4\\wandb\\run-20240512_190423-noq20t6s</code>"
      ],
      "text/plain": [
       "<IPython.core.display.HTML object>"
      ]
     },
     "metadata": {},
     "output_type": "display_data"
    },
    {
     "data": {
      "text/html": [
       "Syncing run <strong><a href='https://wandb.ai/fast-ncuc/MedQuad-QA/runs/noq20t6s' target=\"_blank\">generous-flower-39</a></strong> to <a href='https://wandb.ai/fast-ncuc/MedQuad-QA' target=\"_blank\">Weights & Biases</a> (<a href='https://wandb.me/run' target=\"_blank\">docs</a>)<br/>"
      ],
      "text/plain": [
       "<IPython.core.display.HTML object>"
      ]
     },
     "metadata": {},
     "output_type": "display_data"
    },
    {
     "data": {
      "text/html": [
       " View project at <a href='https://wandb.ai/fast-ncuc/MedQuad-QA' target=\"_blank\">https://wandb.ai/fast-ncuc/MedQuad-QA</a>"
      ],
      "text/plain": [
       "<IPython.core.display.HTML object>"
      ]
     },
     "metadata": {},
     "output_type": "display_data"
    },
    {
     "data": {
      "text/html": [
       " View run at <a href='https://wandb.ai/fast-ncuc/MedQuad-QA/runs/noq20t6s' target=\"_blank\">https://wandb.ai/fast-ncuc/MedQuad-QA/runs/noq20t6s</a>"
      ],
      "text/plain": [
       "<IPython.core.display.HTML object>"
      ]
     },
     "metadata": {},
     "output_type": "display_data"
    },
    {
     "name": "stderr",
     "output_type": "stream",
     "text": [
      "Epoch 1 of 1:   0%|          | 0/1 [00:10<?, ?it/s]c:\\Users\\mahma\\AppData\\Local\\Programs\\Python\\Python312\\Lib\\site-packages\\wandb\\sdk\\wandb_run.py:2265: UserWarning: Run (6ob2cuvl) is finished. The call to `_console_raw_callback` will be ignored. Please make sure that you are using an active run.\n",
      "  lambda data: self._console_raw_callback(\"stderr\", data),\n",
      "Epochs 1/1. Running Loss:    4.8536: 100%|██████████| 6/6 [01:59<00:00, 19.99s/it]\n",
      "convert squad examples to features: 100%|██████████| 25/25 [00:00<00:00, 110.68it/s]\n",
      "add example index and unique id: 100%|██████████| 25/25 [00:00<00:00, 25031.65it/s]\n",
      "Running Evaluation: 100%|██████████| 1/1 [00:15<00:00, 15.78s/it]\n",
      "Epoch 1 of 1:   0%|          | 0/1 [03:23<?, ?it/s]\n"
     ]
    },
    {
     "name": "stdout",
     "output_type": "stream",
     "text": [
      "An error occurred during training: 'int' object is not callable\n"
     ]
    },
    {
     "name": "stderr",
     "output_type": "stream",
     "text": [
      "convert squad examples to features: 100%|██████████| 25/25 [00:00<00:00, 118.38it/s]\n",
      "add example index and unique id: 100%|██████████| 25/25 [00:00<00:00, 24865.45it/s]\n",
      "Running Evaluation: 100%|██████████| 1/1 [00:10<00:00, 10.88s/it]\n"
     ]
    },
    {
     "name": "stdout",
     "output_type": "stream",
     "text": [
      "BERT Results: {'correct': 0, 'similar': 25, 'incorrect': 0, 'eval_loss': -0.006273320410400629}\n"
     ]
    },
    {
     "name": "stderr",
     "output_type": "stream",
     "text": [
      "convert squad examples to features: 100%|██████████| 25/25 [00:00<00:00, 138.04it/s]\n",
      "add example index and unique id: 100%|██████████| 25/25 [00:00<?, ?it/s]\n",
      "Running Prediction: 100%|██████████| 1/1 [00:10<00:00, 10.39s/it]"
     ]
    },
    {
     "name": "stdout",
     "output_type": "stream",
     "text": [
      "An error occurred during evaluation: 'answers'\n"
     ]
    },
    {
     "name": "stderr",
     "output_type": "stream",
     "text": [
      "\n"
     ]
    }
   ],
   "source": [
    "logging.basicConfig(level=logging.ERROR)\n",
    "try:\n",
    "    bert_model_03_dropout = QuestionAnsweringModel(\"bert\", \"bert-base-cased\", args=model_args, use_cuda=torch.cuda.is_available())\n",
    "    bert_model_03_dropout.train_model(train_examples, eval_data=test_examples, num_samples=5, output_dir=\"model_output/\")\n",
    "except Exception as e:\n",
    "    print(f\"An error occurred during training: {str(e)}\")\n",
    "try:\n",
    "    bert_result, _ = bert_model_03_dropout.eval_model(test_examples, output_dir=\"model_output/\", verbose=False)\n",
    "    print(\"BERT Results:\", bert_result)\n",
    "    predictions = bert_model_03_dropout.predict(test_examples)\n",
    "    references = [example['answers'][0]['text'] for example in test_examples]\n",
    "except Exception as e:\n",
    "    print(f\"An error occurred during evaluation: {str(e)}\")\n"
   ]
  },
  {
   "cell_type": "markdown",
   "metadata": {},
   "source": [
    "# bert_model_07_dropout"
   ]
  },
  {
   "cell_type": "code",
   "execution_count": 85,
   "metadata": {},
   "outputs": [],
   "source": [
    "logging.basicConfig(level=logging.ERROR)\n",
    "try:\n",
    "    bert_model_07_dropout = QuestionAnsweringModel(\"bert\", \"bert-base-cased\", args=model_args_7, use_cuda=torch.cuda.is_available())\n",
    "    bert_model_07_dropout.train_model(train_examples, eval_data=test_examples, num_samples=5, output_dir=\"model_output/\")\n",
    "except Exception as e:\n",
    "    print(f\"An error occurred during training: {str(e)}\")\n",
    "try:\n",
    "    bert_result, _ = bert_model_07_dropout.eval_model(test_examples, output_dir=\"model_output/\", verbose=False)\n",
    "    print(\"BERT Results:\", bert_result)\n",
    "    predictions_07 = bert_model_07_dropout.predict(test_examples)\n",
    "    extracted_predictions = []\n",
    "    for pred in predictions:\n",
    "        if 'answer' in pred:\n",
    "            extracted_predictions.append(pred['answer'][0])\n",
    "        else:\n",
    "            extracted_predictions.append(\"\")  # Appending an empty string if 'answer' key is not present\n",
    "\n",
    "# Extracting reference answers\n",
    "    references_07 = [example['context'] for example in test_examples]\n",
    "except Exception as e:\n",
    "    print(f\"An error occurred during evaluation: {str(e)}\")"
   ]
  },
  {
   "cell_type": "markdown",
   "metadata": {},
   "source": [
    "# Blue Score "
   ]
  },
  {
   "cell_type": "code",
   "execution_count": 88,
   "metadata": {},
   "outputs": [
    {
     "name": "stdout",
     "output_type": "stream",
     "text": [
      "BLEU Score:drop_out 03 0.6\n",
      "BLEU Score:drop_out 07 0.8\n"
     ]
    }
   ],
   "source": [
    "min_len = min(len(predictions), len(references))\n",
    "predictions = predictions[:min_len]\n",
    "references = references[:min_len]\n",
    "extracted_predictions = [pred['answer'][0] if isinstance(pred, dict) else pred for pred in predictions]\n",
    "numerator = sum(min(len(pred), len(ref)) for pred, ref in zip(extracted_predictions, references))\n",
    "denominator = sum(len(pred) for pred in extracted_predictions)\n",
    "bleu_score = Fraction(numerator, denominator)\n",
    "# for 07\n",
    "min_len = min(len(predictions_07), len(references_07))\n",
    "predictions_07 = predictions_07[:min_len]\n",
    "references_07 = references_07[:min_len]\n",
    "extracted_predictions = [pred['answer'][0] if isinstance(pred, dict) else pred for pred in predictions_07]\n",
    "numerator_07 = sum(min(len(pred), len(ref)) for pred, ref in zip(extracted_predictions, references_07))\n",
    "denominator_07 = sum(len(pred) for pred in extracted_predictions)\n",
    "bleu_score_07 = Fraction(numerator_07, denominator_07)\n",
    "\n",
    "print(\"BLEU Score:drop_out 03\", bleu_score)\n",
    "print(\"BLEU Score:drop_out 07\", bleu_score_07)\n"
   ]
  },
  {
   "cell_type": "markdown",
   "metadata": {},
   "source": [
    "# --------MObile Bert------------"
   ]
  },
  {
   "cell_type": "code",
   "execution_count": 18,
   "metadata": {},
   "outputs": [],
   "source": [
    "model_args_mobilebert_03 = {\n",
    "    \"reprocess_input_data\": True,\n",
    "    \"overwrite_output_dir\": True,\n",
    "    \"fp16\": False,  # Set to True if you have FP16 training enabled\n",
    "    \"use_cuda\": False,  # Set to False if CUDA is unavailable\n",
    "    \"num_train_epochs\": 3,\n",
    "    \"dropout\": 0.3,\n",
    "}\n",
    "model_args_mobilebert_07 = {\n",
    "    \"reprocess_input_data\": True,\n",
    "    \"overwrite_output_dir\": True,\n",
    "    \"fp16\": False,  # Set to True if you have FP16 training enabled\n",
    "    \"use_cuda\": False,  # Set to False if CUDA is unavailable\n",
    "    \"num_train_epochs\": 3,\n",
    "    \"dropout\": 0.7,\n",
    "}"
   ]
  },
  {
   "cell_type": "code",
   "execution_count": 20,
   "metadata": {},
   "outputs": [
    {
     "name": "stderr",
     "output_type": "stream",
     "text": [
      "Some weights of MobileBertForQuestionAnswering were not initialized from the model checkpoint at google/mobilebert-uncased and are newly initialized: ['qa_outputs.bias', 'qa_outputs.weight']\n",
      "You should probably TRAIN this model on a down-stream task to be able to use it for predictions and inference.\n",
      "convert squad examples to features: 100%|██████████| 75/75 [00:00<00:00, 97.79it/s]\n",
      "add example index and unique id: 100%|██████████| 75/75 [00:00<?, ?it/s]\n",
      "Epochs 1/3. Running Loss: 82021.8359: 100%|██████████| 12/12 [00:37<00:00,  3.10s/it]\n",
      "Epochs 2/3. Running Loss: 2040.6174: 100%|██████████| 12/12 [00:37<00:00,  3.09s/it]\n",
      "Epochs 3/3. Running Loss: 12354.2305: 100%|██████████| 12/12 [00:36<00:00,  3.06s/it]\n",
      "Epoch 3 of 3: 100%|██████████| 3/3 [01:54<00:00, 38.09s/it]\n",
      "convert squad examples to features: 100%|██████████| 25/25 [00:00<00:00, 82.76it/s]\n",
      "add example index and unique id: 100%|██████████| 25/25 [00:00<00:00, 24800.76it/s]\n",
      "Running Evaluation: 100%|██████████| 1/1 [00:20<00:00, 20.09s/it]\n"
     ]
    },
    {
     "name": "stdout",
     "output_type": "stream",
     "text": [
      "MobileBERT Results with dropout rate 0.3: {'correct': 0, 'similar': 25, 'incorrect': 0, 'eval_loss': -70.57221984863281}\n"
     ]
    },
    {
     "name": "stderr",
     "output_type": "stream",
     "text": [
      "convert squad examples to features: 100%|██████████| 25/25 [00:00<00:00, 131.39it/s]\n",
      "add example index and unique id: 100%|██████████| 25/25 [00:00<?, ?it/s]\n",
      "Running Prediction: 100%|██████████| 1/1 [00:05<00:00,  5.37s/it]\n"
     ]
    }
   ],
   "source": [
    "# Train the MobileBERT model with dropout rate 0.3\n",
    "try:\n",
    "    mobilebert_model_03 = QuestionAnsweringModel(\"mobilebert\", \"google/mobilebert-uncased\", args=model_args_mobilebert_03, use_cuda=torch.cuda.is_available())\n",
    "    mobilebert_model_03.train_model(train_examples, eval_data=test_examples, num_samples=5, output_dir=\"model_output_mobilebert_03/\")\n",
    "except Exception as e:\n",
    "    print(f\"An error occurred during training with dropout rate 0.3: {str(e)}\")\n",
    "\n",
    "# Evaluate the MobileBERT model with dropout rate 0.3\n",
    "try:\n",
    "    mobilebert_result_03, _ = mobilebert_model_03.eval_model(test_examples)\n",
    "    print(\"MobileBERT Results with dropout rate 0.3:\", mobilebert_result_03)\n",
    "    predictions_mobilebert_03 = mobilebert_model_03.predict(test_examples)\n",
    "    references_mobilebert_03 = [example['context'] for example in test_examples]\n",
    "except Exception as e:\n",
    "    print(f\"An error occurred during evaluation with dropout rate 0.3: {str(e)}\")"
   ]
  },
  {
   "cell_type": "code",
   "execution_count": 22,
   "metadata": {},
   "outputs": [
    {
     "name": "stderr",
     "output_type": "stream",
     "text": [
      "Some weights of MobileBertForQuestionAnswering were not initialized from the model checkpoint at google/mobilebert-uncased and are newly initialized: ['qa_outputs.bias', 'qa_outputs.weight']\n",
      "You should probably TRAIN this model on a down-stream task to be able to use it for predictions and inference.\n",
      "convert squad examples to features: 100%|██████████| 75/75 [00:00<00:00, 95.30it/s]\n",
      "add example index and unique id: 100%|██████████| 75/75 [00:00<?, ?it/s]\n",
      "Epochs 1/3. Running Loss: 1382525.0000: 100%|██████████| 12/12 [00:38<00:00,  3.25s/it]\n",
      "Epochs 2/3. Running Loss: 21094.6113: 100%|██████████| 12/12 [00:39<00:00,  3.31s/it]\n",
      "Epochs 3/3. Running Loss: 1001.7396: 100%|██████████| 12/12 [00:46<00:00,  3.86s/it]\n",
      "Epoch 3 of 3: 100%|██████████| 3/3 [02:08<00:00, 42.75s/it]\n",
      "convert squad examples to features: 100%|██████████| 25/25 [00:00<00:00, 54.78it/s]\n",
      "add example index and unique id: 100%|██████████| 25/25 [00:00<00:00, 24859.55it/s]\n",
      "Running Evaluation: 100%|██████████| 1/1 [00:06<00:00,  6.67s/it]\n"
     ]
    },
    {
     "name": "stdout",
     "output_type": "stream",
     "text": [
      "MobileBERT Results with dropout rate 0.7: {'correct': 25, 'similar': 0, 'incorrect': 0, 'eval_loss': 20.118234634399414}\n"
     ]
    },
    {
     "name": "stderr",
     "output_type": "stream",
     "text": [
      "convert squad examples to features: 100%|██████████| 25/25 [00:00<00:00, 123.64it/s]\n",
      "add example index and unique id: 100%|██████████| 25/25 [00:00<00:00, 25007.77it/s]\n",
      "Running Prediction: 100%|██████████| 1/1 [00:04<00:00,  4.98s/it]\n"
     ]
    }
   ],
   "source": [
    "# Train the MobileBERT model with dropout rate 0.7\n",
    "try:\n",
    "    mobilebert_model_07 = QuestionAnsweringModel(\"mobilebert\",\"google/mobilebert-uncased\", args=model_args_mobilebert_07, use_cuda=torch.cuda.is_available())\n",
    "    mobilebert_model_07.train_model(train_examples, eval_data=test_examples, num_samples=5, output_dir=\"model_output_mobilebert_07/\")\n",
    "except Exception as e:\n",
    "    print(f\"An error occurred during training with dropout rate 0.7: {str(e)}\")\n",
    "\n",
    "# Evaluate the MobileBERT model with dropout rate 0.7\n",
    "try:\n",
    "    mobilebert_result_07, _ = mobilebert_model_07.eval_model(test_examples)\n",
    "    print(\"MobileBERT Results with dropout rate 0.7:\", mobilebert_result_07)\n",
    "    predictions_mobilebert_07 = mobilebert_model_07.predict(test_examples)\n",
    "    references_mobilebert_07 = [example['context'] for example in test_examples]\n",
    "except Exception as e:\n",
    "    print(f\"An error occurred during evaluation with dropout rate 0.7: {str(e)}\")"
   ]
  },
  {
   "cell_type": "code",
   "execution_count": 69,
   "metadata": {},
   "outputs": [
    {
     "name": "stdout",
     "output_type": "stream",
     "text": [
      "BLEU Score for dropout rate 0.3: 1/50\n",
      "BLEU Score for dropout rate 0.7: 1/50\n"
     ]
    }
   ],
   "source": [
    "from nltk.translate.bleu_score import sentence_bleu\n",
    "\n",
    "# Function to extract text from predictions\n",
    "def extract_text(prediction):\n",
    "    if isinstance(prediction, dict):\n",
    "        return prediction['answer'][0]\n",
    "    else:\n",
    "        return prediction\n",
    "\n",
    "# Compute BLEU score for dropout rate 0.3\n",
    "min_len_03 = min(len(predictions_mobilebert_03), len(references_mobilebert_03))\n",
    "predictions_03 = predictions_mobilebert_03[:min_len_03]\n",
    "references_03 = [ref.split() for ref in references_mobilebert_03[:min_len_03]]  # Split each reference sentence into a list of words\n",
    "extracted_predictions_03 = [extract_text(pred) for pred in predictions_03]\n",
    "# Convert each extracted prediction into a single string\n",
    "# Convert each extracted prediction into a single string\n",
    "# Convert each extracted prediction into a single string\n",
    "from fractions import Fraction\n",
    "\n",
    "# Calculate numerator and denominator\n",
    "numerator = sum(min(len(pred), len(ref)) for pred, ref in zip(extracted_predictions_03, references_03))\n",
    "denominator = sum(len(pred) for pred in extracted_predictions_03)\n",
    "\n",
    "# Manually normalize numerator and denominator\n",
    "numerator = min(1, numerator)  # Ensure numerator is at least 1\n",
    "denominator = max(1, denominator)  # Ensure denominator is at least 1\n",
    "\n",
    "# Create Fraction object without _normalize argument\n",
    "bleu_score_03 = Fraction(numerator, denominator)\n",
    "\n",
    "\n",
    "min_len_07 = min(len(predictions_mobilebert_07), len(references_mobilebert_07))\n",
    "predictions_07 = predictions_mobilebert_07[:min_len_03]\n",
    "references_07= [ref.split() for ref in references_mobilebert_07[:min_len_03]]  # Split each reference sentence into a list of words\n",
    "extracted_predictions_07 = [extract_text(pred) for pred in predictions_03]\n",
    "numerator = sum(min(len(pred), len(ref)) for pred, ref in zip(extracted_predictions_07, references_07))\n",
    "denominator = sum(len(pred) for pred in extracted_predictions_07)\n",
    "\n",
    "# Manually normalize numerator and denominator\n",
    "numerator = min(1, numerator)  \n",
    "denominator = max(1, denominator)  \n",
    "\n",
    "# Create Fraction object without _normalize argument\n",
    "bleu_score_07 = Fraction(numerator, denominator)\n",
    "\n",
    "\n",
    "print(\"BLEU Score for dropout rate 0.3:\", bleu_score_03)\n",
    "print(\"BLEU Score for dropout rate 0.7:\", bleu_score_07)\n"
   ]
  },
  {
   "cell_type": "markdown",
   "metadata": {},
   "source": [
    "# RoBERTa"
   ]
  },
  {
   "cell_type": "code",
   "execution_count": 8,
   "metadata": {},
   "outputs": [
    {
     "name": "stderr",
     "output_type": "stream",
     "text": [
      "c:\\Users\\mahma\\AppData\\Local\\Programs\\Python\\Python312\\Lib\\site-packages\\huggingface_hub\\file_download.py:1132: FutureWarning: `resume_download` is deprecated and will be removed in version 1.0.0. Downloads always resume when possible. If you want to force a new download, use `force_download=True`.\n",
      "  warnings.warn(\n",
      "Error while downloading from https://cdn-lfs.huggingface.co/roberta-base/5bde1d28afb363d0103324efeb5afc8b2b397fe5e04beabb9b1ef355255ade81?response-content-disposition=attachment%3B+filename*%3DUTF-8%27%27model.safetensors%3B+filename%3D%22model.safetensors%22%3B&Expires=1716049936&Policy=eyJTdGF0ZW1lbnQiOlt7IkNvbmRpdGlvbiI6eyJEYXRlTGVzc1RoYW4iOnsiQVdTOkVwb2NoVGltZSI6MTcxNjA0OTkzNn19LCJSZXNvdXJjZSI6Imh0dHBzOi8vY2RuLWxmcy5odWdnaW5nZmFjZS5jby9yb2JlcnRhLWJhc2UvNWJkZTFkMjhhZmIzNjNkMDEwMzMyNGVmZWI1YWZjOGIyYjM5N2ZlNWUwNGJlYWJiOWIxZWYzNTUyNTVhZGU4MT9yZXNwb25zZS1jb250ZW50LWRpc3Bvc2l0aW9uPSoifV19&Signature=A-5WhPyYJ6vxFBzujmMEvmxZGFD7Bq9wL9IDJ8PiswlFTUZMsIdSTIMQ7HqFuwSZI3C7nrDDYqMoZ35PLOss5pxtRKNc7YL69xYQdq95CnTC8i2b4Elncs6zQzl%7EeCy%7EFDbcmm9NO2aksHPhP0-gJKvT0TQXS7BMrxsZ2Go98G1159%7E9fsdQjqFlfEi-9X%7EBlsjv1BE2N08rfO35AhTL-VByFJgUPLlF2qt0H645qjTEWeG0zQwU3BgkkaPsvD3qwhl4pZlGARuNj3cwNtIgtvwFh0FIlZZXKKOJ3dx7iOSmuZosxVR-t-Gpw-MurhCc1ekFkG3mcDtYsYka-qP4jA__&Key-Pair-Id=KVTP0A1DKRTAX: HTTPSConnectionPool(host='cdn-lfs.huggingface.co', port=443): Read timed out.\n",
      "Trying to resume download...\n",
      "WARNING:huggingface_hub.file_download:Error while downloading from https://cdn-lfs.huggingface.co/roberta-base/5bde1d28afb363d0103324efeb5afc8b2b397fe5e04beabb9b1ef355255ade81?response-content-disposition=attachment%3B+filename*%3DUTF-8%27%27model.safetensors%3B+filename%3D%22model.safetensors%22%3B&Expires=1716049936&Policy=eyJTdGF0ZW1lbnQiOlt7IkNvbmRpdGlvbiI6eyJEYXRlTGVzc1RoYW4iOnsiQVdTOkVwb2NoVGltZSI6MTcxNjA0OTkzNn19LCJSZXNvdXJjZSI6Imh0dHBzOi8vY2RuLWxmcy5odWdnaW5nZmFjZS5jby9yb2JlcnRhLWJhc2UvNWJkZTFkMjhhZmIzNjNkMDEwMzMyNGVmZWI1YWZjOGIyYjM5N2ZlNWUwNGJlYWJiOWIxZWYzNTUyNTVhZGU4MT9yZXNwb25zZS1jb250ZW50LWRpc3Bvc2l0aW9uPSoifV19&Signature=A-5WhPyYJ6vxFBzujmMEvmxZGFD7Bq9wL9IDJ8PiswlFTUZMsIdSTIMQ7HqFuwSZI3C7nrDDYqMoZ35PLOss5pxtRKNc7YL69xYQdq95CnTC8i2b4Elncs6zQzl%7EeCy%7EFDbcmm9NO2aksHPhP0-gJKvT0TQXS7BMrxsZ2Go98G1159%7E9fsdQjqFlfEi-9X%7EBlsjv1BE2N08rfO35AhTL-VByFJgUPLlF2qt0H645qjTEWeG0zQwU3BgkkaPsvD3qwhl4pZlGARuNj3cwNtIgtvwFh0FIlZZXKKOJ3dx7iOSmuZosxVR-t-Gpw-MurhCc1ekFkG3mcDtYsYka-qP4jA__&Key-Pair-Id=KVTP0A1DKRTAX: HTTPSConnectionPool(host='cdn-lfs.huggingface.co', port=443): Read timed out.\n",
      "Trying to resume download...\n",
      "Error while downloading from https://cdn-lfs.huggingface.co/roberta-base/5bde1d28afb363d0103324efeb5afc8b2b397fe5e04beabb9b1ef355255ade81?response-content-disposition=attachment%3B+filename*%3DUTF-8%27%27model.safetensors%3B+filename%3D%22model.safetensors%22%3B&Expires=1716049936&Policy=eyJTdGF0ZW1lbnQiOlt7IkNvbmRpdGlvbiI6eyJEYXRlTGVzc1RoYW4iOnsiQVdTOkVwb2NoVGltZSI6MTcxNjA0OTkzNn19LCJSZXNvdXJjZSI6Imh0dHBzOi8vY2RuLWxmcy5odWdnaW5nZmFjZS5jby9yb2JlcnRhLWJhc2UvNWJkZTFkMjhhZmIzNjNkMDEwMzMyNGVmZWI1YWZjOGIyYjM5N2ZlNWUwNGJlYWJiOWIxZWYzNTUyNTVhZGU4MT9yZXNwb25zZS1jb250ZW50LWRpc3Bvc2l0aW9uPSoifV19&Signature=A-5WhPyYJ6vxFBzujmMEvmxZGFD7Bq9wL9IDJ8PiswlFTUZMsIdSTIMQ7HqFuwSZI3C7nrDDYqMoZ35PLOss5pxtRKNc7YL69xYQdq95CnTC8i2b4Elncs6zQzl%7EeCy%7EFDbcmm9NO2aksHPhP0-gJKvT0TQXS7BMrxsZ2Go98G1159%7E9fsdQjqFlfEi-9X%7EBlsjv1BE2N08rfO35AhTL-VByFJgUPLlF2qt0H645qjTEWeG0zQwU3BgkkaPsvD3qwhl4pZlGARuNj3cwNtIgtvwFh0FIlZZXKKOJ3dx7iOSmuZosxVR-t-Gpw-MurhCc1ekFkG3mcDtYsYka-qP4jA__&Key-Pair-Id=KVTP0A1DKRTAX: HTTPSConnectionPool(host='cdn-lfs.huggingface.co', port=443): Read timed out.\n",
      "Trying to resume download...\n",
      "WARNING:huggingface_hub.file_download:Error while downloading from https://cdn-lfs.huggingface.co/roberta-base/5bde1d28afb363d0103324efeb5afc8b2b397fe5e04beabb9b1ef355255ade81?response-content-disposition=attachment%3B+filename*%3DUTF-8%27%27model.safetensors%3B+filename%3D%22model.safetensors%22%3B&Expires=1716049936&Policy=eyJTdGF0ZW1lbnQiOlt7IkNvbmRpdGlvbiI6eyJEYXRlTGVzc1RoYW4iOnsiQVdTOkVwb2NoVGltZSI6MTcxNjA0OTkzNn19LCJSZXNvdXJjZSI6Imh0dHBzOi8vY2RuLWxmcy5odWdnaW5nZmFjZS5jby9yb2JlcnRhLWJhc2UvNWJkZTFkMjhhZmIzNjNkMDEwMzMyNGVmZWI1YWZjOGIyYjM5N2ZlNWUwNGJlYWJiOWIxZWYzNTUyNTVhZGU4MT9yZXNwb25zZS1jb250ZW50LWRpc3Bvc2l0aW9uPSoifV19&Signature=A-5WhPyYJ6vxFBzujmMEvmxZGFD7Bq9wL9IDJ8PiswlFTUZMsIdSTIMQ7HqFuwSZI3C7nrDDYqMoZ35PLOss5pxtRKNc7YL69xYQdq95CnTC8i2b4Elncs6zQzl%7EeCy%7EFDbcmm9NO2aksHPhP0-gJKvT0TQXS7BMrxsZ2Go98G1159%7E9fsdQjqFlfEi-9X%7EBlsjv1BE2N08rfO35AhTL-VByFJgUPLlF2qt0H645qjTEWeG0zQwU3BgkkaPsvD3qwhl4pZlGARuNj3cwNtIgtvwFh0FIlZZXKKOJ3dx7iOSmuZosxVR-t-Gpw-MurhCc1ekFkG3mcDtYsYka-qP4jA__&Key-Pair-Id=KVTP0A1DKRTAX: HTTPSConnectionPool(host='cdn-lfs.huggingface.co', port=443): Read timed out.\n",
      "Trying to resume download...\n",
      "Error while downloading from https://cdn-lfs.huggingface.co/roberta-base/5bde1d28afb363d0103324efeb5afc8b2b397fe5e04beabb9b1ef355255ade81?response-content-disposition=attachment%3B+filename*%3DUTF-8%27%27model.safetensors%3B+filename%3D%22model.safetensors%22%3B&Expires=1716049936&Policy=eyJTdGF0ZW1lbnQiOlt7IkNvbmRpdGlvbiI6eyJEYXRlTGVzc1RoYW4iOnsiQVdTOkVwb2NoVGltZSI6MTcxNjA0OTkzNn19LCJSZXNvdXJjZSI6Imh0dHBzOi8vY2RuLWxmcy5odWdnaW5nZmFjZS5jby9yb2JlcnRhLWJhc2UvNWJkZTFkMjhhZmIzNjNkMDEwMzMyNGVmZWI1YWZjOGIyYjM5N2ZlNWUwNGJlYWJiOWIxZWYzNTUyNTVhZGU4MT9yZXNwb25zZS1jb250ZW50LWRpc3Bvc2l0aW9uPSoifV19&Signature=A-5WhPyYJ6vxFBzujmMEvmxZGFD7Bq9wL9IDJ8PiswlFTUZMsIdSTIMQ7HqFuwSZI3C7nrDDYqMoZ35PLOss5pxtRKNc7YL69xYQdq95CnTC8i2b4Elncs6zQzl%7EeCy%7EFDbcmm9NO2aksHPhP0-gJKvT0TQXS7BMrxsZ2Go98G1159%7E9fsdQjqFlfEi-9X%7EBlsjv1BE2N08rfO35AhTL-VByFJgUPLlF2qt0H645qjTEWeG0zQwU3BgkkaPsvD3qwhl4pZlGARuNj3cwNtIgtvwFh0FIlZZXKKOJ3dx7iOSmuZosxVR-t-Gpw-MurhCc1ekFkG3mcDtYsYka-qP4jA__&Key-Pair-Id=KVTP0A1DKRTAX: HTTPSConnectionPool(host='cdn-lfs.huggingface.co', port=443): Read timed out.\n",
      "Trying to resume download...\n",
      "WARNING:huggingface_hub.file_download:Error while downloading from https://cdn-lfs.huggingface.co/roberta-base/5bde1d28afb363d0103324efeb5afc8b2b397fe5e04beabb9b1ef355255ade81?response-content-disposition=attachment%3B+filename*%3DUTF-8%27%27model.safetensors%3B+filename%3D%22model.safetensors%22%3B&Expires=1716049936&Policy=eyJTdGF0ZW1lbnQiOlt7IkNvbmRpdGlvbiI6eyJEYXRlTGVzc1RoYW4iOnsiQVdTOkVwb2NoVGltZSI6MTcxNjA0OTkzNn19LCJSZXNvdXJjZSI6Imh0dHBzOi8vY2RuLWxmcy5odWdnaW5nZmFjZS5jby9yb2JlcnRhLWJhc2UvNWJkZTFkMjhhZmIzNjNkMDEwMzMyNGVmZWI1YWZjOGIyYjM5N2ZlNWUwNGJlYWJiOWIxZWYzNTUyNTVhZGU4MT9yZXNwb25zZS1jb250ZW50LWRpc3Bvc2l0aW9uPSoifV19&Signature=A-5WhPyYJ6vxFBzujmMEvmxZGFD7Bq9wL9IDJ8PiswlFTUZMsIdSTIMQ7HqFuwSZI3C7nrDDYqMoZ35PLOss5pxtRKNc7YL69xYQdq95CnTC8i2b4Elncs6zQzl%7EeCy%7EFDbcmm9NO2aksHPhP0-gJKvT0TQXS7BMrxsZ2Go98G1159%7E9fsdQjqFlfEi-9X%7EBlsjv1BE2N08rfO35AhTL-VByFJgUPLlF2qt0H645qjTEWeG0zQwU3BgkkaPsvD3qwhl4pZlGARuNj3cwNtIgtvwFh0FIlZZXKKOJ3dx7iOSmuZosxVR-t-Gpw-MurhCc1ekFkG3mcDtYsYka-qP4jA__&Key-Pair-Id=KVTP0A1DKRTAX: HTTPSConnectionPool(host='cdn-lfs.huggingface.co', port=443): Read timed out.\n",
      "Trying to resume download...\n",
      "Error while downloading from https://cdn-lfs.huggingface.co/roberta-base/5bde1d28afb363d0103324efeb5afc8b2b397fe5e04beabb9b1ef355255ade81?response-content-disposition=attachment%3B+filename*%3DUTF-8%27%27model.safetensors%3B+filename%3D%22model.safetensors%22%3B&Expires=1716049936&Policy=eyJTdGF0ZW1lbnQiOlt7IkNvbmRpdGlvbiI6eyJEYXRlTGVzc1RoYW4iOnsiQVdTOkVwb2NoVGltZSI6MTcxNjA0OTkzNn19LCJSZXNvdXJjZSI6Imh0dHBzOi8vY2RuLWxmcy5odWdnaW5nZmFjZS5jby9yb2JlcnRhLWJhc2UvNWJkZTFkMjhhZmIzNjNkMDEwMzMyNGVmZWI1YWZjOGIyYjM5N2ZlNWUwNGJlYWJiOWIxZWYzNTUyNTVhZGU4MT9yZXNwb25zZS1jb250ZW50LWRpc3Bvc2l0aW9uPSoifV19&Signature=A-5WhPyYJ6vxFBzujmMEvmxZGFD7Bq9wL9IDJ8PiswlFTUZMsIdSTIMQ7HqFuwSZI3C7nrDDYqMoZ35PLOss5pxtRKNc7YL69xYQdq95CnTC8i2b4Elncs6zQzl%7EeCy%7EFDbcmm9NO2aksHPhP0-gJKvT0TQXS7BMrxsZ2Go98G1159%7E9fsdQjqFlfEi-9X%7EBlsjv1BE2N08rfO35AhTL-VByFJgUPLlF2qt0H645qjTEWeG0zQwU3BgkkaPsvD3qwhl4pZlGARuNj3cwNtIgtvwFh0FIlZZXKKOJ3dx7iOSmuZosxVR-t-Gpw-MurhCc1ekFkG3mcDtYsYka-qP4jA__&Key-Pair-Id=KVTP0A1DKRTAX: HTTPSConnectionPool(host='cdn-lfs.huggingface.co', port=443): Read timed out.\n",
      "Trying to resume download...\n",
      "WARNING:huggingface_hub.file_download:Error while downloading from https://cdn-lfs.huggingface.co/roberta-base/5bde1d28afb363d0103324efeb5afc8b2b397fe5e04beabb9b1ef355255ade81?response-content-disposition=attachment%3B+filename*%3DUTF-8%27%27model.safetensors%3B+filename%3D%22model.safetensors%22%3B&Expires=1716049936&Policy=eyJTdGF0ZW1lbnQiOlt7IkNvbmRpdGlvbiI6eyJEYXRlTGVzc1RoYW4iOnsiQVdTOkVwb2NoVGltZSI6MTcxNjA0OTkzNn19LCJSZXNvdXJjZSI6Imh0dHBzOi8vY2RuLWxmcy5odWdnaW5nZmFjZS5jby9yb2JlcnRhLWJhc2UvNWJkZTFkMjhhZmIzNjNkMDEwMzMyNGVmZWI1YWZjOGIyYjM5N2ZlNWUwNGJlYWJiOWIxZWYzNTUyNTVhZGU4MT9yZXNwb25zZS1jb250ZW50LWRpc3Bvc2l0aW9uPSoifV19&Signature=A-5WhPyYJ6vxFBzujmMEvmxZGFD7Bq9wL9IDJ8PiswlFTUZMsIdSTIMQ7HqFuwSZI3C7nrDDYqMoZ35PLOss5pxtRKNc7YL69xYQdq95CnTC8i2b4Elncs6zQzl%7EeCy%7EFDbcmm9NO2aksHPhP0-gJKvT0TQXS7BMrxsZ2Go98G1159%7E9fsdQjqFlfEi-9X%7EBlsjv1BE2N08rfO35AhTL-VByFJgUPLlF2qt0H645qjTEWeG0zQwU3BgkkaPsvD3qwhl4pZlGARuNj3cwNtIgtvwFh0FIlZZXKKOJ3dx7iOSmuZosxVR-t-Gpw-MurhCc1ekFkG3mcDtYsYka-qP4jA__&Key-Pair-Id=KVTP0A1DKRTAX: HTTPSConnectionPool(host='cdn-lfs.huggingface.co', port=443): Read timed out.\n",
      "Trying to resume download...\n",
      "Error while downloading from https://cdn-lfs.huggingface.co/roberta-base/5bde1d28afb363d0103324efeb5afc8b2b397fe5e04beabb9b1ef355255ade81?response-content-disposition=attachment%3B+filename*%3DUTF-8%27%27model.safetensors%3B+filename%3D%22model.safetensors%22%3B&Expires=1716049936&Policy=eyJTdGF0ZW1lbnQiOlt7IkNvbmRpdGlvbiI6eyJEYXRlTGVzc1RoYW4iOnsiQVdTOkVwb2NoVGltZSI6MTcxNjA0OTkzNn19LCJSZXNvdXJjZSI6Imh0dHBzOi8vY2RuLWxmcy5odWdnaW5nZmFjZS5jby9yb2JlcnRhLWJhc2UvNWJkZTFkMjhhZmIzNjNkMDEwMzMyNGVmZWI1YWZjOGIyYjM5N2ZlNWUwNGJlYWJiOWIxZWYzNTUyNTVhZGU4MT9yZXNwb25zZS1jb250ZW50LWRpc3Bvc2l0aW9uPSoifV19&Signature=A-5WhPyYJ6vxFBzujmMEvmxZGFD7Bq9wL9IDJ8PiswlFTUZMsIdSTIMQ7HqFuwSZI3C7nrDDYqMoZ35PLOss5pxtRKNc7YL69xYQdq95CnTC8i2b4Elncs6zQzl%7EeCy%7EFDbcmm9NO2aksHPhP0-gJKvT0TQXS7BMrxsZ2Go98G1159%7E9fsdQjqFlfEi-9X%7EBlsjv1BE2N08rfO35AhTL-VByFJgUPLlF2qt0H645qjTEWeG0zQwU3BgkkaPsvD3qwhl4pZlGARuNj3cwNtIgtvwFh0FIlZZXKKOJ3dx7iOSmuZosxVR-t-Gpw-MurhCc1ekFkG3mcDtYsYka-qP4jA__&Key-Pair-Id=KVTP0A1DKRTAX: HTTPSConnectionPool(host='cdn-lfs.huggingface.co', port=443): Read timed out.\n",
      "Trying to resume download...\n",
      "WARNING:huggingface_hub.file_download:Error while downloading from https://cdn-lfs.huggingface.co/roberta-base/5bde1d28afb363d0103324efeb5afc8b2b397fe5e04beabb9b1ef355255ade81?response-content-disposition=attachment%3B+filename*%3DUTF-8%27%27model.safetensors%3B+filename%3D%22model.safetensors%22%3B&Expires=1716049936&Policy=eyJTdGF0ZW1lbnQiOlt7IkNvbmRpdGlvbiI6eyJEYXRlTGVzc1RoYW4iOnsiQVdTOkVwb2NoVGltZSI6MTcxNjA0OTkzNn19LCJSZXNvdXJjZSI6Imh0dHBzOi8vY2RuLWxmcy5odWdnaW5nZmFjZS5jby9yb2JlcnRhLWJhc2UvNWJkZTFkMjhhZmIzNjNkMDEwMzMyNGVmZWI1YWZjOGIyYjM5N2ZlNWUwNGJlYWJiOWIxZWYzNTUyNTVhZGU4MT9yZXNwb25zZS1jb250ZW50LWRpc3Bvc2l0aW9uPSoifV19&Signature=A-5WhPyYJ6vxFBzujmMEvmxZGFD7Bq9wL9IDJ8PiswlFTUZMsIdSTIMQ7HqFuwSZI3C7nrDDYqMoZ35PLOss5pxtRKNc7YL69xYQdq95CnTC8i2b4Elncs6zQzl%7EeCy%7EFDbcmm9NO2aksHPhP0-gJKvT0TQXS7BMrxsZ2Go98G1159%7E9fsdQjqFlfEi-9X%7EBlsjv1BE2N08rfO35AhTL-VByFJgUPLlF2qt0H645qjTEWeG0zQwU3BgkkaPsvD3qwhl4pZlGARuNj3cwNtIgtvwFh0FIlZZXKKOJ3dx7iOSmuZosxVR-t-Gpw-MurhCc1ekFkG3mcDtYsYka-qP4jA__&Key-Pair-Id=KVTP0A1DKRTAX: HTTPSConnectionPool(host='cdn-lfs.huggingface.co', port=443): Read timed out.\n",
      "Trying to resume download...\n",
      "Error while downloading from https://cdn-lfs.huggingface.co/roberta-base/5bde1d28afb363d0103324efeb5afc8b2b397fe5e04beabb9b1ef355255ade81?response-content-disposition=attachment%3B+filename*%3DUTF-8%27%27model.safetensors%3B+filename%3D%22model.safetensors%22%3B&Expires=1716049936&Policy=eyJTdGF0ZW1lbnQiOlt7IkNvbmRpdGlvbiI6eyJEYXRlTGVzc1RoYW4iOnsiQVdTOkVwb2NoVGltZSI6MTcxNjA0OTkzNn19LCJSZXNvdXJjZSI6Imh0dHBzOi8vY2RuLWxmcy5odWdnaW5nZmFjZS5jby9yb2JlcnRhLWJhc2UvNWJkZTFkMjhhZmIzNjNkMDEwMzMyNGVmZWI1YWZjOGIyYjM5N2ZlNWUwNGJlYWJiOWIxZWYzNTUyNTVhZGU4MT9yZXNwb25zZS1jb250ZW50LWRpc3Bvc2l0aW9uPSoifV19&Signature=A-5WhPyYJ6vxFBzujmMEvmxZGFD7Bq9wL9IDJ8PiswlFTUZMsIdSTIMQ7HqFuwSZI3C7nrDDYqMoZ35PLOss5pxtRKNc7YL69xYQdq95CnTC8i2b4Elncs6zQzl%7EeCy%7EFDbcmm9NO2aksHPhP0-gJKvT0TQXS7BMrxsZ2Go98G1159%7E9fsdQjqFlfEi-9X%7EBlsjv1BE2N08rfO35AhTL-VByFJgUPLlF2qt0H645qjTEWeG0zQwU3BgkkaPsvD3qwhl4pZlGARuNj3cwNtIgtvwFh0FIlZZXKKOJ3dx7iOSmuZosxVR-t-Gpw-MurhCc1ekFkG3mcDtYsYka-qP4jA__&Key-Pair-Id=KVTP0A1DKRTAX: HTTPSConnectionPool(host='cdn-lfs.huggingface.co', port=443): Read timed out.\n",
      "Trying to resume download...\n",
      "WARNING:huggingface_hub.file_download:Error while downloading from https://cdn-lfs.huggingface.co/roberta-base/5bde1d28afb363d0103324efeb5afc8b2b397fe5e04beabb9b1ef355255ade81?response-content-disposition=attachment%3B+filename*%3DUTF-8%27%27model.safetensors%3B+filename%3D%22model.safetensors%22%3B&Expires=1716049936&Policy=eyJTdGF0ZW1lbnQiOlt7IkNvbmRpdGlvbiI6eyJEYXRlTGVzc1RoYW4iOnsiQVdTOkVwb2NoVGltZSI6MTcxNjA0OTkzNn19LCJSZXNvdXJjZSI6Imh0dHBzOi8vY2RuLWxmcy5odWdnaW5nZmFjZS5jby9yb2JlcnRhLWJhc2UvNWJkZTFkMjhhZmIzNjNkMDEwMzMyNGVmZWI1YWZjOGIyYjM5N2ZlNWUwNGJlYWJiOWIxZWYzNTUyNTVhZGU4MT9yZXNwb25zZS1jb250ZW50LWRpc3Bvc2l0aW9uPSoifV19&Signature=A-5WhPyYJ6vxFBzujmMEvmxZGFD7Bq9wL9IDJ8PiswlFTUZMsIdSTIMQ7HqFuwSZI3C7nrDDYqMoZ35PLOss5pxtRKNc7YL69xYQdq95CnTC8i2b4Elncs6zQzl%7EeCy%7EFDbcmm9NO2aksHPhP0-gJKvT0TQXS7BMrxsZ2Go98G1159%7E9fsdQjqFlfEi-9X%7EBlsjv1BE2N08rfO35AhTL-VByFJgUPLlF2qt0H645qjTEWeG0zQwU3BgkkaPsvD3qwhl4pZlGARuNj3cwNtIgtvwFh0FIlZZXKKOJ3dx7iOSmuZosxVR-t-Gpw-MurhCc1ekFkG3mcDtYsYka-qP4jA__&Key-Pair-Id=KVTP0A1DKRTAX: HTTPSConnectionPool(host='cdn-lfs.huggingface.co', port=443): Read timed out.\n",
      "Trying to resume download...\n",
      "Error while downloading from https://cdn-lfs.huggingface.co/roberta-base/5bde1d28afb363d0103324efeb5afc8b2b397fe5e04beabb9b1ef355255ade81?response-content-disposition=attachment%3B+filename*%3DUTF-8%27%27model.safetensors%3B+filename%3D%22model.safetensors%22%3B&Expires=1716049936&Policy=eyJTdGF0ZW1lbnQiOlt7IkNvbmRpdGlvbiI6eyJEYXRlTGVzc1RoYW4iOnsiQVdTOkVwb2NoVGltZSI6MTcxNjA0OTkzNn19LCJSZXNvdXJjZSI6Imh0dHBzOi8vY2RuLWxmcy5odWdnaW5nZmFjZS5jby9yb2JlcnRhLWJhc2UvNWJkZTFkMjhhZmIzNjNkMDEwMzMyNGVmZWI1YWZjOGIyYjM5N2ZlNWUwNGJlYWJiOWIxZWYzNTUyNTVhZGU4MT9yZXNwb25zZS1jb250ZW50LWRpc3Bvc2l0aW9uPSoifV19&Signature=A-5WhPyYJ6vxFBzujmMEvmxZGFD7Bq9wL9IDJ8PiswlFTUZMsIdSTIMQ7HqFuwSZI3C7nrDDYqMoZ35PLOss5pxtRKNc7YL69xYQdq95CnTC8i2b4Elncs6zQzl%7EeCy%7EFDbcmm9NO2aksHPhP0-gJKvT0TQXS7BMrxsZ2Go98G1159%7E9fsdQjqFlfEi-9X%7EBlsjv1BE2N08rfO35AhTL-VByFJgUPLlF2qt0H645qjTEWeG0zQwU3BgkkaPsvD3qwhl4pZlGARuNj3cwNtIgtvwFh0FIlZZXKKOJ3dx7iOSmuZosxVR-t-Gpw-MurhCc1ekFkG3mcDtYsYka-qP4jA__&Key-Pair-Id=KVTP0A1DKRTAX: HTTPSConnectionPool(host='cdn-lfs.huggingface.co', port=443): Read timed out.\n",
      "Trying to resume download...\n",
      "WARNING:huggingface_hub.file_download:Error while downloading from https://cdn-lfs.huggingface.co/roberta-base/5bde1d28afb363d0103324efeb5afc8b2b397fe5e04beabb9b1ef355255ade81?response-content-disposition=attachment%3B+filename*%3DUTF-8%27%27model.safetensors%3B+filename%3D%22model.safetensors%22%3B&Expires=1716049936&Policy=eyJTdGF0ZW1lbnQiOlt7IkNvbmRpdGlvbiI6eyJEYXRlTGVzc1RoYW4iOnsiQVdTOkVwb2NoVGltZSI6MTcxNjA0OTkzNn19LCJSZXNvdXJjZSI6Imh0dHBzOi8vY2RuLWxmcy5odWdnaW5nZmFjZS5jby9yb2JlcnRhLWJhc2UvNWJkZTFkMjhhZmIzNjNkMDEwMzMyNGVmZWI1YWZjOGIyYjM5N2ZlNWUwNGJlYWJiOWIxZWYzNTUyNTVhZGU4MT9yZXNwb25zZS1jb250ZW50LWRpc3Bvc2l0aW9uPSoifV19&Signature=A-5WhPyYJ6vxFBzujmMEvmxZGFD7Bq9wL9IDJ8PiswlFTUZMsIdSTIMQ7HqFuwSZI3C7nrDDYqMoZ35PLOss5pxtRKNc7YL69xYQdq95CnTC8i2b4Elncs6zQzl%7EeCy%7EFDbcmm9NO2aksHPhP0-gJKvT0TQXS7BMrxsZ2Go98G1159%7E9fsdQjqFlfEi-9X%7EBlsjv1BE2N08rfO35AhTL-VByFJgUPLlF2qt0H645qjTEWeG0zQwU3BgkkaPsvD3qwhl4pZlGARuNj3cwNtIgtvwFh0FIlZZXKKOJ3dx7iOSmuZosxVR-t-Gpw-MurhCc1ekFkG3mcDtYsYka-qP4jA__&Key-Pair-Id=KVTP0A1DKRTAX: HTTPSConnectionPool(host='cdn-lfs.huggingface.co', port=443): Read timed out.\n",
      "Trying to resume download...\n",
      "Error while downloading from https://cdn-lfs.huggingface.co/roberta-base/5bde1d28afb363d0103324efeb5afc8b2b397fe5e04beabb9b1ef355255ade81?response-content-disposition=attachment%3B+filename*%3DUTF-8%27%27model.safetensors%3B+filename%3D%22model.safetensors%22%3B&Expires=1716049936&Policy=eyJTdGF0ZW1lbnQiOlt7IkNvbmRpdGlvbiI6eyJEYXRlTGVzc1RoYW4iOnsiQVdTOkVwb2NoVGltZSI6MTcxNjA0OTkzNn19LCJSZXNvdXJjZSI6Imh0dHBzOi8vY2RuLWxmcy5odWdnaW5nZmFjZS5jby9yb2JlcnRhLWJhc2UvNWJkZTFkMjhhZmIzNjNkMDEwMzMyNGVmZWI1YWZjOGIyYjM5N2ZlNWUwNGJlYWJiOWIxZWYzNTUyNTVhZGU4MT9yZXNwb25zZS1jb250ZW50LWRpc3Bvc2l0aW9uPSoifV19&Signature=A-5WhPyYJ6vxFBzujmMEvmxZGFD7Bq9wL9IDJ8PiswlFTUZMsIdSTIMQ7HqFuwSZI3C7nrDDYqMoZ35PLOss5pxtRKNc7YL69xYQdq95CnTC8i2b4Elncs6zQzl%7EeCy%7EFDbcmm9NO2aksHPhP0-gJKvT0TQXS7BMrxsZ2Go98G1159%7E9fsdQjqFlfEi-9X%7EBlsjv1BE2N08rfO35AhTL-VByFJgUPLlF2qt0H645qjTEWeG0zQwU3BgkkaPsvD3qwhl4pZlGARuNj3cwNtIgtvwFh0FIlZZXKKOJ3dx7iOSmuZosxVR-t-Gpw-MurhCc1ekFkG3mcDtYsYka-qP4jA__&Key-Pair-Id=KVTP0A1DKRTAX: HTTPSConnectionPool(host='cdn-lfs.huggingface.co', port=443): Read timed out.\n",
      "Trying to resume download...\n",
      "WARNING:huggingface_hub.file_download:Error while downloading from https://cdn-lfs.huggingface.co/roberta-base/5bde1d28afb363d0103324efeb5afc8b2b397fe5e04beabb9b1ef355255ade81?response-content-disposition=attachment%3B+filename*%3DUTF-8%27%27model.safetensors%3B+filename%3D%22model.safetensors%22%3B&Expires=1716049936&Policy=eyJTdGF0ZW1lbnQiOlt7IkNvbmRpdGlvbiI6eyJEYXRlTGVzc1RoYW4iOnsiQVdTOkVwb2NoVGltZSI6MTcxNjA0OTkzNn19LCJSZXNvdXJjZSI6Imh0dHBzOi8vY2RuLWxmcy5odWdnaW5nZmFjZS5jby9yb2JlcnRhLWJhc2UvNWJkZTFkMjhhZmIzNjNkMDEwMzMyNGVmZWI1YWZjOGIyYjM5N2ZlNWUwNGJlYWJiOWIxZWYzNTUyNTVhZGU4MT9yZXNwb25zZS1jb250ZW50LWRpc3Bvc2l0aW9uPSoifV19&Signature=A-5WhPyYJ6vxFBzujmMEvmxZGFD7Bq9wL9IDJ8PiswlFTUZMsIdSTIMQ7HqFuwSZI3C7nrDDYqMoZ35PLOss5pxtRKNc7YL69xYQdq95CnTC8i2b4Elncs6zQzl%7EeCy%7EFDbcmm9NO2aksHPhP0-gJKvT0TQXS7BMrxsZ2Go98G1159%7E9fsdQjqFlfEi-9X%7EBlsjv1BE2N08rfO35AhTL-VByFJgUPLlF2qt0H645qjTEWeG0zQwU3BgkkaPsvD3qwhl4pZlGARuNj3cwNtIgtvwFh0FIlZZXKKOJ3dx7iOSmuZosxVR-t-Gpw-MurhCc1ekFkG3mcDtYsYka-qP4jA__&Key-Pair-Id=KVTP0A1DKRTAX: HTTPSConnectionPool(host='cdn-lfs.huggingface.co', port=443): Read timed out.\n",
      "Trying to resume download...\n",
      "Error while downloading from https://cdn-lfs.huggingface.co/roberta-base/5bde1d28afb363d0103324efeb5afc8b2b397fe5e04beabb9b1ef355255ade81?response-content-disposition=attachment%3B+filename*%3DUTF-8%27%27model.safetensors%3B+filename%3D%22model.safetensors%22%3B&Expires=1716049936&Policy=eyJTdGF0ZW1lbnQiOlt7IkNvbmRpdGlvbiI6eyJEYXRlTGVzc1RoYW4iOnsiQVdTOkVwb2NoVGltZSI6MTcxNjA0OTkzNn19LCJSZXNvdXJjZSI6Imh0dHBzOi8vY2RuLWxmcy5odWdnaW5nZmFjZS5jby9yb2JlcnRhLWJhc2UvNWJkZTFkMjhhZmIzNjNkMDEwMzMyNGVmZWI1YWZjOGIyYjM5N2ZlNWUwNGJlYWJiOWIxZWYzNTUyNTVhZGU4MT9yZXNwb25zZS1jb250ZW50LWRpc3Bvc2l0aW9uPSoifV19&Signature=A-5WhPyYJ6vxFBzujmMEvmxZGFD7Bq9wL9IDJ8PiswlFTUZMsIdSTIMQ7HqFuwSZI3C7nrDDYqMoZ35PLOss5pxtRKNc7YL69xYQdq95CnTC8i2b4Elncs6zQzl%7EeCy%7EFDbcmm9NO2aksHPhP0-gJKvT0TQXS7BMrxsZ2Go98G1159%7E9fsdQjqFlfEi-9X%7EBlsjv1BE2N08rfO35AhTL-VByFJgUPLlF2qt0H645qjTEWeG0zQwU3BgkkaPsvD3qwhl4pZlGARuNj3cwNtIgtvwFh0FIlZZXKKOJ3dx7iOSmuZosxVR-t-Gpw-MurhCc1ekFkG3mcDtYsYka-qP4jA__&Key-Pair-Id=KVTP0A1DKRTAX: HTTPSConnectionPool(host='cdn-lfs.huggingface.co', port=443): Read timed out.\n",
      "Trying to resume download...\n",
      "WARNING:huggingface_hub.file_download:Error while downloading from https://cdn-lfs.huggingface.co/roberta-base/5bde1d28afb363d0103324efeb5afc8b2b397fe5e04beabb9b1ef355255ade81?response-content-disposition=attachment%3B+filename*%3DUTF-8%27%27model.safetensors%3B+filename%3D%22model.safetensors%22%3B&Expires=1716049936&Policy=eyJTdGF0ZW1lbnQiOlt7IkNvbmRpdGlvbiI6eyJEYXRlTGVzc1RoYW4iOnsiQVdTOkVwb2NoVGltZSI6MTcxNjA0OTkzNn19LCJSZXNvdXJjZSI6Imh0dHBzOi8vY2RuLWxmcy5odWdnaW5nZmFjZS5jby9yb2JlcnRhLWJhc2UvNWJkZTFkMjhhZmIzNjNkMDEwMzMyNGVmZWI1YWZjOGIyYjM5N2ZlNWUwNGJlYWJiOWIxZWYzNTUyNTVhZGU4MT9yZXNwb25zZS1jb250ZW50LWRpc3Bvc2l0aW9uPSoifV19&Signature=A-5WhPyYJ6vxFBzujmMEvmxZGFD7Bq9wL9IDJ8PiswlFTUZMsIdSTIMQ7HqFuwSZI3C7nrDDYqMoZ35PLOss5pxtRKNc7YL69xYQdq95CnTC8i2b4Elncs6zQzl%7EeCy%7EFDbcmm9NO2aksHPhP0-gJKvT0TQXS7BMrxsZ2Go98G1159%7E9fsdQjqFlfEi-9X%7EBlsjv1BE2N08rfO35AhTL-VByFJgUPLlF2qt0H645qjTEWeG0zQwU3BgkkaPsvD3qwhl4pZlGARuNj3cwNtIgtvwFh0FIlZZXKKOJ3dx7iOSmuZosxVR-t-Gpw-MurhCc1ekFkG3mcDtYsYka-qP4jA__&Key-Pair-Id=KVTP0A1DKRTAX: HTTPSConnectionPool(host='cdn-lfs.huggingface.co', port=443): Read timed out.\n",
      "Trying to resume download...\n",
      "Error while downloading from https://cdn-lfs.huggingface.co/roberta-base/5bde1d28afb363d0103324efeb5afc8b2b397fe5e04beabb9b1ef355255ade81?response-content-disposition=attachment%3B+filename*%3DUTF-8%27%27model.safetensors%3B+filename%3D%22model.safetensors%22%3B&Expires=1716049936&Policy=eyJTdGF0ZW1lbnQiOlt7IkNvbmRpdGlvbiI6eyJEYXRlTGVzc1RoYW4iOnsiQVdTOkVwb2NoVGltZSI6MTcxNjA0OTkzNn19LCJSZXNvdXJjZSI6Imh0dHBzOi8vY2RuLWxmcy5odWdnaW5nZmFjZS5jby9yb2JlcnRhLWJhc2UvNWJkZTFkMjhhZmIzNjNkMDEwMzMyNGVmZWI1YWZjOGIyYjM5N2ZlNWUwNGJlYWJiOWIxZWYzNTUyNTVhZGU4MT9yZXNwb25zZS1jb250ZW50LWRpc3Bvc2l0aW9uPSoifV19&Signature=A-5WhPyYJ6vxFBzujmMEvmxZGFD7Bq9wL9IDJ8PiswlFTUZMsIdSTIMQ7HqFuwSZI3C7nrDDYqMoZ35PLOss5pxtRKNc7YL69xYQdq95CnTC8i2b4Elncs6zQzl%7EeCy%7EFDbcmm9NO2aksHPhP0-gJKvT0TQXS7BMrxsZ2Go98G1159%7E9fsdQjqFlfEi-9X%7EBlsjv1BE2N08rfO35AhTL-VByFJgUPLlF2qt0H645qjTEWeG0zQwU3BgkkaPsvD3qwhl4pZlGARuNj3cwNtIgtvwFh0FIlZZXKKOJ3dx7iOSmuZosxVR-t-Gpw-MurhCc1ekFkG3mcDtYsYka-qP4jA__&Key-Pair-Id=KVTP0A1DKRTAX: HTTPSConnectionPool(host='cdn-lfs.huggingface.co', port=443): Read timed out.\n",
      "Trying to resume download...\n",
      "WARNING:huggingface_hub.file_download:Error while downloading from https://cdn-lfs.huggingface.co/roberta-base/5bde1d28afb363d0103324efeb5afc8b2b397fe5e04beabb9b1ef355255ade81?response-content-disposition=attachment%3B+filename*%3DUTF-8%27%27model.safetensors%3B+filename%3D%22model.safetensors%22%3B&Expires=1716049936&Policy=eyJTdGF0ZW1lbnQiOlt7IkNvbmRpdGlvbiI6eyJEYXRlTGVzc1RoYW4iOnsiQVdTOkVwb2NoVGltZSI6MTcxNjA0OTkzNn19LCJSZXNvdXJjZSI6Imh0dHBzOi8vY2RuLWxmcy5odWdnaW5nZmFjZS5jby9yb2JlcnRhLWJhc2UvNWJkZTFkMjhhZmIzNjNkMDEwMzMyNGVmZWI1YWZjOGIyYjM5N2ZlNWUwNGJlYWJiOWIxZWYzNTUyNTVhZGU4MT9yZXNwb25zZS1jb250ZW50LWRpc3Bvc2l0aW9uPSoifV19&Signature=A-5WhPyYJ6vxFBzujmMEvmxZGFD7Bq9wL9IDJ8PiswlFTUZMsIdSTIMQ7HqFuwSZI3C7nrDDYqMoZ35PLOss5pxtRKNc7YL69xYQdq95CnTC8i2b4Elncs6zQzl%7EeCy%7EFDbcmm9NO2aksHPhP0-gJKvT0TQXS7BMrxsZ2Go98G1159%7E9fsdQjqFlfEi-9X%7EBlsjv1BE2N08rfO35AhTL-VByFJgUPLlF2qt0H645qjTEWeG0zQwU3BgkkaPsvD3qwhl4pZlGARuNj3cwNtIgtvwFh0FIlZZXKKOJ3dx7iOSmuZosxVR-t-Gpw-MurhCc1ekFkG3mcDtYsYka-qP4jA__&Key-Pair-Id=KVTP0A1DKRTAX: HTTPSConnectionPool(host='cdn-lfs.huggingface.co', port=443): Read timed out.\n",
      "Trying to resume download...\n",
      "Error while downloading from https://cdn-lfs.huggingface.co/roberta-base/5bde1d28afb363d0103324efeb5afc8b2b397fe5e04beabb9b1ef355255ade81?response-content-disposition=attachment%3B+filename*%3DUTF-8%27%27model.safetensors%3B+filename%3D%22model.safetensors%22%3B&Expires=1716049936&Policy=eyJTdGF0ZW1lbnQiOlt7IkNvbmRpdGlvbiI6eyJEYXRlTGVzc1RoYW4iOnsiQVdTOkVwb2NoVGltZSI6MTcxNjA0OTkzNn19LCJSZXNvdXJjZSI6Imh0dHBzOi8vY2RuLWxmcy5odWdnaW5nZmFjZS5jby9yb2JlcnRhLWJhc2UvNWJkZTFkMjhhZmIzNjNkMDEwMzMyNGVmZWI1YWZjOGIyYjM5N2ZlNWUwNGJlYWJiOWIxZWYzNTUyNTVhZGU4MT9yZXNwb25zZS1jb250ZW50LWRpc3Bvc2l0aW9uPSoifV19&Signature=A-5WhPyYJ6vxFBzujmMEvmxZGFD7Bq9wL9IDJ8PiswlFTUZMsIdSTIMQ7HqFuwSZI3C7nrDDYqMoZ35PLOss5pxtRKNc7YL69xYQdq95CnTC8i2b4Elncs6zQzl%7EeCy%7EFDbcmm9NO2aksHPhP0-gJKvT0TQXS7BMrxsZ2Go98G1159%7E9fsdQjqFlfEi-9X%7EBlsjv1BE2N08rfO35AhTL-VByFJgUPLlF2qt0H645qjTEWeG0zQwU3BgkkaPsvD3qwhl4pZlGARuNj3cwNtIgtvwFh0FIlZZXKKOJ3dx7iOSmuZosxVR-t-Gpw-MurhCc1ekFkG3mcDtYsYka-qP4jA__&Key-Pair-Id=KVTP0A1DKRTAX: HTTPSConnectionPool(host='cdn-lfs.huggingface.co', port=443): Read timed out.\n",
      "Trying to resume download...\n",
      "WARNING:huggingface_hub.file_download:Error while downloading from https://cdn-lfs.huggingface.co/roberta-base/5bde1d28afb363d0103324efeb5afc8b2b397fe5e04beabb9b1ef355255ade81?response-content-disposition=attachment%3B+filename*%3DUTF-8%27%27model.safetensors%3B+filename%3D%22model.safetensors%22%3B&Expires=1716049936&Policy=eyJTdGF0ZW1lbnQiOlt7IkNvbmRpdGlvbiI6eyJEYXRlTGVzc1RoYW4iOnsiQVdTOkVwb2NoVGltZSI6MTcxNjA0OTkzNn19LCJSZXNvdXJjZSI6Imh0dHBzOi8vY2RuLWxmcy5odWdnaW5nZmFjZS5jby9yb2JlcnRhLWJhc2UvNWJkZTFkMjhhZmIzNjNkMDEwMzMyNGVmZWI1YWZjOGIyYjM5N2ZlNWUwNGJlYWJiOWIxZWYzNTUyNTVhZGU4MT9yZXNwb25zZS1jb250ZW50LWRpc3Bvc2l0aW9uPSoifV19&Signature=A-5WhPyYJ6vxFBzujmMEvmxZGFD7Bq9wL9IDJ8PiswlFTUZMsIdSTIMQ7HqFuwSZI3C7nrDDYqMoZ35PLOss5pxtRKNc7YL69xYQdq95CnTC8i2b4Elncs6zQzl%7EeCy%7EFDbcmm9NO2aksHPhP0-gJKvT0TQXS7BMrxsZ2Go98G1159%7E9fsdQjqFlfEi-9X%7EBlsjv1BE2N08rfO35AhTL-VByFJgUPLlF2qt0H645qjTEWeG0zQwU3BgkkaPsvD3qwhl4pZlGARuNj3cwNtIgtvwFh0FIlZZXKKOJ3dx7iOSmuZosxVR-t-Gpw-MurhCc1ekFkG3mcDtYsYka-qP4jA__&Key-Pair-Id=KVTP0A1DKRTAX: HTTPSConnectionPool(host='cdn-lfs.huggingface.co', port=443): Read timed out.\n",
      "Trying to resume download...\n",
      "Error while downloading from https://cdn-lfs.huggingface.co/roberta-base/5bde1d28afb363d0103324efeb5afc8b2b397fe5e04beabb9b1ef355255ade81?response-content-disposition=attachment%3B+filename*%3DUTF-8%27%27model.safetensors%3B+filename%3D%22model.safetensors%22%3B&Expires=1716049936&Policy=eyJTdGF0ZW1lbnQiOlt7IkNvbmRpdGlvbiI6eyJEYXRlTGVzc1RoYW4iOnsiQVdTOkVwb2NoVGltZSI6MTcxNjA0OTkzNn19LCJSZXNvdXJjZSI6Imh0dHBzOi8vY2RuLWxmcy5odWdnaW5nZmFjZS5jby9yb2JlcnRhLWJhc2UvNWJkZTFkMjhhZmIzNjNkMDEwMzMyNGVmZWI1YWZjOGIyYjM5N2ZlNWUwNGJlYWJiOWIxZWYzNTUyNTVhZGU4MT9yZXNwb25zZS1jb250ZW50LWRpc3Bvc2l0aW9uPSoifV19&Signature=A-5WhPyYJ6vxFBzujmMEvmxZGFD7Bq9wL9IDJ8PiswlFTUZMsIdSTIMQ7HqFuwSZI3C7nrDDYqMoZ35PLOss5pxtRKNc7YL69xYQdq95CnTC8i2b4Elncs6zQzl%7EeCy%7EFDbcmm9NO2aksHPhP0-gJKvT0TQXS7BMrxsZ2Go98G1159%7E9fsdQjqFlfEi-9X%7EBlsjv1BE2N08rfO35AhTL-VByFJgUPLlF2qt0H645qjTEWeG0zQwU3BgkkaPsvD3qwhl4pZlGARuNj3cwNtIgtvwFh0FIlZZXKKOJ3dx7iOSmuZosxVR-t-Gpw-MurhCc1ekFkG3mcDtYsYka-qP4jA__&Key-Pair-Id=KVTP0A1DKRTAX: HTTPSConnectionPool(host='cdn-lfs.huggingface.co', port=443): Read timed out.\n",
      "Trying to resume download...\n",
      "WARNING:huggingface_hub.file_download:Error while downloading from https://cdn-lfs.huggingface.co/roberta-base/5bde1d28afb363d0103324efeb5afc8b2b397fe5e04beabb9b1ef355255ade81?response-content-disposition=attachment%3B+filename*%3DUTF-8%27%27model.safetensors%3B+filename%3D%22model.safetensors%22%3B&Expires=1716049936&Policy=eyJTdGF0ZW1lbnQiOlt7IkNvbmRpdGlvbiI6eyJEYXRlTGVzc1RoYW4iOnsiQVdTOkVwb2NoVGltZSI6MTcxNjA0OTkzNn19LCJSZXNvdXJjZSI6Imh0dHBzOi8vY2RuLWxmcy5odWdnaW5nZmFjZS5jby9yb2JlcnRhLWJhc2UvNWJkZTFkMjhhZmIzNjNkMDEwMzMyNGVmZWI1YWZjOGIyYjM5N2ZlNWUwNGJlYWJiOWIxZWYzNTUyNTVhZGU4MT9yZXNwb25zZS1jb250ZW50LWRpc3Bvc2l0aW9uPSoifV19&Signature=A-5WhPyYJ6vxFBzujmMEvmxZGFD7Bq9wL9IDJ8PiswlFTUZMsIdSTIMQ7HqFuwSZI3C7nrDDYqMoZ35PLOss5pxtRKNc7YL69xYQdq95CnTC8i2b4Elncs6zQzl%7EeCy%7EFDbcmm9NO2aksHPhP0-gJKvT0TQXS7BMrxsZ2Go98G1159%7E9fsdQjqFlfEi-9X%7EBlsjv1BE2N08rfO35AhTL-VByFJgUPLlF2qt0H645qjTEWeG0zQwU3BgkkaPsvD3qwhl4pZlGARuNj3cwNtIgtvwFh0FIlZZXKKOJ3dx7iOSmuZosxVR-t-Gpw-MurhCc1ekFkG3mcDtYsYka-qP4jA__&Key-Pair-Id=KVTP0A1DKRTAX: HTTPSConnectionPool(host='cdn-lfs.huggingface.co', port=443): Read timed out.\n",
      "Trying to resume download...\n",
      "Error while downloading from https://cdn-lfs.huggingface.co/roberta-base/5bde1d28afb363d0103324efeb5afc8b2b397fe5e04beabb9b1ef355255ade81?response-content-disposition=attachment%3B+filename*%3DUTF-8%27%27model.safetensors%3B+filename%3D%22model.safetensors%22%3B&Expires=1716049936&Policy=eyJTdGF0ZW1lbnQiOlt7IkNvbmRpdGlvbiI6eyJEYXRlTGVzc1RoYW4iOnsiQVdTOkVwb2NoVGltZSI6MTcxNjA0OTkzNn19LCJSZXNvdXJjZSI6Imh0dHBzOi8vY2RuLWxmcy5odWdnaW5nZmFjZS5jby9yb2JlcnRhLWJhc2UvNWJkZTFkMjhhZmIzNjNkMDEwMzMyNGVmZWI1YWZjOGIyYjM5N2ZlNWUwNGJlYWJiOWIxZWYzNTUyNTVhZGU4MT9yZXNwb25zZS1jb250ZW50LWRpc3Bvc2l0aW9uPSoifV19&Signature=A-5WhPyYJ6vxFBzujmMEvmxZGFD7Bq9wL9IDJ8PiswlFTUZMsIdSTIMQ7HqFuwSZI3C7nrDDYqMoZ35PLOss5pxtRKNc7YL69xYQdq95CnTC8i2b4Elncs6zQzl%7EeCy%7EFDbcmm9NO2aksHPhP0-gJKvT0TQXS7BMrxsZ2Go98G1159%7E9fsdQjqFlfEi-9X%7EBlsjv1BE2N08rfO35AhTL-VByFJgUPLlF2qt0H645qjTEWeG0zQwU3BgkkaPsvD3qwhl4pZlGARuNj3cwNtIgtvwFh0FIlZZXKKOJ3dx7iOSmuZosxVR-t-Gpw-MurhCc1ekFkG3mcDtYsYka-qP4jA__&Key-Pair-Id=KVTP0A1DKRTAX: HTTPSConnectionPool(host='cdn-lfs.huggingface.co', port=443): Read timed out.\n",
      "Trying to resume download...\n",
      "WARNING:huggingface_hub.file_download:Error while downloading from https://cdn-lfs.huggingface.co/roberta-base/5bde1d28afb363d0103324efeb5afc8b2b397fe5e04beabb9b1ef355255ade81?response-content-disposition=attachment%3B+filename*%3DUTF-8%27%27model.safetensors%3B+filename%3D%22model.safetensors%22%3B&Expires=1716049936&Policy=eyJTdGF0ZW1lbnQiOlt7IkNvbmRpdGlvbiI6eyJEYXRlTGVzc1RoYW4iOnsiQVdTOkVwb2NoVGltZSI6MTcxNjA0OTkzNn19LCJSZXNvdXJjZSI6Imh0dHBzOi8vY2RuLWxmcy5odWdnaW5nZmFjZS5jby9yb2JlcnRhLWJhc2UvNWJkZTFkMjhhZmIzNjNkMDEwMzMyNGVmZWI1YWZjOGIyYjM5N2ZlNWUwNGJlYWJiOWIxZWYzNTUyNTVhZGU4MT9yZXNwb25zZS1jb250ZW50LWRpc3Bvc2l0aW9uPSoifV19&Signature=A-5WhPyYJ6vxFBzujmMEvmxZGFD7Bq9wL9IDJ8PiswlFTUZMsIdSTIMQ7HqFuwSZI3C7nrDDYqMoZ35PLOss5pxtRKNc7YL69xYQdq95CnTC8i2b4Elncs6zQzl%7EeCy%7EFDbcmm9NO2aksHPhP0-gJKvT0TQXS7BMrxsZ2Go98G1159%7E9fsdQjqFlfEi-9X%7EBlsjv1BE2N08rfO35AhTL-VByFJgUPLlF2qt0H645qjTEWeG0zQwU3BgkkaPsvD3qwhl4pZlGARuNj3cwNtIgtvwFh0FIlZZXKKOJ3dx7iOSmuZosxVR-t-Gpw-MurhCc1ekFkG3mcDtYsYka-qP4jA__&Key-Pair-Id=KVTP0A1DKRTAX: HTTPSConnectionPool(host='cdn-lfs.huggingface.co', port=443): Read timed out.\n",
      "Trying to resume download...\n"
     ]
    }
   ],
   "source": [
    "# Initializing the RoBERTa Question Answering Model\n",
    "roberta_model = QuestionAnsweringModel('roberta', 'roberta-base', use_cuda=torch.cuda.is_available())\n",
    "\n",
    "# Training with limited data\n",
    "print(\"Training RoBERTa model with limited data...\")\n",
    "roberta_model.train_model(train_examples, eval_data=test_examples)\n",
    "\n",
    "# Evaluating the model\n",
    "roberta_result, model_outputs = roberta_model.eval_model(test_examples)\n",
    "print(\"RoBERTa Results with limited data:\", roberta_result)"
   ]
  }
 ],
 "metadata": {
  "kernelspec": {
   "display_name": "Python 3",
   "language": "python",
   "name": "python3"
  },
  "language_info": {
   "codemirror_mode": {
    "name": "ipython",
    "version": 3
   },
   "file_extension": ".py",
   "mimetype": "text/x-python",
   "name": "python",
   "nbconvert_exporter": "python",
   "pygments_lexer": "ipython3",
   "version": "3.12.1"
  }
 },
 "nbformat": 4,
 "nbformat_minor": 2
}
