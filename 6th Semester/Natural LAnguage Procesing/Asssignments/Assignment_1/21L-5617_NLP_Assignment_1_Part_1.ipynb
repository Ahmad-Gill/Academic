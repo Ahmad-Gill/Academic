{
 "cells": [
  {
   "cell_type": "markdown",
   "metadata": {},
   "source": [
    "# Import Libraries"
   ]
  },
  {
   "cell_type": "code",
   "execution_count": 19,
   "metadata": {},
   "outputs": [
    {
     "name": "stdout",
     "output_type": "stream",
     "text": [
      "Note: you may need to restart the kernel to use updated packages.\n"
     ]
    },
    {
     "name": "stderr",
     "output_type": "stream",
     "text": [
      "ERROR: Invalid requirement: 'nltk,beautifulsoup4'\n",
      "\n",
      "[notice] A new release of pip is available: 23.2.1 -> 24.0\n",
      "[notice] To update, run: python.exe -m pip install --upgrade pip\n"
     ]
    }
   ],
   "source": [
    "pip install nltk,beautifulsoup4\n"
   ]
  },
  {
   "cell_type": "code",
   "execution_count": 20,
   "metadata": {},
   "outputs": [
    {
     "name": "stderr",
     "output_type": "stream",
     "text": [
      "[nltk_data] Downloading collection 'all'\n",
      "[nltk_data]    | \n",
      "[nltk_data]    | Downloading package abc to\n",
      "[nltk_data]    |     C:\\Users\\mahma\\AppData\\Roaming\\nltk_data...\n",
      "[nltk_data]    |   Package abc is already up-to-date!\n",
      "[nltk_data]    | Downloading package alpino to\n",
      "[nltk_data]    |     C:\\Users\\mahma\\AppData\\Roaming\\nltk_data...\n",
      "[nltk_data]    |   Package alpino is already up-to-date!\n",
      "[nltk_data]    | Downloading package averaged_perceptron_tagger to\n",
      "[nltk_data]    |     C:\\Users\\mahma\\AppData\\Roaming\\nltk_data...\n",
      "[nltk_data]    |   Package averaged_perceptron_tagger is already up-\n",
      "[nltk_data]    |       to-date!\n",
      "[nltk_data]    | Downloading package averaged_perceptron_tagger_ru to\n",
      "[nltk_data]    |     C:\\Users\\mahma\\AppData\\Roaming\\nltk_data...\n",
      "[nltk_data]    |   Package averaged_perceptron_tagger_ru is already\n",
      "[nltk_data]    |       up-to-date!\n",
      "[nltk_data]    | Downloading package basque_grammars to\n",
      "[nltk_data]    |     C:\\Users\\mahma\\AppData\\Roaming\\nltk_data...\n",
      "[nltk_data]    |   Package basque_grammars is already up-to-date!\n",
      "[nltk_data]    | Downloading package bcp47 to\n",
      "[nltk_data]    |     C:\\Users\\mahma\\AppData\\Roaming\\nltk_data...\n",
      "[nltk_data]    |   Package bcp47 is already up-to-date!\n",
      "[nltk_data]    | Downloading package biocreative_ppi to\n",
      "[nltk_data]    |     C:\\Users\\mahma\\AppData\\Roaming\\nltk_data...\n",
      "[nltk_data]    |   Package biocreative_ppi is already up-to-date!\n",
      "[nltk_data]    | Downloading package bllip_wsj_no_aux to\n",
      "[nltk_data]    |     C:\\Users\\mahma\\AppData\\Roaming\\nltk_data...\n",
      "[nltk_data]    |   Package bllip_wsj_no_aux is already up-to-date!\n",
      "[nltk_data]    | Downloading package book_grammars to\n",
      "[nltk_data]    |     C:\\Users\\mahma\\AppData\\Roaming\\nltk_data...\n",
      "[nltk_data]    |   Package book_grammars is already up-to-date!\n",
      "[nltk_data]    | Downloading package brown to\n",
      "[nltk_data]    |     C:\\Users\\mahma\\AppData\\Roaming\\nltk_data...\n",
      "[nltk_data]    |   Package brown is already up-to-date!\n",
      "[nltk_data]    | Downloading package brown_tei to\n",
      "[nltk_data]    |     C:\\Users\\mahma\\AppData\\Roaming\\nltk_data...\n",
      "[nltk_data]    |   Package brown_tei is already up-to-date!\n",
      "[nltk_data]    | Downloading package cess_cat to\n",
      "[nltk_data]    |     C:\\Users\\mahma\\AppData\\Roaming\\nltk_data...\n",
      "[nltk_data]    |   Package cess_cat is already up-to-date!\n",
      "[nltk_data]    | Downloading package cess_esp to\n",
      "[nltk_data]    |     C:\\Users\\mahma\\AppData\\Roaming\\nltk_data...\n",
      "[nltk_data]    |   Package cess_esp is already up-to-date!\n",
      "[nltk_data]    | Downloading package chat80 to\n",
      "[nltk_data]    |     C:\\Users\\mahma\\AppData\\Roaming\\nltk_data...\n",
      "[nltk_data]    |   Package chat80 is already up-to-date!\n",
      "[nltk_data]    | Downloading package city_database to\n",
      "[nltk_data]    |     C:\\Users\\mahma\\AppData\\Roaming\\nltk_data...\n",
      "[nltk_data]    |   Package city_database is already up-to-date!\n",
      "[nltk_data]    | Downloading package cmudict to\n",
      "[nltk_data]    |     C:\\Users\\mahma\\AppData\\Roaming\\nltk_data...\n",
      "[nltk_data]    |   Package cmudict is already up-to-date!\n",
      "[nltk_data]    | Downloading package comparative_sentences to\n",
      "[nltk_data]    |     C:\\Users\\mahma\\AppData\\Roaming\\nltk_data...\n",
      "[nltk_data]    |   Package comparative_sentences is already up-to-\n",
      "[nltk_data]    |       date!\n",
      "[nltk_data]    | Downloading package comtrans to\n",
      "[nltk_data]    |     C:\\Users\\mahma\\AppData\\Roaming\\nltk_data...\n",
      "[nltk_data]    |   Package comtrans is already up-to-date!\n",
      "[nltk_data]    | Downloading package conll2000 to\n",
      "[nltk_data]    |     C:\\Users\\mahma\\AppData\\Roaming\\nltk_data...\n",
      "[nltk_data]    |   Package conll2000 is already up-to-date!\n",
      "[nltk_data]    | Downloading package conll2002 to\n",
      "[nltk_data]    |     C:\\Users\\mahma\\AppData\\Roaming\\nltk_data...\n",
      "[nltk_data]    |   Package conll2002 is already up-to-date!\n",
      "[nltk_data]    | Downloading package conll2007 to\n",
      "[nltk_data]    |     C:\\Users\\mahma\\AppData\\Roaming\\nltk_data...\n",
      "[nltk_data]    |   Package conll2007 is already up-to-date!\n",
      "[nltk_data]    | Downloading package crubadan to\n",
      "[nltk_data]    |     C:\\Users\\mahma\\AppData\\Roaming\\nltk_data...\n",
      "[nltk_data]    |   Package crubadan is already up-to-date!\n",
      "[nltk_data]    | Downloading package dependency_treebank to\n",
      "[nltk_data]    |     C:\\Users\\mahma\\AppData\\Roaming\\nltk_data...\n",
      "[nltk_data]    |   Package dependency_treebank is already up-to-date!\n",
      "[nltk_data]    | Downloading package dolch to\n",
      "[nltk_data]    |     C:\\Users\\mahma\\AppData\\Roaming\\nltk_data...\n",
      "[nltk_data]    |   Package dolch is already up-to-date!\n",
      "[nltk_data]    | Downloading package europarl_raw to\n",
      "[nltk_data]    |     C:\\Users\\mahma\\AppData\\Roaming\\nltk_data...\n",
      "[nltk_data]    |   Package europarl_raw is already up-to-date!\n",
      "[nltk_data]    | Downloading package extended_omw to\n",
      "[nltk_data]    |     C:\\Users\\mahma\\AppData\\Roaming\\nltk_data...\n",
      "[nltk_data]    |   Package extended_omw is already up-to-date!\n",
      "[nltk_data]    | Downloading package floresta to\n",
      "[nltk_data]    |     C:\\Users\\mahma\\AppData\\Roaming\\nltk_data...\n",
      "[nltk_data]    |   Package floresta is already up-to-date!\n",
      "[nltk_data]    | Downloading package framenet_v15 to\n",
      "[nltk_data]    |     C:\\Users\\mahma\\AppData\\Roaming\\nltk_data...\n",
      "[nltk_data]    |   Package framenet_v15 is already up-to-date!\n",
      "[nltk_data]    | Downloading package framenet_v17 to\n",
      "[nltk_data]    |     C:\\Users\\mahma\\AppData\\Roaming\\nltk_data...\n"
     ]
    },
    {
     "ename": "KeyboardInterrupt",
     "evalue": "",
     "output_type": "error",
     "traceback": [
      "\u001b[1;31m---------------------------------------------------------------------------\u001b[0m",
      "\u001b[1;31mKeyboardInterrupt\u001b[0m                         Traceback (most recent call last)",
      "Cell \u001b[1;32mIn[20], line 1\u001b[0m\n\u001b[1;32m----> 1\u001b[0m \u001b[43mnltk\u001b[49m\u001b[38;5;241;43m.\u001b[39;49m\u001b[43mdownload\u001b[49m\u001b[43m(\u001b[49m\u001b[38;5;124;43m'\u001b[39;49m\u001b[38;5;124;43mall\u001b[39;49m\u001b[38;5;124;43m'\u001b[39;49m\u001b[43m)\u001b[49m\n\u001b[0;32m      2\u001b[0m nltk\u001b[38;5;241m.\u001b[39mdownload(\u001b[38;5;124m'\u001b[39m\u001b[38;5;124mpunkt\u001b[39m\u001b[38;5;124m'\u001b[39m)\n",
      "File \u001b[1;32mc:\\Users\\mahma\\AppData\\Local\\Programs\\Python\\Python312\\Lib\\site-packages\\nltk\\downloader.py:777\u001b[0m, in \u001b[0;36mDownloader.download\u001b[1;34m(self, info_or_id, download_dir, quiet, force, prefix, halt_on_error, raise_on_error, print_error_to)\u001b[0m\n\u001b[0;32m    768\u001b[0m \u001b[38;5;28;01mdef\u001b[39;00m \u001b[38;5;21mshow\u001b[39m(s, prefix2\u001b[38;5;241m=\u001b[39m\u001b[38;5;124m\"\u001b[39m\u001b[38;5;124m\"\u001b[39m):\n\u001b[0;32m    769\u001b[0m     print_to(\n\u001b[0;32m    770\u001b[0m         textwrap\u001b[38;5;241m.\u001b[39mfill(\n\u001b[0;32m    771\u001b[0m             s,\n\u001b[1;32m   (...)\u001b[0m\n\u001b[0;32m    774\u001b[0m         )\n\u001b[0;32m    775\u001b[0m     )\n\u001b[1;32m--> 777\u001b[0m \u001b[43m\u001b[49m\u001b[38;5;28;43;01mfor\u001b[39;49;00m\u001b[43m \u001b[49m\u001b[43mmsg\u001b[49m\u001b[43m \u001b[49m\u001b[38;5;129;43;01min\u001b[39;49;00m\u001b[43m \u001b[49m\u001b[38;5;28;43mself\u001b[39;49m\u001b[38;5;241;43m.\u001b[39;49m\u001b[43mincr_download\u001b[49m\u001b[43m(\u001b[49m\u001b[43minfo_or_id\u001b[49m\u001b[43m,\u001b[49m\u001b[43m \u001b[49m\u001b[43mdownload_dir\u001b[49m\u001b[43m,\u001b[49m\u001b[43m \u001b[49m\u001b[43mforce\u001b[49m\u001b[43m)\u001b[49m\u001b[43m:\u001b[49m\n\u001b[0;32m    778\u001b[0m \u001b[43m    \u001b[49m\u001b[38;5;66;43;03m# Error messages\u001b[39;49;00m\n\u001b[0;32m    779\u001b[0m \u001b[43m    \u001b[49m\u001b[38;5;28;43;01mif\u001b[39;49;00m\u001b[43m \u001b[49m\u001b[38;5;28;43misinstance\u001b[39;49m\u001b[43m(\u001b[49m\u001b[43mmsg\u001b[49m\u001b[43m,\u001b[49m\u001b[43m \u001b[49m\u001b[43mErrorMessage\u001b[49m\u001b[43m)\u001b[49m\u001b[43m:\u001b[49m\n\u001b[0;32m    780\u001b[0m \u001b[43m        \u001b[49m\u001b[43mshow\u001b[49m\u001b[43m(\u001b[49m\u001b[43mmsg\u001b[49m\u001b[38;5;241;43m.\u001b[39;49m\u001b[43mmessage\u001b[49m\u001b[43m)\u001b[49m\n",
      "File \u001b[1;32mc:\\Users\\mahma\\AppData\\Local\\Programs\\Python\\Python312\\Lib\\site-packages\\nltk\\downloader.py:637\u001b[0m, in \u001b[0;36mDownloader.incr_download\u001b[1;34m(self, info_or_id, download_dir, force)\u001b[0m\n\u001b[0;32m    635\u001b[0m \u001b[38;5;28;01mif\u001b[39;00m \u001b[38;5;28misinstance\u001b[39m(info, Collection):\n\u001b[0;32m    636\u001b[0m     \u001b[38;5;28;01myield\u001b[39;00m StartCollectionMessage(info)\n\u001b[1;32m--> 637\u001b[0m     \u001b[38;5;28;01myield from\u001b[39;00m \u001b[38;5;28mself\u001b[39m\u001b[38;5;241m.\u001b[39mincr_download(info\u001b[38;5;241m.\u001b[39mchildren, download_dir, force)\n\u001b[0;32m    638\u001b[0m     \u001b[38;5;28;01myield\u001b[39;00m FinishCollectionMessage(info)\n\u001b[0;32m    640\u001b[0m \u001b[38;5;66;03m# Handle Packages (delegate to a helper function).\u001b[39;00m\n\u001b[0;32m    641\u001b[0m \u001b[38;5;28;01melse\u001b[39;00m:\n",
      "File \u001b[1;32mc:\\Users\\mahma\\AppData\\Local\\Programs\\Python\\Python312\\Lib\\site-packages\\nltk\\downloader.py:624\u001b[0m, in \u001b[0;36mDownloader.incr_download\u001b[1;34m(self, info_or_id, download_dir, force)\u001b[0m\n\u001b[0;32m    622\u001b[0m \u001b[38;5;66;03m# If they gave us a list of ids, then download each one.\u001b[39;00m\n\u001b[0;32m    623\u001b[0m \u001b[38;5;28;01mif\u001b[39;00m \u001b[38;5;28misinstance\u001b[39m(info_or_id, (\u001b[38;5;28mlist\u001b[39m, \u001b[38;5;28mtuple\u001b[39m)):\n\u001b[1;32m--> 624\u001b[0m     \u001b[38;5;28;01myield from\u001b[39;00m \u001b[38;5;28mself\u001b[39m\u001b[38;5;241m.\u001b[39m_download_list(info_or_id, download_dir, force)\n\u001b[0;32m    625\u001b[0m     \u001b[38;5;28;01mreturn\u001b[39;00m\n\u001b[0;32m    627\u001b[0m \u001b[38;5;66;03m# Look up the requested collection or package.\u001b[39;00m\n",
      "File \u001b[1;32mc:\\Users\\mahma\\AppData\\Local\\Programs\\Python\\Python312\\Lib\\site-packages\\nltk\\downloader.py:667\u001b[0m, in \u001b[0;36mDownloader._download_list\u001b[1;34m(self, items, download_dir, force)\u001b[0m\n\u001b[0;32m    665\u001b[0m \u001b[38;5;28;01melse\u001b[39;00m:\n\u001b[0;32m    666\u001b[0m     delta \u001b[38;5;241m=\u001b[39m \u001b[38;5;28mlen\u001b[39m(item\u001b[38;5;241m.\u001b[39mpackages) \u001b[38;5;241m/\u001b[39m num_packages\n\u001b[1;32m--> 667\u001b[0m \u001b[43m\u001b[49m\u001b[38;5;28;43;01mfor\u001b[39;49;00m\u001b[43m \u001b[49m\u001b[43mmsg\u001b[49m\u001b[43m \u001b[49m\u001b[38;5;129;43;01min\u001b[39;49;00m\u001b[43m \u001b[49m\u001b[38;5;28;43mself\u001b[39;49m\u001b[38;5;241;43m.\u001b[39;49m\u001b[43mincr_download\u001b[49m\u001b[43m(\u001b[49m\u001b[43mitem\u001b[49m\u001b[43m,\u001b[49m\u001b[43m \u001b[49m\u001b[43mdownload_dir\u001b[49m\u001b[43m,\u001b[49m\u001b[43m \u001b[49m\u001b[43mforce\u001b[49m\u001b[43m)\u001b[49m\u001b[43m:\u001b[49m\n\u001b[0;32m    668\u001b[0m \u001b[43m    \u001b[49m\u001b[38;5;28;43;01mif\u001b[39;49;00m\u001b[43m \u001b[49m\u001b[38;5;28;43misinstance\u001b[39;49m\u001b[43m(\u001b[49m\u001b[43mmsg\u001b[49m\u001b[43m,\u001b[49m\u001b[43m \u001b[49m\u001b[43mProgressMessage\u001b[49m\u001b[43m)\u001b[49m\u001b[43m:\u001b[49m\n\u001b[0;32m    669\u001b[0m \u001b[43m        \u001b[49m\u001b[38;5;28;43;01myield\u001b[39;49;00m\u001b[43m \u001b[49m\u001b[43mProgressMessage\u001b[49m\u001b[43m(\u001b[49m\u001b[43mprogress\u001b[49m\u001b[43m \u001b[49m\u001b[38;5;241;43m+\u001b[39;49m\u001b[43m \u001b[49m\u001b[43mmsg\u001b[49m\u001b[38;5;241;43m.\u001b[39;49m\u001b[43mprogress\u001b[49m\u001b[43m \u001b[49m\u001b[38;5;241;43m*\u001b[39;49m\u001b[43m \u001b[49m\u001b[43mdelta\u001b[49m\u001b[43m)\u001b[49m\n",
      "File \u001b[1;32mc:\\Users\\mahma\\AppData\\Local\\Programs\\Python\\Python312\\Lib\\site-packages\\nltk\\downloader.py:642\u001b[0m, in \u001b[0;36mDownloader.incr_download\u001b[1;34m(self, info_or_id, download_dir, force)\u001b[0m\n\u001b[0;32m    638\u001b[0m     \u001b[38;5;28;01myield\u001b[39;00m FinishCollectionMessage(info)\n\u001b[0;32m    640\u001b[0m \u001b[38;5;66;03m# Handle Packages (delegate to a helper function).\u001b[39;00m\n\u001b[0;32m    641\u001b[0m \u001b[38;5;28;01melse\u001b[39;00m:\n\u001b[1;32m--> 642\u001b[0m     \u001b[38;5;28;01myield from\u001b[39;00m \u001b[38;5;28mself\u001b[39m\u001b[38;5;241m.\u001b[39m_download_package(info, download_dir, force)\n",
      "File \u001b[1;32mc:\\Users\\mahma\\AppData\\Local\\Programs\\Python\\Python312\\Lib\\site-packages\\nltk\\downloader.py:680\u001b[0m, in \u001b[0;36mDownloader._download_package\u001b[1;34m(self, info, download_dir, force)\u001b[0m\n\u001b[0;32m    677\u001b[0m \u001b[38;5;28;01myield\u001b[39;00m ProgressMessage(\u001b[38;5;241m0\u001b[39m)\n\u001b[0;32m    679\u001b[0m \u001b[38;5;66;03m# Do we already have the current version?\u001b[39;00m\n\u001b[1;32m--> 680\u001b[0m status \u001b[38;5;241m=\u001b[39m \u001b[38;5;28;43mself\u001b[39;49m\u001b[38;5;241;43m.\u001b[39;49m\u001b[43mstatus\u001b[49m\u001b[43m(\u001b[49m\u001b[43minfo\u001b[49m\u001b[43m,\u001b[49m\u001b[43m \u001b[49m\u001b[43mdownload_dir\u001b[49m\u001b[43m)\u001b[49m\n\u001b[0;32m    681\u001b[0m \u001b[38;5;28;01mif\u001b[39;00m \u001b[38;5;129;01mnot\u001b[39;00m force \u001b[38;5;129;01mand\u001b[39;00m status \u001b[38;5;241m==\u001b[39m \u001b[38;5;28mself\u001b[39m\u001b[38;5;241m.\u001b[39mINSTALLED:\n\u001b[0;32m    682\u001b[0m     \u001b[38;5;28;01myield\u001b[39;00m UpToDateMessage(info)\n",
      "File \u001b[1;32mc:\\Users\\mahma\\AppData\\Local\\Programs\\Python\\Python312\\Lib\\site-packages\\nltk\\downloader.py:883\u001b[0m, in \u001b[0;36mDownloader.status\u001b[1;34m(self, info_or_id, download_dir)\u001b[0m\n\u001b[0;32m    881\u001b[0m \u001b[38;5;28;01melse\u001b[39;00m:\n\u001b[0;32m    882\u001b[0m     \u001b[38;5;28;01mif\u001b[39;00m info\u001b[38;5;241m.\u001b[39mid \u001b[38;5;129;01mnot\u001b[39;00m \u001b[38;5;129;01min\u001b[39;00m \u001b[38;5;28mself\u001b[39m\u001b[38;5;241m.\u001b[39m_status_cache:\n\u001b[1;32m--> 883\u001b[0m         \u001b[38;5;28mself\u001b[39m\u001b[38;5;241m.\u001b[39m_status_cache[info\u001b[38;5;241m.\u001b[39mid] \u001b[38;5;241m=\u001b[39m \u001b[38;5;28;43mself\u001b[39;49m\u001b[38;5;241;43m.\u001b[39;49m\u001b[43m_pkg_status\u001b[49m\u001b[43m(\u001b[49m\u001b[43minfo\u001b[49m\u001b[43m,\u001b[49m\u001b[43m \u001b[49m\u001b[43mfilepath\u001b[49m\u001b[43m)\u001b[49m\n\u001b[0;32m    884\u001b[0m     \u001b[38;5;28;01mreturn\u001b[39;00m \u001b[38;5;28mself\u001b[39m\u001b[38;5;241m.\u001b[39m_status_cache[info\u001b[38;5;241m.\u001b[39mid]\n",
      "File \u001b[1;32mc:\\Users\\mahma\\AppData\\Local\\Programs\\Python\\Python312\\Lib\\site-packages\\nltk\\downloader.py:911\u001b[0m, in \u001b[0;36mDownloader._pkg_status\u001b[1;34m(self, info, filepath)\u001b[0m\n\u001b[0;32m    908\u001b[0m \u001b[38;5;28;01mif\u001b[39;00m \u001b[38;5;129;01mnot\u001b[39;00m os\u001b[38;5;241m.\u001b[39mpath\u001b[38;5;241m.\u001b[39misdir(unzipdir):\n\u001b[0;32m    909\u001b[0m     \u001b[38;5;28;01mreturn\u001b[39;00m \u001b[38;5;28mself\u001b[39m\u001b[38;5;241m.\u001b[39mSTALE\n\u001b[1;32m--> 911\u001b[0m unzipped_size \u001b[38;5;241m=\u001b[39m \u001b[38;5;28;43msum\u001b[39;49m\u001b[43m(\u001b[49m\n\u001b[0;32m    912\u001b[0m \u001b[43m    \u001b[49m\u001b[43mos\u001b[49m\u001b[38;5;241;43m.\u001b[39;49m\u001b[43mstat\u001b[49m\u001b[43m(\u001b[49m\u001b[43mos\u001b[49m\u001b[38;5;241;43m.\u001b[39;49m\u001b[43mpath\u001b[49m\u001b[38;5;241;43m.\u001b[39;49m\u001b[43mjoin\u001b[49m\u001b[43m(\u001b[49m\u001b[43md\u001b[49m\u001b[43m,\u001b[49m\u001b[43m \u001b[49m\u001b[43mf\u001b[49m\u001b[43m)\u001b[49m\u001b[43m)\u001b[49m\u001b[38;5;241;43m.\u001b[39;49m\u001b[43mst_size\u001b[49m\n\u001b[0;32m    913\u001b[0m \u001b[43m    \u001b[49m\u001b[38;5;28;43;01mfor\u001b[39;49;00m\u001b[43m \u001b[49m\u001b[43md\u001b[49m\u001b[43m,\u001b[49m\u001b[43m \u001b[49m\u001b[43m_\u001b[49m\u001b[43m,\u001b[49m\u001b[43m \u001b[49m\u001b[43mfiles\u001b[49m\u001b[43m \u001b[49m\u001b[38;5;129;43;01min\u001b[39;49;00m\u001b[43m \u001b[49m\u001b[43mos\u001b[49m\u001b[38;5;241;43m.\u001b[39;49m\u001b[43mwalk\u001b[49m\u001b[43m(\u001b[49m\u001b[43munzipdir\u001b[49m\u001b[43m)\u001b[49m\n\u001b[0;32m    914\u001b[0m \u001b[43m    \u001b[49m\u001b[38;5;28;43;01mfor\u001b[39;49;00m\u001b[43m \u001b[49m\u001b[43mf\u001b[49m\u001b[43m \u001b[49m\u001b[38;5;129;43;01min\u001b[39;49;00m\u001b[43m \u001b[49m\u001b[43mfiles\u001b[49m\n\u001b[0;32m    915\u001b[0m \u001b[43m\u001b[49m\u001b[43m)\u001b[49m\n\u001b[0;32m    916\u001b[0m \u001b[38;5;28;01mif\u001b[39;00m unzipped_size \u001b[38;5;241m!=\u001b[39m info\u001b[38;5;241m.\u001b[39munzipped_size:\n\u001b[0;32m    917\u001b[0m     \u001b[38;5;28;01mreturn\u001b[39;00m \u001b[38;5;28mself\u001b[39m\u001b[38;5;241m.\u001b[39mSTALE\n",
      "File \u001b[1;32mc:\\Users\\mahma\\AppData\\Local\\Programs\\Python\\Python312\\Lib\\site-packages\\nltk\\downloader.py:912\u001b[0m, in \u001b[0;36m<genexpr>\u001b[1;34m(.0)\u001b[0m\n\u001b[0;32m    908\u001b[0m \u001b[38;5;28;01mif\u001b[39;00m \u001b[38;5;129;01mnot\u001b[39;00m os\u001b[38;5;241m.\u001b[39mpath\u001b[38;5;241m.\u001b[39misdir(unzipdir):\n\u001b[0;32m    909\u001b[0m     \u001b[38;5;28;01mreturn\u001b[39;00m \u001b[38;5;28mself\u001b[39m\u001b[38;5;241m.\u001b[39mSTALE\n\u001b[0;32m    911\u001b[0m unzipped_size \u001b[38;5;241m=\u001b[39m \u001b[38;5;28msum\u001b[39m(\n\u001b[1;32m--> 912\u001b[0m     \u001b[43mos\u001b[49m\u001b[38;5;241;43m.\u001b[39;49m\u001b[43mstat\u001b[49m\u001b[43m(\u001b[49m\u001b[43mos\u001b[49m\u001b[38;5;241;43m.\u001b[39;49m\u001b[43mpath\u001b[49m\u001b[38;5;241;43m.\u001b[39;49m\u001b[43mjoin\u001b[49m\u001b[43m(\u001b[49m\u001b[43md\u001b[49m\u001b[43m,\u001b[49m\u001b[43m \u001b[49m\u001b[43mf\u001b[49m\u001b[43m)\u001b[49m\u001b[43m)\u001b[49m\u001b[38;5;241m.\u001b[39mst_size\n\u001b[0;32m    913\u001b[0m     \u001b[38;5;28;01mfor\u001b[39;00m d, _, files \u001b[38;5;129;01min\u001b[39;00m os\u001b[38;5;241m.\u001b[39mwalk(unzipdir)\n\u001b[0;32m    914\u001b[0m     \u001b[38;5;28;01mfor\u001b[39;00m f \u001b[38;5;129;01min\u001b[39;00m files\n\u001b[0;32m    915\u001b[0m )\n\u001b[0;32m    916\u001b[0m \u001b[38;5;28;01mif\u001b[39;00m unzipped_size \u001b[38;5;241m!=\u001b[39m info\u001b[38;5;241m.\u001b[39munzipped_size:\n\u001b[0;32m    917\u001b[0m     \u001b[38;5;28;01mreturn\u001b[39;00m \u001b[38;5;28mself\u001b[39m\u001b[38;5;241m.\u001b[39mSTALE\n",
      "\u001b[1;31mKeyboardInterrupt\u001b[0m: "
     ]
    }
   ],
   "source": [
    "\n",
    "nltk.download('all')\n",
    "nltk.download('punkt')"
   ]
  },
  {
   "cell_type": "code",
   "execution_count": 22,
   "metadata": {},
   "outputs": [],
   "source": [
    "from __future__ import division  # Python 2 users only\n",
    "import nltk, re, pprint\n",
    "from nltk import word_tokenize\n",
    "from nltk import re_show, pprint\n",
    "from nltk import word_tokenize\n",
    "from urllib import request\n",
    "from nltk import PorterStemmer, LancasterStemmer\n",
    "import nltk\n",
    "from bs4 import BeautifulSoup"
   ]
  },
  {
   "cell_type": "markdown",
   "metadata": {},
   "source": [
    "# Qustion 1"
   ]
  },
  {
   "cell_type": "code",
   "execution_count": 23,
   "metadata": {},
   "outputs": [
    {
     "name": "stdout",
     "output_type": "stream",
     "text": [
      "{This} {is} {a} {Sample} {Text} {with} 123 {numbers}. {pat}, {pet}, {pit}, 12.34, {boot}, {butter}. {word}1, @{symbol}.\n",
      "None\n",
      "{This} is a {Sample} {Text} with 123 numbers. pat, pet, pit, 12.34, boot, butter. word1, @symbol.\n",
      "None\n",
      "This is a Sample Text with 123 numbers. {pat}, {pet}, {pit}, 12.34, boot, butter. word1, @symbol.\n",
      "None\n",
      "This is a Sample Text with {123} numbers. pat, pet, pit, {12.34}, boot, butter. word{1}, @symbol.\n",
      "None\n",
      "{}T{his is a Sam}{}p{le Tex}{}t{} {wit}{}h{} {}1{}2{}3{} {number}{}s{}.{} {pat}{},{} {pet}{},{} {pit}{},{} {}1{}2{}.{}3{}4{},{} {}b{}o{}o{}t{},{} {butter}{}.{} {wor}{}d{}1{},{} {}@{}s{}y{}m{bol}{}.{}\n",
      "None\n",
      "{This} {is} {a} {Sample} {Text} {with} {123} {numbers}{.} {pat}{,} {pet}{,} {pit}{,} {12}{.}{34}{,} {boot}{,} {butter}{.} {word1}{,} {@}{symbol}{.}\n",
      "None\n"
     ]
    }
   ],
   "source": [
    "\n",
    "text = \"This is a Sample Text with 123 numbers. pat, pet, pit, 12.34, boot, butter. word1, @symbol.\"\n",
    "\n",
    "# a. [a-zA-Z]+\n",
    "pprint(nltk.re_show(r'[a-zA-Z]+', text))\n",
    "\n",
    "# b. [A-Z][a-z]*\n",
    "pprint(nltk.re_show(r'[A-Z][a-z]*', text))\n",
    "\n",
    "# c. p[aeiou]{,2}t\n",
    "pprint(nltk.re_show(r'p[aeiou]{,2}t', text))\n",
    "\n",
    "# d. \\d+(\\.\\d+)?\n",
    "pprint(nltk.re_show(r'\\d+(\\.\\d+)?', text))\n",
    "\n",
    "# e. ([^aeiou][aeiou][^aeiou])*\n",
    "pprint(nltk.re_show(r'([^aeiou][aeiou][^aeiou])*', text))\n",
    "\n",
    "# f. \\w+|[^\\w\\s]+\n",
    "pprint(nltk.re_show(r'\\w+|[^\\w\\s]+', text))"
   ]
  },
  {
   "cell_type": "markdown",
   "metadata": {},
   "source": [
    "# Question 2"
   ]
  },
  {
   "cell_type": "code",
   "execution_count": null,
   "metadata": {},
   "outputs": [
    {
     "name": "stdout",
     "output_type": "stream",
     "text": [
      "['a', 'an', 'the']\n",
      "['2*3+8', '5+7*4', '10*2']\n"
     ]
    }
   ],
   "source": [
    "text_a = 'a, an, the, apple, orange, thesaurus,2*3+8, 5+7*4, 10*2-6'\n",
    "\n",
    "pattern_a = r'\\b(?:a|an|the)\\b'\n",
    "pattern_b = r'\\b\\d+(?:[+*]\\d+)+\\b'\n",
    "\n",
    "matches_b = re.findall(pattern_b, text_a)\n",
    "matches_a = re.findall(pattern_a, text_a)\n",
    "\n",
    "print(matches_a)\n",
    "print(matches_b)"
   ]
  },
  {
   "cell_type": "markdown",
   "metadata": {},
   "source": [
    "# Question 3"
   ]
  },
  {
   "cell_type": "code",
   "execution_count": null,
   "metadata": {},
   "outputs": [],
   "source": [
    "def remove_html_markup(url):\n",
    "    try:\n",
    "        # Fetching HTML content from the given URL\n",
    "        html_content = request.urlopen(url).read().decode('utf8')\n",
    "\n",
    "        # Using BeautifulSoup to parse HTML and get the text without markup\n",
    "        soup = BeautifulSoup(html_content, 'html.parser')\n",
    "        text_without_markup = soup.get_text()\n",
    "        text_without_markup= text_without_markup.replace('\\n', '')\n",
    "        return text_without_markup\n",
    "\n",
    "    except Exception as e:\n",
    "        # Handle any exceptions that might occur during the process\n",
    "        return f\"An error occurred: {e}\""
   ]
  },
  {
   "cell_type": "code",
   "execution_count": null,
   "metadata": {},
   "outputs": [
    {
     "name": "stdout",
     "output_type": "stream",
     "text": [
      "UPDATESACADEMICS Mechanical Engineering  Electrical Engineering Civil Engineering \t  Computer Science \t  Software Engineering \t  Data Science   Management Sciences   Business Analytics & Programming    Accounting & Finance  English International Relations Psychology     Academic Calendar Facilities & Services  Library Mechanical Labs Electrical Labs Computer Science Labs IT Infrastructure Facilities at DSU Career Services & Corporate RelationsLIFE AT DSU    News  Events  Professional Societies  Student Societies  Student HandbookCONNECT DSU Apply DCK Hostel & Facilities Resources  Careers Downloads  DACCE  Tenders   Alumni   Video Gallery   FAQ's   Contact Us   Policies   Newsletter © Copyright  - DHA Suffa University - Enfold Theme by KriesiScroll to topr Entrepreneurship & Innovation Development (CEID)Ms. Eram Abbasi (Director) Email: info.ceid@dsu.edu.pk Phone # 0321-2162719Marketing Ms. Saima Sardar Khan , Manager Marketing Email: saima@dsu.edu.pk Phone # 021-35244871Administration & Security Lt. Col. (Retd). Ghulam Dastagir, Admin & Security Officer  Email: aso@dsu.edu.pk Phone # 021-35244860 Cell # 0321-3680021Fax # 021-35244855 Cell # 0340-4864835 (PA to ASO)Finance Mr. Javed Ali Khan, Manager Finance Email:j.khan@dsu.edu.pk Phone # 021-35244861Cell # 0346-3244745 (Mr. Elwyn Mathews, Incharge Fee Billing)Procurement  Maj. (Retd). Ahmed Faseeh Hussain, Procurement Officer  Email: ahmed.faseeh@dsu.edu.pk Phone # 021-35244872 Cell # 0304-2274288Sports  Mr. Moin-ul-Atiq (Ex-International Cricketer) , Director Sports  Email: f Management SciencesDr. Sobia Iqbal, Assistant Professor & HOD (Management Sciences)  Email: sobia.iqbal@dsu.edu.pk Phone # 021-35244853-4 Ext 137Department of Humanities and Social SciencesDr. Razi Sultan Siddiqui, Assistant Professor & HOD (Humanities & Social Sciences)   Email: razi@dsu.edu.pk Phone # 021-35244853-4 Ext 174Department of Humanities and Social SciencesDr. Rubina Israr, Assistant Professor & Program Manager, BS (English)   Email: rubina.israr@dsu.edu.pk Phone # 021-35244853-4 Ext 130Department of Humanities and Social SciencesMs. Sidra Ahmed, Lecturer & Program Manager, BS (IR)   Email: sidra.ahmed@dsu.edu.pk Phone # 021-35244853-4 Ext 153Queries related to DCK CampusMuhammad Zaman, Admin Supervisor  Email: m.zaman@dsu.edu.pk Phone # 0344-2412896Quality Enhancement Cell Engr. Prof. Dr. Johar Khurshid Farooqi, Director QEC Email: johar@dsu.edu.pk\tdmission Merit CriteriaAdmission ProcessSample Test PapersProspectusAdmission QueryFacultyFaculty of Management & Social SciencesHumanities & Social SciencesInternational RelationManagement SciencesPsychologyEnglishFaculty of Engineering & Applied SciencesMechanical EngineeringElectrical EngineeringCivil EngineeringComputer ScienceBasic SciencesLife at DSUNewsEventsFacilitiesLibraryStudent SocietiesORICDirectoratesIERCCSRCEIDCS & CRQECAbout QECAssessments & EvaluationsAccreditation of ProgramsCapacity BuildingMembership of DSU Statutory BodiesQEC SecretariatQEC News & EventsPDCAlumniTendersResearch JournalSUJBMSJIPMenuMenu  Senior ManagementVice Chancellor’s SecretariatEngr. Prof. Dr. Muhammad Afzal Haque\n"
     ]
    }
   ],
   "source": [
    "url = 'https://www.dsu.edu.pk/contact-us/'\n",
    "result = remove_html_markup(url)\n",
    "print(result)"
   ]
  },
  {
   "cell_type": "markdown",
   "metadata": {},
   "source": [
    "# Question 4"
   ]
  },
  {
   "cell_type": "code",
   "execution_count": null,
   "metadata": {},
   "outputs": [],
   "source": [
    "def find_phone_numbers_and_emails(tokens):\n",
    "    # Combine tokens into a single string for regex matching\n",
    "    text = (tokens)\n",
    "\n",
    "    # Regular expression to find phone numbers\n",
    "    phone_pattern = re.compile(r'\\b\\d{3}[-.\\s]?\\d{3}[-.\\s]?\\d{5}\\b')\n",
    "\n",
    "    # Regular expression to find email addresses\n",
    "    email_pattern = re.compile(r'\\b[A-Za-z0-9._%+-]+@[A-Za-z0-9.-]+\\.[A-Z|a-z]{2,}\\b')\n",
    "\n",
    "    # Find matches\n",
    "    phone_numbers = re.findall(phone_pattern, text)\n",
    "    email_addresses = re.findall(email_pattern, text)\n",
    "\n",
    "    return phone_numbers, email_addresses"
   ]
  },
  {
   "cell_type": "code",
   "execution_count": 24,
   "metadata": {},
   "outputs": [
    {
     "name": "stdout",
     "output_type": "stream",
     "text": [
      "Phone Numbers: ['021 35244851', '021-35244875', '021-35244866', '021-35244855', '021-35244862', '021-35244874', '021-35244851', '021-35244851', '021-35244858', '021-35244870', '021-35244859', '021-35244853', '021-35244853', '021-35244853', '021-35244853', '021-35244851', '021-35244853', '021-35244853', '021-35244853', '021-35244860', '021-35244855', '021-35244872', '021-35244853', '021-35244853', '021-35244853', '021-35858604']\n",
      "Email Addresses: ['vc@dsu.edu.pk', 'ahmedsaeedminhas81@dsu.edu.pk', 'pvc@dsu.edu.pk', 'dr.asifiqqbal@dsu.edu.pk', 'registrar@dsu.edu.pk', 'dean.eas@dsu.edu.pk', 'dean.mss@dsu.edu.pk', 'saad.asif@dsu.edu.pk', 'rabia.mumtaz@dsu.edu.pk', 'a.registrar.acad@dsu.edu.pk', 'hr@dsu.edu.pk', 'ahmad.hussain@dsu.edu.pk', 'ahmad.hussain@dsu.edu.pk', 'noor.ali@dsu.edu.pk', 'fazal.abbas@dsu.edu.pk', 'sobia.iqbal@dsu.edu.pk', 'razi@dsu.edu.pk', 'rubina.israr@dsu.edu.pk', 'sidra.ahmed@dsu.edu.pk', 'm.zaman@dsu.edu.pk', 'johar@dsu.edu.pk', 'pdc@dsu.edu.pk', 'saima@dsu.edu.pk', 'tehseen.azhar@dsu.edu.pk', 'subeika.rizvi@dsu.edu.pk', 'asadullah@dsu.edu.pk', 'info.ceid@dsu.edu.pk', 'saima@dsu.edu.pk', 'aso@dsu.edu.pk', 'j.khan@dsu.edu.pk', 'ahmed.faseeh@dsu.edu.pk', 'moin.atiq@dsu.edu.pk', 'director.it@dsu.edu.pk', 'hasan.raza@dsu.edu.pk', 'a.mit.sys@dsu.edu.pk', 'engr.riaz@dsu.edu.pk']\n"
     ]
    }
   ],
   "source": [
    "phone_numbers, email_addresses = find_phone_numbers_and_emails(result)\n",
    "print(\"Phone Numbers:\", phone_numbers)\n",
    "print(\"Email Addresses:\", email_addresses)"
   ]
  },
  {
   "cell_type": "markdown",
   "metadata": {},
   "source": [
    "# Question 5"
   ]
  },
  {
   "cell_type": "code",
   "execution_count": 25,
   "metadata": {},
   "outputs": [],
   "source": [
    "def tokenize_text(text):\n",
    "    tokens = word_tokenize(text)\n",
    "    return tokens"
   ]
  },
  {
   "cell_type": "code",
   "execution_count": 26,
   "metadata": {},
   "outputs": [],
   "source": [
    "def stem_text(tokens, stemmer):\n",
    "    # Apply the stemmer to each word in the list of tokens\n",
    "    stemmed_tokens = [stemmer.stem(word) for word in tokens]\n",
    "    return stemmed_tokens"
   ]
  },
  {
   "cell_type": "code",
   "execution_count": 27,
   "metadata": {},
   "outputs": [
    {
     "name": "stdout",
     "output_type": "stream",
     "text": [
      "Porter Stemmed Tokens: ['contact', 'us', '–', 'dha', 'suffa', 'univers', 'twitterlinkedinfacebookinstagramyoutuberss', 'onlin', 'applic', 'for']\n",
      "Lancaster Stemmed Tokens: ['contact', 'us', '–', 'dha', 'suff', 'univers', 'twitterlinkedinfacebookinstagramyoutuberss', 'onlin', 'apply', 'for']\n",
      "\n",
      "\n",
      "\n",
      "Difference \n",
      "\n",
      "\n",
      " The Porter Stemmer tends to be less aggressive than the Lancaster Stemmer, often resulting in longer stems. The Lancaster Stemmer, on the other hand, is more aggressive, resulting in shorter stems but potentially sacrificing precision.\n"
     ]
    }
   ],
   "source": [
    "porter_stemmer = PorterStemmer()\n",
    "porter_stemmed_tokens = stem_text(text_tokens, porter_stemmer)\n",
    "\n",
    "# Apply Lancaster Stemmer\n",
    "lancaster_stemmer = LancasterStemmer()\n",
    "lancaster_stemmed_tokens = stem_text(text_tokens, lancaster_stemmer)\n",
    "print(\"Porter Stemmed Tokens:\", porter_stemmed_tokens[:10])\n",
    "print(\"Lancaster Stemmed Tokens:\", lancaster_stemmed_tokens[:10])\n",
    "print(\"\\n\\n\\nDifference \\n\\n\\n The Porter Stemmer tends to be less aggressive than the Lancaster Stemmer, often resulting in longer stems. The Lancaster Stemmer, on the other hand, is more aggressive, resulting in shorter stems but potentially sacrificing precision.\")"
   ]
  },
  {
   "cell_type": "markdown",
   "metadata": {},
   "source": [
    "# Question 6"
   ]
  },
  {
   "cell_type": "code",
   "execution_count": null,
   "metadata": {},
   "outputs": [
    {
     "name": "stdout",
     "output_type": "stream",
     "text": [
      "First word starts with a letter ‘Z’ or ‘z’, followed by zero or more letters between ‘a’ and ‘z’ and ends with a letter ‘a’.\n"
     ]
    }
   ],
   "source": [
    "print(\"First word starts with a letter ‘Z’ or ‘z’, followed by zero or more letters between ‘a’ and ‘z’ and ends with a letter ‘a’.\")"
   ]
  },
  {
   "cell_type": "markdown",
   "metadata": {},
   "source": [
    "### PArt 1"
   ]
  },
  {
   "cell_type": "code",
   "execution_count": null,
   "metadata": {},
   "outputs": [
    {
     "name": "stdout",
     "output_type": "stream",
     "text": [
      "expression \\b[zZ][a-z]*\\b \n",
      " Count ==2 \n",
      " Word == Zalima\n"
     ]
    }
   ],
   "source": [
    "print(\"expression \\\\b[zZ][a-z]*\\\\b \\n Count ==2 \\n Word == Zalima\"  )"
   ]
  },
  {
   "cell_type": "markdown",
   "metadata": {},
   "source": [
    "### part 2"
   ]
  },
  {
   "cell_type": "code",
   "execution_count": null,
   "metadata": {},
   "outputs": [
    {
     "name": "stdout",
     "output_type": "stream",
     "text": [
      "expression  \\b\\d+k[a-z]*\\d\\b \n",
      " Count ==1 \n",
      " Word == 1kacokaco1 \n",
      " ACtual word = coka\n"
     ]
    }
   ],
   "source": [
    "print(\"expression  \\\\b\\\\d+k[a-z]*\\\\d\\\\b \\n Count ==1 \\n Word == 1kacokaco1 \\n ACtual word = coka\"  ) "
   ]
  },
  {
   "cell_type": "markdown",
   "metadata": {},
   "source": [
    "### Part 3"
   ]
  },
  {
   "cell_type": "code",
   "execution_count": null,
   "metadata": {},
   "outputs": [
    {
     "name": "stdout",
     "output_type": "stream",
     "text": [
      "expression  \\bc[a-z]*[*][a-z]+a\\b \n",
      " Count ==1 \n",
      " Word == co*la \n",
      " ACtual word = cola\n"
     ]
    }
   ],
   "source": [
    "print(\"expression  \\\\bc[a-z]*[*][a-z]+a\\\\b \\n Count ==1 \\n Word == co*la \\n ACtual word = cola\"  ) "
   ]
  },
  {
   "cell_type": "markdown",
   "metadata": {},
   "source": [
    "### part 4"
   ]
  },
  {
   "cell_type": "code",
   "execution_count": null,
   "metadata": {},
   "outputs": [
    {
     "name": "stdout",
     "output_type": "stream",
     "text": [
      "expression \\b[Pp][a-z]{2}a\\b \n",
      " Count ==2 \n",
      " Word == Pila   \n"
     ]
    }
   ],
   "source": [
    "print(\"expression \\\\b[Pp][a-z]{2}a\\\\b \\n Count ==2 \\n Word == Pila   \") "
   ]
  },
  {
   "cell_type": "markdown",
   "metadata": {},
   "source": [
    "### PArt 5"
   ]
  },
  {
   "cell_type": "code",
   "execution_count": null,
   "metadata": {},
   "outputs": [
    {
     "name": "stdout",
     "output_type": "stream",
     "text": [
      "the complete messge is    << Zalima coka cola Pila da >>\n"
     ]
    }
   ],
   "source": [
    "print(\"the complete messge is    << Zalima coka cola Pila da >>\"  ) "
   ]
  }
 ],
 "metadata": {
  "kernelspec": {
   "display_name": "Python 3",
   "language": "python",
   "name": "python3"
  },
  "language_info": {
   "codemirror_mode": {
    "name": "ipython",
    "version": 3
   },
   "file_extension": ".py",
   "mimetype": "text/x-python",
   "name": "python",
   "nbconvert_exporter": "python",
   "pygments_lexer": "ipython3",
   "version": "3.12.1"
  }
 },
 "nbformat": 4,
 "nbformat_minor": 2
}
