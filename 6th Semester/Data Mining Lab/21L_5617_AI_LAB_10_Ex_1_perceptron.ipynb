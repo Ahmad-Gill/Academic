{
  "nbformat": 4,
  "nbformat_minor": 0,
  "metadata": {
    "colab": {
      "provenance": []
    },
    "kernelspec": {
      "name": "python3",
      "display_name": "Python 3"
    },
    "language_info": {
      "name": "python"
    }
  },
  "cells": [
    {
      "cell_type": "code",
      "execution_count": 1,
      "metadata": {
        "id": "ff_4-j7IV9sx"
      },
      "outputs": [],
      "source": [
        "import numpy as np"
      ]
    },
    {
      "cell_type": "markdown",
      "source": [
        "# **Basic Logic**"
      ],
      "metadata": {
        "id": "WaZ5ugJ5ZkDd"
      }
    },
    {
      "cell_type": "code",
      "source": [
        "def perceptron(x, w, b):\n",
        "    if (np.dot(w, x) + b )>=0:\n",
        "      return 1\n",
        "    return 0\n",
        "test1 = np.array([0, 1])\n",
        "test2 = np.array([1, 1])\n",
        "test3 = np.array([0, 0])\n",
        "test4 = np.array([1, 0])"
      ],
      "metadata": {
        "id": "9CcuN7QaWW7c"
      },
      "execution_count": 43,
      "outputs": []
    },
    {
      "cell_type": "markdown",
      "source": [
        "# ***AND GATE***"
      ],
      "metadata": {
        "id": "8TAsPe8RZnic"
      }
    },
    {
      "cell_type": "code",
      "source": [
        "def AND_logicFunction(x):\n",
        "    w = np.array([1, 1])\n",
        "    b = -1.5\n",
        "    return perceptron(x, w, b)"
      ],
      "metadata": {
        "id": "pEF-mRzQZ25d"
      },
      "execution_count": 44,
      "outputs": []
    },
    {
      "cell_type": "code",
      "source": [
        "print(\"(0, 1,) -> \",( AND_logicFunction(test1)))\n",
        "print(\"(1, 1,) -> \",( AND_logicFunction(test2)))\n",
        "print(\"(0, 0,) -> \",( AND_logicFunction(test3)))\n",
        "print(\"(1, 0,) -> \",( AND_logicFunction(test4)))"
      ],
      "metadata": {
        "colab": {
          "base_uri": "https://localhost:8080/"
        },
        "id": "bm4pjQodb7EM",
        "outputId": "59cbc23b-5949-4e5b-9594-cc8ee9292ce8"
      },
      "execution_count": 49,
      "outputs": [
        {
          "output_type": "stream",
          "name": "stdout",
          "text": [
            "(0, 1,) ->  0\n",
            "(1, 1,) ->  1\n",
            "(0, 0,) ->  0\n",
            "(1, 0,) ->  0\n"
          ]
        }
      ]
    },
    {
      "cell_type": "markdown",
      "source": [
        "# ***OR GATE***"
      ],
      "metadata": {
        "id": "lKFLBC60Zqd8"
      }
    },
    {
      "cell_type": "code",
      "source": [
        "def OR_logicFunction(x):\n",
        "    w = np.array([2, 2])\n",
        "    b = -1\n",
        "    return perceptron(x, w, b)"
      ],
      "metadata": {
        "id": "T-pcp2AaYDAV"
      },
      "execution_count": 45,
      "outputs": []
    },
    {
      "cell_type": "code",
      "source": [
        "print(\"(0, 1,) -> \",( OR_logicFunction(test1)))\n",
        "print(\"(1, 1,) -> \",( OR_logicFunction(test2)))\n",
        "print(\"(0, 0,) -> \",( OR_logicFunction(test3)))\n",
        "print(\"(1, 0,) -> \",( OR_logicFunction(test4)))"
      ],
      "metadata": {
        "colab": {
          "base_uri": "https://localhost:8080/"
        },
        "id": "NmRkX18RXXwE",
        "outputId": "0066dfd3-7249-4465-a935-28b28e27c42a"
      },
      "execution_count": 50,
      "outputs": [
        {
          "output_type": "stream",
          "name": "stdout",
          "text": [
            "(0, 1,) ->  1\n",
            "(1, 1,) ->  1\n",
            "(0, 0,) ->  0\n",
            "(1, 0,) ->  1\n"
          ]
        }
      ]
    }
  ]
}