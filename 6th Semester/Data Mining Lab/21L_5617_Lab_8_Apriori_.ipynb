{
  "nbformat": 4,
  "nbformat_minor": 0,
  "metadata": {
    "colab": {
      "provenance": []
    },
    "kernelspec": {
      "name": "python3",
      "display_name": "Python 3"
    },
    "language_info": {
      "name": "python"
    }
  },
  "cells": [
    {
      "cell_type": "code",
      "execution_count": 74,
      "metadata": {
        "colab": {
          "base_uri": "https://localhost:8080/"
        },
        "id": "0MckRZ-0b2GY",
        "outputId": "15155023-e462-4ed7-a3f4-fdabd6a7f9a5"
      },
      "outputs": [
        {
          "output_type": "stream",
          "name": "stdout",
          "text": [
            "Requirement already satisfied: apyori in /usr/local/lib/python3.10/dist-packages (1.1.2)\n"
          ]
        }
      ],
      "source": [
        "!pip install apyori"
      ]
    },
    {
      "cell_type": "code",
      "source": [
        "import pandas as pd\n",
        "import numpy as np\n",
        "from apyori import apriori\n",
        "from sklearn import preprocessing\n",
        "from sklearn.preprocessing import LabelEncoder\n"
      ],
      "metadata": {
        "id": "ekp7Ecfcb_Ev"
      },
      "execution_count": 75,
      "outputs": []
    },
    {
      "cell_type": "code",
      "source": [
        "df = pd.read_csv('DATA.csv')"
      ],
      "metadata": {
        "id": "81SW3RowcF2L"
      },
      "execution_count": 76,
      "outputs": []
    },
    {
      "cell_type": "markdown",
      "source": [
        "# **add headings**"
      ],
      "metadata": {
        "id": "hSBDUtVOVgYB"
      }
    },
    {
      "cell_type": "code",
      "source": [
        "df.columns =['age', 'workclass','fnlwgt','education','education-num','marital-status','occupation','relationship','race','sex','capital-gain','capital-loss','hours-per-week','native-country','income']"
      ],
      "metadata": {
        "id": "h6GcMxA-VSto"
      },
      "execution_count": 77,
      "outputs": []
    },
    {
      "cell_type": "code",
      "source": [
        "df=df.head(100)"
      ],
      "metadata": {
        "id": "dcHv_uK-WXYX"
      },
      "execution_count": 78,
      "outputs": []
    },
    {
      "cell_type": "code",
      "source": [
        "df"
      ],
      "metadata": {
        "id": "4CAilswna9jo",
        "outputId": "eba06906-3e1b-4785-da7c-18614139f60e",
        "colab": {
          "base_uri": "https://localhost:8080/",
          "height": 773
        }
      },
      "execution_count": 79,
      "outputs": [
        {
          "output_type": "execute_result",
          "data": {
            "text/plain": [
              "    age          workclass  fnlwgt      education  education-num  \\\n",
              "0    50   Self-emp-not-inc   83311      Bachelors             13   \n",
              "1    38            Private  215646        HS-grad              9   \n",
              "2    53            Private  234721           11th              7   \n",
              "3    28            Private  338409      Bachelors             13   \n",
              "4    37            Private  284582        Masters             14   \n",
              "..  ...                ...     ...            ...            ...   \n",
              "95   48   Self-emp-not-inc  191277      Doctorate             16   \n",
              "96   37            Private  202683   Some-college             10   \n",
              "97   48            Private  171095     Assoc-acdm             12   \n",
              "98   32        Federal-gov  249409        HS-grad              9   \n",
              "99   76            Private  124191        Masters             14   \n",
              "\n",
              "         marital-status          occupation    relationship    race      sex  \\\n",
              "0    Married-civ-spouse     Exec-managerial         Husband   White     Male   \n",
              "1              Divorced   Handlers-cleaners   Not-in-family   White     Male   \n",
              "2    Married-civ-spouse   Handlers-cleaners         Husband   Black     Male   \n",
              "3    Married-civ-spouse      Prof-specialty            Wife   Black   Female   \n",
              "4    Married-civ-spouse     Exec-managerial            Wife   White   Female   \n",
              "..                  ...                 ...             ...     ...      ...   \n",
              "95   Married-civ-spouse      Prof-specialty         Husband   White     Male   \n",
              "96   Married-civ-spouse               Sales         Husband   White     Male   \n",
              "97             Divorced     Exec-managerial       Unmarried   White   Female   \n",
              "98        Never-married       Other-service       Own-child   Black     Male   \n",
              "99   Married-civ-spouse     Exec-managerial         Husband   White     Male   \n",
              "\n",
              "    capital-gain  capital-loss  hours-per-week  native-country  income  \n",
              "0              0             0              13   United-States   <=50K  \n",
              "1              0             0              40   United-States   <=50K  \n",
              "2              0             0              40   United-States   <=50K  \n",
              "3              0             0              40            Cuba   <=50K  \n",
              "4              0             0              40   United-States   <=50K  \n",
              "..           ...           ...             ...             ...     ...  \n",
              "95             0          1902              60   United-States    >50K  \n",
              "96             0             0              48   United-States    >50K  \n",
              "97             0             0              40         England   <=50K  \n",
              "98             0             0              40   United-States   <=50K  \n",
              "99             0             0              40   United-States    >50K  \n",
              "\n",
              "[100 rows x 15 columns]"
            ],
            "text/html": [
              "\n",
              "  <div id=\"df-37d3f452-d4ab-43c8-bbbc-f6969487a791\" class=\"colab-df-container\">\n",
              "    <div>\n",
              "<style scoped>\n",
              "    .dataframe tbody tr th:only-of-type {\n",
              "        vertical-align: middle;\n",
              "    }\n",
              "\n",
              "    .dataframe tbody tr th {\n",
              "        vertical-align: top;\n",
              "    }\n",
              "\n",
              "    .dataframe thead th {\n",
              "        text-align: right;\n",
              "    }\n",
              "</style>\n",
              "<table border=\"1\" class=\"dataframe\">\n",
              "  <thead>\n",
              "    <tr style=\"text-align: right;\">\n",
              "      <th></th>\n",
              "      <th>age</th>\n",
              "      <th>workclass</th>\n",
              "      <th>fnlwgt</th>\n",
              "      <th>education</th>\n",
              "      <th>education-num</th>\n",
              "      <th>marital-status</th>\n",
              "      <th>occupation</th>\n",
              "      <th>relationship</th>\n",
              "      <th>race</th>\n",
              "      <th>sex</th>\n",
              "      <th>capital-gain</th>\n",
              "      <th>capital-loss</th>\n",
              "      <th>hours-per-week</th>\n",
              "      <th>native-country</th>\n",
              "      <th>income</th>\n",
              "    </tr>\n",
              "  </thead>\n",
              "  <tbody>\n",
              "    <tr>\n",
              "      <th>0</th>\n",
              "      <td>50</td>\n",
              "      <td>Self-emp-not-inc</td>\n",
              "      <td>83311</td>\n",
              "      <td>Bachelors</td>\n",
              "      <td>13</td>\n",
              "      <td>Married-civ-spouse</td>\n",
              "      <td>Exec-managerial</td>\n",
              "      <td>Husband</td>\n",
              "      <td>White</td>\n",
              "      <td>Male</td>\n",
              "      <td>0</td>\n",
              "      <td>0</td>\n",
              "      <td>13</td>\n",
              "      <td>United-States</td>\n",
              "      <td>&lt;=50K</td>\n",
              "    </tr>\n",
              "    <tr>\n",
              "      <th>1</th>\n",
              "      <td>38</td>\n",
              "      <td>Private</td>\n",
              "      <td>215646</td>\n",
              "      <td>HS-grad</td>\n",
              "      <td>9</td>\n",
              "      <td>Divorced</td>\n",
              "      <td>Handlers-cleaners</td>\n",
              "      <td>Not-in-family</td>\n",
              "      <td>White</td>\n",
              "      <td>Male</td>\n",
              "      <td>0</td>\n",
              "      <td>0</td>\n",
              "      <td>40</td>\n",
              "      <td>United-States</td>\n",
              "      <td>&lt;=50K</td>\n",
              "    </tr>\n",
              "    <tr>\n",
              "      <th>2</th>\n",
              "      <td>53</td>\n",
              "      <td>Private</td>\n",
              "      <td>234721</td>\n",
              "      <td>11th</td>\n",
              "      <td>7</td>\n",
              "      <td>Married-civ-spouse</td>\n",
              "      <td>Handlers-cleaners</td>\n",
              "      <td>Husband</td>\n",
              "      <td>Black</td>\n",
              "      <td>Male</td>\n",
              "      <td>0</td>\n",
              "      <td>0</td>\n",
              "      <td>40</td>\n",
              "      <td>United-States</td>\n",
              "      <td>&lt;=50K</td>\n",
              "    </tr>\n",
              "    <tr>\n",
              "      <th>3</th>\n",
              "      <td>28</td>\n",
              "      <td>Private</td>\n",
              "      <td>338409</td>\n",
              "      <td>Bachelors</td>\n",
              "      <td>13</td>\n",
              "      <td>Married-civ-spouse</td>\n",
              "      <td>Prof-specialty</td>\n",
              "      <td>Wife</td>\n",
              "      <td>Black</td>\n",
              "      <td>Female</td>\n",
              "      <td>0</td>\n",
              "      <td>0</td>\n",
              "      <td>40</td>\n",
              "      <td>Cuba</td>\n",
              "      <td>&lt;=50K</td>\n",
              "    </tr>\n",
              "    <tr>\n",
              "      <th>4</th>\n",
              "      <td>37</td>\n",
              "      <td>Private</td>\n",
              "      <td>284582</td>\n",
              "      <td>Masters</td>\n",
              "      <td>14</td>\n",
              "      <td>Married-civ-spouse</td>\n",
              "      <td>Exec-managerial</td>\n",
              "      <td>Wife</td>\n",
              "      <td>White</td>\n",
              "      <td>Female</td>\n",
              "      <td>0</td>\n",
              "      <td>0</td>\n",
              "      <td>40</td>\n",
              "      <td>United-States</td>\n",
              "      <td>&lt;=50K</td>\n",
              "    </tr>\n",
              "    <tr>\n",
              "      <th>...</th>\n",
              "      <td>...</td>\n",
              "      <td>...</td>\n",
              "      <td>...</td>\n",
              "      <td>...</td>\n",
              "      <td>...</td>\n",
              "      <td>...</td>\n",
              "      <td>...</td>\n",
              "      <td>...</td>\n",
              "      <td>...</td>\n",
              "      <td>...</td>\n",
              "      <td>...</td>\n",
              "      <td>...</td>\n",
              "      <td>...</td>\n",
              "      <td>...</td>\n",
              "      <td>...</td>\n",
              "    </tr>\n",
              "    <tr>\n",
              "      <th>95</th>\n",
              "      <td>48</td>\n",
              "      <td>Self-emp-not-inc</td>\n",
              "      <td>191277</td>\n",
              "      <td>Doctorate</td>\n",
              "      <td>16</td>\n",
              "      <td>Married-civ-spouse</td>\n",
              "      <td>Prof-specialty</td>\n",
              "      <td>Husband</td>\n",
              "      <td>White</td>\n",
              "      <td>Male</td>\n",
              "      <td>0</td>\n",
              "      <td>1902</td>\n",
              "      <td>60</td>\n",
              "      <td>United-States</td>\n",
              "      <td>&gt;50K</td>\n",
              "    </tr>\n",
              "    <tr>\n",
              "      <th>96</th>\n",
              "      <td>37</td>\n",
              "      <td>Private</td>\n",
              "      <td>202683</td>\n",
              "      <td>Some-college</td>\n",
              "      <td>10</td>\n",
              "      <td>Married-civ-spouse</td>\n",
              "      <td>Sales</td>\n",
              "      <td>Husband</td>\n",
              "      <td>White</td>\n",
              "      <td>Male</td>\n",
              "      <td>0</td>\n",
              "      <td>0</td>\n",
              "      <td>48</td>\n",
              "      <td>United-States</td>\n",
              "      <td>&gt;50K</td>\n",
              "    </tr>\n",
              "    <tr>\n",
              "      <th>97</th>\n",
              "      <td>48</td>\n",
              "      <td>Private</td>\n",
              "      <td>171095</td>\n",
              "      <td>Assoc-acdm</td>\n",
              "      <td>12</td>\n",
              "      <td>Divorced</td>\n",
              "      <td>Exec-managerial</td>\n",
              "      <td>Unmarried</td>\n",
              "      <td>White</td>\n",
              "      <td>Female</td>\n",
              "      <td>0</td>\n",
              "      <td>0</td>\n",
              "      <td>40</td>\n",
              "      <td>England</td>\n",
              "      <td>&lt;=50K</td>\n",
              "    </tr>\n",
              "    <tr>\n",
              "      <th>98</th>\n",
              "      <td>32</td>\n",
              "      <td>Federal-gov</td>\n",
              "      <td>249409</td>\n",
              "      <td>HS-grad</td>\n",
              "      <td>9</td>\n",
              "      <td>Never-married</td>\n",
              "      <td>Other-service</td>\n",
              "      <td>Own-child</td>\n",
              "      <td>Black</td>\n",
              "      <td>Male</td>\n",
              "      <td>0</td>\n",
              "      <td>0</td>\n",
              "      <td>40</td>\n",
              "      <td>United-States</td>\n",
              "      <td>&lt;=50K</td>\n",
              "    </tr>\n",
              "    <tr>\n",
              "      <th>99</th>\n",
              "      <td>76</td>\n",
              "      <td>Private</td>\n",
              "      <td>124191</td>\n",
              "      <td>Masters</td>\n",
              "      <td>14</td>\n",
              "      <td>Married-civ-spouse</td>\n",
              "      <td>Exec-managerial</td>\n",
              "      <td>Husband</td>\n",
              "      <td>White</td>\n",
              "      <td>Male</td>\n",
              "      <td>0</td>\n",
              "      <td>0</td>\n",
              "      <td>40</td>\n",
              "      <td>United-States</td>\n",
              "      <td>&gt;50K</td>\n",
              "    </tr>\n",
              "  </tbody>\n",
              "</table>\n",
              "<p>100 rows × 15 columns</p>\n",
              "</div>\n",
              "    <div class=\"colab-df-buttons\">\n",
              "\n",
              "  <div class=\"colab-df-container\">\n",
              "    <button class=\"colab-df-convert\" onclick=\"convertToInteractive('df-37d3f452-d4ab-43c8-bbbc-f6969487a791')\"\n",
              "            title=\"Convert this dataframe to an interactive table.\"\n",
              "            style=\"display:none;\">\n",
              "\n",
              "  <svg xmlns=\"http://www.w3.org/2000/svg\" height=\"24px\" viewBox=\"0 -960 960 960\">\n",
              "    <path d=\"M120-120v-720h720v720H120Zm60-500h600v-160H180v160Zm220 220h160v-160H400v160Zm0 220h160v-160H400v160ZM180-400h160v-160H180v160Zm440 0h160v-160H620v160ZM180-180h160v-160H180v160Zm440 0h160v-160H620v160Z\"/>\n",
              "  </svg>\n",
              "    </button>\n",
              "\n",
              "  <style>\n",
              "    .colab-df-container {\n",
              "      display:flex;\n",
              "      gap: 12px;\n",
              "    }\n",
              "\n",
              "    .colab-df-convert {\n",
              "      background-color: #E8F0FE;\n",
              "      border: none;\n",
              "      border-radius: 50%;\n",
              "      cursor: pointer;\n",
              "      display: none;\n",
              "      fill: #1967D2;\n",
              "      height: 32px;\n",
              "      padding: 0 0 0 0;\n",
              "      width: 32px;\n",
              "    }\n",
              "\n",
              "    .colab-df-convert:hover {\n",
              "      background-color: #E2EBFA;\n",
              "      box-shadow: 0px 1px 2px rgba(60, 64, 67, 0.3), 0px 1px 3px 1px rgba(60, 64, 67, 0.15);\n",
              "      fill: #174EA6;\n",
              "    }\n",
              "\n",
              "    .colab-df-buttons div {\n",
              "      margin-bottom: 4px;\n",
              "    }\n",
              "\n",
              "    [theme=dark] .colab-df-convert {\n",
              "      background-color: #3B4455;\n",
              "      fill: #D2E3FC;\n",
              "    }\n",
              "\n",
              "    [theme=dark] .colab-df-convert:hover {\n",
              "      background-color: #434B5C;\n",
              "      box-shadow: 0px 1px 3px 1px rgba(0, 0, 0, 0.15);\n",
              "      filter: drop-shadow(0px 1px 2px rgba(0, 0, 0, 0.3));\n",
              "      fill: #FFFFFF;\n",
              "    }\n",
              "  </style>\n",
              "\n",
              "    <script>\n",
              "      const buttonEl =\n",
              "        document.querySelector('#df-37d3f452-d4ab-43c8-bbbc-f6969487a791 button.colab-df-convert');\n",
              "      buttonEl.style.display =\n",
              "        google.colab.kernel.accessAllowed ? 'block' : 'none';\n",
              "\n",
              "      async function convertToInteractive(key) {\n",
              "        const element = document.querySelector('#df-37d3f452-d4ab-43c8-bbbc-f6969487a791');\n",
              "        const dataTable =\n",
              "          await google.colab.kernel.invokeFunction('convertToInteractive',\n",
              "                                                    [key], {});\n",
              "        if (!dataTable) return;\n",
              "\n",
              "        const docLinkHtml = 'Like what you see? Visit the ' +\n",
              "          '<a target=\"_blank\" href=https://colab.research.google.com/notebooks/data_table.ipynb>data table notebook</a>'\n",
              "          + ' to learn more about interactive tables.';\n",
              "        element.innerHTML = '';\n",
              "        dataTable['output_type'] = 'display_data';\n",
              "        await google.colab.output.renderOutput(dataTable, element);\n",
              "        const docLink = document.createElement('div');\n",
              "        docLink.innerHTML = docLinkHtml;\n",
              "        element.appendChild(docLink);\n",
              "      }\n",
              "    </script>\n",
              "  </div>\n",
              "\n",
              "\n",
              "<div id=\"df-1d8b51aa-0223-48e0-8264-334549b9782f\">\n",
              "  <button class=\"colab-df-quickchart\" onclick=\"quickchart('df-1d8b51aa-0223-48e0-8264-334549b9782f')\"\n",
              "            title=\"Suggest charts\"\n",
              "            style=\"display:none;\">\n",
              "\n",
              "<svg xmlns=\"http://www.w3.org/2000/svg\" height=\"24px\"viewBox=\"0 0 24 24\"\n",
              "     width=\"24px\">\n",
              "    <g>\n",
              "        <path d=\"M19 3H5c-1.1 0-2 .9-2 2v14c0 1.1.9 2 2 2h14c1.1 0 2-.9 2-2V5c0-1.1-.9-2-2-2zM9 17H7v-7h2v7zm4 0h-2V7h2v10zm4 0h-2v-4h2v4z\"/>\n",
              "    </g>\n",
              "</svg>\n",
              "  </button>\n",
              "\n",
              "<style>\n",
              "  .colab-df-quickchart {\n",
              "      --bg-color: #E8F0FE;\n",
              "      --fill-color: #1967D2;\n",
              "      --hover-bg-color: #E2EBFA;\n",
              "      --hover-fill-color: #174EA6;\n",
              "      --disabled-fill-color: #AAA;\n",
              "      --disabled-bg-color: #DDD;\n",
              "  }\n",
              "\n",
              "  [theme=dark] .colab-df-quickchart {\n",
              "      --bg-color: #3B4455;\n",
              "      --fill-color: #D2E3FC;\n",
              "      --hover-bg-color: #434B5C;\n",
              "      --hover-fill-color: #FFFFFF;\n",
              "      --disabled-bg-color: #3B4455;\n",
              "      --disabled-fill-color: #666;\n",
              "  }\n",
              "\n",
              "  .colab-df-quickchart {\n",
              "    background-color: var(--bg-color);\n",
              "    border: none;\n",
              "    border-radius: 50%;\n",
              "    cursor: pointer;\n",
              "    display: none;\n",
              "    fill: var(--fill-color);\n",
              "    height: 32px;\n",
              "    padding: 0;\n",
              "    width: 32px;\n",
              "  }\n",
              "\n",
              "  .colab-df-quickchart:hover {\n",
              "    background-color: var(--hover-bg-color);\n",
              "    box-shadow: 0 1px 2px rgba(60, 64, 67, 0.3), 0 1px 3px 1px rgba(60, 64, 67, 0.15);\n",
              "    fill: var(--button-hover-fill-color);\n",
              "  }\n",
              "\n",
              "  .colab-df-quickchart-complete:disabled,\n",
              "  .colab-df-quickchart-complete:disabled:hover {\n",
              "    background-color: var(--disabled-bg-color);\n",
              "    fill: var(--disabled-fill-color);\n",
              "    box-shadow: none;\n",
              "  }\n",
              "\n",
              "  .colab-df-spinner {\n",
              "    border: 2px solid var(--fill-color);\n",
              "    border-color: transparent;\n",
              "    border-bottom-color: var(--fill-color);\n",
              "    animation:\n",
              "      spin 1s steps(1) infinite;\n",
              "  }\n",
              "\n",
              "  @keyframes spin {\n",
              "    0% {\n",
              "      border-color: transparent;\n",
              "      border-bottom-color: var(--fill-color);\n",
              "      border-left-color: var(--fill-color);\n",
              "    }\n",
              "    20% {\n",
              "      border-color: transparent;\n",
              "      border-left-color: var(--fill-color);\n",
              "      border-top-color: var(--fill-color);\n",
              "    }\n",
              "    30% {\n",
              "      border-color: transparent;\n",
              "      border-left-color: var(--fill-color);\n",
              "      border-top-color: var(--fill-color);\n",
              "      border-right-color: var(--fill-color);\n",
              "    }\n",
              "    40% {\n",
              "      border-color: transparent;\n",
              "      border-right-color: var(--fill-color);\n",
              "      border-top-color: var(--fill-color);\n",
              "    }\n",
              "    60% {\n",
              "      border-color: transparent;\n",
              "      border-right-color: var(--fill-color);\n",
              "    }\n",
              "    80% {\n",
              "      border-color: transparent;\n",
              "      border-right-color: var(--fill-color);\n",
              "      border-bottom-color: var(--fill-color);\n",
              "    }\n",
              "    90% {\n",
              "      border-color: transparent;\n",
              "      border-bottom-color: var(--fill-color);\n",
              "    }\n",
              "  }\n",
              "</style>\n",
              "\n",
              "  <script>\n",
              "    async function quickchart(key) {\n",
              "      const quickchartButtonEl =\n",
              "        document.querySelector('#' + key + ' button');\n",
              "      quickchartButtonEl.disabled = true;  // To prevent multiple clicks.\n",
              "      quickchartButtonEl.classList.add('colab-df-spinner');\n",
              "      try {\n",
              "        const charts = await google.colab.kernel.invokeFunction(\n",
              "            'suggestCharts', [key], {});\n",
              "      } catch (error) {\n",
              "        console.error('Error during call to suggestCharts:', error);\n",
              "      }\n",
              "      quickchartButtonEl.classList.remove('colab-df-spinner');\n",
              "      quickchartButtonEl.classList.add('colab-df-quickchart-complete');\n",
              "    }\n",
              "    (() => {\n",
              "      let quickchartButtonEl =\n",
              "        document.querySelector('#df-1d8b51aa-0223-48e0-8264-334549b9782f button');\n",
              "      quickchartButtonEl.style.display =\n",
              "        google.colab.kernel.accessAllowed ? 'block' : 'none';\n",
              "    })();\n",
              "  </script>\n",
              "</div>\n",
              "    </div>\n",
              "  </div>\n"
            ],
            "application/vnd.google.colaboratory.intrinsic+json": {
              "type": "dataframe",
              "variable_name": "df",
              "summary": "{\n  \"name\": \"df\",\n  \"rows\": 100,\n  \"fields\": [\n    {\n      \"column\": \"age\",\n      \"properties\": {\n        \"dtype\": \"number\",\n        \"std\": 12,\n        \"min\": 18,\n        \"max\": 79,\n        \"num_unique_values\": 41,\n        \"samples\": [\n          22,\n          34,\n          42\n        ],\n        \"semantic_type\": \"\",\n        \"description\": \"\"\n      }\n    },\n    {\n      \"column\": \"workclass\",\n      \"properties\": {\n        \"dtype\": \"category\",\n        \"num_unique_values\": 7,\n        \"samples\": [\n          \" Self-emp-not-inc\",\n          \" Private\",\n          \" ?\"\n        ],\n        \"semantic_type\": \"\",\n        \"description\": \"\"\n      }\n    },\n    {\n      \"column\": \"fnlwgt\",\n      \"properties\": {\n        \"dtype\": \"number\",\n        \"std\": 101926,\n        \"min\": 28887,\n        \"max\": 544091,\n        \"num_unique_values\": 100,\n        \"samples\": [\n          343591,\n          109832,\n          309974\n        ],\n        \"semantic_type\": \"\",\n        \"description\": \"\"\n      }\n    },\n    {\n      \"column\": \"education\",\n      \"properties\": {\n        \"dtype\": \"category\",\n        \"num_unique_values\": 13,\n        \"samples\": [\n          \" 5th-6th\",\n          \" Doctorate\",\n          \" Bachelors\"\n        ],\n        \"semantic_type\": \"\",\n        \"description\": \"\"\n      }\n    },\n    {\n      \"column\": \"education-num\",\n      \"properties\": {\n        \"dtype\": \"number\",\n        \"std\": 2,\n        \"min\": 3,\n        \"max\": 16,\n        \"num_unique_values\": 13,\n        \"samples\": [\n          3,\n          16,\n          13\n        ],\n        \"semantic_type\": \"\",\n        \"description\": \"\"\n      }\n    },\n    {\n      \"column\": \"marital-status\",\n      \"properties\": {\n        \"dtype\": \"category\",\n        \"num_unique_values\": 6,\n        \"samples\": [\n          \" Married-civ-spouse\",\n          \" Divorced\",\n          \" Married-AF-spouse\"\n        ],\n        \"semantic_type\": \"\",\n        \"description\": \"\"\n      }\n    },\n    {\n      \"column\": \"occupation\",\n      \"properties\": {\n        \"dtype\": \"category\",\n        \"num_unique_values\": 13,\n        \"samples\": [\n          \" ?\",\n          \" Machine-op-inspct\",\n          \" Exec-managerial\"\n        ],\n        \"semantic_type\": \"\",\n        \"description\": \"\"\n      }\n    },\n    {\n      \"column\": \"relationship\",\n      \"properties\": {\n        \"dtype\": \"category\",\n        \"num_unique_values\": 6,\n        \"samples\": [\n          \" Husband\",\n          \" Not-in-family\",\n          \" Other-relative\"\n        ],\n        \"semantic_type\": \"\",\n        \"description\": \"\"\n      }\n    },\n    {\n      \"column\": \"race\",\n      \"properties\": {\n        \"dtype\": \"category\",\n        \"num_unique_values\": 5,\n        \"samples\": [\n          \" Black\",\n          \" Other\",\n          \" Asian-Pac-Islander\"\n        ],\n        \"semantic_type\": \"\",\n        \"description\": \"\"\n      }\n    },\n    {\n      \"column\": \"sex\",\n      \"properties\": {\n        \"dtype\": \"category\",\n        \"num_unique_values\": 2,\n        \"samples\": [\n          \" Female\",\n          \" Male\"\n        ],\n        \"semantic_type\": \"\",\n        \"description\": \"\"\n      }\n    },\n    {\n      \"column\": \"capital-gain\",\n      \"properties\": {\n        \"dtype\": \"number\",\n        \"std\": 2120,\n        \"min\": 0,\n        \"max\": 14344,\n        \"num_unique_values\": 6,\n        \"samples\": [\n          0,\n          14084\n        ],\n        \"semantic_type\": \"\",\n        \"description\": \"\"\n      }\n    },\n    {\n      \"column\": \"capital-loss\",\n      \"properties\": {\n        \"dtype\": \"number\",\n        \"std\": 390,\n        \"min\": 0,\n        \"max\": 2042,\n        \"num_unique_values\": 5,\n        \"samples\": [\n          2042,\n          1573\n        ],\n        \"semantic_type\": \"\",\n        \"description\": \"\"\n      }\n    },\n    {\n      \"column\": \"hours-per-week\",\n      \"properties\": {\n        \"dtype\": \"number\",\n        \"std\": 11,\n        \"min\": 2,\n        \"max\": 80,\n        \"num_unique_values\": 23,\n        \"samples\": [\n          43,\n          20\n        ],\n        \"semantic_type\": \"\",\n        \"description\": \"\"\n      }\n    },\n    {\n      \"column\": \"native-country\",\n      \"properties\": {\n        \"dtype\": \"category\",\n        \"num_unique_values\": 10,\n        \"samples\": [\n          \" Honduras\",\n          \" Cuba\"\n        ],\n        \"semantic_type\": \"\",\n        \"description\": \"\"\n      }\n    },\n    {\n      \"column\": \"income\",\n      \"properties\": {\n        \"dtype\": \"category\",\n        \"num_unique_values\": 2,\n        \"samples\": [\n          \" >50K\",\n          \" <=50K\"\n        ],\n        \"semantic_type\": \"\",\n        \"description\": \"\"\n      }\n    }\n  ]\n}"
            }
          },
          "metadata": {},
          "execution_count": 79
        }
      ]
    },
    {
      "cell_type": "code",
      "source": [
        "df = df.drop(df[df['workclass'] == ' ?'].index)"
      ],
      "metadata": {
        "id": "weSvAuttZBo5"
      },
      "execution_count": 80,
      "outputs": []
    },
    {
      "cell_type": "markdown",
      "source": [
        "# ***LAbel incodeing ***"
      ],
      "metadata": {
        "id": "3Gd5lwz9We55"
      }
    },
    {
      "cell_type": "code",
      "source": [
        "\n",
        "\n",
        "df['workclass'].unique()"
      ],
      "metadata": {
        "id": "6uVYZEoRXFGA",
        "outputId": "736fb6e4-34cd-40f0-eaec-2e457d9e6db0",
        "colab": {
          "base_uri": "https://localhost:8080/"
        }
      },
      "execution_count": 81,
      "outputs": [
        {
          "output_type": "execute_result",
          "data": {
            "text/plain": [
              "array([' Self-emp-not-inc', ' Private', ' State-gov', ' Federal-gov',\n",
              "       ' Local-gov', ' Self-emp-inc'], dtype=object)"
            ]
          },
          "metadata": {},
          "execution_count": 81
        }
      ]
    },
    {
      "cell_type": "code",
      "source": [
        "\n",
        "df['education'].unique()"
      ],
      "metadata": {
        "id": "yzczI2N6Zk7A",
        "outputId": "127a362c-ac57-4697-a5d0-d37040ffc7f6",
        "colab": {
          "base_uri": "https://localhost:8080/"
        }
      },
      "execution_count": 82,
      "outputs": [
        {
          "output_type": "execute_result",
          "data": {
            "text/plain": [
              "array([' Bachelors', ' HS-grad', ' 11th', ' Masters', ' 9th',\n",
              "       ' Some-college', ' Assoc-acdm', ' Assoc-voc', ' 7th-8th',\n",
              "       ' Doctorate', ' Prof-school', ' 5th-6th'], dtype=object)"
            ]
          },
          "metadata": {},
          "execution_count": 82
        }
      ]
    },
    {
      "cell_type": "code",
      "source": [
        "\n",
        "df['marital-status'].unique()"
      ],
      "metadata": {
        "id": "9K_jDe5zbGKJ",
        "outputId": "96acfabe-5f8b-47cb-f729-2fc84f1cf51e",
        "colab": {
          "base_uri": "https://localhost:8080/"
        }
      },
      "execution_count": 83,
      "outputs": [
        {
          "output_type": "execute_result",
          "data": {
            "text/plain": [
              "array([' Married-civ-spouse', ' Divorced', ' Married-spouse-absent',\n",
              "       ' Never-married', ' Separated', ' Married-AF-spouse'], dtype=object)"
            ]
          },
          "metadata": {},
          "execution_count": 83
        }
      ]
    },
    {
      "cell_type": "markdown",
      "source": [
        "# ***Incoded Data set ***"
      ],
      "metadata": {
        "id": "_K8HRa__cZtJ"
      }
    },
    {
      "cell_type": "code",
      "source": [
        "df"
      ],
      "metadata": {
        "id": "xGdHFNK8ccNA",
        "outputId": "0bd2aaa9-7db9-43ed-d94b-56f2bf571d7e",
        "colab": {
          "base_uri": "https://localhost:8080/",
          "height": 773
        }
      },
      "execution_count": 84,
      "outputs": [
        {
          "output_type": "execute_result",
          "data": {
            "text/plain": [
              "    age          workclass  fnlwgt      education  education-num  \\\n",
              "0    50   Self-emp-not-inc   83311      Bachelors             13   \n",
              "1    38            Private  215646        HS-grad              9   \n",
              "2    53            Private  234721           11th              7   \n",
              "3    28            Private  338409      Bachelors             13   \n",
              "4    37            Private  284582        Masters             14   \n",
              "..  ...                ...     ...            ...            ...   \n",
              "95   48   Self-emp-not-inc  191277      Doctorate             16   \n",
              "96   37            Private  202683   Some-college             10   \n",
              "97   48            Private  171095     Assoc-acdm             12   \n",
              "98   32        Federal-gov  249409        HS-grad              9   \n",
              "99   76            Private  124191        Masters             14   \n",
              "\n",
              "         marital-status          occupation    relationship    race      sex  \\\n",
              "0    Married-civ-spouse     Exec-managerial         Husband   White     Male   \n",
              "1              Divorced   Handlers-cleaners   Not-in-family   White     Male   \n",
              "2    Married-civ-spouse   Handlers-cleaners         Husband   Black     Male   \n",
              "3    Married-civ-spouse      Prof-specialty            Wife   Black   Female   \n",
              "4    Married-civ-spouse     Exec-managerial            Wife   White   Female   \n",
              "..                  ...                 ...             ...     ...      ...   \n",
              "95   Married-civ-spouse      Prof-specialty         Husband   White     Male   \n",
              "96   Married-civ-spouse               Sales         Husband   White     Male   \n",
              "97             Divorced     Exec-managerial       Unmarried   White   Female   \n",
              "98        Never-married       Other-service       Own-child   Black     Male   \n",
              "99   Married-civ-spouse     Exec-managerial         Husband   White     Male   \n",
              "\n",
              "    capital-gain  capital-loss  hours-per-week  native-country  income  \n",
              "0              0             0              13   United-States   <=50K  \n",
              "1              0             0              40   United-States   <=50K  \n",
              "2              0             0              40   United-States   <=50K  \n",
              "3              0             0              40            Cuba   <=50K  \n",
              "4              0             0              40   United-States   <=50K  \n",
              "..           ...           ...             ...             ...     ...  \n",
              "95             0          1902              60   United-States    >50K  \n",
              "96             0             0              48   United-States    >50K  \n",
              "97             0             0              40         England   <=50K  \n",
              "98             0             0              40   United-States   <=50K  \n",
              "99             0             0              40   United-States    >50K  \n",
              "\n",
              "[96 rows x 15 columns]"
            ],
            "text/html": [
              "\n",
              "  <div id=\"df-a43b129d-9331-4001-be80-8dc676312847\" class=\"colab-df-container\">\n",
              "    <div>\n",
              "<style scoped>\n",
              "    .dataframe tbody tr th:only-of-type {\n",
              "        vertical-align: middle;\n",
              "    }\n",
              "\n",
              "    .dataframe tbody tr th {\n",
              "        vertical-align: top;\n",
              "    }\n",
              "\n",
              "    .dataframe thead th {\n",
              "        text-align: right;\n",
              "    }\n",
              "</style>\n",
              "<table border=\"1\" class=\"dataframe\">\n",
              "  <thead>\n",
              "    <tr style=\"text-align: right;\">\n",
              "      <th></th>\n",
              "      <th>age</th>\n",
              "      <th>workclass</th>\n",
              "      <th>fnlwgt</th>\n",
              "      <th>education</th>\n",
              "      <th>education-num</th>\n",
              "      <th>marital-status</th>\n",
              "      <th>occupation</th>\n",
              "      <th>relationship</th>\n",
              "      <th>race</th>\n",
              "      <th>sex</th>\n",
              "      <th>capital-gain</th>\n",
              "      <th>capital-loss</th>\n",
              "      <th>hours-per-week</th>\n",
              "      <th>native-country</th>\n",
              "      <th>income</th>\n",
              "    </tr>\n",
              "  </thead>\n",
              "  <tbody>\n",
              "    <tr>\n",
              "      <th>0</th>\n",
              "      <td>50</td>\n",
              "      <td>Self-emp-not-inc</td>\n",
              "      <td>83311</td>\n",
              "      <td>Bachelors</td>\n",
              "      <td>13</td>\n",
              "      <td>Married-civ-spouse</td>\n",
              "      <td>Exec-managerial</td>\n",
              "      <td>Husband</td>\n",
              "      <td>White</td>\n",
              "      <td>Male</td>\n",
              "      <td>0</td>\n",
              "      <td>0</td>\n",
              "      <td>13</td>\n",
              "      <td>United-States</td>\n",
              "      <td>&lt;=50K</td>\n",
              "    </tr>\n",
              "    <tr>\n",
              "      <th>1</th>\n",
              "      <td>38</td>\n",
              "      <td>Private</td>\n",
              "      <td>215646</td>\n",
              "      <td>HS-grad</td>\n",
              "      <td>9</td>\n",
              "      <td>Divorced</td>\n",
              "      <td>Handlers-cleaners</td>\n",
              "      <td>Not-in-family</td>\n",
              "      <td>White</td>\n",
              "      <td>Male</td>\n",
              "      <td>0</td>\n",
              "      <td>0</td>\n",
              "      <td>40</td>\n",
              "      <td>United-States</td>\n",
              "      <td>&lt;=50K</td>\n",
              "    </tr>\n",
              "    <tr>\n",
              "      <th>2</th>\n",
              "      <td>53</td>\n",
              "      <td>Private</td>\n",
              "      <td>234721</td>\n",
              "      <td>11th</td>\n",
              "      <td>7</td>\n",
              "      <td>Married-civ-spouse</td>\n",
              "      <td>Handlers-cleaners</td>\n",
              "      <td>Husband</td>\n",
              "      <td>Black</td>\n",
              "      <td>Male</td>\n",
              "      <td>0</td>\n",
              "      <td>0</td>\n",
              "      <td>40</td>\n",
              "      <td>United-States</td>\n",
              "      <td>&lt;=50K</td>\n",
              "    </tr>\n",
              "    <tr>\n",
              "      <th>3</th>\n",
              "      <td>28</td>\n",
              "      <td>Private</td>\n",
              "      <td>338409</td>\n",
              "      <td>Bachelors</td>\n",
              "      <td>13</td>\n",
              "      <td>Married-civ-spouse</td>\n",
              "      <td>Prof-specialty</td>\n",
              "      <td>Wife</td>\n",
              "      <td>Black</td>\n",
              "      <td>Female</td>\n",
              "      <td>0</td>\n",
              "      <td>0</td>\n",
              "      <td>40</td>\n",
              "      <td>Cuba</td>\n",
              "      <td>&lt;=50K</td>\n",
              "    </tr>\n",
              "    <tr>\n",
              "      <th>4</th>\n",
              "      <td>37</td>\n",
              "      <td>Private</td>\n",
              "      <td>284582</td>\n",
              "      <td>Masters</td>\n",
              "      <td>14</td>\n",
              "      <td>Married-civ-spouse</td>\n",
              "      <td>Exec-managerial</td>\n",
              "      <td>Wife</td>\n",
              "      <td>White</td>\n",
              "      <td>Female</td>\n",
              "      <td>0</td>\n",
              "      <td>0</td>\n",
              "      <td>40</td>\n",
              "      <td>United-States</td>\n",
              "      <td>&lt;=50K</td>\n",
              "    </tr>\n",
              "    <tr>\n",
              "      <th>...</th>\n",
              "      <td>...</td>\n",
              "      <td>...</td>\n",
              "      <td>...</td>\n",
              "      <td>...</td>\n",
              "      <td>...</td>\n",
              "      <td>...</td>\n",
              "      <td>...</td>\n",
              "      <td>...</td>\n",
              "      <td>...</td>\n",
              "      <td>...</td>\n",
              "      <td>...</td>\n",
              "      <td>...</td>\n",
              "      <td>...</td>\n",
              "      <td>...</td>\n",
              "      <td>...</td>\n",
              "    </tr>\n",
              "    <tr>\n",
              "      <th>95</th>\n",
              "      <td>48</td>\n",
              "      <td>Self-emp-not-inc</td>\n",
              "      <td>191277</td>\n",
              "      <td>Doctorate</td>\n",
              "      <td>16</td>\n",
              "      <td>Married-civ-spouse</td>\n",
              "      <td>Prof-specialty</td>\n",
              "      <td>Husband</td>\n",
              "      <td>White</td>\n",
              "      <td>Male</td>\n",
              "      <td>0</td>\n",
              "      <td>1902</td>\n",
              "      <td>60</td>\n",
              "      <td>United-States</td>\n",
              "      <td>&gt;50K</td>\n",
              "    </tr>\n",
              "    <tr>\n",
              "      <th>96</th>\n",
              "      <td>37</td>\n",
              "      <td>Private</td>\n",
              "      <td>202683</td>\n",
              "      <td>Some-college</td>\n",
              "      <td>10</td>\n",
              "      <td>Married-civ-spouse</td>\n",
              "      <td>Sales</td>\n",
              "      <td>Husband</td>\n",
              "      <td>White</td>\n",
              "      <td>Male</td>\n",
              "      <td>0</td>\n",
              "      <td>0</td>\n",
              "      <td>48</td>\n",
              "      <td>United-States</td>\n",
              "      <td>&gt;50K</td>\n",
              "    </tr>\n",
              "    <tr>\n",
              "      <th>97</th>\n",
              "      <td>48</td>\n",
              "      <td>Private</td>\n",
              "      <td>171095</td>\n",
              "      <td>Assoc-acdm</td>\n",
              "      <td>12</td>\n",
              "      <td>Divorced</td>\n",
              "      <td>Exec-managerial</td>\n",
              "      <td>Unmarried</td>\n",
              "      <td>White</td>\n",
              "      <td>Female</td>\n",
              "      <td>0</td>\n",
              "      <td>0</td>\n",
              "      <td>40</td>\n",
              "      <td>England</td>\n",
              "      <td>&lt;=50K</td>\n",
              "    </tr>\n",
              "    <tr>\n",
              "      <th>98</th>\n",
              "      <td>32</td>\n",
              "      <td>Federal-gov</td>\n",
              "      <td>249409</td>\n",
              "      <td>HS-grad</td>\n",
              "      <td>9</td>\n",
              "      <td>Never-married</td>\n",
              "      <td>Other-service</td>\n",
              "      <td>Own-child</td>\n",
              "      <td>Black</td>\n",
              "      <td>Male</td>\n",
              "      <td>0</td>\n",
              "      <td>0</td>\n",
              "      <td>40</td>\n",
              "      <td>United-States</td>\n",
              "      <td>&lt;=50K</td>\n",
              "    </tr>\n",
              "    <tr>\n",
              "      <th>99</th>\n",
              "      <td>76</td>\n",
              "      <td>Private</td>\n",
              "      <td>124191</td>\n",
              "      <td>Masters</td>\n",
              "      <td>14</td>\n",
              "      <td>Married-civ-spouse</td>\n",
              "      <td>Exec-managerial</td>\n",
              "      <td>Husband</td>\n",
              "      <td>White</td>\n",
              "      <td>Male</td>\n",
              "      <td>0</td>\n",
              "      <td>0</td>\n",
              "      <td>40</td>\n",
              "      <td>United-States</td>\n",
              "      <td>&gt;50K</td>\n",
              "    </tr>\n",
              "  </tbody>\n",
              "</table>\n",
              "<p>96 rows × 15 columns</p>\n",
              "</div>\n",
              "    <div class=\"colab-df-buttons\">\n",
              "\n",
              "  <div class=\"colab-df-container\">\n",
              "    <button class=\"colab-df-convert\" onclick=\"convertToInteractive('df-a43b129d-9331-4001-be80-8dc676312847')\"\n",
              "            title=\"Convert this dataframe to an interactive table.\"\n",
              "            style=\"display:none;\">\n",
              "\n",
              "  <svg xmlns=\"http://www.w3.org/2000/svg\" height=\"24px\" viewBox=\"0 -960 960 960\">\n",
              "    <path d=\"M120-120v-720h720v720H120Zm60-500h600v-160H180v160Zm220 220h160v-160H400v160Zm0 220h160v-160H400v160ZM180-400h160v-160H180v160Zm440 0h160v-160H620v160ZM180-180h160v-160H180v160Zm440 0h160v-160H620v160Z\"/>\n",
              "  </svg>\n",
              "    </button>\n",
              "\n",
              "  <style>\n",
              "    .colab-df-container {\n",
              "      display:flex;\n",
              "      gap: 12px;\n",
              "    }\n",
              "\n",
              "    .colab-df-convert {\n",
              "      background-color: #E8F0FE;\n",
              "      border: none;\n",
              "      border-radius: 50%;\n",
              "      cursor: pointer;\n",
              "      display: none;\n",
              "      fill: #1967D2;\n",
              "      height: 32px;\n",
              "      padding: 0 0 0 0;\n",
              "      width: 32px;\n",
              "    }\n",
              "\n",
              "    .colab-df-convert:hover {\n",
              "      background-color: #E2EBFA;\n",
              "      box-shadow: 0px 1px 2px rgba(60, 64, 67, 0.3), 0px 1px 3px 1px rgba(60, 64, 67, 0.15);\n",
              "      fill: #174EA6;\n",
              "    }\n",
              "\n",
              "    .colab-df-buttons div {\n",
              "      margin-bottom: 4px;\n",
              "    }\n",
              "\n",
              "    [theme=dark] .colab-df-convert {\n",
              "      background-color: #3B4455;\n",
              "      fill: #D2E3FC;\n",
              "    }\n",
              "\n",
              "    [theme=dark] .colab-df-convert:hover {\n",
              "      background-color: #434B5C;\n",
              "      box-shadow: 0px 1px 3px 1px rgba(0, 0, 0, 0.15);\n",
              "      filter: drop-shadow(0px 1px 2px rgba(0, 0, 0, 0.3));\n",
              "      fill: #FFFFFF;\n",
              "    }\n",
              "  </style>\n",
              "\n",
              "    <script>\n",
              "      const buttonEl =\n",
              "        document.querySelector('#df-a43b129d-9331-4001-be80-8dc676312847 button.colab-df-convert');\n",
              "      buttonEl.style.display =\n",
              "        google.colab.kernel.accessAllowed ? 'block' : 'none';\n",
              "\n",
              "      async function convertToInteractive(key) {\n",
              "        const element = document.querySelector('#df-a43b129d-9331-4001-be80-8dc676312847');\n",
              "        const dataTable =\n",
              "          await google.colab.kernel.invokeFunction('convertToInteractive',\n",
              "                                                    [key], {});\n",
              "        if (!dataTable) return;\n",
              "\n",
              "        const docLinkHtml = 'Like what you see? Visit the ' +\n",
              "          '<a target=\"_blank\" href=https://colab.research.google.com/notebooks/data_table.ipynb>data table notebook</a>'\n",
              "          + ' to learn more about interactive tables.';\n",
              "        element.innerHTML = '';\n",
              "        dataTable['output_type'] = 'display_data';\n",
              "        await google.colab.output.renderOutput(dataTable, element);\n",
              "        const docLink = document.createElement('div');\n",
              "        docLink.innerHTML = docLinkHtml;\n",
              "        element.appendChild(docLink);\n",
              "      }\n",
              "    </script>\n",
              "  </div>\n",
              "\n",
              "\n",
              "<div id=\"df-e3c0cf54-3dd9-4eee-971f-eaa620dc7a3b\">\n",
              "  <button class=\"colab-df-quickchart\" onclick=\"quickchart('df-e3c0cf54-3dd9-4eee-971f-eaa620dc7a3b')\"\n",
              "            title=\"Suggest charts\"\n",
              "            style=\"display:none;\">\n",
              "\n",
              "<svg xmlns=\"http://www.w3.org/2000/svg\" height=\"24px\"viewBox=\"0 0 24 24\"\n",
              "     width=\"24px\">\n",
              "    <g>\n",
              "        <path d=\"M19 3H5c-1.1 0-2 .9-2 2v14c0 1.1.9 2 2 2h14c1.1 0 2-.9 2-2V5c0-1.1-.9-2-2-2zM9 17H7v-7h2v7zm4 0h-2V7h2v10zm4 0h-2v-4h2v4z\"/>\n",
              "    </g>\n",
              "</svg>\n",
              "  </button>\n",
              "\n",
              "<style>\n",
              "  .colab-df-quickchart {\n",
              "      --bg-color: #E8F0FE;\n",
              "      --fill-color: #1967D2;\n",
              "      --hover-bg-color: #E2EBFA;\n",
              "      --hover-fill-color: #174EA6;\n",
              "      --disabled-fill-color: #AAA;\n",
              "      --disabled-bg-color: #DDD;\n",
              "  }\n",
              "\n",
              "  [theme=dark] .colab-df-quickchart {\n",
              "      --bg-color: #3B4455;\n",
              "      --fill-color: #D2E3FC;\n",
              "      --hover-bg-color: #434B5C;\n",
              "      --hover-fill-color: #FFFFFF;\n",
              "      --disabled-bg-color: #3B4455;\n",
              "      --disabled-fill-color: #666;\n",
              "  }\n",
              "\n",
              "  .colab-df-quickchart {\n",
              "    background-color: var(--bg-color);\n",
              "    border: none;\n",
              "    border-radius: 50%;\n",
              "    cursor: pointer;\n",
              "    display: none;\n",
              "    fill: var(--fill-color);\n",
              "    height: 32px;\n",
              "    padding: 0;\n",
              "    width: 32px;\n",
              "  }\n",
              "\n",
              "  .colab-df-quickchart:hover {\n",
              "    background-color: var(--hover-bg-color);\n",
              "    box-shadow: 0 1px 2px rgba(60, 64, 67, 0.3), 0 1px 3px 1px rgba(60, 64, 67, 0.15);\n",
              "    fill: var(--button-hover-fill-color);\n",
              "  }\n",
              "\n",
              "  .colab-df-quickchart-complete:disabled,\n",
              "  .colab-df-quickchart-complete:disabled:hover {\n",
              "    background-color: var(--disabled-bg-color);\n",
              "    fill: var(--disabled-fill-color);\n",
              "    box-shadow: none;\n",
              "  }\n",
              "\n",
              "  .colab-df-spinner {\n",
              "    border: 2px solid var(--fill-color);\n",
              "    border-color: transparent;\n",
              "    border-bottom-color: var(--fill-color);\n",
              "    animation:\n",
              "      spin 1s steps(1) infinite;\n",
              "  }\n",
              "\n",
              "  @keyframes spin {\n",
              "    0% {\n",
              "      border-color: transparent;\n",
              "      border-bottom-color: var(--fill-color);\n",
              "      border-left-color: var(--fill-color);\n",
              "    }\n",
              "    20% {\n",
              "      border-color: transparent;\n",
              "      border-left-color: var(--fill-color);\n",
              "      border-top-color: var(--fill-color);\n",
              "    }\n",
              "    30% {\n",
              "      border-color: transparent;\n",
              "      border-left-color: var(--fill-color);\n",
              "      border-top-color: var(--fill-color);\n",
              "      border-right-color: var(--fill-color);\n",
              "    }\n",
              "    40% {\n",
              "      border-color: transparent;\n",
              "      border-right-color: var(--fill-color);\n",
              "      border-top-color: var(--fill-color);\n",
              "    }\n",
              "    60% {\n",
              "      border-color: transparent;\n",
              "      border-right-color: var(--fill-color);\n",
              "    }\n",
              "    80% {\n",
              "      border-color: transparent;\n",
              "      border-right-color: var(--fill-color);\n",
              "      border-bottom-color: var(--fill-color);\n",
              "    }\n",
              "    90% {\n",
              "      border-color: transparent;\n",
              "      border-bottom-color: var(--fill-color);\n",
              "    }\n",
              "  }\n",
              "</style>\n",
              "\n",
              "  <script>\n",
              "    async function quickchart(key) {\n",
              "      const quickchartButtonEl =\n",
              "        document.querySelector('#' + key + ' button');\n",
              "      quickchartButtonEl.disabled = true;  // To prevent multiple clicks.\n",
              "      quickchartButtonEl.classList.add('colab-df-spinner');\n",
              "      try {\n",
              "        const charts = await google.colab.kernel.invokeFunction(\n",
              "            'suggestCharts', [key], {});\n",
              "      } catch (error) {\n",
              "        console.error('Error during call to suggestCharts:', error);\n",
              "      }\n",
              "      quickchartButtonEl.classList.remove('colab-df-spinner');\n",
              "      quickchartButtonEl.classList.add('colab-df-quickchart-complete');\n",
              "    }\n",
              "    (() => {\n",
              "      let quickchartButtonEl =\n",
              "        document.querySelector('#df-e3c0cf54-3dd9-4eee-971f-eaa620dc7a3b button');\n",
              "      quickchartButtonEl.style.display =\n",
              "        google.colab.kernel.accessAllowed ? 'block' : 'none';\n",
              "    })();\n",
              "  </script>\n",
              "</div>\n",
              "    </div>\n",
              "  </div>\n"
            ],
            "application/vnd.google.colaboratory.intrinsic+json": {
              "type": "dataframe",
              "variable_name": "df",
              "summary": "{\n  \"name\": \"df\",\n  \"rows\": 96,\n  \"fields\": [\n    {\n      \"column\": \"age\",\n      \"properties\": {\n        \"dtype\": \"number\",\n        \"std\": 12,\n        \"min\": 18,\n        \"max\": 79,\n        \"num_unique_values\": 40,\n        \"samples\": [\n          56,\n          54,\n          43\n        ],\n        \"semantic_type\": \"\",\n        \"description\": \"\"\n      }\n    },\n    {\n      \"column\": \"workclass\",\n      \"properties\": {\n        \"dtype\": \"category\",\n        \"num_unique_values\": 6,\n        \"samples\": [\n          \" Self-emp-not-inc\",\n          \" Private\",\n          \" Self-emp-inc\"\n        ],\n        \"semantic_type\": \"\",\n        \"description\": \"\"\n      }\n    },\n    {\n      \"column\": \"fnlwgt\",\n      \"properties\": {\n        \"dtype\": \"number\",\n        \"std\": 103551,\n        \"min\": 28887,\n        \"max\": 544091,\n        \"num_unique_values\": 96,\n        \"samples\": [\n          346253,\n          51618,\n          309634\n        ],\n        \"semantic_type\": \"\",\n        \"description\": \"\"\n      }\n    },\n    {\n      \"column\": \"education\",\n      \"properties\": {\n        \"dtype\": \"category\",\n        \"num_unique_values\": 12,\n        \"samples\": [\n          \" Prof-school\",\n          \" Doctorate\",\n          \" Bachelors\"\n        ],\n        \"semantic_type\": \"\",\n        \"description\": \"\"\n      }\n    },\n    {\n      \"column\": \"education-num\",\n      \"properties\": {\n        \"dtype\": \"number\",\n        \"std\": 2,\n        \"min\": 3,\n        \"max\": 16,\n        \"num_unique_values\": 12,\n        \"samples\": [\n          15,\n          16,\n          13\n        ],\n        \"semantic_type\": \"\",\n        \"description\": \"\"\n      }\n    },\n    {\n      \"column\": \"marital-status\",\n      \"properties\": {\n        \"dtype\": \"category\",\n        \"num_unique_values\": 6,\n        \"samples\": [\n          \" Married-civ-spouse\",\n          \" Divorced\",\n          \" Married-AF-spouse\"\n        ],\n        \"semantic_type\": \"\",\n        \"description\": \"\"\n      }\n    },\n    {\n      \"column\": \"occupation\",\n      \"properties\": {\n        \"dtype\": \"category\",\n        \"num_unique_values\": 12,\n        \"samples\": [\n          \" Tech-support\",\n          \" Machine-op-inspct\",\n          \" Exec-managerial\"\n        ],\n        \"semantic_type\": \"\",\n        \"description\": \"\"\n      }\n    },\n    {\n      \"column\": \"relationship\",\n      \"properties\": {\n        \"dtype\": \"category\",\n        \"num_unique_values\": 6,\n        \"samples\": [\n          \" Husband\",\n          \" Not-in-family\",\n          \" Other-relative\"\n        ],\n        \"semantic_type\": \"\",\n        \"description\": \"\"\n      }\n    },\n    {\n      \"column\": \"race\",\n      \"properties\": {\n        \"dtype\": \"category\",\n        \"num_unique_values\": 5,\n        \"samples\": [\n          \" Black\",\n          \" Other\",\n          \" Asian-Pac-Islander\"\n        ],\n        \"semantic_type\": \"\",\n        \"description\": \"\"\n      }\n    },\n    {\n      \"column\": \"sex\",\n      \"properties\": {\n        \"dtype\": \"category\",\n        \"num_unique_values\": 2,\n        \"samples\": [\n          \" Female\",\n          \" Male\"\n        ],\n        \"semantic_type\": \"\",\n        \"description\": \"\"\n      }\n    },\n    {\n      \"column\": \"capital-gain\",\n      \"properties\": {\n        \"dtype\": \"number\",\n        \"std\": 2162,\n        \"min\": 0,\n        \"max\": 14344,\n        \"num_unique_values\": 6,\n        \"samples\": [\n          0,\n          14084\n        ],\n        \"semantic_type\": \"\",\n        \"description\": \"\"\n      }\n    },\n    {\n      \"column\": \"capital-loss\",\n      \"properties\": {\n        \"dtype\": \"number\",\n        \"std\": 398,\n        \"min\": 0,\n        \"max\": 2042,\n        \"num_unique_values\": 5,\n        \"samples\": [\n          2042,\n          1573\n        ],\n        \"semantic_type\": \"\",\n        \"description\": \"\"\n      }\n    },\n    {\n      \"column\": \"hours-per-week\",\n      \"properties\": {\n        \"dtype\": \"number\",\n        \"std\": 10,\n        \"min\": 13,\n        \"max\": 80,\n        \"num_unique_values\": 22,\n        \"samples\": [\n          13,\n          25\n        ],\n        \"semantic_type\": \"\",\n        \"description\": \"\"\n      }\n    },\n    {\n      \"column\": \"native-country\",\n      \"properties\": {\n        \"dtype\": \"category\",\n        \"num_unique_values\": 9,\n        \"samples\": [\n          \" Honduras\",\n          \" Cuba\"\n        ],\n        \"semantic_type\": \"\",\n        \"description\": \"\"\n      }\n    },\n    {\n      \"column\": \"income\",\n      \"properties\": {\n        \"dtype\": \"category\",\n        \"num_unique_values\": 2,\n        \"samples\": [\n          \" >50K\",\n          \" <=50K\"\n        ],\n        \"semantic_type\": \"\",\n        \"description\": \"\"\n      }\n    }\n  ]\n}"
            }
          },
          "metadata": {},
          "execution_count": 84
        }
      ]
    },
    {
      "cell_type": "markdown",
      "source": [
        "# ***`confidence as interestingness Part A `***"
      ],
      "metadata": {
        "id": "Qr-9tpIIhVrB"
      }
    },
    {
      "cell_type": "code",
      "source": [
        "records = []\n",
        "for i in range(len(df)):\n",
        "    records.append([str(df.values[i,u]) for u in range(0, 15)])"
      ],
      "metadata": {
        "id": "qvFMPF7ycOiI"
      },
      "execution_count": 85,
      "outputs": []
    },
    {
      "cell_type": "markdown",
      "source": [
        "# ***confidience20%***"
      ],
      "metadata": {
        "id": "wBGS1q8Ch98X"
      }
    },
    {
      "cell_type": "code",
      "source": [
        "rules = apriori(records, min_support=0.22, min_confidence=0.20,  min_length = 4)"
      ],
      "metadata": {
        "id": "XFT2eE4CcSsy"
      },
      "execution_count": 86,
      "outputs": []
    },
    {
      "cell_type": "code",
      "source": [
        "# Store rules in result variable\n",
        "results = list(rules)# See the items that were bought together with their support\n",
        "results_list = []\n",
        "for i in range(0, len(results)):\n",
        "    results_list.append('RULE:\\t' + str(results[i][0]) + '\\nSUPPORT:\\t' + str(results[i][1]))"
      ],
      "metadata": {
        "id": "8mcnghZGcYek"
      },
      "execution_count": 87,
      "outputs": []
    },
    {
      "cell_type": "code",
      "source": [
        "print(len(results_list))"
      ],
      "metadata": {
        "colab": {
          "base_uri": "https://localhost:8080/"
        },
        "id": "mi8z_sTFcZ0T",
        "outputId": "5ed8ae54-0807-4c0d-ecda-436556317e57"
      },
      "execution_count": 88,
      "outputs": [
        {
          "output_type": "stream",
          "name": "stdout",
          "text": [
            "353\n"
          ]
        }
      ]
    },
    {
      "cell_type": "code",
      "source": [
        "for i in range(0,10):\n",
        "    print(results_list[i])"
      ],
      "metadata": {
        "colab": {
          "base_uri": "https://localhost:8080/"
        },
        "id": "Wm40j3p7ceJM",
        "outputId": "cb0efd99-2f1e-4b01-f2d9-238d52d37c56"
      },
      "execution_count": 89,
      "outputs": [
        {
          "output_type": "stream",
          "name": "stdout",
          "text": [
            "RULE:\tfrozenset({' <=50K'})\n",
            "SUPPORT:\t0.7395833333333334\n",
            "RULE:\tfrozenset({' >50K'})\n",
            "SUPPORT:\t0.2604166666666667\n",
            "RULE:\tfrozenset({' Female'})\n",
            "SUPPORT:\t0.2708333333333333\n",
            "RULE:\tfrozenset({' HS-grad'})\n",
            "SUPPORT:\t0.3020833333333333\n",
            "RULE:\tfrozenset({' Husband'})\n",
            "SUPPORT:\t0.46875\n",
            "RULE:\tfrozenset({' Male'})\n",
            "SUPPORT:\t0.7291666666666666\n",
            "RULE:\tfrozenset({' Married-civ-spouse'})\n",
            "SUPPORT:\t0.5625\n",
            "RULE:\tfrozenset({' Never-married'})\n",
            "SUPPORT:\t0.22916666666666666\n",
            "RULE:\tfrozenset({' Private'})\n",
            "SUPPORT:\t0.7395833333333334\n",
            "RULE:\tfrozenset({' United-States'})\n",
            "SUPPORT:\t0.84375\n"
          ]
        }
      ]
    },
    {
      "cell_type": "markdown",
      "source": [
        "## ***confidience40%***"
      ],
      "metadata": {
        "id": "E95HmFd_jkyg"
      }
    },
    {
      "cell_type": "code",
      "source": [
        "rules = apriori(records, min_support=0.22, min_confidence=0.40,  min_length = 4)"
      ],
      "metadata": {
        "id": "-AP-80Bxjqn6"
      },
      "execution_count": 90,
      "outputs": []
    },
    {
      "cell_type": "code",
      "source": [
        "# Store rules in result variable\n",
        "results = list(rules)# See the items that were bought together with their support\n",
        "results_list = []\n",
        "for i in range(0, len(results)):\n",
        "    results_list.append('RULE:\\t' + str(results[i][0]) + '\\nSUPPORT:\\t' + str(results[i][1]))"
      ],
      "metadata": {
        "id": "Kqs_XiOXjtog"
      },
      "execution_count": 91,
      "outputs": []
    },
    {
      "cell_type": "code",
      "source": [
        "for i in range(0,10):\n",
        "    print(results_list[i])"
      ],
      "metadata": {
        "id": "hleEo6ZZjxQI",
        "outputId": "e115ba6f-a435-43e7-a505-697e44af707f",
        "colab": {
          "base_uri": "https://localhost:8080/"
        }
      },
      "execution_count": 92,
      "outputs": [
        {
          "output_type": "stream",
          "name": "stdout",
          "text": [
            "RULE:\tfrozenset({' <=50K'})\n",
            "SUPPORT:\t0.7395833333333334\n",
            "RULE:\tfrozenset({' Husband'})\n",
            "SUPPORT:\t0.46875\n",
            "RULE:\tfrozenset({' Male'})\n",
            "SUPPORT:\t0.7291666666666666\n",
            "RULE:\tfrozenset({' Married-civ-spouse'})\n",
            "SUPPORT:\t0.5625\n",
            "RULE:\tfrozenset({' Private'})\n",
            "SUPPORT:\t0.7395833333333334\n",
            "RULE:\tfrozenset({' United-States'})\n",
            "SUPPORT:\t0.84375\n",
            "RULE:\tfrozenset({' White'})\n",
            "SUPPORT:\t0.8125\n",
            "RULE:\tfrozenset({'0'})\n",
            "SUPPORT:\t1.0\n",
            "RULE:\tfrozenset({'40'})\n",
            "SUPPORT:\t0.53125\n",
            "RULE:\tfrozenset({' HS-grad', ' <=50K'})\n",
            "SUPPORT:\t0.2604166666666667\n"
          ]
        }
      ]
    },
    {
      "cell_type": "markdown",
      "source": [
        "## ***confidience50%***"
      ],
      "metadata": {
        "id": "6KMEjNtLjzvV"
      }
    },
    {
      "cell_type": "code",
      "source": [
        "rules = apriori(records, min_support=0.22, min_confidence=0.50,  min_length = 4)"
      ],
      "metadata": {
        "id": "IejvYH4kj2e5"
      },
      "execution_count": 93,
      "outputs": []
    },
    {
      "cell_type": "code",
      "source": [
        "# Store rules in result variable\n",
        "results = list(rules)# See the items that were bought together with their support\n",
        "results_list = []\n",
        "for i in range(0, len(results)):\n",
        "    results_list.append('RULE:\\t' + str(results[i][0]) + '\\nSUPPORT:\\t' + str(results[i][1]))"
      ],
      "metadata": {
        "id": "v_myudQOj5mw"
      },
      "execution_count": 94,
      "outputs": []
    },
    {
      "cell_type": "code",
      "source": [
        "for i in range(0,10):\n",
        "    print(results_list[i])"
      ],
      "metadata": {
        "id": "3GYiWaCXn7gP",
        "outputId": "5323a4db-0500-4ac4-d452-0e173b6c3f0d",
        "colab": {
          "base_uri": "https://localhost:8080/"
        }
      },
      "execution_count": 95,
      "outputs": [
        {
          "output_type": "stream",
          "name": "stdout",
          "text": [
            "RULE:\tfrozenset({' <=50K'})\n",
            "SUPPORT:\t0.7395833333333334\n",
            "RULE:\tfrozenset({' Male'})\n",
            "SUPPORT:\t0.7291666666666666\n",
            "RULE:\tfrozenset({' Married-civ-spouse'})\n",
            "SUPPORT:\t0.5625\n",
            "RULE:\tfrozenset({' Private'})\n",
            "SUPPORT:\t0.7395833333333334\n",
            "RULE:\tfrozenset({' United-States'})\n",
            "SUPPORT:\t0.84375\n",
            "RULE:\tfrozenset({' White'})\n",
            "SUPPORT:\t0.8125\n",
            "RULE:\tfrozenset({'0'})\n",
            "SUPPORT:\t1.0\n",
            "RULE:\tfrozenset({'40'})\n",
            "SUPPORT:\t0.53125\n",
            "RULE:\tfrozenset({' HS-grad', ' <=50K'})\n",
            "SUPPORT:\t0.2604166666666667\n",
            "RULE:\tfrozenset({' Husband', ' <=50K'})\n",
            "SUPPORT:\t0.28125\n"
          ]
        }
      ]
    },
    {
      "cell_type": "markdown",
      "source": [
        "`\n",
        "# ***interest as an interestingness measure  psrt B***\n",
        "\n",
        "`\n",
        "\n",
        "\n",
        "\n"
      ],
      "metadata": {
        "id": "9bgHsT2rpALY"
      }
    },
    {
      "cell_type": "markdown",
      "source": [
        "# ***`confidence 80%`***"
      ],
      "metadata": {
        "id": "lQMk5lfppVRQ"
      }
    },
    {
      "cell_type": "code",
      "source": [],
      "metadata": {
        "id": "s5fdxbnepFBB"
      },
      "execution_count": 95,
      "outputs": []
    },
    {
      "cell_type": "code",
      "source": [
        "# Store rules in result variable\n",
        "rules = apriori(records, min_support=0.22, min_confidence=0.80,  min_length = 4)\n",
        "results = list(rules)# See the items that were bought together with their support\n",
        "results_list = []\n",
        "for i in range(0, len(results)):\n",
        "    results_list.append('RULE:\\t' + str(results[i][0]) + '\\nSUPPORT:\\t' + str(results[i][1]))\n",
        "for i in range(0,10):\n",
        "    print(results_list[i])"
      ],
      "metadata": {
        "id": "x_oTMTQcpbsA",
        "outputId": "20971016-0632-4a50-9d1d-4521f027331a",
        "colab": {
          "base_uri": "https://localhost:8080/"
        }
      },
      "execution_count": 96,
      "outputs": [
        {
          "output_type": "stream",
          "name": "stdout",
          "text": [
            "RULE:\tfrozenset({' United-States'})\n",
            "SUPPORT:\t0.84375\n",
            "RULE:\tfrozenset({' White'})\n",
            "SUPPORT:\t0.8125\n",
            "RULE:\tfrozenset({'0'})\n",
            "SUPPORT:\t1.0\n",
            "RULE:\tfrozenset({' HS-grad', ' <=50K'})\n",
            "SUPPORT:\t0.2604166666666667\n",
            "RULE:\tfrozenset({' <=50K', ' Private'})\n",
            "SUPPORT:\t0.6041666666666666\n",
            "RULE:\tfrozenset({' United-States', ' <=50K'})\n",
            "SUPPORT:\t0.625\n",
            "RULE:\tfrozenset({' White', ' <=50K'})\n",
            "SUPPORT:\t0.59375\n",
            "RULE:\tfrozenset({'0', ' <=50K'})\n",
            "SUPPORT:\t0.7395833333333334\n",
            "RULE:\tfrozenset({'9', ' <=50K'})\n",
            "SUPPORT:\t0.2604166666666667\n",
            "RULE:\tfrozenset({'0', ' >50K'})\n",
            "SUPPORT:\t0.2604166666666667\n"
          ]
        }
      ]
    },
    {
      "cell_type": "markdown",
      "source": [
        "# ***confidience 90%***"
      ],
      "metadata": {
        "id": "eDEeDKTjpjCw"
      }
    },
    {
      "cell_type": "code",
      "source": [
        "# Store rules in result variable\n",
        "rules = apriori(records, min_support=0.22, min_confidence=0.90,  min_length = 4)\n",
        "results = list(rules)# See the items that were bought together with their support\n",
        "results_list = []\n",
        "for i in range(0, len(results)):\n",
        "    results_list.append('RULE:\\t' + str(results[i][0]) + '\\nSUPPORT:\\t' + str(results[i][1]))\n",
        "for i in range(0,10):\n",
        "    print(results_list[i])"
      ],
      "metadata": {
        "id": "TyjUTW9Kpmxg",
        "outputId": "5e4aa11e-8d16-4e0f-d79e-d57a19d09932",
        "colab": {
          "base_uri": "https://localhost:8080/"
        }
      },
      "execution_count": 97,
      "outputs": [
        {
          "output_type": "stream",
          "name": "stdout",
          "text": [
            "RULE:\tfrozenset({'0'})\n",
            "SUPPORT:\t1.0\n",
            "RULE:\tfrozenset({'0', ' <=50K'})\n",
            "SUPPORT:\t0.7395833333333334\n",
            "RULE:\tfrozenset({'0', ' >50K'})\n",
            "SUPPORT:\t0.2604166666666667\n",
            "RULE:\tfrozenset({' Female', ' Private'})\n",
            "SUPPORT:\t0.25\n",
            "RULE:\tfrozenset({' Female', '0'})\n",
            "SUPPORT:\t0.2708333333333333\n",
            "RULE:\tfrozenset({' HS-grad', '0'})\n",
            "SUPPORT:\t0.3020833333333333\n",
            "RULE:\tfrozenset({' HS-grad', '9'})\n",
            "SUPPORT:\t0.3020833333333333\n",
            "RULE:\tfrozenset({' Male', ' Husband'})\n",
            "SUPPORT:\t0.46875\n",
            "RULE:\tfrozenset({' Married-civ-spouse', ' Husband'})\n",
            "SUPPORT:\t0.46875\n",
            "RULE:\tfrozenset({'0', ' Husband'})\n",
            "SUPPORT:\t0.46875\n"
          ]
        }
      ]
    },
    {
      "cell_type": "markdown",
      "source": [
        "# ***confidence 95%***"
      ],
      "metadata": {
        "id": "9gUBzxHSpt0A"
      }
    },
    {
      "cell_type": "code",
      "source": [
        "# Store rules in result variable\n",
        "rules = apriori(records, min_support=0.22, min_confidence=0.95,  min_length = 4)\n",
        "results = list(rules)# See the items that were bought together with their support\n",
        "results_list = []\n",
        "for i in range(0, len(results)):\n",
        "    results_list.append('RULE:\\t' + str(results[i][0]) + '\\nSUPPORT:\\t' + str(results[i][1]))\n",
        "for i in range(0,10):\n",
        "    print(results_list[i])"
      ],
      "metadata": {
        "id": "n6Mk_0iepzFZ",
        "outputId": "518709cc-9130-44ee-b374-a3fbff077203",
        "colab": {
          "base_uri": "https://localhost:8080/"
        }
      },
      "execution_count": 98,
      "outputs": [
        {
          "output_type": "stream",
          "name": "stdout",
          "text": [
            "RULE:\tfrozenset({'0'})\n",
            "SUPPORT:\t1.0\n",
            "RULE:\tfrozenset({'0', ' <=50K'})\n",
            "SUPPORT:\t0.7395833333333334\n",
            "RULE:\tfrozenset({'0', ' >50K'})\n",
            "SUPPORT:\t0.2604166666666667\n",
            "RULE:\tfrozenset({' Female', '0'})\n",
            "SUPPORT:\t0.2708333333333333\n",
            "RULE:\tfrozenset({' HS-grad', '0'})\n",
            "SUPPORT:\t0.3020833333333333\n",
            "RULE:\tfrozenset({' HS-grad', '9'})\n",
            "SUPPORT:\t0.3020833333333333\n",
            "RULE:\tfrozenset({' Male', ' Husband'})\n",
            "SUPPORT:\t0.46875\n",
            "RULE:\tfrozenset({' Married-civ-spouse', ' Husband'})\n",
            "SUPPORT:\t0.46875\n",
            "RULE:\tfrozenset({'0', ' Husband'})\n",
            "SUPPORT:\t0.46875\n",
            "RULE:\tfrozenset({' Male', '0'})\n",
            "SUPPORT:\t0.7291666666666666\n"
          ]
        }
      ]
    },
    {
      "cell_type": "markdown",
      "source": [
        "# ***Part C ***"
      ],
      "metadata": {
        "id": "eNHvDSkTpr4k"
      }
    },
    {
      "cell_type": "markdown",
      "source": [
        "# **Question: What factors influence income levels (<=50K or >50K)?**\n",
        "**Attributes: Age, Workclass, Education, Marital Status, Occupation, Relationship, Race, Sex, Capital Gain, Capital Loss, Hours per Week, Native Country**"
      ],
      "metadata": {
        "id": "QS9gxiR-rbXh"
      }
    },
    {
      "cell_type": "code",
      "source": [
        "income_rules = apriori(records, min_support=0.1, min_confidence=0.5, min_lift=1.0, min_length=2)\n"
      ],
      "metadata": {
        "id": "-kIR0NxVpt_U"
      },
      "execution_count": 99,
      "outputs": []
    },
    {
      "cell_type": "markdown",
      "source": [
        "# ***Question: Are there any patterns in education and occupation that predict income levels?***\n",
        "Attributes: Education, Occupation, Income"
      ],
      "metadata": {
        "id": "GWmXz0M6rlba"
      }
    },
    {
      "cell_type": "code",
      "source": [
        "edu_occupation_income_rules = apriori(records, min_support=0.05, min_confidence=0.5, min_lift=1.0, min_length=2)\n"
      ],
      "metadata": {
        "id": "W3esC0lBrpj_"
      },
      "execution_count": 100,
      "outputs": []
    },
    {
      "cell_type": "markdown",
      "source": [
        "# **Question: Can we identify demographic factors associated with high capital gains?**\n",
        "Attributes: Age, Education, Marital Status, Occupation, Race, Sex, Capital Gain"
      ],
      "metadata": {
        "id": "eU0Ty9glrxQr"
      }
    },
    {
      "cell_type": "code",
      "source": [
        "capital_gains_rules = apriori(records, min_support=0.05, min_confidence=0.5, min_lift=1.0, min_length=2)\n"
      ],
      "metadata": {
        "id": "wfwLkDgorzNq"
      },
      "execution_count": 101,
      "outputs": []
    },
    {
      "cell_type": "markdown",
      "source": [
        "# **Question: What are the common characteristics of individuals working long hours (>40 hours per week)?**\n",
        "Attributes: Age, Education, Marital Status, Occupation, Relationship, Race, Sex, Hours per Week"
      ],
      "metadata": {
        "id": "atik85ypr7iZ"
      }
    },
    {
      "cell_type": "code",
      "source": [
        "long_hours_rules = apriori(records, min_support=0.1, min_confidence=0.5, min_lift=1.0, min_length=2)\n"
      ],
      "metadata": {
        "id": "J-7nDPSGr9zN"
      },
      "execution_count": 102,
      "outputs": []
    },
    {
      "cell_type": "markdown",
      "source": [
        "# **Question: Is there a relationship between marital status and hours worked per week?**\n",
        "# Attributes: Marital Status, Hours per Week"
      ],
      "metadata": {
        "id": "JcAgEo8_sBzn"
      }
    },
    {
      "cell_type": "code",
      "source": [
        "marital_hours_rules = apriori(records, min_support=0.05, min_confidence=0.5, min_lift=1.0, min_length=2)\n"
      ],
      "metadata": {
        "id": "sZ-S435DsFpL"
      },
      "execution_count": 103,
      "outputs": []
    },
    {
      "cell_type": "markdown",
      "source": [
        "# **Question: Are certain occupations more likely to have higher levels of education?**\n",
        "Attributes: Occupation, Education"
      ],
      "metadata": {
        "id": "B1QaJf1bsIsA"
      }
    },
    {
      "cell_type": "code",
      "source": [
        "occupation_education_rules = apriori(records, min_support=0.05, min_confidence=0.5, min_lift=1.0, min_length=2)\n"
      ],
      "metadata": {
        "id": "53lexlRUsa1g"
      },
      "execution_count": 104,
      "outputs": []
    },
    {
      "cell_type": "markdown",
      "source": [
        "# ***Question: Can we identify any patterns in the relationship between age and education?***\n",
        "Attributes: Age, Education"
      ],
      "metadata": {
        "id": "aIfrWj_9sfso"
      }
    },
    {
      "cell_type": "code",
      "source": [
        "age_education_rules = apriori(records, min_support=0.05, min_confidence=0.5, min_lift=1.0, min_length=2)\n"
      ],
      "metadata": {
        "id": "mmk8iJoNshza"
      },
      "execution_count": 105,
      "outputs": []
    },
    {
      "cell_type": "markdown",
      "source": [
        "# ***Question: Are there any notable differences in income levels based on native country?***\n",
        "Attributes: Native Country, Income"
      ],
      "metadata": {
        "id": "CBXfgjazslGw"
      }
    },
    {
      "cell_type": "code",
      "source": [
        "native_country_income_rules = apriori(records, min_support=0.05, min_confidence=0.5, min_lift=1.0, min_length=2)\n"
      ],
      "metadata": {
        "id": "XAbIuGCyspZ1"
      },
      "execution_count": 106,
      "outputs": []
    },
    {
      "cell_type": "markdown",
      "source": [
        "# ***Question: Do individuals with higher education levels tend to work in specific occupations?***\n",
        "Attributes: Education, Occupation"
      ],
      "metadata": {
        "id": "shwYNGO4stTs"
      }
    },
    {
      "cell_type": "code",
      "source": [
        "\n",
        "education_occupation_rules = apriori(records, min_support=0.05, min_confidence=0.5, min_lift=1.0, min_length=2)\n"
      ],
      "metadata": {
        "id": "mGKDxT_9ssd9"
      },
      "execution_count": 107,
      "outputs": []
    },
    {
      "cell_type": "markdown",
      "source": [
        "# **Question: Can we identify any patterns in the relationship between age and capital losses?**\n",
        "# ***Attributes: Age, Capital Loss***"
      ],
      "metadata": {
        "id": "er7_44Ths3lY"
      }
    },
    {
      "cell_type": "code",
      "source": [
        "\n",
        "age_capital_loss_rules = apriori(records, min_support=0.05, min_confidence=0.5, min_lift=1.0, min_length=2)\n"
      ],
      "metadata": {
        "id": "k0Y_Loous2Fp"
      },
      "execution_count": 108,
      "outputs": []
    },
    {
      "cell_type": "markdown",
      "source": [
        "# ***-----------------Part D-----------------***"
      ],
      "metadata": {
        "id": "ah-EP9iRtZRt"
      }
    },
    {
      "cell_type": "code",
      "source": [
        "# Extracting rules using different evaluation measures\n",
        "rules_support = apriori(records, min_support=0.1, min_confidence=0.5, min_lift=1.0, min_length=2, max_length=3)\n",
        "rules_conviction = apriori(records, min_support=0.1, min_confidence=0.5, min_lift=1.0, min_length=2, max_length=3, metric='conviction')\n",
        "rules_leverage = apriori(records, min_support=0.1, min_confidence=0.5, min_lift=1.0, min_length=2, max_length=3, metric='leverage')\n"
      ],
      "metadata": {
        "id": "Tn6ngNVetcop"
      },
      "execution_count": 109,
      "outputs": []
    },
    {
      "cell_type": "code",
      "source": [
        "for rule in sorted(rules_support, key=lambda x: x.support, reverse=True)[:10]:\n",
        "    print(rule)\n"
      ],
      "metadata": {
        "colab": {
          "base_uri": "https://localhost:8080/"
        },
        "id": "PoQgdrhKtkFg",
        "outputId": "84515b9c-6401-4817-b008-e9991da8e8be"
      },
      "execution_count": 110,
      "outputs": [
        {
          "output_type": "stream",
          "name": "stdout",
          "text": [
            "RelationRecord(items=frozenset({'0'}), support=1.0, ordered_statistics=[OrderedStatistic(items_base=frozenset(), items_add=frozenset({'0'}), confidence=1.0, lift=1.0)])\n",
            "RelationRecord(items=frozenset({' United-States'}), support=0.84375, ordered_statistics=[OrderedStatistic(items_base=frozenset(), items_add=frozenset({' United-States'}), confidence=0.84375, lift=1.0)])\n",
            "RelationRecord(items=frozenset({' United-States', '0'}), support=0.84375, ordered_statistics=[OrderedStatistic(items_base=frozenset(), items_add=frozenset({' United-States', '0'}), confidence=0.84375, lift=1.0), OrderedStatistic(items_base=frozenset({' United-States'}), items_add=frozenset({'0'}), confidence=1.0, lift=1.0), OrderedStatistic(items_base=frozenset({'0'}), items_add=frozenset({' United-States'}), confidence=0.84375, lift=1.0)])\n",
            "RelationRecord(items=frozenset({' White'}), support=0.8125, ordered_statistics=[OrderedStatistic(items_base=frozenset(), items_add=frozenset({' White'}), confidence=0.8125, lift=1.0)])\n",
            "RelationRecord(items=frozenset({' White', '0'}), support=0.8125, ordered_statistics=[OrderedStatistic(items_base=frozenset(), items_add=frozenset({' White', '0'}), confidence=0.8125, lift=1.0), OrderedStatistic(items_base=frozenset({' White'}), items_add=frozenset({'0'}), confidence=1.0, lift=1.0), OrderedStatistic(items_base=frozenset({'0'}), items_add=frozenset({' White'}), confidence=0.8125, lift=1.0)])\n",
            "RelationRecord(items=frozenset({' <=50K'}), support=0.7395833333333334, ordered_statistics=[OrderedStatistic(items_base=frozenset(), items_add=frozenset({' <=50K'}), confidence=0.7395833333333334, lift=1.0)])\n",
            "RelationRecord(items=frozenset({' Private'}), support=0.7395833333333334, ordered_statistics=[OrderedStatistic(items_base=frozenset(), items_add=frozenset({' Private'}), confidence=0.7395833333333334, lift=1.0)])\n",
            "RelationRecord(items=frozenset({'0', ' <=50K'}), support=0.7395833333333334, ordered_statistics=[OrderedStatistic(items_base=frozenset(), items_add=frozenset({'0', ' <=50K'}), confidence=0.7395833333333334, lift=1.0), OrderedStatistic(items_base=frozenset({' <=50K'}), items_add=frozenset({'0'}), confidence=1.0, lift=1.0), OrderedStatistic(items_base=frozenset({'0'}), items_add=frozenset({' <=50K'}), confidence=0.7395833333333334, lift=1.0)])\n",
            "RelationRecord(items=frozenset({'0', ' Private'}), support=0.7395833333333334, ordered_statistics=[OrderedStatistic(items_base=frozenset(), items_add=frozenset({'0', ' Private'}), confidence=0.7395833333333334, lift=1.0), OrderedStatistic(items_base=frozenset({' Private'}), items_add=frozenset({'0'}), confidence=1.0, lift=1.0), OrderedStatistic(items_base=frozenset({'0'}), items_add=frozenset({' Private'}), confidence=0.7395833333333334, lift=1.0)])\n",
            "RelationRecord(items=frozenset({' Male'}), support=0.7291666666666666, ordered_statistics=[OrderedStatistic(items_base=frozenset(), items_add=frozenset({' Male'}), confidence=0.7291666666666666, lift=1.0)])\n"
          ]
        }
      ]
    },
    {
      "cell_type": "code",
      "source": [
        "# Extracting top 10 rules with their support for each evaluation measure\n",
        "results_support = list(rules_support)\n",
        "results_conviction = list(rules_conviction)\n",
        "results_leverage = list(rules_leverage)"
      ],
      "metadata": {
        "id": "xNFBvNRmt9gz"
      },
      "execution_count": 111,
      "outputs": []
    },
    {
      "cell_type": "code",
      "source": [
        "print(\"Top 10 rules based on Support:\")\n",
        "for i in range(min(10, len(results_support))):\n",
        "    print(\"RULE:\\t\", results_support[i][0], \"\\nSUPPORT:\\t\", results_support[i][1])\n"
      ],
      "metadata": {
        "colab": {
          "base_uri": "https://localhost:8080/"
        },
        "id": "HbBQYhr-t-9f",
        "outputId": "e5bfae1f-57c2-4d3b-ece3-80fb25a89107"
      },
      "execution_count": 112,
      "outputs": [
        {
          "output_type": "stream",
          "name": "stdout",
          "text": [
            "Top 10 rules based on Support:\n"
          ]
        }
      ]
    },
    {
      "cell_type": "code",
      "source": [
        "print(\"\\nTop 10 rules based on Conviction:\")\n",
        "for i in range(min(10, len(results_conviction))):\n",
        "    print(\"RULE:\\t\", results_conviction[i][0], \"\\nCONVICTION:\\t\", results_conviction[i][1])\n"
      ],
      "metadata": {
        "colab": {
          "base_uri": "https://localhost:8080/"
        },
        "id": "pbKJEOhouTYs",
        "outputId": "242dcc63-5813-4784-803c-1cba2c4dcf33"
      },
      "execution_count": 113,
      "outputs": [
        {
          "output_type": "stream",
          "name": "stdout",
          "text": [
            "\n",
            "Top 10 rules based on Conviction:\n",
            "RULE:\t frozenset({' <=50K'}) \n",
            "CONVICTION:\t 0.7395833333333334\n",
            "RULE:\t frozenset({' Male'}) \n",
            "CONVICTION:\t 0.7291666666666666\n",
            "RULE:\t frozenset({' Married-civ-spouse'}) \n",
            "CONVICTION:\t 0.5625\n",
            "RULE:\t frozenset({' Private'}) \n",
            "CONVICTION:\t 0.7395833333333334\n",
            "RULE:\t frozenset({' United-States'}) \n",
            "CONVICTION:\t 0.84375\n",
            "RULE:\t frozenset({' White'}) \n",
            "CONVICTION:\t 0.8125\n",
            "RULE:\t frozenset({'0'}) \n",
            "CONVICTION:\t 1.0\n",
            "RULE:\t frozenset({'40'}) \n",
            "CONVICTION:\t 0.53125\n",
            "RULE:\t frozenset({' <=50K', ' Black'}) \n",
            "CONVICTION:\t 0.11458333333333333\n",
            "RULE:\t frozenset({' Divorced', ' <=50K'}) \n",
            "CONVICTION:\t 0.125\n"
          ]
        }
      ]
    },
    {
      "cell_type": "code",
      "source": [
        "print(\"\\nTop 10 rules based on Leverage:\")\n",
        "for i in range(min(10, len(results_leverage))):\n",
        "    print(\"RULE:\\t\", results_leverage[i][0], \"\\nLEVERAGE:\\t\", results_leverage[i][1])"
      ],
      "metadata": {
        "colab": {
          "base_uri": "https://localhost:8080/"
        },
        "id": "RHP-Rac2uVHU",
        "outputId": "921a1ea0-2cc5-4565-e57c-a28ab0d30c12"
      },
      "execution_count": 114,
      "outputs": [
        {
          "output_type": "stream",
          "name": "stdout",
          "text": [
            "\n",
            "Top 10 rules based on Leverage:\n",
            "RULE:\t frozenset({' <=50K'}) \n",
            "LEVERAGE:\t 0.7395833333333334\n",
            "RULE:\t frozenset({' Male'}) \n",
            "LEVERAGE:\t 0.7291666666666666\n",
            "RULE:\t frozenset({' Married-civ-spouse'}) \n",
            "LEVERAGE:\t 0.5625\n",
            "RULE:\t frozenset({' Private'}) \n",
            "LEVERAGE:\t 0.7395833333333334\n",
            "RULE:\t frozenset({' United-States'}) \n",
            "LEVERAGE:\t 0.84375\n",
            "RULE:\t frozenset({' White'}) \n",
            "LEVERAGE:\t 0.8125\n",
            "RULE:\t frozenset({'0'}) \n",
            "LEVERAGE:\t 1.0\n",
            "RULE:\t frozenset({'40'}) \n",
            "LEVERAGE:\t 0.53125\n",
            "RULE:\t frozenset({' <=50K', ' Black'}) \n",
            "LEVERAGE:\t 0.11458333333333333\n",
            "RULE:\t frozenset({' Divorced', ' <=50K'}) \n",
            "LEVERAGE:\t 0.125\n"
          ]
        }
      ]
    }
  ]
}