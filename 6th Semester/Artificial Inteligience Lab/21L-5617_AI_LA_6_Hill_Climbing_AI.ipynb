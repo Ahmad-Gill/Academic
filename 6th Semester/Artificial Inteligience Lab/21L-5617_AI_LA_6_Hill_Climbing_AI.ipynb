{
  "cells": [
    {
      "cell_type": "code",
      "execution_count": 10,
      "metadata": {
        "id": "stEAdddFWzt1"
      },
      "outputs": [],
      "source": [
        "from random import randint\n",
        "\n",
        "N = 8\n",
        "def configureRandomly(board, state):\n",
        "    for i in range(N):\n",
        "        state[i] = randint(0, N-1)\n",
        "        board[state[i]][i] = 1\n",
        "def printBoard(board):\n",
        "    for i in range(N):\n",
        "        print(*board[i])\n"
      ]
    },
    {
      "cell_type": "code",
      "execution_count": 11,
      "metadata": {
        "id": "Y_HRwAdgY0vz"
      },
      "outputs": [],
      "source": [
        "def calculateObjective(board, state):\n",
        "    attacking = 0\n",
        "\n",
        "    for i in range(N):\n",
        "        for j in range(i + 1, N):  \n",
        "            if state[i] == state[j] or abs(state[i] - state[j]) == abs(i - j):\n",
        "                attacking += 1\n",
        "\n",
        "    return attacking\n"
      ]
    },
    {
      "cell_type": "code",
      "execution_count": 12,
      "metadata": {
        "id": "KyPW6_KlavpJ"
      },
      "outputs": [],
      "source": [
        "def getNeighbour(board, state):\n",
        "    best_neighbor = state.copy()\n",
        "    best_neighbor_objective = calculateObjective(board, state)\n",
        "\n",
        "    for i in range(N):\n",
        "        for j in range(N):\n",
        "            if state[j] == i:\n",
        "                continue\n",
        "\n",
        "            neighbor_state = state.copy()\n",
        "            neighbor_state[j] = i\n",
        "\n",
        "            neighbor_objective = calculateObjective(board, neighbor_state)\n",
        "\n",
        "            if neighbor_objective < best_neighbor_objective:\n",
        "                best_neighbor = neighbor_state\n",
        "                best_neighbor_objective = neighbor_objective\n",
        "\n",
        "    return best_neighbor, best_neighbor_objective\n"
      ]
    },
    {
      "cell_type": "code",
      "execution_count": 13,
      "metadata": {
        "id": "a-EkMJVBZN0B"
      },
      "outputs": [],
      "source": [
        "\n",
        "def hillClimbing(board, state):\n",
        "    while True:\n",
        "        current_objective = calculateObjective(board, state)\n",
        "\n",
        "        best_neighbor, best_neighbor_objective = getNeighbour(board, state)\n",
        "\n",
        "        if best_neighbor_objective >= current_objective:\n",
        "            return state\n",
        "\n",
        "        state = best_neighbor\n"
      ]
    },
    {
      "cell_type": "code",
      "execution_count": 14,
      "metadata": {
        "colab": {
          "base_uri": "https://localhost:8080/"
        },
        "id": "y70r8DqtZH9u",
        "outputId": "cc65c798-888b-46c4-e91c-c1d747c8bdfc"
      },
      "outputs": [
        {
          "name": "stdout",
          "output_type": "stream",
          "text": [
            "\n",
            "Best Solution Found:\n",
            "0 0 0 0 0 Q 0 0\n",
            "Q 0 0 0 0 0 0 0\n",
            "0 0 0 0 Q 0 0 0\n",
            "0 Q 0 0 0 0 0 0\n",
            "0 0 0 0 0 0 0 Q\n",
            "0 0 Q 0 0 0 0 0\n",
            "0 0 0 0 0 0 Q 0\n",
            "0 0 0 Q 0 0 0 0\n",
            "Objective Value: 0\n",
            "State: [5, 0, 4, 1, 7, 2, 6, 3]\n"
          ]
        }
      ],
      "source": [
        "best_solution = None\n",
        "best_objective = float('inf')  \n",
        "for _ in range(1000):\n",
        "    state = [0] * N\n",
        "    board = [[0 for _ in range(N)] for _ in range(N)]\n",
        "    configureRandomly(board, state)\n",
        "    solution = hillClimbing(board, state)\n",
        "    objective_value = calculateObjective(board, solution)\n",
        "    if objective_value ==0:\n",
        "        best_solution = solution\n",
        "        best_objective = objective_value\n",
        "        break\n",
        "    if objective_value < best_objective:\n",
        "        best_solution = solution\n",
        "        best_objective = objective_value\n",
        "print(\"\\nBest Solution Found:\")\n",
        "for i in range(N):\n",
        "    row = [\"Q\" if j == best_solution[i] else \"0\" for j in range(N)]\n",
        "    print(\" \".join(row))\n",
        "\n",
        "print(\"Objective Value:\", best_objective)\n",
        "print(\"State:\", best_solution)\n",
        "\n"
      ]
    }
  ],
  "metadata": {
    "colab": {
      "provenance": []
    },
    "kernelspec": {
      "display_name": "Python 3",
      "name": "python3"
    },
    "language_info": {
      "codemirror_mode": {
        "name": "ipython",
        "version": 3
      },
      "file_extension": ".py",
      "mimetype": "text/x-python",
      "name": "python",
      "nbconvert_exporter": "python",
      "pygments_lexer": "ipython3",
      "version": "3.12.1"
    }
  },
  "nbformat": 4,
  "nbformat_minor": 0
}
