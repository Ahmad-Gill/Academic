{
  "cells": [
    {
      "cell_type": "markdown",
      "metadata": {
        "id": "Dw_KRfnHx7SD"
      },
      "source": [
        "# ***`1.1::)`***"
      ]
    },
    {
      "cell_type": "code",
      "execution_count": null,
      "metadata": {
        "colab": {
          "base_uri": "https://localhost:8080/"
        },
        "id": "EpRPl_Iygduy",
        "outputId": "9cceb14c-bd32-4272-c616-1e15da499a8e"
      },
      "outputs": [
        {
          "name": "stdout",
          "output_type": "stream",
          "text": [
            "total digits =  5\n"
          ]
        }
      ],
      "source": [
        "def MOD(number):\n",
        "  digits=0\n",
        "  while (number>0):\n",
        "    number=number // 10\n",
        "    digits+=1\n",
        "  print(\"total digits = \",digits)\n",
        "MOD(75869)\n",
        "\n"
      ]
    },
    {
      "cell_type": "markdown",
      "metadata": {
        "id": "-u-2R2DLx37L"
      },
      "source": [
        "# ***`1.2::)`***"
      ]
    },
    {
      "cell_type": "code",
      "execution_count": null,
      "metadata": {
        "colab": {
          "base_uri": "https://localhost:8080/"
        },
        "id": "0nbw5dVfl5Z2",
        "outputId": "63067f1b-4539-4d4b-bbd3-b1c31d314c94"
      },
      "outputs": [
        {
          "name": "stdout",
          "output_type": "stream",
          "text": [
            "Average of orignal array is =  5.58  \n",
            " and subtotal arraya is  [5.8, 8.4, 17.5, 20.9, 27.9]\n"
          ]
        }
      ],
      "source": [
        "def subtottal(array):\n",
        "  length=len(array)\n",
        "  total=0\n",
        "  for  i in range(length):\n",
        "    total=total+array[i]\n",
        "  for  i in range(1,length):\n",
        "    array[i]=array[i-1]+array[i]\n",
        "\n",
        "  print(\"Average of orignal array is = \",total/len(array),\" \\n and subtotal arraya is \",array)\n",
        "array=[5.8 , 2.6 , 9.1 , 3.4 , 7.0]\n",
        "subtottal(array)"
      ]
    },
    {
      "cell_type": "markdown",
      "metadata": {
        "id": "qN6cBYzKx0Qr"
      },
      "source": [
        "# ***`1.3::)`***"
      ]
    },
    {
      "cell_type": "code",
      "execution_count": null,
      "metadata": {
        "colab": {
          "base_uri": "https://localhost:8080/"
        },
        "id": "_qVXTRgNpZ9y",
        "outputId": "f2d93731-f0c3-484f-cf4e-ab91f88bcd51"
      },
      "outputs": [
        {
          "name": "stdout",
          "output_type": "stream",
          "text": [
            "Number of chracters =  99\n",
            "Number of spaces =  24\n",
            "Number of upper case letter =  16\n",
            "Number of lower case letter =  68\n",
            "Number of digits  =  10\n"
          ]
        }
      ],
      "source": [
        "from io import UnsupportedOperation\n",
        "f = open(\"1.txt\", \"r\")\n",
        "data=f.read()\n",
        "chracters=0\n",
        "i=0\n",
        "spaces=0\n",
        "lower=0\n",
        "digit=0\n",
        "upper=0\n",
        "for x in range(len(data)):\n",
        "  if(data[x]!=' '):\n",
        "    chracters+=1\n",
        "    if(data[x].islower()):\n",
        "        lower+=1\n",
        "    if(data[x].isupper()):\n",
        "          upper+=1\n",
        "    if (data[x].isdigit()):\n",
        "      digit+=1\n",
        "  else:\n",
        "    spaces+=1\n",
        "print(\"Number of chracters = \",chracters)\n",
        "print(\"Number of spaces = \",spaces)\n",
        "print(\"Number of upper case letter = \",upper)\n",
        "print(\"Number of lower case letter = \",lower)\n",
        "print(\"Number of digits  = \",digit)\n"
      ]
    },
    {
      "cell_type": "markdown",
      "metadata": {
        "id": "Q1zWgwewxjF6"
      },
      "source": [
        "# ***`1.4::)`***"
      ]
    },
    {
      "cell_type": "code",
      "execution_count": null,
      "metadata": {
        "colab": {
          "base_uri": "https://localhost:8080/"
        },
        "id": "5ypdbD3_qni3",
        "outputId": "97471798-5640-40fd-d784-9afdcf867cfa"
      },
      "outputs": [
        {
          "name": "stdout",
          "output_type": "stream",
          "text": [
            "Total time in seconds =  723178860\n"
          ]
        }
      ],
      "source": [
        "def age(current_date,birth_date):\n",
        "  #Splitint and type casting\n",
        "  current_date_time = current_date.split(\" \")\n",
        "  birth_date_time = birth_date.split(\" \")\n",
        "  current_year_date_time = current_date_time[0].split(\"-\")\n",
        "  current_year=int(current_year_date_time[0])\n",
        "  current_month=int(current_year_date_time[1])\n",
        "  current_day=int(current_year_date_time[2])\n",
        "\n",
        "  birth_year_date_time = birth_date_time[0].split(\"-\")\n",
        "  birth_year=int(birth_year_date_time[0])\n",
        "  birth_month=int(birth_year_date_time[1])\n",
        "  birth_day=int(birth_year_date_time[2])\n",
        "\n",
        "  current_year_date = current_date_time[1].split(\":\")\n",
        "  current_hours=int(current_year_date[0])\n",
        "  current_minuts=int(current_year_date[1])\n",
        "  current_seconds=int(current_year_date[2])\n",
        "  birth_year_date = birth_date_time[1].split(\":\")\n",
        "  birth_hour=int(birth_year_date[0])\n",
        "  birth_minuts=int(birth_year_date[1])\n",
        "  birth_seconds=int(birth_year_date[2])\n",
        "\n",
        "  sec=0\n",
        "  min=0\n",
        "  hours=0\n",
        "  day=0\n",
        "  month=0\n",
        "  year=0\n",
        "  sec=current_seconds-birth_seconds\n",
        "  if(sec<0):\n",
        "    current_seconds+=60\n",
        "    current_minuts-=1\n",
        "    sec=current_seconds-birth_seconds\n",
        "\n",
        "\n",
        "  min=current_minuts-birth_minuts\n",
        "  if(min<0):\n",
        "    current_minuts+=60\n",
        "    current_hours-=1\n",
        "    min=current_minuts-birth_minuts\n",
        "\n",
        "\n",
        "  hours=current_hours-birth_hour\n",
        "  if(hours<0):\n",
        "    current_hours+=24\n",
        "    current_day-=1\n",
        "    hours=current_hours-birth_hour\n",
        "\n",
        "\n",
        "\n",
        "    day=current_day-birth_day\n",
        "  if(day<0):\n",
        "      current_day+=30\n",
        "      current_month-=1\n",
        "      day=current_day-birth_day\n",
        "\n",
        "  month=current_month-birth_month\n",
        "  if(month<0):\n",
        "      current_month+=12\n",
        "      current_year-=1\n",
        "      month=current_month-birth_month\n",
        "  year=current_year-birth_year\n",
        "  time_in_seconds=0;\n",
        "  time_in_seconds=(year*31104000)+(month*2592000)+(day*86400)+(hours*3600)+60\n",
        "\n",
        "\n",
        "  print(\"Total time in seconds = \",time_in_seconds)\n",
        "current_date=\"2024-01-30 09:58:32\"\n",
        "birth_date=\"2000-10-31 6:00:37\"\n",
        "age(current_date,birth_date)"
      ]
    },
    {
      "cell_type": "markdown",
      "metadata": {
        "id": "aRqLkMlYANFz"
      },
      "source": [
        "# ***`1.5::)`***"
      ]
    },
    {
      "cell_type": "code",
      "execution_count": 51,
      "metadata": {
        "id": "lySfEqU8AQlQ",
        "colab": {
          "base_uri": "https://localhost:8080/"
        },
        "outputId": "8e5b9819-6a68-43b0-b80f-d17839352ca2"
      },
      "outputs": [
        {
          "output_type": "stream",
          "name": "stdout",
          "text": [
            "shortest path\n",
            "[0, 2, 0, 0, 0]\n",
            "[0, 1, 0, 0, 0]\n",
            "[0, 1, 0, 0, 0]\n",
            "[1, 1, 1, 4, 0]\n",
            "[0, 0, 0, 0, 0]\n",
            "Path Count: 4\n"
          ]
        }
      ],
      "source": [
        "def short_path_1(matrix):\n",
        "    count1 = 0\n",
        "    count2 = -1\n",
        "    matrix1 = [\n",
        "        [0, 2, 0, 0, 0],\n",
        "        [0, 0, 0, 0, 0],\n",
        "        [0, 0, 0, 0, 0],\n",
        "        [0, 0, 0, 4, 0],\n",
        "        [0, 0, 0, 0, 0]\n",
        "    ]\n",
        "\n",
        "    matrix2 = [\n",
        "        [0, 2, 0, 0, 0],\n",
        "        [0, 0, 0, 0, 0],\n",
        "        [0, 0, 0, 0, 0],\n",
        "        [0, 0, 0, 4, 0],\n",
        "        [0, 0, 0, 0, 0]\n",
        "    ]\n",
        "\n",
        "    start = False\n",
        "\n",
        "    for i in range(0,4):\n",
        "        for j in range(0,4):\n",
        "            if matrix[i][j] == 2:\n",
        "                start = True\n",
        "            if start:\n",
        "                if matrix[i][j] == 0:\n",
        "                    matrix1[i][j] = 1\n",
        "                    count1 += 1\n",
        "            if matrix[i][j] == 4:\n",
        "                    break\n",
        "\n",
        "    row = 0\n",
        "    for k in range(0, 3):\n",
        "        if matrix[k][1] == 0:\n",
        "            matrix2[k][1] = 1\n",
        "            count2 += 1\n",
        "        row += 1\n",
        "\n",
        "    for l in range(5):\n",
        "        if matrix[row][l] == 0:\n",
        "            matrix2[row][l] = 1\n",
        "            count2 += 1\n",
        "        if matrix[row][l] == 4:  # Break the loop if matrix[0][l] is 4\n",
        "            break\n",
        "\n",
        "    return matrix1, count1, matrix2, count2\n",
        "\n",
        "# Example matrix\n",
        "matrix = [\n",
        "    [0, 2, 0, 0, 0],\n",
        "    [0, 0, 0, 0, 0],\n",
        "    [0, 0, 0, 0, 0],\n",
        "    [0, 0, 0, 4, 0],\n",
        "    [0, 0, 0, 0, 0]\n",
        "]\n",
        "\n",
        "# Call the function with the example matrix\n",
        "result1, count1, result2, count2 = short_path_1(matrix)\n",
        "\n",
        "print(\"shortest path\")\n",
        "if(count1<=count2):\n",
        "  for row in result1:\n",
        "      print(row)\n",
        "  print(\"Path Count:\", count1)\n",
        "else:\n",
        "  for row in result2:\n",
        "      print(row)\n",
        "  print(\"Path Count:\", count2)\n"
      ]
    }
  ],
  "metadata": {
    "colab": {
      "provenance": []
    },
    "kernelspec": {
      "display_name": "Python 3",
      "name": "python3"
    },
    "language_info": {
      "name": "python"
    }
  },
  "nbformat": 4,
  "nbformat_minor": 0
}