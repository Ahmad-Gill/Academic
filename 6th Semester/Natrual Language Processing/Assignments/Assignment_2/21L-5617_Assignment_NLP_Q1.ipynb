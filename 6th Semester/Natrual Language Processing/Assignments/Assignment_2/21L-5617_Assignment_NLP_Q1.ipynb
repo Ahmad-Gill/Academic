{
  "cells": [
    {
      "cell_type": "code",
      "execution_count": 1,
      "metadata": {
        "id": "rKgKqfLofL9L"
      },
      "outputs": [],
      "source": [
        "import numpy as np\n",
        "import pandas as pd\n",
        "from itertools import combinations\n",
        "from difflib import SequenceMatcher\n",
        "from nltk.stem import WordNetLemmatizer\n",
        "import string\n",
        "import pandas as pd\n",
        "from unidecode import unidecode\n",
        "from sklearn.feature_extraction.text import TfidfVectorizer\n",
        "from sklearn.metrics.pairwise import cosine_similarity"
      ]
    },
    {
      "cell_type": "markdown",
      "metadata": {
        "id": "CxrpHWWsfX--"
      },
      "source": [
        "The problem is to match the user's free-form input against a pre-determined list of banks. For example, user input 'bawag bank' should be matched to 'BAWAG Group AG'."
      ]
    },
    {
      "cell_type": "code",
      "execution_count": 2,
      "metadata": {
        "id": "3nsmwxZKfaqO"
      },
      "outputs": [],
      "source": [
        "# List of banks to compare\n",
        "banks =   ['Sberbank Europe AG',\n",
        "          'BAWAG Group AG',\n",
        "          'Raiffeisenbankengruppe OÖ Verbund eGen',\n",
        "          'Raiffeisen Bank International AG',\n",
        "          'Volksbanken Verbund',\n",
        "          'Erste Group Bank AG',\n",
        "          'KBC Groep',\n",
        "          'Investeringsmaatschappij Argenta',\n",
        "          'Belfius Bank',\n",
        "          'AXA Bank Belgium',\n",
        "          'The Bank of New York Mellon SA/NV',\n",
        "          'First Investment Bank AD',\n",
        "          'RCB Bank Ltd',\n",
        "          'Bank of Cyprus Holdings Public Limited Company',\n",
        "          'Hellenic Bank Public Company Limited',\n",
        "          'DekaBank Deutsche Girozentrale',\n",
        "          'Erwerbsgesellschaft der S-Finanzgruppe mbH & Co. KG',\n",
        "          'UBS Europe SE',\n",
        "          'DEUTSCHE APOTHEKER- UND ÄRZTEBANK EG',\n",
        "          'Volkswagen Bank Gesellschaft mit beschränkter Haftung',\n",
        "          'Münchener Hypothekenbank eG',\n",
        "          'DZ BANK AG Deutsche Zentral-Genossenschaftsbank, Frankfurt am Main',\n",
        "          'HASPA Finanzholding',\n",
        "          'State Street Europe Holdings Germany S.a.r.l. & Co. KG',\n",
        "          'J.P. Morgan AG',\n",
        "          'DEUTSCHE BANK AKTIENGESELLSCHAFT',\n",
        "          'COMMERZBANK Aktiengesellschaft',\n",
        "          'Landesbank Baden-Württemberg',\n",
        "          'Landesbank Hessen-Thüringen Girozentrale',\n",
        "          'Norddeutsche Landesbank - Girozentrale -',\n",
        "          'Deutsche Pfandbriefbank AG',\n",
        "          'Aareal Bank AG',\n",
        "          'Hamburg Commercial Bank AG',\n",
        "          'Bayerische Landesbank',\n",
        "          'Jyske Bank A/S',\n",
        "          'Sydbank A/S',\n",
        "          'Nykredit Realkredit A/S',\n",
        "          'Danske Bank A/S',\n",
        "          'Luminor Holding AS',\n",
        "          'Abanca Corporacion Bancaria S.A.',\n",
        "          'Banco Santander S.A.',\n",
        "          'Ibercaja Banco S.A.',\n",
        "          'Kutxabank S.A',\n",
        "          'Unicaja Banco S.A.',\n",
        "          'CaixaBank S.A.',\n",
        "          'Banco de Crédito Social Cooperativo',\n",
        "          'Banco Bilbao Vizcaya Argentaria S.A.',\n",
        "          'Banco de Sabadell S.A.',\n",
        "          'Bankinter S.A.',\n",
        "          'Kuntarahoitus Oyj',\n",
        "          'Nordea Bank Abp',\n",
        "          'OP Osuuskunta',\n",
        "          'SFIL',\n",
        "          'RCI Banque',\n",
        "          'Confédération Nationale du Crédit Mutuel',\n",
        "          'La Banque Postale',\n",
        "          'Bpifrance',\n",
        "          \"C.R.H. - Caisse de refinancement de l'habitat\",\n",
        "          'HSBC Continental Europe',\n",
        "          'Groupe BPCE',\n",
        "          'Groupe Crédit Agricole',\n",
        "          'Société générale',\n",
        "          'BNP Paribas',\n",
        "          'ALPHA SERVICES AND HOLDINGS S.A.',\n",
        "          'National Bank of Greece S.A.',\n",
        "          'Eurobank Ergasias Services and Holdings S.A.',\n",
        "          'Piraeus Financial Holdings',\n",
        "          'OTP-csoport',\n",
        "          'Magyar Bankholding',\n",
        "          'Barclays Bank Ireland plc',\n",
        "          'Citibank Holdings Ireland Limited',\n",
        "          'AIB Group plc',\n",
        "          'Bank of Ireland Group plc',\n",
        "          'Ulster Bank Ireland Designated Activity Company',\n",
        "          'Bank of America Europe Designated Activity Company',\n",
        "          'Íslandsbanki hf.',\n",
        "          'Landsbankinn hf.',\n",
        "          'Arion banki hf',\n",
        "          'Intesa Sanpaolo S.p.A.',\n",
        "          'Gruppo Bancario Finecobank  ',\n",
        "          'UniCredit S.p.A.',\n",
        "          'Gruppo Bancario Mediolanum  ',\n",
        "          'Credito Emiliano Holding S.p.A.',\n",
        "          'Banco BPM SpA',\n",
        "          'Banca Popolare di Sondrio, Società Cooperativa per Azioni',\n",
        "          'Banca Monte dei Paschi di Siena S.p.A.',\n",
        "          'CASSA CENTRALE BANCA',\n",
        "          'ICCREA BANCA S.P.A.',\n",
        "          'Mediobanca - Banca di Credito Finanziario S.p.A.',\n",
        "          'Akcine bendrove Šiauliu bankas',\n",
        "          'Precision Capital S.A.',\n",
        "          'RBC Investor Services Bank S.A.',\n",
        "          'J.P. Morgan Bank Luxembourg S.A.',\n",
        "          'Banque Internationale à Luxembourg',\n",
        "          'Banque et Caisse d´Epargne de l´Etat, Luxembourg',\n",
        "          'Akciju sabiedriba \"Citadele banka\"',\n",
        "          'MDB Group Limited',\n",
        "          'Bank of Valletta Plc',\n",
        "          'HSBC Bank Malta p.l.c.',\n",
        "          'BNG Bank N.V.',\n",
        "          'ING Groep N.V.',\n",
        "          'LP Group B.V.',\n",
        "          'de Volksbank N.V.',\n",
        "          'ABN AMRO Bank N.V.',\n",
        "          'Coöperatieve Rabobank U.A.',\n",
        "          'Nederlandse Waterschapsbank N.V.',\n",
        "          'Bank Polska Kasa Opieki S.A.',\n",
        "          'Powszechna Kasa Oszczednosci Bank Polski S.A.',\n",
        "          'LSF Nani Investments S.à r.l.',\n",
        "          'Banco Comercial Português SA',\n",
        "          'Caixa Geral de Depósitos SA',\n",
        "          'Banca Transilvania',\n",
        "          'Länförsäkringar Bank AB (publ)',\n",
        "          'Kommuninvest - group',\n",
        "          'Skandinaviska Enskilda Banken - group',\n",
        "          'SBAB Bank AB - group',\n",
        "          'Swedbank - group',\n",
        "          'Svenska Handelsbanken - group',\n",
        "          'Biser Topco S.à r.l.',\n",
        "          'Nova Ljubljanska Banka d.d. Ljubljana']"
      ]
    },
    {
      "cell_type": "code",
      "execution_count": 3,
      "metadata": {
        "id": "Va8q_kphfm2O"
      },
      "outputs": [],
      "source": [
        "# Examples of search strings\n",
        "s1 = 'Bawag bank' # other options: 'Bawag bank', 'Erste', 'Raiffaisen bank'\n"
      ]
    },
    {
      "cell_type": "code",
      "execution_count": 4,
      "metadata": {
        "colab": {
          "base_uri": "https://localhost:8080/",
          "height": 206
        },
        "id": "GaIKgI5Zf6y9",
        "outputId": "7607e82d-6350-4185-dc2c-ddce97e6b2b6"
      },
      "outputs": [
        {
          "data": {
            "text/html": [
              "<div>\n",
              "<style scoped>\n",
              "    .dataframe tbody tr th:only-of-type {\n",
              "        vertical-align: middle;\n",
              "    }\n",
              "\n",
              "    .dataframe tbody tr th {\n",
              "        vertical-align: top;\n",
              "    }\n",
              "\n",
              "    .dataframe thead th {\n",
              "        text-align: right;\n",
              "    }\n",
              "</style>\n",
              "<table border=\"1\" class=\"dataframe\">\n",
              "  <thead>\n",
              "    <tr style=\"text-align: right;\">\n",
              "      <th></th>\n",
              "      <th>Bank 1</th>\n",
              "      <th>Bank 2</th>\n",
              "      <th>Score</th>\n",
              "    </tr>\n",
              "  </thead>\n",
              "  <tbody>\n",
              "    <tr>\n",
              "      <th>8</th>\n",
              "      <td>Bawag bank</td>\n",
              "      <td>Belfius Bank</td>\n",
              "      <td>0.454545</td>\n",
              "    </tr>\n",
              "    <tr>\n",
              "      <th>12</th>\n",
              "      <td>Bawag bank</td>\n",
              "      <td>RCB Bank Ltd</td>\n",
              "      <td>0.454545</td>\n",
              "    </tr>\n",
              "    <tr>\n",
              "      <th>33</th>\n",
              "      <td>Bawag bank</td>\n",
              "      <td>Bayerische Landesbank</td>\n",
              "      <td>0.451613</td>\n",
              "    </tr>\n",
              "    <tr>\n",
              "      <th>42</th>\n",
              "      <td>Bawag bank</td>\n",
              "      <td>Kutxabank S.A</td>\n",
              "      <td>0.434783</td>\n",
              "    </tr>\n",
              "    <tr>\n",
              "      <th>99</th>\n",
              "      <td>Bawag bank</td>\n",
              "      <td>BNG Bank N.V.</td>\n",
              "      <td>0.434783</td>\n",
              "    </tr>\n",
              "  </tbody>\n",
              "</table>\n",
              "</div>"
            ],
            "text/plain": [
              "        Bank 1                 Bank 2     Score\n",
              "8   Bawag bank           Belfius Bank  0.454545\n",
              "12  Bawag bank           RCB Bank Ltd  0.454545\n",
              "33  Bawag bank  Bayerische Landesbank  0.451613\n",
              "42  Bawag bank          Kutxabank S.A  0.434783\n",
              "99  Bawag bank          BNG Bank N.V.  0.434783"
            ]
          },
          "execution_count": 4,
          "metadata": {},
          "output_type": "execute_result"
        }
      ],
      "source": [
        "# A naive search method which you need to improve\n",
        "from difflib import SequenceMatcher\n",
        "res = []\n",
        "for token in banks:\n",
        "  res.append([s1, token, SequenceMatcher(None, s1, token).ratio()])\n",
        "\n",
        "df2 = pd.DataFrame(res, columns=['Bank 1', 'Bank 2', 'Score'])\n",
        "# The outcome is not great, for this search query 'BAWAG Group AG' should have highest similarity\n",
        "df2.sort_values(by=['Score'], ascending=[False]).head()"
      ]
    },
    {
      "cell_type": "code",
      "execution_count": 5,
      "metadata": {},
      "outputs": [
        {
          "data": {
            "text/html": [
              "<div>\n",
              "<style scoped>\n",
              "    .dataframe tbody tr th:only-of-type {\n",
              "        vertical-align: middle;\n",
              "    }\n",
              "\n",
              "    .dataframe tbody tr th {\n",
              "        vertical-align: top;\n",
              "    }\n",
              "\n",
              "    .dataframe thead th {\n",
              "        text-align: right;\n",
              "    }\n",
              "</style>\n",
              "<table border=\"1\" class=\"dataframe\">\n",
              "  <thead>\n",
              "    <tr style=\"text-align: right;\">\n",
              "      <th></th>\n",
              "      <th>Bank 1</th>\n",
              "      <th>Bank 2</th>\n",
              "      <th>Score</th>\n",
              "    </tr>\n",
              "  </thead>\n",
              "  <tbody>\n",
              "    <tr>\n",
              "      <th>1</th>\n",
              "      <td>Bawag bank</td>\n",
              "      <td>BAWAG Group AG</td>\n",
              "      <td>0.166667</td>\n",
              "    </tr>\n",
              "  </tbody>\n",
              "</table>\n",
              "</div>"
            ],
            "text/plain": [
              "       Bank 1          Bank 2     Score\n",
              "1  Bawag bank  BAWAG Group AG  0.166667"
            ]
          },
          "execution_count": 5,
          "metadata": {},
          "output_type": "execute_result"
        }
      ],
      "source": [
        " #The desired combination has a low score\n",
        "idx = df2['Bank 2'].isin(['BAWAG Group AG'])\n",
        "\n",
        "df2[idx].sort_values(by=['Score'], ascending=[False]).head()"
      ]
    },
    {
      "cell_type": "markdown",
      "metadata": {},
      "source": [
        "# Use Normalization techniques Unicode,threshold "
      ]
    },
    {
      "cell_type": "code",
      "execution_count": 6,
      "metadata": {},
      "outputs": [
        {
          "data": {
            "text/html": [
              "<div>\n",
              "<style scoped>\n",
              "    .dataframe tbody tr th:only-of-type {\n",
              "        vertical-align: middle;\n",
              "    }\n",
              "\n",
              "    .dataframe tbody tr th {\n",
              "        vertical-align: top;\n",
              "    }\n",
              "\n",
              "    .dataframe thead th {\n",
              "        text-align: right;\n",
              "    }\n",
              "</style>\n",
              "<table border=\"1\" class=\"dataframe\">\n",
              "  <thead>\n",
              "    <tr style=\"text-align: right;\">\n",
              "      <th></th>\n",
              "      <th>Bank 1</th>\n",
              "      <th>Bank 2</th>\n",
              "      <th>Score</th>\n",
              "    </tr>\n",
              "  </thead>\n",
              "  <tbody>\n",
              "    <tr>\n",
              "      <th>10</th>\n",
              "      <td>Bawag bank</td>\n",
              "      <td>BNG Bank N.V.</td>\n",
              "      <td>0.666667</td>\n",
              "    </tr>\n",
              "    <tr>\n",
              "      <th>0</th>\n",
              "      <td>Bawag bank</td>\n",
              "      <td>BAWAG Group AG</td>\n",
              "      <td>0.583333</td>\n",
              "    </tr>\n",
              "    <tr>\n",
              "      <th>4</th>\n",
              "      <td>Bawag bank</td>\n",
              "      <td>Aareal Bank AG</td>\n",
              "      <td>0.583333</td>\n",
              "    </tr>\n",
              "    <tr>\n",
              "      <th>1</th>\n",
              "      <td>Bawag bank</td>\n",
              "      <td>Belfius Bank</td>\n",
              "      <td>0.545455</td>\n",
              "    </tr>\n",
              "    <tr>\n",
              "      <th>3</th>\n",
              "      <td>Bawag bank</td>\n",
              "      <td>RCB Bank Ltd</td>\n",
              "      <td>0.545455</td>\n",
              "    </tr>\n",
              "  </tbody>\n",
              "</table>\n",
              "</div>"
            ],
            "text/plain": [
              "        Bank 1          Bank 2     Score\n",
              "10  Bawag bank   BNG Bank N.V.  0.666667\n",
              "0   Bawag bank  BAWAG Group AG  0.583333\n",
              "4   Bawag bank  Aareal Bank AG  0.583333\n",
              "1   Bawag bank    Belfius Bank  0.545455\n",
              "3   Bawag bank    RCB Bank Ltd  0.545455"
            ]
          },
          "execution_count": 6,
          "metadata": {},
          "output_type": "execute_result"
        }
      ],
      "source": [
        "def normalize_text(text):\n",
        "    normalized_text = unidecode(text)\n",
        "    translator = str.maketrans(\"\", \"\", string.punctuation)\n",
        "    normalized_text = normalized_text.lower().translate(translator)\n",
        "    return normalized_text\n",
        "similarity_threshold = 0.5\n",
        "\n",
        "res = []\n",
        "normalized_s1 = normalize_text(s1)\n",
        "\n",
        "for token in banks:\n",
        "    normalized_token = normalize_text(token)\n",
        "    seq_matcher = SequenceMatcher(None, normalized_s1, normalized_token)\n",
        "    similarity_score = seq_matcher.ratio()\n",
        "\n",
        "    if similarity_score >= similarity_threshold:\n",
        "        res.append([s1, token, similarity_score])\n",
        "\n",
        "df2 = pd.DataFrame(res, columns=['Bank 1', 'Bank 2', 'Score'])\n",
        "df2.sort_values(by=['Score'], ascending=[False]).head()\n"
      ]
    },
    {
      "cell_type": "code",
      "execution_count": 7,
      "metadata": {},
      "outputs": [
        {
          "data": {
            "text/html": [
              "<div>\n",
              "<style scoped>\n",
              "    .dataframe tbody tr th:only-of-type {\n",
              "        vertical-align: middle;\n",
              "    }\n",
              "\n",
              "    .dataframe tbody tr th {\n",
              "        vertical-align: top;\n",
              "    }\n",
              "\n",
              "    .dataframe thead th {\n",
              "        text-align: right;\n",
              "    }\n",
              "</style>\n",
              "<table border=\"1\" class=\"dataframe\">\n",
              "  <thead>\n",
              "    <tr style=\"text-align: right;\">\n",
              "      <th></th>\n",
              "      <th>Bank 1</th>\n",
              "      <th>Bank 2</th>\n",
              "      <th>Score</th>\n",
              "    </tr>\n",
              "  </thead>\n",
              "  <tbody>\n",
              "    <tr>\n",
              "      <th>0</th>\n",
              "      <td>Bawag bank</td>\n",
              "      <td>BAWAG Group AG</td>\n",
              "      <td>0.583333</td>\n",
              "    </tr>\n",
              "  </tbody>\n",
              "</table>\n",
              "</div>"
            ],
            "text/plain": [
              "       Bank 1          Bank 2     Score\n",
              "0  Bawag bank  BAWAG Group AG  0.583333"
            ]
          },
          "execution_count": 7,
          "metadata": {},
          "output_type": "execute_result"
        }
      ],
      "source": [
        "idx = df2['Bank 2'].isin(['BAWAG Group AG'])\n",
        "\n",
        "df2[idx].sort_values(by=['Score'], ascending=[False]).head()"
      ]
    },
    {
      "cell_type": "markdown",
      "metadata": {},
      "source": [
        "# Use TFIDF"
      ]
    },
    {
      "cell_type": "code",
      "execution_count": 8,
      "metadata": {},
      "outputs": [
        {
          "data": {
            "text/html": [
              "<div>\n",
              "<style scoped>\n",
              "    .dataframe tbody tr th:only-of-type {\n",
              "        vertical-align: middle;\n",
              "    }\n",
              "\n",
              "    .dataframe tbody tr th {\n",
              "        vertical-align: top;\n",
              "    }\n",
              "\n",
              "    .dataframe thead th {\n",
              "        text-align: right;\n",
              "    }\n",
              "</style>\n",
              "<table border=\"1\" class=\"dataframe\">\n",
              "  <thead>\n",
              "    <tr style=\"text-align: right;\">\n",
              "      <th></th>\n",
              "      <th>Bank 1</th>\n",
              "      <th>Bank 2</th>\n",
              "      <th>Cosine Similarity</th>\n",
              "    </tr>\n",
              "  </thead>\n",
              "  <tbody>\n",
              "    <tr>\n",
              "      <th>1</th>\n",
              "      <td>Bawag bank</td>\n",
              "      <td>BAWAG Group AG</td>\n",
              "      <td>0.628456</td>\n",
              "    </tr>\n",
              "    <tr>\n",
              "      <th>34</th>\n",
              "      <td>Bawag bank</td>\n",
              "      <td>Jyske Bank A/S</td>\n",
              "      <td>0.177352</td>\n",
              "    </tr>\n",
              "    <tr>\n",
              "      <th>8</th>\n",
              "      <td>Bawag bank</td>\n",
              "      <td>Belfius Bank</td>\n",
              "      <td>0.177352</td>\n",
              "    </tr>\n",
              "    <tr>\n",
              "      <th>99</th>\n",
              "      <td>Bawag bank</td>\n",
              "      <td>BNG Bank N.V.</td>\n",
              "      <td>0.177352</td>\n",
              "    </tr>\n",
              "    <tr>\n",
              "      <th>37</th>\n",
              "      <td>Bawag bank</td>\n",
              "      <td>Danske Bank A/S</td>\n",
              "      <td>0.177352</td>\n",
              "    </tr>\n",
              "  </tbody>\n",
              "</table>\n",
              "</div>"
            ],
            "text/plain": [
              "        Bank 1           Bank 2  Cosine Similarity\n",
              "1   Bawag bank   BAWAG Group AG           0.628456\n",
              "34  Bawag bank   Jyske Bank A/S           0.177352\n",
              "8   Bawag bank     Belfius Bank           0.177352\n",
              "99  Bawag bank    BNG Bank N.V.           0.177352\n",
              "37  Bawag bank  Danske Bank A/S           0.177352"
            ]
          },
          "execution_count": 8,
          "metadata": {},
          "output_type": "execute_result"
        }
      ],
      "source": [
        "all_banks = [s1] + banks\n",
        "vectorizer = TfidfVectorizer()\n",
        "tfidf_matrix = vectorizer.fit_transform(all_banks)\n",
        "cosine_similarities = cosine_similarity(tfidf_matrix[0], tfidf_matrix[1:])[0]\n",
        "res = pd.DataFrame({'Bank 1': [s1] * len(banks), 'Bank 2': banks, 'Cosine Similarity': cosine_similarities})\n",
        "df_sorted = res.sort_values(by='Cosine Similarity', ascending=False)\n",
        "df_sorted.head()"
      ]
    },
    {
      "cell_type": "code",
      "execution_count": 9,
      "metadata": {
        "colab": {
          "base_uri": "https://localhost:8080/"
        },
        "id": "TXc8yBZOhIH0",
        "outputId": "818b00e4-f9ba-4a1c-ab30-1d67fcb4275c"
      },
      "outputs": [
        {
          "data": {
            "text/html": [
              "<div>\n",
              "<style scoped>\n",
              "    .dataframe tbody tr th:only-of-type {\n",
              "        vertical-align: middle;\n",
              "    }\n",
              "\n",
              "    .dataframe tbody tr th {\n",
              "        vertical-align: top;\n",
              "    }\n",
              "\n",
              "    .dataframe thead th {\n",
              "        text-align: right;\n",
              "    }\n",
              "</style>\n",
              "<table border=\"1\" class=\"dataframe\">\n",
              "  <thead>\n",
              "    <tr style=\"text-align: right;\">\n",
              "      <th></th>\n",
              "      <th>Bank 1</th>\n",
              "      <th>Bank 2</th>\n",
              "      <th>Cosine Similarity</th>\n",
              "    </tr>\n",
              "  </thead>\n",
              "  <tbody>\n",
              "    <tr>\n",
              "      <th>1</th>\n",
              "      <td>Bawag bank</td>\n",
              "      <td>BAWAG Group AG</td>\n",
              "      <td>0.628456</td>\n",
              "    </tr>\n",
              "  </tbody>\n",
              "</table>\n",
              "</div>"
            ],
            "text/plain": [
              "       Bank 1          Bank 2  Cosine Similarity\n",
              "1  Bawag bank  BAWAG Group AG           0.628456"
            ]
          },
          "execution_count": 9,
          "metadata": {},
          "output_type": "execute_result"
        }
      ],
      "source": [
        "idx = df_sorted['Bank 2'].isin(['BAWAG Group AG'])\n",
        "filtered_results = df_sorted[idx].sort_values(by='Cosine Similarity', ascending=False)\n",
        "filtered_results.head()\n"
      ]
    }
  ],
  "metadata": {
    "colab": {
      "provenance": []
    },
    "kernelspec": {
      "display_name": "Python 3",
      "name": "python3"
    },
    "language_info": {
      "codemirror_mode": {
        "name": "ipython",
        "version": 3
      },
      "file_extension": ".py",
      "mimetype": "text/x-python",
      "name": "python",
      "nbconvert_exporter": "python",
      "pygments_lexer": "ipython3",
      "version": "3.12.1"
    }
  },
  "nbformat": 4,
  "nbformat_minor": 0
}
